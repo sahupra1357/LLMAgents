{
  "nbformat": 4,
  "nbformat_minor": 0,
  "metadata": {
    "colab": {
      "provenance": [],
      "authorship_tag": "ABX9TyPupiHbN4ihACoYTleIIIt0",
      "include_colab_link": true
    },
    "kernelspec": {
      "name": "python3",
      "display_name": "Python 3"
    },
    "language_info": {
      "name": "python"
    }
  },
  "cells": [
    {
      "cell_type": "markdown",
      "metadata": {
        "id": "view-in-github",
        "colab_type": "text"
      },
      "source": [
        "<a href=\"https://colab.research.google.com/github/sahupra1357/LLMAgents/blob/main/Groq_AixplainAgent.ipynb\" target=\"_parent\"><img src=\"https://colab.research.google.com/assets/colab-badge.svg\" alt=\"Open In Colab\"/></a>"
      ]
    },
    {
      "cell_type": "code",
      "execution_count": null,
      "metadata": {
        "id": "qtkjqyUb91Ez"
      },
      "outputs": [],
      "source": [
        "%pip install  -U aixplain -q"
      ]
    },
    {
      "cell_type": "code",
      "source": [
        "import os\n",
        "from google.colab import userdata\n",
        "os.environ[\"AIXPLAIN_API_KEY\"] = userdata.get('AIXPLAIN_API_KEY')"
      ],
      "metadata": {
        "id": "SmEAL7Mc992Y"
      },
      "execution_count": null,
      "outputs": []
    },
    {
      "cell_type": "code",
      "source": [
        "from aixplain.modules.agent.tool.model_tool import ModelTool\n",
        "from aixplain.factories import AgentFactory\n",
        "from aixplain.factories import TeamAgentFactory"
      ],
      "metadata": {
        "id": "M2JLKEBY-TnP"
      },
      "execution_count": null,
      "outputs": []
    },
    {
      "cell_type": "code",
      "source": [
        "scraper_agent = AgentFactory.create(\n",
        "    name= \"Scraper Utility Agent\",\n",
        "    description=\"Scrapes travel blogs, review websites, or event listing platforms to gather insights about activities, restaurants, or must-see locations. Summarize and rank recommendations based on user preferences (e.g., budget, interests like food, outdoor activities, etc.).\",\n",
        "    tools=[ModelTool(model=\"66f423426eb563fa213a3531\")],\n",
        "    llm_id=\"66b270bb6eb56365551e8c71\"\n",
        ")"
      ],
      "metadata": {
        "colab": {
          "base_uri": "https://localhost:8080/"
        },
        "id": "sGZckdA6-UnA",
        "outputId": "9f26d29b-3133-40c9-ecb9-580dab3cff21"
      },
      "execution_count": null,
      "outputs": [
        {
          "output_type": "stream",
          "name": "stderr",
          "text": [
            "/usr/local/lib/python3.11/dist-packages/aixplain/factories/agent_factory/__init__.py:78: UserWarning: The 'instructions' parameter was recently added and serves the same purpose as 'description' did previously: set the role of the agent as a system prompt. The 'description' parameter is still required and should be used to set a short summary of the agent's purpose. For the next releases, the 'instructions' parameter will be required.\n",
            "  warnings.warn(\n"
          ]
        }
      ]
    },
    {
      "cell_type": "code",
      "source": [
        "location_agent = AgentFactory.create(\n",
        "    name=\"Location Agent\",\n",
        "    description=\" Fetches nearby places of interest such as landmarks, restaurants, or activity hubs based on user-provided locations. Integrates real-time user input, like whether they’re traveling with family or solo, to filter results\",\n",
        "    tools=[ModelTool(model=\"66f6ac496eb563510e3503d1\")],\n",
        "    llm_id=\"66b270bb6eb56365551e8c71\"\n",
        ")"
      ],
      "metadata": {
        "id": "NdUGCfQ_-Ukw"
      },
      "execution_count": null,
      "outputs": []
    },
    {
      "cell_type": "code",
      "source": [
        "weather_agent = AgentFactory.create(\n",
        "    name=\"Weather Agent\",\n",
        "    description=\" Provides real-time weather updates and forecasts for the user's destination.\",\n",
        "    tools=[ModelTool(model=\"66f83c216eb563266175e201\", description=\"The input query of this tool must be of the form 'text': 'City'.\")],\n",
        "    llm_id=\"66b270bb6eb56365551e8c71\"\n",
        ")"
      ],
      "metadata": {
        "id": "En5LKg4E-Uhn"
      },
      "execution_count": null,
      "outputs": []
    },
    {
      "cell_type": "code",
      "source": [
        "team = TeamAgentFactory.create(\n",
        "    name=\"Travel Agent\",\n",
        "    description=\"\"\"An agent designed to help users plan trips and get real-time updates on the best activities, local weather, and nearby points of interest.\n",
        "    Integrates real-time user input, like whether they’re traveling with family or solo, to filter results.\n",
        "    Fetches nearby places of interest such as landmarks, restaurants, or activity hubs based on user-provided locations.\n",
        "    Suggests alternate plans or indoor activities in case of unfavorable weather conditions.\n",
        "    \"\"\",\n",
        "    agents=[scraper_agent, location_agent, weather_agent]\n",
        ")"
      ],
      "metadata": {
        "id": "TEyeaRlO-Uew"
      },
      "execution_count": null,
      "outputs": []
    },
    {
      "cell_type": "code",
      "source": [
        "result = team.run(\"Plan a day trip to Boston this Saturday for a family of four.”\")"
      ],
      "metadata": {
        "id": "W_sr_Cn6-Ubo"
      },
      "execution_count": null,
      "outputs": []
    },
    {
      "cell_type": "code",
      "source": [
        "print(result['data']['output'])"
      ],
      "metadata": {
        "id": "95ZaZenHDGAI",
        "outputId": "132d8817-b4f4-4ff3-8543-b75fca60884c",
        "colab": {
          "base_uri": "https://localhost:8080/"
        }
      },
      "execution_count": null,
      "outputs": [
        {
          "output_type": "stream",
          "name": "stdout",
          "text": [
            "Currently you have 0.0 credits in your wallet. Make sure to add more credits to run your agentic application.\n"
          ]
        }
      ]
    },
    {
      "cell_type": "code",
      "source": [],
      "metadata": {
        "id": "aEbPzsfADF85"
      },
      "execution_count": null,
      "outputs": []
    }
  ]
}