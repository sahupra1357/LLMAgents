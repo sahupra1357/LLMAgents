{
  "nbformat": 4,
  "nbformat_minor": 0,
  "metadata": {
    "colab": {
      "provenance": [],
      "authorship_tag": "ABX9TyNq/186C1h59L3m5rgLnol1",
      "include_colab_link": true
    },
    "kernelspec": {
      "name": "python3",
      "display_name": "Python 3"
    },
    "language_info": {
      "name": "python"
    }
  },
  "cells": [
    {
      "cell_type": "markdown",
      "metadata": {
        "id": "view-in-github",
        "colab_type": "text"
      },
      "source": [
        "<a href=\"https://colab.research.google.com/github/sahupra1357/LLMAgents/blob/main/Gorq_VisionFunctionCalling.ipynb\" target=\"_parent\"><img src=\"https://colab.research.google.com/assets/colab-badge.svg\" alt=\"Open In Colab\"/></a>"
      ]
    },
    {
      "cell_type": "markdown",
      "source": [
        "https://github.com/groq/groq-api-cookbook/blob/main/tutorials/multimodal-image-processing/llama-3.2-vision-function-calling.ipynb"
      ],
      "metadata": {
        "id": "Ij_tUL7Td-_p"
      }
    },
    {
      "cell_type": "code",
      "execution_count": 1,
      "metadata": {
        "id": "6qT4aMxhUA26"
      },
      "outputs": [],
      "source": [
        "import os\n",
        "from google.colab import userdata\n",
        "os.environ[\"GROQ_API_KEY\"] = userdata.get('GROQ_API_KEY')\n",
        "os.environ[\"OPENAI_API_KEY\"] = userdata.get('OPENAI_API_KEY')\n",
        "os.environ[\"NINJA_API_KEY\"] = userdata.get('NINJA_API_KEY')\n",
        "groq_api_key = os.getenv('GROQ_API_KEY')\n",
        "OPENAI_API_KEY = os.getenv('OPENAI_API_KEY')\n",
        "ninja_api_key = os.getenv('NINJA_API_KEY')"
      ]
    },
    {
      "cell_type": "code",
      "source": [
        "from openai import OpenAI\n",
        "\n",
        "client_openai = OpenAI()\n",
        "gpt4o=\"gpt-4o\""
      ],
      "metadata": {
        "id": "97ro6-7LUPZm"
      },
      "execution_count": 2,
      "outputs": []
    },
    {
      "cell_type": "code",
      "source": [
        "!pip install groq -q"
      ],
      "metadata": {
        "colab": {
          "base_uri": "https://localhost:8080/"
        },
        "id": "H9CFeQiVUPWW",
        "outputId": "19685b6b-4e18-47ab-9425-ee5e68737ba4"
      },
      "execution_count": 3,
      "outputs": [
        {
          "output_type": "stream",
          "name": "stdout",
          "text": [
            "\u001b[?25l   \u001b[90m━━━━━━━━━━━━━━━━━━━━━━━━━━━━━━━━━━━━━━━━\u001b[0m \u001b[32m0.0/125.4 kB\u001b[0m \u001b[31m?\u001b[0m eta \u001b[36m-:--:--\u001b[0m\r\u001b[2K   \u001b[91m━━━━━━━━━━━━━━━━━━━━━━━━━━━━━━━━━━━━━━━\u001b[0m\u001b[90m╺\u001b[0m \u001b[32m122.9/125.4 kB\u001b[0m \u001b[31m5.4 MB/s\u001b[0m eta \u001b[36m0:00:01\u001b[0m\r\u001b[2K   \u001b[90m━━━━━━━━━━━━━━━━━━━━━━━━━━━━━━━━━━━━━━━━\u001b[0m \u001b[32m125.4/125.4 kB\u001b[0m \u001b[31m3.1 MB/s\u001b[0m eta \u001b[36m0:00:00\u001b[0m\n",
            "\u001b[?25h"
          ]
        }
      ]
    },
    {
      "cell_type": "code",
      "source": [
        "from groq import Groq\n",
        "import base64\n",
        "from IPython.display import Image\n",
        "import os\n",
        "import requests\n",
        "import json"
      ],
      "metadata": {
        "id": "rZlDTQ-jUPTG"
      },
      "execution_count": 4,
      "outputs": []
    },
    {
      "cell_type": "code",
      "source": [
        "client = Groq()\n",
        "model = 'llama-3.2-11b-vision-preview'"
      ],
      "metadata": {
        "id": "CmDw8lu_UcLP"
      },
      "execution_count": 5,
      "outputs": []
    },
    {
      "cell_type": "code",
      "source": [
        "# Load and display the image\n",
        "image_path = 'images/maltese.png'\n",
        "Image(image_path)"
      ],
      "metadata": {
        "colab": {
          "base_uri": "https://localhost:8080/",
          "height": 217
        },
        "id": "PiFJhK84VzGn",
        "outputId": "f2c49374-843c-42a7-822b-256a9addaee6"
      },
      "execution_count": 6,
      "outputs": [
        {
          "output_type": "execute_result",
          "data": {
            "image/png": "[encoded data removed]",
            "text/plain": [
              "<IPython.core.display.Image object>"
            ]
          },
          "metadata": {},
          "execution_count": 6
        }
      ]
    },
    {
      "cell_type": "code",
      "source": [
        "def encode_image(image_path):\n",
        "  with open(image_path, \"rb\") as image_file:\n",
        "    return base64.b64encode(image_file.read()).decode('utf-8')\n",
        "\n",
        "base64_image = encode_image(image_path)"
      ],
      "metadata": {
        "id": "qNwio9shVzDu"
      },
      "execution_count": 7,
      "outputs": []
    },
    {
      "cell_type": "code",
      "source": [
        "user_prompt = 'What is the dog breed in this image?'\n",
        "chat_completion = client.chat.completions.create(\n",
        "    messages=[\n",
        "        {\n",
        "            \"role\": \"user\",\n",
        "            \"content\": [\n",
        "                {\n",
        "                    \"type\": \"image_url\",\n",
        "                    \"image_url\": {\n",
        "                        \"url\": f\"data:image/jpeg;base64,{base64_image}\"\n",
        "                    },\n",
        "                },\n",
        "                {\"type\": \"text\", \"text\": user_prompt},\n",
        "            ],\n",
        "        }\n",
        "    ],\n",
        "    model=model\n",
        ")\n",
        "\n",
        "print(chat_completion.choices[0].message.content)"
      ],
      "metadata": {
        "colab": {
          "base_uri": "https://localhost:8080/"
        },
        "id": "n-SdhFImVzAW",
        "outputId": "3820c661-39d2-4cd1-aa79-8338b2016f15"
      },
      "execution_count": 8,
      "outputs": [
        {
          "output_type": "stream",
          "name": "stdout",
          "text": [
            "The dog breed in this image appears to be a Maltese.\n"
          ]
        }
      ]
    },
    {
      "cell_type": "code",
      "source": [
        "def get_dog_facts(breed_name):\n",
        "    # Format the API URL with the specific breed name for the API request\n",
        "    api_url = 'https://api.api-ninjas.com/v1/dogs?name={}'.format(breed_name)\n",
        "\n",
        "    # Perform a GET request to the API with the API key in the headers for authentication\n",
        "    response = requests.get(api_url, headers={'X-Api-Key': ninja_api_key})\n",
        "\n",
        "    # Check if the response from the server is OK (status code 200)\n",
        "    if response.status_code == requests.codes.ok:\n",
        "        # Extract the first dog breed match from the response JSON array\n",
        "        top_match = response.json()[0] # Multiple top matches may be returned; take the first result\n",
        "        return top_match\n",
        "    else:\n",
        "        # Return an error message with the status code and text if the request was not successful\n",
        "        return \"Error:\", response.status_code, response.text"
      ],
      "metadata": {
        "id": "kzGUWM2lVy9e"
      },
      "execution_count": 9,
      "outputs": []
    },
    {
      "cell_type": "code",
      "source": [
        "tools = [\n",
        "    {\n",
        "        \"type\": \"function\",\n",
        "        \"function\": {\n",
        "            \"name\": \"get_dog_facts\",\n",
        "            \"description\": \"Gets facts about a given dog breed\",\n",
        "            \"parameters\": {\n",
        "                \"type\": \"object\",\n",
        "                \"properties\": {\n",
        "                    \"breed_name\": {\n",
        "                        \"type\": \"string\",\n",
        "                        \"description\": \"The name of the dog breed\",\n",
        "                    }\n",
        "                },\n",
        "                \"required\": [\"breed_name\"],\n",
        "            },\n",
        "        },\n",
        "    }\n",
        "]"
      ],
      "metadata": {
        "id": "Jl7MImUHWaNQ"
      },
      "execution_count": 10,
      "outputs": []
    },
    {
      "cell_type": "code",
      "source": [
        "# Function to call the LLaMA Vision Tool\n",
        "def llama_vision_tool_call(client, model, base64_image, available_functions):\n",
        "\n",
        "    chat_completion = client.chat.completions.create(\n",
        "        # The user message containing the image\n",
        "        messages=[\n",
        "            {\n",
        "                \"role\": \"user\",\n",
        "                \"content\": [\n",
        "                    {\n",
        "                        \"type\": \"image_url\",\n",
        "                        \"image_url\": {\n",
        "                            \"url\": f\"data:image/jpeg;base64,{base64_image}\"  # Decode the base64 image\n",
        "                        },\n",
        "                    },\n",
        "                ],\n",
        "            }\n",
        "        ],\n",
        "        model=model,\n",
        "        tools=tools, # The tools to be used\n",
        "        tool_choice=\"auto\" # Automatically choose the tool\n",
        "    )\n",
        "\n",
        "    response_message = chat_completion.choices[0].message\n",
        "    print(\"chat_completion --> \", chat_completion)\n",
        "    # Get the tool calls from the response message\n",
        "    tool_calls = response_message.tool_calls\n",
        "\n",
        "    # Call each available function\n",
        "    for tool_call in tool_calls:\n",
        "        # Get the function name from the tool call\n",
        "        function_name = tool_call.function.name\n",
        "\n",
        "        # Get the function to call from the available functions dictionary\n",
        "        function_to_call = available_functions[function_name]\n",
        "\n",
        "        # Parse the function arguments from the tool call\n",
        "        function_args = json.loads(tool_call.function.arguments)\n",
        "\n",
        "        # Call the function with the breed name\n",
        "        function_response = function_to_call(\n",
        "            breed_name=function_args.get(\"breed_name\")\n",
        "        )\n",
        "\n",
        "    # Return the response from the called function\n",
        "    return function_response\n",
        "\n",
        "\n",
        "# Define available functions\n",
        "available_functions = {\n",
        "    \"get_dog_facts\": get_dog_facts,  # Example function to get dog facts\n",
        "}"
      ],
      "metadata": {
        "id": "gB6HvFe5Wbz4"
      },
      "execution_count": 12,
      "outputs": []
    },
    {
      "cell_type": "code",
      "source": [
        "dog_breed_json = llama_vision_tool_call(client, model, base64_image, available_functions)\n",
        "print(dog_breed_json)"
      ],
      "metadata": {
        "colab": {
          "base_uri": "https://localhost:8080/"
        },
        "id": "Ouo0IZv1Wbwp",
        "outputId": "df4fabfb-d089-435c-9111-afb21b8693e6"
      },
      "execution_count": 13,
      "outputs": [
        {
          "output_type": "stream",
          "name": "stdout",
          "text": [
            "chat_completion -->  ChatCompletion(id='chatcmpl-346a69e0-9534-4c77-a515-c8c747eedb0c', choices=[Choice(finish_reason='tool_calls', index=0, logprobs=None, message=ChatCompletionMessage(content=None, role='assistant', executed_tools=None, function_call=None, reasoning=None, tool_calls=[ChatCompletionMessageToolCall(id='call_fj5p', function=Function(arguments='{\"breed_name\": \"Maltese\"}', name='get_dog_facts'), type='function')]))], created=1743561529, model='llama-3.2-11b-vision-preview', object='chat.completion', system_fingerprint='fp_fa3d3d25b0', usage=CompletionUsage(completion_tokens=22, prompt_tokens=210, total_tokens=232, completion_time=0.031776498, prompt_time=0.014012853, queue_time=0.272583203, total_time=0.045789351), usage_breakdown=UsageBreakdown(models=None), x_groq={'id': 'req_01jqt5v5t0f2nsa5q8eztqx0p5'})\n",
            "{'image_link': 'https://api-ninjas.com/images/dogs/maltese.jpg', 'good_with_children': 3, 'good_with_other_dogs': 3, 'shedding': 1, 'grooming': 4, 'drooling': 1, 'coat_length': 1, 'good_with_strangers': 3, 'playfulness': 3, 'protectiveness': 4, 'trainability': 3, 'energy': 3, 'barking': 3, 'min_life_expectancy': 12.0, 'max_life_expectancy': 15.0, 'max_height_male': 9.0, 'max_height_female': 9.0, 'max_weight_male': 8.8, 'max_weight_female': 8.8, 'min_height_male': 7.0, 'min_height_female': 7.0, 'min_weight_male': 6.6, 'min_weight_female': 6.6, 'name': 'Maltese'}\n"
          ]
        }
      ]
    },
    {
      "cell_type": "code",
      "source": [
        "openai_dog_breed_json = llama_vision_tool_call(client_openai, gpt4o, base64_image, available_functions)\n",
        "print(openai_dog_breed_json)"
      ],
      "metadata": {
        "colab": {
          "base_uri": "https://localhost:8080/",
          "height": 334
        },
        "id": "QdWrfNHzaAcW",
        "outputId": "04db6b19-1aa6-42a6-e738-6c3b3173bdf7"
      },
      "execution_count": 16,
      "outputs": [
        {
          "output_type": "stream",
          "name": "stdout",
          "text": [
            "chat_completion -->  ChatCompletion(id='chatcmpl-BHiac4J7UWqgUVHnAxwOdatkDHbCe', choices=[Choice(finish_reason='stop', index=0, logprobs=None, message=ChatCompletionMessage(content='This looks like a Maltese. Would you like to know more about this breed?', refusal=None, role='assistant', annotations=[], audio=None, function_call=None, tool_calls=None))], created=1743562678, model='gpt-4o-2024-08-06', object='chat.completion', service_tier='default', system_fingerprint='fp_de57b65c90', usage=CompletionUsage(completion_tokens=19, prompt_tokens=308, total_tokens=327, completion_tokens_details=CompletionTokensDetails(accepted_prediction_tokens=0, audio_tokens=0, reasoning_tokens=0, rejected_prediction_tokens=0), prompt_tokens_details=PromptTokensDetails(audio_tokens=0, cached_tokens=0)))\n"
          ]
        },
        {
          "output_type": "error",
          "ename": "TypeError",
          "evalue": "'NoneType' object is not iterable",
          "traceback": [
            "\u001b[0;31m---------------------------------------------------------------------------\u001b[0m",
            "\u001b[0;31mTypeError\u001b[0m                                 Traceback (most recent call last)",
            "\u001b[0;32m<ipython-input-16-2533e8a571db>\u001b[0m in \u001b[0;36m<cell line: 0>\u001b[0;34m()\u001b[0m\n\u001b[0;32m----> 1\u001b[0;31m \u001b[0mopenai_dog_breed_json\u001b[0m \u001b[0;34m=\u001b[0m \u001b[0mllama_vision_tool_call\u001b[0m\u001b[0;34m(\u001b[0m\u001b[0mclient_openai\u001b[0m\u001b[0;34m,\u001b[0m \u001b[0mgpt4o\u001b[0m\u001b[0;34m,\u001b[0m \u001b[0mbase64_image\u001b[0m\u001b[0;34m,\u001b[0m \u001b[0mavailable_functions\u001b[0m\u001b[0;34m)\u001b[0m\u001b[0;34m\u001b[0m\u001b[0;34m\u001b[0m\u001b[0m\n\u001b[0m\u001b[1;32m      2\u001b[0m \u001b[0mprint\u001b[0m\u001b[0;34m(\u001b[0m\u001b[0mopenai_dog_breed_json\u001b[0m\u001b[0;34m)\u001b[0m\u001b[0;34m\u001b[0m\u001b[0;34m\u001b[0m\u001b[0m\n",
            "\u001b[0;32m<ipython-input-12-b5b4704a65e8>\u001b[0m in \u001b[0;36mllama_vision_tool_call\u001b[0;34m(client, model, base64_image, available_functions)\u001b[0m\n\u001b[1;32m     28\u001b[0m \u001b[0;34m\u001b[0m\u001b[0m\n\u001b[1;32m     29\u001b[0m     \u001b[0;31m# Call each available function\u001b[0m\u001b[0;34m\u001b[0m\u001b[0;34m\u001b[0m\u001b[0m\n\u001b[0;32m---> 30\u001b[0;31m     \u001b[0;32mfor\u001b[0m \u001b[0mtool_call\u001b[0m \u001b[0;32min\u001b[0m \u001b[0mtool_calls\u001b[0m\u001b[0;34m:\u001b[0m\u001b[0;34m\u001b[0m\u001b[0;34m\u001b[0m\u001b[0m\n\u001b[0m\u001b[1;32m     31\u001b[0m         \u001b[0;31m# Get the function name from the tool call\u001b[0m\u001b[0;34m\u001b[0m\u001b[0;34m\u001b[0m\u001b[0m\n\u001b[1;32m     32\u001b[0m         \u001b[0mfunction_name\u001b[0m \u001b[0;34m=\u001b[0m \u001b[0mtool_call\u001b[0m\u001b[0;34m.\u001b[0m\u001b[0mfunction\u001b[0m\u001b[0;34m.\u001b[0m\u001b[0mname\u001b[0m\u001b[0;34m\u001b[0m\u001b[0;34m\u001b[0m\u001b[0m\n",
            "\u001b[0;31mTypeError\u001b[0m: 'NoneType' object is not iterable"
          ]
        }
      ]
    },
    {
      "cell_type": "code",
      "source": [
        "def assess_dog_breed(client, model, dog_breed_json):\n",
        "\n",
        "    user_message = f\"\"\"\n",
        "    Write an assessment of this dog breed given the JSON info provided; below is a description of the fields in the JSON:\n",
        "\n",
        "    {dog_breed_json}\n",
        "\n",
        "    Description:\n",
        "\n",
        "    1. Shedding:\n",
        "       - Description: How much hair the breed sheds.\n",
        "       - Possible values: 1 to 5 (where 1 indicates no shedding and 5 indicates maximum shedding).\n",
        "\n",
        "    2. Barking:\n",
        "       - Description: How vocal the breed is.\n",
        "       - Possible values: 1 to 5 (where 1 indicates minimal barking and 5 indicates maximum barking).\n",
        "\n",
        "    3. Energy:\n",
        "       - Description: How much energy the breed has.\n",
        "       - Possible values: 1 to 5 (where 1 indicates low energy and 5 indicates high energy).\n",
        "\n",
        "    4. Protectiveness:\n",
        "       - Description: How likely the breed is to alert strangers.\n",
        "       - Possible values: 1 to 5 (where 1 indicates minimal alerting and 5 indicates maximum alerting).\n",
        "\n",
        "    5. Trainability:\n",
        "       - Description: How easy it is to train the breed.\n",
        "       - Possible values: 1 to 5 (where 1 indicates the breed is very difficult to train and 5 indicates the breed is very easy to train).\n",
        "\n",
        "    6. Name:\n",
        "       - Description: The name of the breed.\n",
        "\n",
        "    7. Min Height:\n",
        "       - Description: Minimum height in inches.\n",
        "\n",
        "    8. Max Height:\n",
        "       - Description: Maximum height in inches.\n",
        "\n",
        "    9. Min Weight:\n",
        "       - Description: Minimum weight in pounds.\n",
        "\n",
        "    10. Max Weight:\n",
        "       - Description: Maximum weight in pounds.\n",
        "\n",
        "    11. Min Life Expectancy:\n",
        "       - Description: Minimum life expectancy in years.\n",
        "\n",
        "    12. Max Life Expectancy:\n",
        "       - Description: Maximum life expectancy in years.\n",
        "\n",
        "    (do not mention the JSON data, just use it to inform your response)\n",
        "    \"\"\"\n",
        "\n",
        "    chat_completion = client.chat.completions.create(\n",
        "        messages=[\n",
        "            {\n",
        "                \"role\": \"user\",\n",
        "                \"content\": user_message\n",
        "            }\n",
        "        ],\n",
        "        model=model\n",
        "    )\n",
        "\n",
        "    return chat_completion.choices[0].message.content"
      ],
      "metadata": {
        "id": "76rEENWfWbth"
      },
      "execution_count": 17,
      "outputs": []
    },
    {
      "cell_type": "code",
      "source": [
        "dog_breed_assessment = assess_dog_breed(client, model, dog_breed_json)\n",
        "print(dog_breed_assessment)"
      ],
      "metadata": {
        "colab": {
          "base_uri": "https://localhost:8080/"
        },
        "id": "bhwS10MHWbnI",
        "outputId": "5b59ce03-901e-4cb3-f9f5-cd07aa2b80cf"
      },
      "execution_count": 18,
      "outputs": [
        {
          "output_type": "stream",
          "name": "stdout",
          "text": [
            "**Breed Assessment: Maltese**\n",
            "\n",
            "The Maltese is a small, gentle, and affectionate dog breed. Here's a comprehensive assessment of its characteristics:\n",
            "\n",
            "**Temperament and Socialization:**\n",
            "\n",
            "The Maltese is a good breed for families with children, as it is generally good with kids and gentle in its interactions. However, like any breed, it is essential to socialize the Maltese well, especially when it comes to other dogs and strangers. Its protectiveness rating of 4 out of 5 suggests that it may alert strangers, but it is not overly aggressive.\n",
            "\n",
            "**Grooming:**\n",
            "\n",
            "The Maltese requires moderate grooming efforts, with a rating of 4 out of 5. Its low-shedding coat is a significant advantage, making it a suitable choice for people with allergies or who prefer less dog hair. However, regular grooming is still necessary to prevent matting and tangling of its long, silky coat.\n",
            "\n",
            "**Training and Energy:**\n",
            "\n",
            "The Maltese has an average trainability rating of 3 out of 5, indicating that it can be trained with patience and consistency. However, it may require more time and effort due to its independent nature. The breed has a moderate energy level, with a rating of 3 out of 5. Daily walks and playtime are necessary to keep the Maltese happy and healthy.\n",
            "\n",
            "**Other Characteristics:**\n",
            "\n",
            "The Maltese is a small breed, with a maximum weight of 8.8 pounds and a maximum height of 9 inches. Its life expectancy ranges from 12 to 15 years, making it a long-term companion. The breed is generally quiet, with a barking rating of 3 out of 5.\n",
            "\n",
            "**Overall Suitability:**\n",
            "\n",
            "The Maltese is a suitable breed for:\n",
            "\n",
            "* Families with children who are gentle and respectful with dogs\n",
            "* People with allergies or who prefer a low-shedding breed\n",
            "* Individuals who are willing to invest time and effort into grooming and training\n",
            "* Apartment dwellers or people with small living spaces\n",
            "\n",
            "However, the Maltese may not be the best fit for:\n",
            "\n",
            "* Active or athletic families who require a high-energy breed\n",
            "* People who are looking for a breed that is easily trainable or highly obedient\n",
            "* Individuals who are not willing or able to commit to regular grooming and training.\n"
          ]
        }
      ]
    },
    {
      "cell_type": "markdown",
      "source": [
        "## Image Classification\n",
        "\n",
        "https://github.com/groq/groq-api-cookbook/blob/main/tutorials/multimodal-image-processing/llama-3.2-image-classification.ipynb"
      ],
      "metadata": {
        "id": "xK91LTyacVpM"
      }
    },
    {
      "cell_type": "code",
      "source": [
        "# Load and display the image\n",
        "image_path = 'images/dachshund.png'\n",
        "Image(image_path)"
      ],
      "metadata": {
        "colab": {
          "base_uri": "https://localhost:8080/",
          "height": 212
        },
        "id": "oEgD4ys8Wbj5",
        "outputId": "9c35daf9-0d85-484b-9840-a81b0ed8faad"
      },
      "execution_count": 19,
      "outputs": [
        {
          "output_type": "execute_result",
          "data": {
            "image/png": "[encoded data removed]",
            "text/plain": [
              "<IPython.core.display.Image object>"
            ]
          },
          "metadata": {},
          "execution_count": 19
        }
      ]
    },
    {
      "cell_type": "code",
      "source": [
        "def encode_image(image_path):\n",
        "  with open(image_path, \"rb\") as image_file:\n",
        "    return base64.b64encode(image_file.read()).decode('utf-8')\n",
        "\n",
        "base64_image = encode_image(image_path)"
      ],
      "metadata": {
        "id": "rnXuX1BXcxkW"
      },
      "execution_count": 20,
      "outputs": []
    },
    {
      "cell_type": "code",
      "source": [
        "user_prompt = 'Tell me about this image'\n",
        "chat_completion = client.chat.completions.create(\n",
        "    messages=[\n",
        "        {\n",
        "            \"role\": \"user\",\n",
        "            \"content\": [\n",
        "                {\n",
        "                    \"type\": \"image_url\",\n",
        "                    \"image_url\": {\n",
        "                        \"url\": f\"data:image/jpeg;base64,{base64_image}\"\n",
        "                    },\n",
        "                },\n",
        "                {\"type\": \"text\", \"text\": user_prompt},\n",
        "            ],\n",
        "        }\n",
        "    ],\n",
        "    model=model\n",
        ")"
      ],
      "metadata": {
        "id": "HKAqRNumcz_N"
      },
      "execution_count": 21,
      "outputs": []
    },
    {
      "cell_type": "code",
      "source": [
        "print(chat_completion.choices[0].message.content)"
      ],
      "metadata": {
        "colab": {
          "base_uri": "https://localhost:8080/"
        },
        "id": "KQsttEYxc8k_",
        "outputId": "5ffea846-d0be-4e54-b14f-cda9cc800732"
      },
      "execution_count": 22,
      "outputs": [
        {
          "output_type": "stream",
          "name": "stdout",
          "text": [
            "The image features a dog in the background, with a blurry and out-of-focus appearance.\n",
            "\n",
            "The dog is a dachshund, characterized by its distinctive brown and black coat, long and low body, and short legs. Its ears are floppy and hanging down, while its eyes are not visible due to the blurriness of the image. The dachshund is facing to the right on a gray brick road or sidewalk, with trees appearing in the distance.\n"
          ]
        }
      ]
    },
    {
      "cell_type": "code",
      "source": [
        "user_prompt='''\n",
        "You are an image classification API specializing in dog photos that responds in JSON. What dog breed is shown in this image?\n",
        "Return in the following JSON format:\n",
        "\n",
        "{\n",
        "  \"dog_breed\": \"string (e.g., 'Golden Retriever', 'German Shepherd', 'Mixed')\"\n",
        "}\n",
        "'''\n",
        "\n",
        "def image_classification(base64_image, user_prompt):\n",
        "    chat_completion = client.chat.completions.create(\n",
        "        messages=[\n",
        "            {\n",
        "                \"role\": \"user\",\n",
        "                \"content\": [\n",
        "                    {\n",
        "                        \"type\": \"image_url\",\n",
        "                        \"image_url\": {\n",
        "                            \"url\": f\"data:image/jpeg;base64,{base64_image}\",\n",
        "                        },\n",
        "                    },\n",
        "                    {\"type\": \"text\", \"text\": user_prompt},\n",
        "                ],\n",
        "            }\n",
        "        ],\n",
        "        model=model,\n",
        "        response_format = {\"type\": \"json_object\"}\n",
        "    )\n",
        "\n",
        "    return json.loads(chat_completion.choices[0].message.content)"
      ],
      "metadata": {
        "id": "MlmqttU7c8h_"
      },
      "execution_count": 23,
      "outputs": []
    },
    {
      "cell_type": "code",
      "source": [
        "image_classification(base64_image, user_prompt)"
      ],
      "metadata": {
        "colab": {
          "base_uri": "https://localhost:8080/"
        },
        "id": "CxrgxJOqc8fP",
        "outputId": "47474e4b-be0a-44e6-e8bc-2f5e8cb000a9"
      },
      "execution_count": 24,
      "outputs": [
        {
          "output_type": "execute_result",
          "data": {
            "text/plain": [
              "{'dog_breed': 'Dachshund'}"
            ]
          },
          "metadata": {},
          "execution_count": 24
        }
      ]
    },
    {
      "cell_type": "code",
      "source": [
        "user_prompt = '''\n",
        "Your job is to extract structured data from an image of dogs and output the structured data in JSON.\n",
        "The JSON schema should strictly be the following:\n",
        "  {\n",
        "    \"dog_breed\": \"string (e.g., 'Golden Retriever', 'German Shepherd', 'Mixed')\",\n",
        "    \"dog_color\": \"string (categorical: 'Black', 'White', 'Brown', 'Golden', 'Multiple')\",\n",
        "    \"number_of_dogs\": \"integer (number of dogs in the image)\",\n",
        "    \"puppies_present\": \"boolean (TRUE if there are puppies in the image)\",\n",
        "    \"dog_size\": \"string (categorical: 'Toy', 'Small', 'Medium', 'Large')\",\n",
        "    \"is_pet\": \"boolean (True if the dog is a pet, False if it might be a wild animal like a wolf or coyote)\",\n",
        "    \"dog_activity\": \"string (categorical: 'Sitting', 'Standing', 'Running', 'Playing', 'Sleeping')\",\n",
        "    \"background_environment\": \"string (categorical: 'Indoors', 'Outdoors', 'Park', 'Beach', 'Forest')\",\n",
        "    \"dog_accessories\": \"string (accessories or items the dog is wearing or carrying, e.g., 'Collar', 'Leash', 'Bandana', 'Toy', 'Stick', 'Ball', 'None')\"\n",
        "  }\n",
        "\n",
        "Use the information from the following dog photo to construct the proper JSON output.\n",
        "'''\n",
        "\n",
        "image_json = image_classification(base64_image, user_prompt)\n",
        "image_json"
      ],
      "metadata": {
        "colab": {
          "base_uri": "https://localhost:8080/"
        },
        "id": "XRmX85hjc8b-",
        "outputId": "7dae4aa8-6898-4211-f3d1-24c02cb62843"
      },
      "execution_count": 25,
      "outputs": [
        {
          "output_type": "execute_result",
          "data": {
            "text/plain": [
              "{'dog_breed': 'Dachshund',\n",
              " 'dog_color': 'Black and Brown',\n",
              " 'number_of_dogs': 1,\n",
              " 'puppies_present': False,\n",
              " 'dog_size': 'Small',\n",
              " 'is_pet': True,\n",
              " 'dog_activity': 'Standing',\n",
              " 'background_environment': 'Outdoors',\n",
              " 'dog_accessories': 'Collar'}"
            ]
          },
          "metadata": {},
          "execution_count": 25
        }
      ]
    },
    {
      "cell_type": "markdown",
      "source": [
        "Below need images to be uploaded from\n",
        "https://github.com/groq/groq-api-cookbook/tree/main/tutorials/multimodal-image-processing"
      ],
      "metadata": {
        "id": "bw_n_HAMdhhY"
      }
    },
    {
      "cell_type": "code",
      "source": [
        "image_folder = 'images/'\n",
        "image_files = [f for f in os.listdir(image_folder) if f.endswith('.png')]\n",
        "image_json_list = []\n",
        "\n",
        "for image_file in sorted(image_files):\n",
        "    image_path = image_folder + image_file\n",
        "\n",
        "    # Encode Image\n",
        "    base64_image = encode_image(image_path)\n",
        "\n",
        "    # Classify image in JSON mode\n",
        "    image_json = image_classification(base64_image, user_prompt)\n",
        "\n",
        "    # Add image file name as a feature\n",
        "    image_json['image_file'] = image_file\n",
        "\n",
        "    # Append to image JSON list\n",
        "    image_json_list.append(image_json)"
      ],
      "metadata": {
        "id": "t3FP7w9XdgRA"
      },
      "execution_count": null,
      "outputs": []
    }
  ]
}