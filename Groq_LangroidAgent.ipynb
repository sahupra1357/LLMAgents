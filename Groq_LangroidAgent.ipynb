{
  "nbformat": 4,
  "nbformat_minor": 0,
  "metadata": {
    "colab": {
      "provenance": [],
      "authorship_tag": "ABX9TyNqbe+XJAMrls5Za5zT0nRN",
      "include_colab_link": true
    },
    "kernelspec": {
      "name": "python3",
      "display_name": "Python 3"
    },
    "language_info": {
      "name": "python"
    }
  },
  "cells": [
    {
      "cell_type": "markdown",
      "metadata": {
        "id": "view-in-github",
        "colab_type": "text"
      },
      "source": [
        "<a href=\"https://colab.research.google.com/github/sahupra1357/LLMAgents/blob/main/Groq_LangroidAgent.ipynb\" target=\"_parent\"><img src=\"https://colab.research.google.com/assets/colab-badge.svg\" alt=\"Open In Colab\"/></a>"
      ]
    },
    {
      "cell_type": "code",
      "execution_count": null,
      "metadata": {
        "colab": {
          "base_uri": "https://localhost:8080/"
        },
        "id": "K0VJcUAsruv3",
        "outputId": "b8506947-8d38-491d-bc4f-6d6a648f59b4"
      },
      "outputs": [
        {
          "output_type": "stream",
          "name": "stdout",
          "text": [
            "Name: langroid\n",
            "Version: 0.49.1\n",
            "Summary: Harness LLMs with Multi-Agent Programming\n",
            "Home-page: \n",
            "Author: \n",
            "Author-email: Prasad Chalasani <pchalasani@gmail.com>\n",
            "License: MIT\n",
            "Location: /usr/local/lib/python3.11/dist-packages\n",
            "Requires: adb-cloud-connector, aiohttp, async-generator, bs4, cerebras-cloud-sdk, colorlog, docstring-parser, duckduckgo-search, exa-py, faker, fakeredis, fire, gitpython, google-api-python-client, google-genai, groq, grpcio, halo, jinja2, json-repair, lxml, nest-asyncio, nltk, onnxruntime, openai, pandas, prettytable, pydantic, pygithub, pygments, pymupdf4llm, pyparsing, pytest-rerunfailures, python-dotenv, python-magic, pyyaml, qdrant-client, rank-bm25, redis, requests, requests-oauthlib, rich, thefuzz, tiktoken, trafilatura, typer, wget\n",
            "Required-by: \n"
          ]
        }
      ],
      "source": [
        "!pip install -q --upgrade langroid &> /dev/null\n",
        "!pip show langroid"
      ]
    },
    {
      "cell_type": "code",
      "source": [
        "import os\n",
        "os.environ[\"GROQ_API_KEY\"] = userdata.get('GROQ_API_KEY')"
      ],
      "metadata": {
        "id": "RMvFAwGysPdj"
      },
      "execution_count": null,
      "outputs": []
    },
    {
      "cell_type": "code",
      "source": [
        "import langroid as lr\n",
        "import langroid.language_models as lm\n",
        "from langroid.agent.tools.duckduckgo_search_tool import DuckduckgoSearchTool\n",
        "from langroid.utils.configuration import settings\n",
        "settings.notebook = True\n",
        "\n",
        "MODEL = \"groq/llama3-70b-8192\""
      ],
      "metadata": {
        "id": "puWPBmQbsPaj"
      },
      "execution_count": null,
      "outputs": []
    },
    {
      "cell_type": "code",
      "source": [
        "llm_config = lm.OpenAIGPTConfig(\n",
        "      chat_model=MODEL, # or lr.OpenAIChatModel.GPT4_TURBO\n",
        "      chat_context_length=8192,\n",
        "      temperature=0,\n",
        "      max_output_tokens=200,\n",
        "      timeout=45,\n",
        "  )"
      ],
      "metadata": {
        "id": "L0WGdyB0sPXz"
      },
      "execution_count": null,
      "outputs": []
    },
    {
      "cell_type": "code",
      "source": [
        "assistant_config = lr.ChatAgentConfig(\n",
        "    system_message=\"\"\"\n",
        "    You are a resourceful assistant, able to think step by step to answer\n",
        "    complex questions from the user. You must break down complex questions into\n",
        "    simpler questions that can be answered by a web search. You must ask me\n",
        "    (the user) each question ONE BY ONE, and I will do a web search and send you\n",
        "    a brief answer. Once you have enough information to answer my original\n",
        "    (complex) question, you MUST say DONE and present the answer to me.\n",
        "    \"\"\",\n",
        "    llm=llm_config,\n",
        "    vecdb=None,\n",
        ")\n",
        "assistant_agent = lr.ChatAgent(assistant_config)\n",
        "\n",
        "assistant_task = lr.Task(\n",
        "    assistant_agent,\n",
        "    name=\"Assistant\",\n",
        "    llm_delegate=True,\n",
        "    single_round=False,\n",
        "    interactive=False,\n",
        ")\n"
      ],
      "metadata": {
        "colab": {
          "base_uri": "https://localhost:8080/"
        },
        "id": "BitsR5QNsPUr",
        "outputId": "abe08cb0-ab17-4cc1-99d4-2f46be839b0d"
      },
      "execution_count": null,
      "outputs": [
        {
          "output_type": "stream",
          "name": "stderr",
          "text": [
            "WARNING:langroid.cachedb.redis_cachedb:REDIS_PASSWORD, REDIS_HOST, REDIS_PORT not set in .env file,\n",
            "                        using fake redis client\n",
            "\u001b[33m2025-03-29 16:19:03 - WARNING - REDIS_PASSWORD, REDIS_HOST, REDIS_PORT not set in .env file,\n",
            "                        using fake redis client\u001b[0m\n"
          ]
        }
      ]
    },
    {
      "cell_type": "code",
      "source": [
        "search_tool_handler_method = DuckduckgoSearchTool.default_value(\"request\")\n",
        "\n",
        "search_agent_config = lr.ChatAgentConfig(\n",
        "    llm=llm_config,\n",
        "    vecdb=None,\n",
        "    system_message=f\"\"\"\n",
        "    You are a web-searcher. For any question you get, you must use the\n",
        "    `{search_tool_handler_method}` tool/function-call to get up to 5 results.\n",
        "    I WILL SEND YOU THE RESULTS; DO NOT MAKE UP THE RESULTS!!\n",
        "    Once you receive the results, you must compose a CONCISE answer\n",
        "    based on the search results and say DONE and show the answer to me,\n",
        "    in this format:\n",
        "    DONE [... your CONCISE answer here ...]\n",
        "    IMPORTANT: YOU MUST WAIT FOR ME TO SEND YOU THE\n",
        "    SEARCH RESULTS BEFORE saying you're DONE.\n",
        "    \"\"\",\n",
        ")\n",
        "search_agent = lr.ChatAgent(search_agent_config)\n",
        "search_agent.enable_message(DuckduckgoSearchTool)\n",
        "\n",
        "\n",
        "search_task = lr.Task(\n",
        "    search_agent,\n",
        "    name=\"Searcher\",\n",
        "    llm_delegate=True,\n",
        "    single_round=False,\n",
        "    interactive=False,\n",
        ")"
      ],
      "metadata": {
        "id": "ggZxQ9bls1Xl"
      },
      "execution_count": null,
      "outputs": []
    },
    {
      "cell_type": "code",
      "source": [
        "assistant_task.add_sub_task(search_task)\n",
        "question = \"Was Liszt born before Wagner?\"\n",
        "assistant_task.run(question)"
      ],
      "metadata": {
        "colab": {
          "base_uri": "https://localhost:8080/",
          "height": 1000
        },
        "id": "D8MUw_sPs1VF",
        "outputId": "0bec1406-4573-4aa9-a082-61104cc3b3df"
      },
      "execution_count": null,
      "outputs": [
        {
          "output_type": "display_data",
          "data": {
            "text/plain": [
              "\u001b[1;35m>>> Starting Agent Assistant \u001b[0m\u001b[1;35m(\u001b[0m\u001b[1;35m1\u001b[0m\u001b[1;35m)\u001b[0m\u001b[1;35m llama3-70b-\u001b[0m\u001b[1;35m8192\u001b[0m\u001b[1;35m \u001b[0m\n"
            ],
            "text/html": [
              "<pre style=\"white-space:pre;overflow-x:auto;line-height:normal;font-family:Menlo,'DejaVu Sans Mono',consolas,'Courier New',monospace\"><span style=\"color: #800080; text-decoration-color: #800080; font-weight: bold\">&gt;&gt;&gt; Starting Agent Assistant (</span><span style=\"color: #800080; text-decoration-color: #800080; font-weight: bold\">1</span><span style=\"color: #800080; text-decoration-color: #800080; font-weight: bold\">) llama3-70b-</span><span style=\"color: #800080; text-decoration-color: #800080; font-weight: bold\">8192</span><span style=\"color: #800080; text-decoration-color: #800080; font-weight: bold\"> </span>\n",
              "</pre>\n"
            ]
          },
          "metadata": {}
        },
        {
          "output_type": "display_data",
          "data": {
            "text/plain": [],
            "text/html": [
              "<pre style=\"white-space:pre;overflow-x:auto;line-height:normal;font-family:Menlo,'DejaVu Sans Mono',consolas,'Courier New',monospace\"></pre>\n"
            ]
          },
          "metadata": {}
        },
        {
          "output_type": "stream",
          "name": "stdout",
          "text": [
            "\u001b[32m\u001b[32mTo\u001b[32m answer\u001b[32m this\u001b[32m question\u001b[32m,\u001b[32m I\u001b[32m need\u001b[32m to\u001b[32m know\u001b[32m the\u001b[32m birth\u001b[32m year\u001b[32m of\u001b[32m each\u001b[32m composer\u001b[32m.\u001b[32m Let\u001b[32m's\u001b[32m start\u001b[32m with\u001b[32m Lis\u001b[32mzt\u001b[32m.\u001b[32m \n",
            "\n",
            "\u001b[32mWhat\u001b[32m is\u001b[32m the\u001b[32m birth\u001b[32m year\u001b[32m of\u001b[32m Franz\u001b[32m Lis\u001b[32mzt\u001b[32m?"
          ]
        },
        {
          "output_type": "display_data",
          "data": {
            "text/plain": [
              "\n"
            ],
            "text/html": [
              "<pre style=\"white-space:pre;overflow-x:auto;line-height:normal;font-family:Menlo,'DejaVu Sans Mono',consolas,'Courier New',monospace\">\n",
              "</pre>\n"
            ]
          },
          "metadata": {}
        },
        {
          "output_type": "display_data",
          "data": {
            "text/plain": [
              "\u001b[1mStats:\u001b[0m \u001b[35mN_MSG\u001b[0m\u001b[35m=\u001b[0m\u001b[1;35m2\u001b[0m\u001b[35m, TOKENS: \u001b[0m\u001b[35min\u001b[0m\u001b[35m=\u001b[0m\u001b[1;35m109\u001b[0m\u001b[35m, \u001b[0m\u001b[35mout\u001b[0m\u001b[35m=\u001b[0m\u001b[1;35m34\u001b[0m\u001b[35m, \u001b[0m\u001b[35mmax\u001b[0m\u001b[35m=\u001b[0m\u001b[1;35m200\u001b[0m\u001b[35m, \u001b[0m\u001b[35mctx\u001b[0m\u001b[35m=\u001b[0m\u001b[1;35m8192\u001b[0m\u001b[35m, COST: \u001b[0m\u001b[35mnow\u001b[0m\u001b[35m=$\u001b[0m\u001b[1;35m0.0000\u001b[0m\u001b[35m, \u001b[0m\u001b[35mcumul\u001b[0m\u001b[35m=$\u001b[0m\u001b[1;35m0.0000\u001b[0m\u001b[35m, \u001b[0m\u001b[35mtot\u001b[0m\u001b[35m=$\u001b[0m\u001b[1;35m0.0000\u001b[0m\u001b[35m \u001b[0m\n",
              "\u001b[1;35m(\u001b[0m\u001b[1;35mllama3-70b-\u001b[0m\u001b[1;35m8192\u001b[0m\u001b[1;35m)\u001b[0m\n"
            ],
            "text/html": [
              "<pre style=\"white-space:pre;overflow-x:auto;line-height:normal;font-family:Menlo,'DejaVu Sans Mono',consolas,'Courier New',monospace\"><span style=\"font-weight: bold\">Stats:</span> <span style=\"color: #800080; text-decoration-color: #800080\">N_MSG</span><span style=\"color: #800080; text-decoration-color: #800080\">=</span><span style=\"color: #800080; text-decoration-color: #800080; font-weight: bold\">2</span><span style=\"color: #800080; text-decoration-color: #800080\">, TOKENS: </span><span style=\"color: #800080; text-decoration-color: #800080\">in</span><span style=\"color: #800080; text-decoration-color: #800080\">=</span><span style=\"color: #800080; text-decoration-color: #800080; font-weight: bold\">109</span><span style=\"color: #800080; text-decoration-color: #800080\">, </span><span style=\"color: #800080; text-decoration-color: #800080\">out</span><span style=\"color: #800080; text-decoration-color: #800080\">=</span><span style=\"color: #800080; text-decoration-color: #800080; font-weight: bold\">34</span><span style=\"color: #800080; text-decoration-color: #800080\">, </span><span style=\"color: #800080; text-decoration-color: #800080\">max</span><span style=\"color: #800080; text-decoration-color: #800080\">=</span><span style=\"color: #800080; text-decoration-color: #800080; font-weight: bold\">200</span><span style=\"color: #800080; text-decoration-color: #800080\">, </span><span style=\"color: #800080; text-decoration-color: #800080\">ctx</span><span style=\"color: #800080; text-decoration-color: #800080\">=</span><span style=\"color: #800080; text-decoration-color: #800080; font-weight: bold\">8192</span><span style=\"color: #800080; text-decoration-color: #800080\">, COST: </span><span style=\"color: #800080; text-decoration-color: #800080\">now</span><span style=\"color: #800080; text-decoration-color: #800080\">=$</span><span style=\"color: #800080; text-decoration-color: #800080; font-weight: bold\">0.0000</span><span style=\"color: #800080; text-decoration-color: #800080\">, </span><span style=\"color: #800080; text-decoration-color: #800080\">cumul</span><span style=\"color: #800080; text-decoration-color: #800080\">=$</span><span style=\"color: #800080; text-decoration-color: #800080; font-weight: bold\">0.0000</span><span style=\"color: #800080; text-decoration-color: #800080\">, </span><span style=\"color: #800080; text-decoration-color: #800080\">tot</span><span style=\"color: #800080; text-decoration-color: #800080\">=$</span><span style=\"color: #800080; text-decoration-color: #800080; font-weight: bold\">0.0000</span><span style=\"color: #800080; text-decoration-color: #800080\"> </span>\n",
              "<span style=\"color: #800080; text-decoration-color: #800080; font-weight: bold\">(llama3-70b-</span><span style=\"color: #800080; text-decoration-color: #800080; font-weight: bold\">8192</span><span style=\"color: #800080; text-decoration-color: #800080; font-weight: bold\">)</span>\n",
              "</pre>\n"
            ]
          },
          "metadata": {}
        },
        {
          "output_type": "display_data",
          "data": {
            "text/plain": [
              "\u001b[1;35m...\u001b[0m\u001b[1;35m|>>> Starting Agent Searcher \u001b[0m\u001b[1;35m(\u001b[0m\u001b[1;35m1\u001b[0m\u001b[1;35m)\u001b[0m\u001b[1;35m llama3-70b-\u001b[0m\u001b[1;35m8192\u001b[0m\u001b[1;35m \u001b[0m\n"
            ],
            "text/html": [
              "<pre style=\"white-space:pre;overflow-x:auto;line-height:normal;font-family:Menlo,'DejaVu Sans Mono',consolas,'Courier New',monospace\"><span style=\"color: #800080; text-decoration-color: #800080; font-weight: bold\">...|&gt;&gt;&gt; Starting Agent Searcher (</span><span style=\"color: #800080; text-decoration-color: #800080; font-weight: bold\">1</span><span style=\"color: #800080; text-decoration-color: #800080; font-weight: bold\">) llama3-70b-</span><span style=\"color: #800080; text-decoration-color: #800080; font-weight: bold\">8192</span><span style=\"color: #800080; text-decoration-color: #800080; font-weight: bold\"> </span>\n",
              "</pre>\n"
            ]
          },
          "metadata": {}
        },
        {
          "output_type": "display_data",
          "data": {
            "text/plain": [
              "\u001b[32m...\u001b[0m\u001b[32m|\u001b[0m"
            ],
            "text/html": [
              "<pre style=\"white-space:pre;overflow-x:auto;line-height:normal;font-family:Menlo,'DejaVu Sans Mono',consolas,'Courier New',monospace\"><span style=\"color: #008000; text-decoration-color: #008000\">...|</span></pre>\n"
            ]
          },
          "metadata": {}
        },
        {
          "output_type": "stream",
          "name": "stdout",
          "text": [
            "\u001b[32m\u001b[32mTO\u001b[32mOL\u001b[32m:\u001b[32m \n",
            "\u001b[32m{\n",
            "\u001b[32m   \u001b[32m \"\u001b[32mrequest\u001b[32m\":\u001b[32m \"\u001b[32mduck\u001b[32mduck\u001b[32mgo\u001b[32m_search\u001b[32m\",\n",
            "\u001b[32m   \u001b[32m \"\u001b[32mquery\u001b[32m\":\u001b[32m \"\u001b[32mWhat\u001b[32m is\u001b[32m the\u001b[32m birth\u001b[32m year\u001b[32m of\u001b[32m Franz\u001b[32m Lis\u001b[32mzt\u001b[32m?\",\n",
            "\u001b[32m   \u001b[32m \"\u001b[32mnum\u001b[32m_results\u001b[32m\":\u001b[32m \u001b[32m5\u001b[32m\n",
            "\u001b[32m}"
          ]
        },
        {
          "output_type": "display_data",
          "data": {
            "text/plain": [
              "\n"
            ],
            "text/html": [
              "<pre style=\"white-space:pre;overflow-x:auto;line-height:normal;font-family:Menlo,'DejaVu Sans Mono',consolas,'Courier New',monospace\">\n",
              "</pre>\n"
            ]
          },
          "metadata": {}
        },
        {
          "output_type": "display_data",
          "data": {
            "text/plain": [
              "\u001b[33m...\u001b[0m|\u001b[1mStats:\u001b[0m \u001b[35mN_MSG\u001b[0m\u001b[35m=\u001b[0m\u001b[1;35m2\u001b[0m\u001b[35m, TOKENS: \u001b[0m\u001b[35min\u001b[0m\u001b[35m=\u001b[0m\u001b[1;35m521\u001b[0m\u001b[35m, \u001b[0m\u001b[35mout\u001b[0m\u001b[35m=\u001b[0m\u001b[1;35m39\u001b[0m\u001b[35m, \u001b[0m\u001b[35mmax\u001b[0m\u001b[35m=\u001b[0m\u001b[1;35m200\u001b[0m\u001b[35m, \u001b[0m\u001b[35mctx\u001b[0m\u001b[35m=\u001b[0m\u001b[1;35m8192\u001b[0m\u001b[35m, COST: \u001b[0m\u001b[35mnow\u001b[0m\u001b[35m=$\u001b[0m\u001b[1;35m0.0000\u001b[0m\u001b[35m, \u001b[0m\u001b[35mcumul\u001b[0m\u001b[35m=$\u001b[0m\u001b[1;35m0.0000\u001b[0m\u001b[35m, \u001b[0m\u001b[35mtot\u001b[0m\u001b[35m=$\u001b[0m\u001b[1;35m0.0000\u001b[0m\u001b[35m \u001b[0m\n",
              "\u001b[1;35m(\u001b[0m\u001b[1;35mllama3-70b-\u001b[0m\u001b[1;35m8192\u001b[0m\u001b[1;35m)\u001b[0m\n"
            ],
            "text/html": [
              "<pre style=\"white-space:pre;overflow-x:auto;line-height:normal;font-family:Menlo,'DejaVu Sans Mono',consolas,'Courier New',monospace\"><span style=\"color: #808000; text-decoration-color: #808000\">...</span>|<span style=\"font-weight: bold\">Stats:</span> <span style=\"color: #800080; text-decoration-color: #800080\">N_MSG</span><span style=\"color: #800080; text-decoration-color: #800080\">=</span><span style=\"color: #800080; text-decoration-color: #800080; font-weight: bold\">2</span><span style=\"color: #800080; text-decoration-color: #800080\">, TOKENS: </span><span style=\"color: #800080; text-decoration-color: #800080\">in</span><span style=\"color: #800080; text-decoration-color: #800080\">=</span><span style=\"color: #800080; text-decoration-color: #800080; font-weight: bold\">521</span><span style=\"color: #800080; text-decoration-color: #800080\">, </span><span style=\"color: #800080; text-decoration-color: #800080\">out</span><span style=\"color: #800080; text-decoration-color: #800080\">=</span><span style=\"color: #800080; text-decoration-color: #800080; font-weight: bold\">39</span><span style=\"color: #800080; text-decoration-color: #800080\">, </span><span style=\"color: #800080; text-decoration-color: #800080\">max</span><span style=\"color: #800080; text-decoration-color: #800080\">=</span><span style=\"color: #800080; text-decoration-color: #800080; font-weight: bold\">200</span><span style=\"color: #800080; text-decoration-color: #800080\">, </span><span style=\"color: #800080; text-decoration-color: #800080\">ctx</span><span style=\"color: #800080; text-decoration-color: #800080\">=</span><span style=\"color: #800080; text-decoration-color: #800080; font-weight: bold\">8192</span><span style=\"color: #800080; text-decoration-color: #800080\">, COST: </span><span style=\"color: #800080; text-decoration-color: #800080\">now</span><span style=\"color: #800080; text-decoration-color: #800080\">=$</span><span style=\"color: #800080; text-decoration-color: #800080; font-weight: bold\">0.0000</span><span style=\"color: #800080; text-decoration-color: #800080\">, </span><span style=\"color: #800080; text-decoration-color: #800080\">cumul</span><span style=\"color: #800080; text-decoration-color: #800080\">=$</span><span style=\"color: #800080; text-decoration-color: #800080; font-weight: bold\">0.0000</span><span style=\"color: #800080; text-decoration-color: #800080\">, </span><span style=\"color: #800080; text-decoration-color: #800080\">tot</span><span style=\"color: #800080; text-decoration-color: #800080\">=$</span><span style=\"color: #800080; text-decoration-color: #800080; font-weight: bold\">0.0000</span><span style=\"color: #800080; text-decoration-color: #800080\"> </span>\n",
              "<span style=\"color: #800080; text-decoration-color: #800080; font-weight: bold\">(llama3-70b-</span><span style=\"color: #800080; text-decoration-color: #800080; font-weight: bold\">8192</span><span style=\"color: #800080; text-decoration-color: #800080; font-weight: bold\">)</span>\n",
              "</pre>\n"
            ]
          },
          "metadata": {}
        },
        {
          "output_type": "display_data",
          "data": {
            "text/plain": [
              "\u001b[31m...\u001b[0m\u001b[31m|\u001b[0m"
            ],
            "text/html": [
              "<pre style=\"white-space:pre;overflow-x:auto;line-height:normal;font-family:Menlo,'DejaVu Sans Mono',consolas,'Courier New',monospace\"><span style=\"color: #800000; text-decoration-color: #800000\">...|</span></pre>\n"
            ]
          },
          "metadata": {}
        },
        {
          "output_type": "display_data",
          "data": {
            "text/plain": [
              "\u001b[31mAgent: \u001b[0m\n",
              "\u001b[31m        BELOW ARE THE RESULTS FROM THE WEB SEARCH. USE THESE TO COMPOSE YOUR RESPONSE:\u001b[0m\n",
              "\u001b[31m        Title: Franz Liszt | Biography, Music, Compositions, Famous Works, Children \u001b[0m\u001b[31m...\u001b[0m\n",
              "\u001b[31mLink: \u001b[0m\u001b[4;31mhttps://www.britannica.com/biography/Franz-Liszt\u001b[0m\n",
              "\u001b[31mSummary: Franz Liszt | Biography, Music, Compositions, Famous Works, Children, & Facts | Britannica Search \u001b[0m\n",
              "\u001b[31mBritannica Click here to search Search Britannica Click here to search SUBSCRIBE SUBSCRIBE Login \u001b[0m\n",
              "\u001b[4;31mhttps://premium.britannica.com/premium-membership/?\u001b[0m\u001b[4;31mutm_source\u001b[0m\u001b[4;31m=\u001b[0m\u001b[4;31mpremium\u001b[0m\u001b[4;31m&\u001b[0m\u001b[4;31mutm_medium\u001b[0m\u001b[4;31m=\u001b[0m\u001b[4;31mnav\u001b[0m\u001b[4;31m-login-box&utm_campai\u001b[0m\n",
              "\n",
              "\u001b[31mTitle: Franz Liszt - Wikipedia\u001b[0m\n",
              "\u001b[31mLink: \u001b[0m\u001b[4;31mhttps://en.wikipedia.org/wiki/Franz_Liszt\u001b[0m\n",
              "\u001b[31mSummary: Franz Liszt - Wikipedia Jump to content Main menu Main menu move to sidebar hide Navigation Main page \u001b[0m\n",
              "\u001b[31mContents Current events Random article About Wikipedia Contact us Contribute Help Learn to edit Community portal \u001b[0m\n",
              "\u001b[31mRecent changes Upload file Special pages Search Search Appearance Donate Create accou\u001b[0m\n",
              "\n",
              "\u001b[31mTitle: Franz Liszt - Compositions, Facts & Death - Biography\u001b[0m\n",
              "\u001b[31mLink: \u001b[0m\u001b[4;31mhttps://www.biography.com/musicians/franz-liszt\u001b[0m\n",
              "\u001b[31mSummary: Franz Liszt - Compositions, Facts & Death Search Women’s History Month History & Culture Movies & TV \u001b[0m\n",
              "\u001b[31mMusicians Athletes Artists Power & Politics Business Scholars & Educators Scientists Activists Notorious Figures \u001b[0m\n",
              "\u001b[31mBIO Buys Newsletter Your Privacy Choices Privacy Notice Terms Of Use Skip to Content W\u001b[0m\n",
              "\n",
              "\u001b[31mTitle: Franz Liszt: Biography\u001b[0m\n",
              "\u001b[31mLink: \u001b[0m\u001b[4;31mhttps://www.liszt.org/p/biography.html\u001b[0m\n",
              "\u001b[31mSummary: Franz Liszt: Biography Franz Liszt \u001b[0m\u001b[1;31m1811\u001b[0m\u001b[31m–\u001b[0m\u001b[1;31m1886\u001b[0m\u001b[31m Hungarian Pianist and Composer Pages Home Biography \u001b[0m\n",
              "\u001b[31mChronology Fun Facts Gallery Quotes Franz Liszt Works Biography \u001b[0m\u001b[1;31m1811\u001b[0m\u001b[31m-\u001b[0m\u001b[1;31m1823\u001b[0m\u001b[31m in Habsburg Franz Liszt was born in \u001b[0m\n",
              "\u001b[31mWestern Hungary on \u001b[0m\u001b[1;31m22\u001b[0m\u001b[31m October \u001b[0m\u001b[1;31m1811\u001b[0m\u001b[31m. His native village, Doborján \u001b[0m\u001b[1;31m(\u001b[0m\u001b[31mor Raiding in German\u001b[0m\u001b[1;31m)\u001b[0m\u001b[31m, belo\u001b[0m\n",
              "\n",
              "\u001b[31mTitle: Biography, Fun Facts, Gallery, Quoes and Works of Franz Liszt\u001b[0m\n",
              "\u001b[31mLink: \u001b[0m\u001b[4;31mhttps://www.liszt.org/p/home.html\u001b[0m\n",
              "\u001b[31mSummary: Franz Liszt:  Biography, Fun Facts, Gallery, Quoes and Works of Franz Liszt Franz Liszt \u001b[0m\u001b[1;31m1811\u001b[0m\u001b[31m–\u001b[0m\u001b[1;31m1886\u001b[0m\u001b[31m \u001b[0m\n",
              "\u001b[31mHungarian Pianist and Composer Pages Home Biography Chronology Fun Facts Gallery Quotes Franz Liszt Works \u001b[0m\n",
              "\u001b[31mBiography, Fun Facts, Gallery, Quoes and Works of Franz Liszt Early Life Birth and Childhood : F\u001b[0m\n",
              "\u001b[31m        \u001b[0m\n"
            ],
            "text/html": [
              "<pre style=\"white-space:pre;overflow-x:auto;line-height:normal;font-family:Menlo,'DejaVu Sans Mono',consolas,'Courier New',monospace\"><span style=\"color: #800000; text-decoration-color: #800000\">Agent: </span>\n",
              "<span style=\"color: #800000; text-decoration-color: #800000\">        BELOW ARE THE RESULTS FROM THE WEB SEARCH. USE THESE TO COMPOSE YOUR RESPONSE:</span>\n",
              "<span style=\"color: #800000; text-decoration-color: #800000\">        Title: Franz Liszt | Biography, Music, Compositions, Famous Works, Children ...</span>\n",
              "<span style=\"color: #800000; text-decoration-color: #800000\">Link: </span><span style=\"color: #800000; text-decoration-color: #800000; text-decoration: underline\">https://www.britannica.com/biography/Franz-Liszt</span>\n",
              "<span style=\"color: #800000; text-decoration-color: #800000\">Summary: Franz Liszt | Biography, Music, Compositions, Famous Works, Children, &amp; Facts | Britannica Search </span>\n",
              "<span style=\"color: #800000; text-decoration-color: #800000\">Britannica Click here to search Search Britannica Click here to search SUBSCRIBE SUBSCRIBE Login </span>\n",
              "<span style=\"color: #800000; text-decoration-color: #800000; text-decoration: underline\">https://premium.britannica.com/premium-membership/?utm_source=premium&amp;utm_medium=nav-login-box&amp;utm_campai</span>\n",
              "\n",
              "<span style=\"color: #800000; text-decoration-color: #800000\">Title: Franz Liszt - Wikipedia</span>\n",
              "<span style=\"color: #800000; text-decoration-color: #800000\">Link: </span><span style=\"color: #800000; text-decoration-color: #800000; text-decoration: underline\">https://en.wikipedia.org/wiki/Franz_Liszt</span>\n",
              "<span style=\"color: #800000; text-decoration-color: #800000\">Summary: Franz Liszt - Wikipedia Jump to content Main menu Main menu move to sidebar hide Navigation Main page </span>\n",
              "<span style=\"color: #800000; text-decoration-color: #800000\">Contents Current events Random article About Wikipedia Contact us Contribute Help Learn to edit Community portal </span>\n",
              "<span style=\"color: #800000; text-decoration-color: #800000\">Recent changes Upload file Special pages Search Search Appearance Donate Create accou</span>\n",
              "\n",
              "<span style=\"color: #800000; text-decoration-color: #800000\">Title: Franz Liszt - Compositions, Facts &amp; Death - Biography</span>\n",
              "<span style=\"color: #800000; text-decoration-color: #800000\">Link: </span><span style=\"color: #800000; text-decoration-color: #800000; text-decoration: underline\">https://www.biography.com/musicians/franz-liszt</span>\n",
              "<span style=\"color: #800000; text-decoration-color: #800000\">Summary: Franz Liszt - Compositions, Facts &amp; Death Search Women’s History Month History &amp; Culture Movies &amp; TV </span>\n",
              "<span style=\"color: #800000; text-decoration-color: #800000\">Musicians Athletes Artists Power &amp; Politics Business Scholars &amp; Educators Scientists Activists Notorious Figures </span>\n",
              "<span style=\"color: #800000; text-decoration-color: #800000\">BIO Buys Newsletter Your Privacy Choices Privacy Notice Terms Of Use Skip to Content W</span>\n",
              "\n",
              "<span style=\"color: #800000; text-decoration-color: #800000\">Title: Franz Liszt: Biography</span>\n",
              "<span style=\"color: #800000; text-decoration-color: #800000\">Link: </span><span style=\"color: #800000; text-decoration-color: #800000; text-decoration: underline\">https://www.liszt.org/p/biography.html</span>\n",
              "<span style=\"color: #800000; text-decoration-color: #800000\">Summary: Franz Liszt: Biography Franz Liszt </span><span style=\"color: #800000; text-decoration-color: #800000; font-weight: bold\">1811</span><span style=\"color: #800000; text-decoration-color: #800000\">–</span><span style=\"color: #800000; text-decoration-color: #800000; font-weight: bold\">1886</span><span style=\"color: #800000; text-decoration-color: #800000\"> Hungarian Pianist and Composer Pages Home Biography </span>\n",
              "<span style=\"color: #800000; text-decoration-color: #800000\">Chronology Fun Facts Gallery Quotes Franz Liszt Works Biography </span><span style=\"color: #800000; text-decoration-color: #800000; font-weight: bold\">1811</span><span style=\"color: #800000; text-decoration-color: #800000\">-</span><span style=\"color: #800000; text-decoration-color: #800000; font-weight: bold\">1823</span><span style=\"color: #800000; text-decoration-color: #800000\"> in Habsburg Franz Liszt was born in </span>\n",
              "<span style=\"color: #800000; text-decoration-color: #800000\">Western Hungary on </span><span style=\"color: #800000; text-decoration-color: #800000; font-weight: bold\">22</span><span style=\"color: #800000; text-decoration-color: #800000\"> October </span><span style=\"color: #800000; text-decoration-color: #800000; font-weight: bold\">1811</span><span style=\"color: #800000; text-decoration-color: #800000\">. His native village, Doborján </span><span style=\"color: #800000; text-decoration-color: #800000; font-weight: bold\">(</span><span style=\"color: #800000; text-decoration-color: #800000\">or Raiding in German</span><span style=\"color: #800000; text-decoration-color: #800000; font-weight: bold\">)</span><span style=\"color: #800000; text-decoration-color: #800000\">, belo</span>\n",
              "\n",
              "<span style=\"color: #800000; text-decoration-color: #800000\">Title: Biography, Fun Facts, Gallery, Quoes and Works of Franz Liszt</span>\n",
              "<span style=\"color: #800000; text-decoration-color: #800000\">Link: </span><span style=\"color: #800000; text-decoration-color: #800000; text-decoration: underline\">https://www.liszt.org/p/home.html</span>\n",
              "<span style=\"color: #800000; text-decoration-color: #800000\">Summary: Franz Liszt:  Biography, Fun Facts, Gallery, Quoes and Works of Franz Liszt Franz Liszt </span><span style=\"color: #800000; text-decoration-color: #800000; font-weight: bold\">1811</span><span style=\"color: #800000; text-decoration-color: #800000\">–</span><span style=\"color: #800000; text-decoration-color: #800000; font-weight: bold\">1886</span><span style=\"color: #800000; text-decoration-color: #800000\"> </span>\n",
              "<span style=\"color: #800000; text-decoration-color: #800000\">Hungarian Pianist and Composer Pages Home Biography Chronology Fun Facts Gallery Quotes Franz Liszt Works </span>\n",
              "<span style=\"color: #800000; text-decoration-color: #800000\">Biography, Fun Facts, Gallery, Quoes and Works of Franz Liszt Early Life Birth and Childhood : F</span>\n",
              "<span style=\"color: #800000; text-decoration-color: #800000\">        </span>\n",
              "</pre>\n"
            ]
          },
          "metadata": {}
        },
        {
          "output_type": "display_data",
          "data": {
            "text/plain": [
              "\u001b[32m...\u001b[0m\u001b[32m|\u001b[0m"
            ],
            "text/html": [
              "<pre style=\"white-space:pre;overflow-x:auto;line-height:normal;font-family:Menlo,'DejaVu Sans Mono',consolas,'Courier New',monospace\"><span style=\"color: #008000; text-decoration-color: #008000\">...|</span></pre>\n"
            ]
          },
          "metadata": {}
        },
        {
          "output_type": "stream",
          "name": "stdout",
          "text": [
            "\u001b[32m\u001b[32mDONE\u001b[32m Franz\u001b[32m Lis\u001b[32mzt\u001b[32m was\u001b[32m born\u001b[32m in\u001b[32m \u001b[32m181\u001b[32m1\u001b[32m."
          ]
        },
        {
          "output_type": "display_data",
          "data": {
            "text/plain": [
              "\n"
            ],
            "text/html": [
              "<pre style=\"white-space:pre;overflow-x:auto;line-height:normal;font-family:Menlo,'DejaVu Sans Mono',consolas,'Courier New',monospace\">\n",
              "</pre>\n"
            ]
          },
          "metadata": {}
        },
        {
          "output_type": "display_data",
          "data": {
            "text/plain": [
              "\u001b[33m...\u001b[0m|\u001b[1mStats:\u001b[0m \u001b[35mN_MSG\u001b[0m\u001b[35m=\u001b[0m\u001b[1;35m4\u001b[0m\u001b[35m, TOKENS: \u001b[0m\u001b[35min\u001b[0m\u001b[35m=\u001b[0m\u001b[1;35m1062\u001b[0m\u001b[35m, \u001b[0m\u001b[35mout\u001b[0m\u001b[35m=\u001b[0m\u001b[1;35m11\u001b[0m\u001b[35m, \u001b[0m\u001b[35mmax\u001b[0m\u001b[35m=\u001b[0m\u001b[1;35m200\u001b[0m\u001b[35m, \u001b[0m\u001b[35mctx\u001b[0m\u001b[35m=\u001b[0m\u001b[1;35m8192\u001b[0m\u001b[35m, COST: \u001b[0m\u001b[35mnow\u001b[0m\u001b[35m=$\u001b[0m\u001b[1;35m0.0000\u001b[0m\u001b[35m, \u001b[0m\u001b[35mcumul\u001b[0m\u001b[35m=$\u001b[0m\u001b[1;35m0.0000\u001b[0m\u001b[35m, \u001b[0m\u001b[35mtot\u001b[0m\u001b[35m=$\u001b[0m\u001b[1;35m0.0000\u001b[0m\u001b[35m \u001b[0m\n",
              "\u001b[1;35m(\u001b[0m\u001b[1;35mllama3-70b-\u001b[0m\u001b[1;35m8192\u001b[0m\u001b[1;35m)\u001b[0m\n"
            ],
            "text/html": [
              "<pre style=\"white-space:pre;overflow-x:auto;line-height:normal;font-family:Menlo,'DejaVu Sans Mono',consolas,'Courier New',monospace\"><span style=\"color: #808000; text-decoration-color: #808000\">...</span>|<span style=\"font-weight: bold\">Stats:</span> <span style=\"color: #800080; text-decoration-color: #800080\">N_MSG</span><span style=\"color: #800080; text-decoration-color: #800080\">=</span><span style=\"color: #800080; text-decoration-color: #800080; font-weight: bold\">4</span><span style=\"color: #800080; text-decoration-color: #800080\">, TOKENS: </span><span style=\"color: #800080; text-decoration-color: #800080\">in</span><span style=\"color: #800080; text-decoration-color: #800080\">=</span><span style=\"color: #800080; text-decoration-color: #800080; font-weight: bold\">1062</span><span style=\"color: #800080; text-decoration-color: #800080\">, </span><span style=\"color: #800080; text-decoration-color: #800080\">out</span><span style=\"color: #800080; text-decoration-color: #800080\">=</span><span style=\"color: #800080; text-decoration-color: #800080; font-weight: bold\">11</span><span style=\"color: #800080; text-decoration-color: #800080\">, </span><span style=\"color: #800080; text-decoration-color: #800080\">max</span><span style=\"color: #800080; text-decoration-color: #800080\">=</span><span style=\"color: #800080; text-decoration-color: #800080; font-weight: bold\">200</span><span style=\"color: #800080; text-decoration-color: #800080\">, </span><span style=\"color: #800080; text-decoration-color: #800080\">ctx</span><span style=\"color: #800080; text-decoration-color: #800080\">=</span><span style=\"color: #800080; text-decoration-color: #800080; font-weight: bold\">8192</span><span style=\"color: #800080; text-decoration-color: #800080\">, COST: </span><span style=\"color: #800080; text-decoration-color: #800080\">now</span><span style=\"color: #800080; text-decoration-color: #800080\">=$</span><span style=\"color: #800080; text-decoration-color: #800080; font-weight: bold\">0.0000</span><span style=\"color: #800080; text-decoration-color: #800080\">, </span><span style=\"color: #800080; text-decoration-color: #800080\">cumul</span><span style=\"color: #800080; text-decoration-color: #800080\">=$</span><span style=\"color: #800080; text-decoration-color: #800080; font-weight: bold\">0.0000</span><span style=\"color: #800080; text-decoration-color: #800080\">, </span><span style=\"color: #800080; text-decoration-color: #800080\">tot</span><span style=\"color: #800080; text-decoration-color: #800080\">=$</span><span style=\"color: #800080; text-decoration-color: #800080; font-weight: bold\">0.0000</span><span style=\"color: #800080; text-decoration-color: #800080\"> </span>\n",
              "<span style=\"color: #800080; text-decoration-color: #800080; font-weight: bold\">(llama3-70b-</span><span style=\"color: #800080; text-decoration-color: #800080; font-weight: bold\">8192</span><span style=\"color: #800080; text-decoration-color: #800080; font-weight: bold\">)</span>\n",
              "</pre>\n"
            ]
          },
          "metadata": {}
        },
        {
          "output_type": "display_data",
          "data": {
            "text/plain": [
              "\u001b[1;35m...\u001b[0m\u001b[1;35m|<<< Finished Agent Searcher \u001b[0m\u001b[1;35m(\u001b[0m\u001b[1;35m5\u001b[0m\u001b[1;35m)\u001b[0m\u001b[1;35m \u001b[0m\n"
            ],
            "text/html": [
              "<pre style=\"white-space:pre;overflow-x:auto;line-height:normal;font-family:Menlo,'DejaVu Sans Mono',consolas,'Courier New',monospace\"><span style=\"color: #800080; text-decoration-color: #800080; font-weight: bold\">...|&lt;&lt;&lt; Finished Agent Searcher (</span><span style=\"color: #800080; text-decoration-color: #800080; font-weight: bold\">5</span><span style=\"color: #800080; text-decoration-color: #800080; font-weight: bold\">) </span>\n",
              "</pre>\n"
            ]
          },
          "metadata": {}
        },
        {
          "output_type": "display_data",
          "data": {
            "text/plain": [],
            "text/html": [
              "<pre style=\"white-space:pre;overflow-x:auto;line-height:normal;font-family:Menlo,'DejaVu Sans Mono',consolas,'Courier New',monospace\"></pre>\n"
            ]
          },
          "metadata": {}
        },
        {
          "output_type": "stream",
          "name": "stdout",
          "text": [
            "\u001b[32m\u001b[32mNow\u001b[32m that\u001b[32m I\u001b[32m have\u001b[32m Lis\u001b[32mzt\u001b[32m's\u001b[32m birth\u001b[32m year\u001b[32m,\u001b[32m I\u001b[32m need\u001b[32m to\u001b[32m know\u001b[32m Wagner\u001b[32m's\u001b[32m birth\u001b[32m year\u001b[32m to\u001b[32m compare\u001b[32m them\u001b[32m.\n",
            "\n",
            "\u001b[32mWhat\u001b[32m is\u001b[32m the\u001b[32m birth\u001b[32m year\u001b[32m of\u001b[32m Richard\u001b[32m Wagner\u001b[32m?"
          ]
        },
        {
          "output_type": "display_data",
          "data": {
            "text/plain": [
              "\n"
            ],
            "text/html": [
              "<pre style=\"white-space:pre;overflow-x:auto;line-height:normal;font-family:Menlo,'DejaVu Sans Mono',consolas,'Courier New',monospace\">\n",
              "</pre>\n"
            ]
          },
          "metadata": {}
        },
        {
          "output_type": "display_data",
          "data": {
            "text/plain": [
              "\u001b[1mStats:\u001b[0m \u001b[35mN_MSG\u001b[0m\u001b[35m=\u001b[0m\u001b[1;35m4\u001b[0m\u001b[35m, TOKENS: \u001b[0m\u001b[35min\u001b[0m\u001b[35m=\u001b[0m\u001b[1;35m154\u001b[0m\u001b[35m, \u001b[0m\u001b[35mout\u001b[0m\u001b[35m=\u001b[0m\u001b[1;35m31\u001b[0m\u001b[35m, \u001b[0m\u001b[35mmax\u001b[0m\u001b[35m=\u001b[0m\u001b[1;35m200\u001b[0m\u001b[35m, \u001b[0m\u001b[35mctx\u001b[0m\u001b[35m=\u001b[0m\u001b[1;35m8192\u001b[0m\u001b[35m, COST: \u001b[0m\u001b[35mnow\u001b[0m\u001b[35m=$\u001b[0m\u001b[1;35m0.0000\u001b[0m\u001b[35m, \u001b[0m\u001b[35mcumul\u001b[0m\u001b[35m=$\u001b[0m\u001b[1;35m0.0000\u001b[0m\u001b[35m, \u001b[0m\u001b[35mtot\u001b[0m\u001b[35m=$\u001b[0m\u001b[1;35m0.0000\u001b[0m\u001b[35m \u001b[0m\n",
              "\u001b[1;35m(\u001b[0m\u001b[1;35mllama3-70b-\u001b[0m\u001b[1;35m8192\u001b[0m\u001b[1;35m)\u001b[0m\n"
            ],
            "text/html": [
              "<pre style=\"white-space:pre;overflow-x:auto;line-height:normal;font-family:Menlo,'DejaVu Sans Mono',consolas,'Courier New',monospace\"><span style=\"font-weight: bold\">Stats:</span> <span style=\"color: #800080; text-decoration-color: #800080\">N_MSG</span><span style=\"color: #800080; text-decoration-color: #800080\">=</span><span style=\"color: #800080; text-decoration-color: #800080; font-weight: bold\">4</span><span style=\"color: #800080; text-decoration-color: #800080\">, TOKENS: </span><span style=\"color: #800080; text-decoration-color: #800080\">in</span><span style=\"color: #800080; text-decoration-color: #800080\">=</span><span style=\"color: #800080; text-decoration-color: #800080; font-weight: bold\">154</span><span style=\"color: #800080; text-decoration-color: #800080\">, </span><span style=\"color: #800080; text-decoration-color: #800080\">out</span><span style=\"color: #800080; text-decoration-color: #800080\">=</span><span style=\"color: #800080; text-decoration-color: #800080; font-weight: bold\">31</span><span style=\"color: #800080; text-decoration-color: #800080\">, </span><span style=\"color: #800080; text-decoration-color: #800080\">max</span><span style=\"color: #800080; text-decoration-color: #800080\">=</span><span style=\"color: #800080; text-decoration-color: #800080; font-weight: bold\">200</span><span style=\"color: #800080; text-decoration-color: #800080\">, </span><span style=\"color: #800080; text-decoration-color: #800080\">ctx</span><span style=\"color: #800080; text-decoration-color: #800080\">=</span><span style=\"color: #800080; text-decoration-color: #800080; font-weight: bold\">8192</span><span style=\"color: #800080; text-decoration-color: #800080\">, COST: </span><span style=\"color: #800080; text-decoration-color: #800080\">now</span><span style=\"color: #800080; text-decoration-color: #800080\">=$</span><span style=\"color: #800080; text-decoration-color: #800080; font-weight: bold\">0.0000</span><span style=\"color: #800080; text-decoration-color: #800080\">, </span><span style=\"color: #800080; text-decoration-color: #800080\">cumul</span><span style=\"color: #800080; text-decoration-color: #800080\">=$</span><span style=\"color: #800080; text-decoration-color: #800080; font-weight: bold\">0.0000</span><span style=\"color: #800080; text-decoration-color: #800080\">, </span><span style=\"color: #800080; text-decoration-color: #800080\">tot</span><span style=\"color: #800080; text-decoration-color: #800080\">=$</span><span style=\"color: #800080; text-decoration-color: #800080; font-weight: bold\">0.0000</span><span style=\"color: #800080; text-decoration-color: #800080\"> </span>\n",
              "<span style=\"color: #800080; text-decoration-color: #800080; font-weight: bold\">(llama3-70b-</span><span style=\"color: #800080; text-decoration-color: #800080; font-weight: bold\">8192</span><span style=\"color: #800080; text-decoration-color: #800080; font-weight: bold\">)</span>\n",
              "</pre>\n"
            ]
          },
          "metadata": {}
        },
        {
          "output_type": "display_data",
          "data": {
            "text/plain": [
              "\u001b[1;35m...\u001b[0m\u001b[1;35m|>>> Starting Agent Searcher \u001b[0m\u001b[1;35m(\u001b[0m\u001b[1;35m5\u001b[0m\u001b[1;35m)\u001b[0m\u001b[1;35m llama3-70b-\u001b[0m\u001b[1;35m8192\u001b[0m\u001b[1;35m \u001b[0m\n"
            ],
            "text/html": [
              "<pre style=\"white-space:pre;overflow-x:auto;line-height:normal;font-family:Menlo,'DejaVu Sans Mono',consolas,'Courier New',monospace\"><span style=\"color: #800080; text-decoration-color: #800080; font-weight: bold\">...|&gt;&gt;&gt; Starting Agent Searcher (</span><span style=\"color: #800080; text-decoration-color: #800080; font-weight: bold\">5</span><span style=\"color: #800080; text-decoration-color: #800080; font-weight: bold\">) llama3-70b-</span><span style=\"color: #800080; text-decoration-color: #800080; font-weight: bold\">8192</span><span style=\"color: #800080; text-decoration-color: #800080; font-weight: bold\"> </span>\n",
              "</pre>\n"
            ]
          },
          "metadata": {}
        },
        {
          "output_type": "display_data",
          "data": {
            "text/plain": [
              "\u001b[32m...\u001b[0m\u001b[32m|\u001b[0m"
            ],
            "text/html": [
              "<pre style=\"white-space:pre;overflow-x:auto;line-height:normal;font-family:Menlo,'DejaVu Sans Mono',consolas,'Courier New',monospace\"><span style=\"color: #008000; text-decoration-color: #008000\">...|</span></pre>\n"
            ]
          },
          "metadata": {}
        },
        {
          "output_type": "stream",
          "name": "stdout",
          "text": [
            "\u001b[32m\u001b[32mTO\u001b[32mOL\u001b[32m:\u001b[32m \n",
            "\u001b[32m{\n",
            "\u001b[32m   \u001b[32m \"\u001b[32mrequest\u001b[32m\":\u001b[32m \"\u001b[32mduck\u001b[32mduck\u001b[32mgo\u001b[32m_search\u001b[32m\",\n",
            "\u001b[32m   \u001b[32m \"\u001b[32mquery\u001b[32m\":\u001b[32m \"\u001b[32mWhat\u001b[32m is\u001b[32m the\u001b[32m birth\u001b[32m year\u001b[32m of\u001b[32m Richard\u001b[32m Wagner\u001b[32m?\",\n",
            "\u001b[32m   \u001b[32m \"\u001b[32mnum\u001b[32m_results\u001b[32m\":\u001b[32m \u001b[32m5\u001b[32m\n",
            "\u001b[32m}"
          ]
        },
        {
          "output_type": "display_data",
          "data": {
            "text/plain": [
              "\n"
            ],
            "text/html": [
              "<pre style=\"white-space:pre;overflow-x:auto;line-height:normal;font-family:Menlo,'DejaVu Sans Mono',consolas,'Courier New',monospace\">\n",
              "</pre>\n"
            ]
          },
          "metadata": {}
        },
        {
          "output_type": "display_data",
          "data": {
            "text/plain": [
              "\u001b[33m...\u001b[0m|\u001b[1mStats:\u001b[0m \u001b[35mN_MSG\u001b[0m\u001b[35m=\u001b[0m\u001b[1;35m6\u001b[0m\u001b[35m, TOKENS: \u001b[0m\u001b[35min\u001b[0m\u001b[35m=\u001b[0m\u001b[1;35m1104\u001b[0m\u001b[35m, \u001b[0m\u001b[35mout\u001b[0m\u001b[35m=\u001b[0m\u001b[1;35m38\u001b[0m\u001b[35m, \u001b[0m\u001b[35mmax\u001b[0m\u001b[35m=\u001b[0m\u001b[1;35m200\u001b[0m\u001b[35m, \u001b[0m\u001b[35mctx\u001b[0m\u001b[35m=\u001b[0m\u001b[1;35m8192\u001b[0m\u001b[35m, COST: \u001b[0m\u001b[35mnow\u001b[0m\u001b[35m=$\u001b[0m\u001b[1;35m0.0000\u001b[0m\u001b[35m, \u001b[0m\u001b[35mcumul\u001b[0m\u001b[35m=$\u001b[0m\u001b[1;35m0.0000\u001b[0m\u001b[35m, \u001b[0m\u001b[35mtot\u001b[0m\u001b[35m=$\u001b[0m\u001b[1;35m0.0000\u001b[0m\u001b[35m \u001b[0m\n",
              "\u001b[1;35m(\u001b[0m\u001b[1;35mllama3-70b-\u001b[0m\u001b[1;35m8192\u001b[0m\u001b[1;35m)\u001b[0m\n"
            ],
            "text/html": [
              "<pre style=\"white-space:pre;overflow-x:auto;line-height:normal;font-family:Menlo,'DejaVu Sans Mono',consolas,'Courier New',monospace\"><span style=\"color: #808000; text-decoration-color: #808000\">...</span>|<span style=\"font-weight: bold\">Stats:</span> <span style=\"color: #800080; text-decoration-color: #800080\">N_MSG</span><span style=\"color: #800080; text-decoration-color: #800080\">=</span><span style=\"color: #800080; text-decoration-color: #800080; font-weight: bold\">6</span><span style=\"color: #800080; text-decoration-color: #800080\">, TOKENS: </span><span style=\"color: #800080; text-decoration-color: #800080\">in</span><span style=\"color: #800080; text-decoration-color: #800080\">=</span><span style=\"color: #800080; text-decoration-color: #800080; font-weight: bold\">1104</span><span style=\"color: #800080; text-decoration-color: #800080\">, </span><span style=\"color: #800080; text-decoration-color: #800080\">out</span><span style=\"color: #800080; text-decoration-color: #800080\">=</span><span style=\"color: #800080; text-decoration-color: #800080; font-weight: bold\">38</span><span style=\"color: #800080; text-decoration-color: #800080\">, </span><span style=\"color: #800080; text-decoration-color: #800080\">max</span><span style=\"color: #800080; text-decoration-color: #800080\">=</span><span style=\"color: #800080; text-decoration-color: #800080; font-weight: bold\">200</span><span style=\"color: #800080; text-decoration-color: #800080\">, </span><span style=\"color: #800080; text-decoration-color: #800080\">ctx</span><span style=\"color: #800080; text-decoration-color: #800080\">=</span><span style=\"color: #800080; text-decoration-color: #800080; font-weight: bold\">8192</span><span style=\"color: #800080; text-decoration-color: #800080\">, COST: </span><span style=\"color: #800080; text-decoration-color: #800080\">now</span><span style=\"color: #800080; text-decoration-color: #800080\">=$</span><span style=\"color: #800080; text-decoration-color: #800080; font-weight: bold\">0.0000</span><span style=\"color: #800080; text-decoration-color: #800080\">, </span><span style=\"color: #800080; text-decoration-color: #800080\">cumul</span><span style=\"color: #800080; text-decoration-color: #800080\">=$</span><span style=\"color: #800080; text-decoration-color: #800080; font-weight: bold\">0.0000</span><span style=\"color: #800080; text-decoration-color: #800080\">, </span><span style=\"color: #800080; text-decoration-color: #800080\">tot</span><span style=\"color: #800080; text-decoration-color: #800080\">=$</span><span style=\"color: #800080; text-decoration-color: #800080; font-weight: bold\">0.0000</span><span style=\"color: #800080; text-decoration-color: #800080\"> </span>\n",
              "<span style=\"color: #800080; text-decoration-color: #800080; font-weight: bold\">(llama3-70b-</span><span style=\"color: #800080; text-decoration-color: #800080; font-weight: bold\">8192</span><span style=\"color: #800080; text-decoration-color: #800080; font-weight: bold\">)</span>\n",
              "</pre>\n"
            ]
          },
          "metadata": {}
        },
        {
          "output_type": "error",
          "ename": "RatelimitException",
          "evalue": "https://links.duckduckgo.com/d.js?q=What+is+the+birth+year+of+Richard+Wagner%3F&kl=wt-wt&l=wt-wt&p=&s=0&df=&vqd=4-157228487782857929890682563830021885009&bing_market=wt-WT&ex=-1 202 Ratelimit",
          "traceback": [
            "\u001b[0;31m---------------------------------------------------------------------------\u001b[0m",
            "\u001b[0;31mRatelimitException\u001b[0m                        Traceback (most recent call last)",
            "\u001b[0;32m<ipython-input-7-c3707a11d197>\u001b[0m in \u001b[0;36m<cell line: 0>\u001b[0;34m()\u001b[0m\n\u001b[1;32m      1\u001b[0m \u001b[0massistant_task\u001b[0m\u001b[0;34m.\u001b[0m\u001b[0madd_sub_task\u001b[0m\u001b[0;34m(\u001b[0m\u001b[0msearch_task\u001b[0m\u001b[0;34m)\u001b[0m\u001b[0;34m\u001b[0m\u001b[0;34m\u001b[0m\u001b[0m\n\u001b[1;32m      2\u001b[0m \u001b[0mquestion\u001b[0m \u001b[0;34m=\u001b[0m \u001b[0;34m\"Was Liszt born before Wagner?\"\u001b[0m\u001b[0;34m\u001b[0m\u001b[0;34m\u001b[0m\u001b[0m\n\u001b[0;32m----> 3\u001b[0;31m \u001b[0massistant_task\u001b[0m\u001b[0;34m.\u001b[0m\u001b[0mrun\u001b[0m\u001b[0;34m(\u001b[0m\u001b[0mquestion\u001b[0m\u001b[0;34m)\u001b[0m\u001b[0;34m\u001b[0m\u001b[0;34m\u001b[0m\u001b[0m\n\u001b[0m",
            "\u001b[0;32m/usr/local/lib/python3.11/dist-packages/langroid/agent/task.py\u001b[0m in \u001b[0;36mrun\u001b[0;34m(self, msg, turns, caller, max_cost, max_tokens, session_id, allow_restart, return_type)\u001b[0m\n\u001b[1;32m    692\u001b[0m         \u001b[0;32mwhile\u001b[0m \u001b[0;32mTrue\u001b[0m\u001b[0;34m:\u001b[0m\u001b[0;34m\u001b[0m\u001b[0;34m\u001b[0m\u001b[0m\n\u001b[1;32m    693\u001b[0m             \u001b[0mself\u001b[0m\u001b[0;34m.\u001b[0m\u001b[0m_step_idx\u001b[0m \u001b[0;34m=\u001b[0m \u001b[0mi\u001b[0m  \u001b[0;31m# used in step() below\u001b[0m\u001b[0;34m\u001b[0m\u001b[0;34m\u001b[0m\u001b[0m\n\u001b[0;32m--> 694\u001b[0;31m             \u001b[0mself\u001b[0m\u001b[0;34m.\u001b[0m\u001b[0mstep\u001b[0m\u001b[0;34m(\u001b[0m\u001b[0;34m)\u001b[0m\u001b[0;34m\u001b[0m\u001b[0;34m\u001b[0m\u001b[0m\n\u001b[0m\u001b[1;32m    695\u001b[0m             \u001b[0mdone\u001b[0m\u001b[0;34m,\u001b[0m \u001b[0mstatus\u001b[0m \u001b[0;34m=\u001b[0m \u001b[0mself\u001b[0m\u001b[0;34m.\u001b[0m\u001b[0mdone\u001b[0m\u001b[0;34m(\u001b[0m\u001b[0;34m)\u001b[0m\u001b[0;34m\u001b[0m\u001b[0;34m\u001b[0m\u001b[0m\n\u001b[1;32m    696\u001b[0m             \u001b[0;32mif\u001b[0m \u001b[0mdone\u001b[0m\u001b[0;34m:\u001b[0m\u001b[0;34m\u001b[0m\u001b[0;34m\u001b[0m\u001b[0m\n",
            "\u001b[0;32m/usr/local/lib/python3.11/dist-packages/langroid/agent/task.py\u001b[0m in \u001b[0;36mstep\u001b[0;34m(self, turns)\u001b[0m\n\u001b[1;32m   1111\u001b[0m                 \u001b[0;32mcontinue\u001b[0m\u001b[0;34m\u001b[0m\u001b[0;34m\u001b[0m\u001b[0m\n\u001b[1;32m   1112\u001b[0m             \u001b[0mself\u001b[0m\u001b[0;34m.\u001b[0m\u001b[0mhuman_tried\u001b[0m \u001b[0;34m=\u001b[0m \u001b[0mr\u001b[0m \u001b[0;34m==\u001b[0m \u001b[0mEntity\u001b[0m\u001b[0;34m.\u001b[0m\u001b[0mUSER\u001b[0m\u001b[0;34m\u001b[0m\u001b[0;34m\u001b[0m\u001b[0m\n\u001b[0;32m-> 1113\u001b[0;31m             \u001b[0mresult\u001b[0m \u001b[0;34m=\u001b[0m \u001b[0mself\u001b[0m\u001b[0;34m.\u001b[0m\u001b[0mresponse\u001b[0m\u001b[0;34m(\u001b[0m\u001b[0mr\u001b[0m\u001b[0;34m,\u001b[0m \u001b[0mturns\u001b[0m\u001b[0;34m)\u001b[0m\u001b[0;34m\u001b[0m\u001b[0;34m\u001b[0m\u001b[0m\n\u001b[0m\u001b[1;32m   1114\u001b[0m             \u001b[0;32mif\u001b[0m \u001b[0mresult\u001b[0m \u001b[0;32mand\u001b[0m \u001b[0mNO_ANSWER\u001b[0m \u001b[0;32min\u001b[0m \u001b[0mresult\u001b[0m\u001b[0;34m.\u001b[0m\u001b[0mcontent\u001b[0m\u001b[0;34m:\u001b[0m\u001b[0;34m\u001b[0m\u001b[0;34m\u001b[0m\u001b[0m\n\u001b[1;32m   1115\u001b[0m                 \u001b[0mno_answer_response\u001b[0m \u001b[0;34m=\u001b[0m \u001b[0;34m(\u001b[0m\u001b[0mr\u001b[0m\u001b[0;34m,\u001b[0m \u001b[0mresult\u001b[0m\u001b[0;34m)\u001b[0m\u001b[0;34m\u001b[0m\u001b[0;34m\u001b[0m\u001b[0m\n",
            "\u001b[0;32m/usr/local/lib/python3.11/dist-packages/langroid/agent/task.py\u001b[0m in \u001b[0;36mresponse\u001b[0;34m(self, e, turns)\u001b[0m\n\u001b[1;32m   1394\u001b[0m                 \u001b[0mresult\u001b[0m \u001b[0;34m=\u001b[0m \u001b[0mself\u001b[0m\u001b[0;34m.\u001b[0m\u001b[0m_forbid_multi_oai_tools\u001b[0m\u001b[0;34m(\u001b[0m\u001b[0me\u001b[0m\u001b[0;34m)\u001b[0m\u001b[0;34m\u001b[0m\u001b[0;34m\u001b[0m\u001b[0m\n\u001b[1;32m   1395\u001b[0m             \u001b[0;32melse\u001b[0m\u001b[0;34m:\u001b[0m\u001b[0;34m\u001b[0m\u001b[0;34m\u001b[0m\u001b[0m\n\u001b[0;32m-> 1396\u001b[0;31m                 result = e.run(\n\u001b[0m\u001b[1;32m   1397\u001b[0m                     \u001b[0mself\u001b[0m\u001b[0;34m.\u001b[0m\u001b[0mpending_message\u001b[0m\u001b[0;34m,\u001b[0m\u001b[0;34m\u001b[0m\u001b[0;34m\u001b[0m\u001b[0m\n\u001b[1;32m   1398\u001b[0m                     \u001b[0mturns\u001b[0m\u001b[0;34m=\u001b[0m\u001b[0mactual_turns\u001b[0m\u001b[0;34m,\u001b[0m\u001b[0;34m\u001b[0m\u001b[0;34m\u001b[0m\u001b[0m\n",
            "\u001b[0;32m/usr/local/lib/python3.11/dist-packages/langroid/agent/task.py\u001b[0m in \u001b[0;36mrun\u001b[0;34m(self, msg, turns, caller, max_cost, max_tokens, session_id, allow_restart, return_type)\u001b[0m\n\u001b[1;32m    692\u001b[0m         \u001b[0;32mwhile\u001b[0m \u001b[0;32mTrue\u001b[0m\u001b[0;34m:\u001b[0m\u001b[0;34m\u001b[0m\u001b[0;34m\u001b[0m\u001b[0m\n\u001b[1;32m    693\u001b[0m             \u001b[0mself\u001b[0m\u001b[0;34m.\u001b[0m\u001b[0m_step_idx\u001b[0m \u001b[0;34m=\u001b[0m \u001b[0mi\u001b[0m  \u001b[0;31m# used in step() below\u001b[0m\u001b[0;34m\u001b[0m\u001b[0;34m\u001b[0m\u001b[0m\n\u001b[0;32m--> 694\u001b[0;31m             \u001b[0mself\u001b[0m\u001b[0;34m.\u001b[0m\u001b[0mstep\u001b[0m\u001b[0;34m(\u001b[0m\u001b[0;34m)\u001b[0m\u001b[0;34m\u001b[0m\u001b[0;34m\u001b[0m\u001b[0m\n\u001b[0m\u001b[1;32m    695\u001b[0m             \u001b[0mdone\u001b[0m\u001b[0;34m,\u001b[0m \u001b[0mstatus\u001b[0m \u001b[0;34m=\u001b[0m \u001b[0mself\u001b[0m\u001b[0;34m.\u001b[0m\u001b[0mdone\u001b[0m\u001b[0;34m(\u001b[0m\u001b[0;34m)\u001b[0m\u001b[0;34m\u001b[0m\u001b[0;34m\u001b[0m\u001b[0m\n\u001b[1;32m    696\u001b[0m             \u001b[0;32mif\u001b[0m \u001b[0mdone\u001b[0m\u001b[0;34m:\u001b[0m\u001b[0;34m\u001b[0m\u001b[0;34m\u001b[0m\u001b[0m\n",
            "\u001b[0;32m/usr/local/lib/python3.11/dist-packages/langroid/agent/task.py\u001b[0m in \u001b[0;36mstep\u001b[0;34m(self, turns)\u001b[0m\n\u001b[1;32m   1111\u001b[0m                 \u001b[0;32mcontinue\u001b[0m\u001b[0;34m\u001b[0m\u001b[0;34m\u001b[0m\u001b[0m\n\u001b[1;32m   1112\u001b[0m             \u001b[0mself\u001b[0m\u001b[0;34m.\u001b[0m\u001b[0mhuman_tried\u001b[0m \u001b[0;34m=\u001b[0m \u001b[0mr\u001b[0m \u001b[0;34m==\u001b[0m \u001b[0mEntity\u001b[0m\u001b[0;34m.\u001b[0m\u001b[0mUSER\u001b[0m\u001b[0;34m\u001b[0m\u001b[0;34m\u001b[0m\u001b[0m\n\u001b[0;32m-> 1113\u001b[0;31m             \u001b[0mresult\u001b[0m \u001b[0;34m=\u001b[0m \u001b[0mself\u001b[0m\u001b[0;34m.\u001b[0m\u001b[0mresponse\u001b[0m\u001b[0;34m(\u001b[0m\u001b[0mr\u001b[0m\u001b[0;34m,\u001b[0m \u001b[0mturns\u001b[0m\u001b[0;34m)\u001b[0m\u001b[0;34m\u001b[0m\u001b[0;34m\u001b[0m\u001b[0m\n\u001b[0m\u001b[1;32m   1114\u001b[0m             \u001b[0;32mif\u001b[0m \u001b[0mresult\u001b[0m \u001b[0;32mand\u001b[0m \u001b[0mNO_ANSWER\u001b[0m \u001b[0;32min\u001b[0m \u001b[0mresult\u001b[0m\u001b[0;34m.\u001b[0m\u001b[0mcontent\u001b[0m\u001b[0;34m:\u001b[0m\u001b[0;34m\u001b[0m\u001b[0;34m\u001b[0m\u001b[0m\n\u001b[1;32m   1115\u001b[0m                 \u001b[0mno_answer_response\u001b[0m \u001b[0;34m=\u001b[0m \u001b[0;34m(\u001b[0m\u001b[0mr\u001b[0m\u001b[0;34m,\u001b[0m \u001b[0mresult\u001b[0m\u001b[0;34m)\u001b[0m\u001b[0;34m\u001b[0m\u001b[0;34m\u001b[0m\u001b[0m\n",
            "\u001b[0;32m/usr/local/lib/python3.11/dist-packages/langroid/agent/task.py\u001b[0m in \u001b[0;36mresponse\u001b[0;34m(self, e, turns)\u001b[0m\n\u001b[1;32m   1431\u001b[0m         \u001b[0;32melse\u001b[0m\u001b[0;34m:\u001b[0m\u001b[0;34m\u001b[0m\u001b[0;34m\u001b[0m\u001b[0m\n\u001b[1;32m   1432\u001b[0m             \u001b[0mresponse_fn\u001b[0m \u001b[0;34m=\u001b[0m \u001b[0mself\u001b[0m\u001b[0;34m.\u001b[0m\u001b[0m_entity_responder_map\u001b[0m\u001b[0;34m[\u001b[0m\u001b[0mcast\u001b[0m\u001b[0;34m(\u001b[0m\u001b[0mEntity\u001b[0m\u001b[0;34m,\u001b[0m \u001b[0me\u001b[0m\u001b[0;34m)\u001b[0m\u001b[0;34m]\u001b[0m\u001b[0;34m\u001b[0m\u001b[0;34m\u001b[0m\u001b[0m\n\u001b[0;32m-> 1433\u001b[0;31m             \u001b[0mresult\u001b[0m \u001b[0;34m=\u001b[0m \u001b[0mresponse_fn\u001b[0m\u001b[0;34m(\u001b[0m\u001b[0mself\u001b[0m\u001b[0;34m.\u001b[0m\u001b[0mpending_message\u001b[0m\u001b[0;34m)\u001b[0m\u001b[0;34m\u001b[0m\u001b[0;34m\u001b[0m\u001b[0m\n\u001b[0m\u001b[1;32m   1434\u001b[0m             \u001b[0;31m# update result.tool_messages if any.\u001b[0m\u001b[0;34m\u001b[0m\u001b[0;34m\u001b[0m\u001b[0m\n\u001b[1;32m   1435\u001b[0m             \u001b[0;31m# Do this only if sender is LLM, since this could be\u001b[0m\u001b[0;34m\u001b[0m\u001b[0;34m\u001b[0m\u001b[0m\n",
            "\u001b[0;32m/usr/local/lib/python3.11/dist-packages/langroid/agent/base.py\u001b[0m in \u001b[0;36magent_response\u001b[0;34m(self, msg)\u001b[0m\n\u001b[1;32m    572\u001b[0m             \u001b[0;32mreturn\u001b[0m \u001b[0;32mNone\u001b[0m\u001b[0;34m\u001b[0m\u001b[0;34m\u001b[0m\u001b[0m\n\u001b[1;32m    573\u001b[0m \u001b[0;34m\u001b[0m\u001b[0m\n\u001b[0;32m--> 574\u001b[0;31m         \u001b[0mresults\u001b[0m \u001b[0;34m=\u001b[0m \u001b[0mself\u001b[0m\u001b[0;34m.\u001b[0m\u001b[0mhandle_message\u001b[0m\u001b[0;34m(\u001b[0m\u001b[0mmsg\u001b[0m\u001b[0;34m)\u001b[0m\u001b[0;34m\u001b[0m\u001b[0;34m\u001b[0m\u001b[0m\n\u001b[0m\u001b[1;32m    575\u001b[0m \u001b[0;34m\u001b[0m\u001b[0m\n\u001b[1;32m    576\u001b[0m         \u001b[0;32mreturn\u001b[0m \u001b[0mself\u001b[0m\u001b[0;34m.\u001b[0m\u001b[0m_agent_response_final\u001b[0m\u001b[0;34m(\u001b[0m\u001b[0mmsg\u001b[0m\u001b[0;34m,\u001b[0m \u001b[0mresults\u001b[0m\u001b[0;34m)\u001b[0m\u001b[0;34m\u001b[0m\u001b[0;34m\u001b[0m\u001b[0m\n",
            "\u001b[0;32m/usr/local/lib/python3.11/dist-packages/langroid/agent/base.py\u001b[0m in \u001b[0;36mhandle_message\u001b[0;34m(self, msg)\u001b[0m\n\u001b[1;32m   1515\u001b[0m         \u001b[0;32mif\u001b[0m \u001b[0;32mnot\u001b[0m \u001b[0mresults\u001b[0m\u001b[0;34m:\u001b[0m\u001b[0;34m\u001b[0m\u001b[0;34m\u001b[0m\u001b[0m\n\u001b[1;32m   1516\u001b[0m             \u001b[0mchat_doc\u001b[0m \u001b[0;34m=\u001b[0m \u001b[0mmsg\u001b[0m \u001b[0;32mif\u001b[0m \u001b[0misinstance\u001b[0m\u001b[0;34m(\u001b[0m\u001b[0mmsg\u001b[0m\u001b[0;34m,\u001b[0m \u001b[0mChatDocument\u001b[0m\u001b[0;34m)\u001b[0m \u001b[0;32melse\u001b[0m \u001b[0;32mNone\u001b[0m\u001b[0;34m\u001b[0m\u001b[0;34m\u001b[0m\u001b[0m\n\u001b[0;32m-> 1517\u001b[0;31m             \u001b[0mresults\u001b[0m \u001b[0;34m=\u001b[0m \u001b[0;34m[\u001b[0m\u001b[0mself\u001b[0m\u001b[0;34m.\u001b[0m\u001b[0mhandle_tool_message\u001b[0m\u001b[0;34m(\u001b[0m\u001b[0mt\u001b[0m\u001b[0;34m,\u001b[0m \u001b[0mchat_doc\u001b[0m\u001b[0;34m=\u001b[0m\u001b[0mchat_doc\u001b[0m\u001b[0;34m)\u001b[0m \u001b[0;32mfor\u001b[0m \u001b[0mt\u001b[0m \u001b[0;32min\u001b[0m \u001b[0mtools\u001b[0m\u001b[0;34m]\u001b[0m\u001b[0;34m\u001b[0m\u001b[0;34m\u001b[0m\u001b[0m\n\u001b[0m\u001b[1;32m   1518\u001b[0m             \u001b[0;31m# if there's a solitary ChatDocument|str result, return it as is\u001b[0m\u001b[0;34m\u001b[0m\u001b[0;34m\u001b[0m\u001b[0m\n\u001b[1;32m   1519\u001b[0m             \u001b[0;32mif\u001b[0m \u001b[0mlen\u001b[0m\u001b[0;34m(\u001b[0m\u001b[0mresults\u001b[0m\u001b[0;34m)\u001b[0m \u001b[0;34m==\u001b[0m \u001b[0;36m1\u001b[0m \u001b[0;32mand\u001b[0m \u001b[0misinstance\u001b[0m\u001b[0;34m(\u001b[0m\u001b[0mresults\u001b[0m\u001b[0;34m[\u001b[0m\u001b[0;36m0\u001b[0m\u001b[0;34m]\u001b[0m\u001b[0;34m,\u001b[0m \u001b[0;34m(\u001b[0m\u001b[0mstr\u001b[0m\u001b[0;34m,\u001b[0m \u001b[0mChatDocument\u001b[0m\u001b[0;34m)\u001b[0m\u001b[0;34m)\u001b[0m\u001b[0;34m:\u001b[0m\u001b[0;34m\u001b[0m\u001b[0;34m\u001b[0m\u001b[0m\n",
            "\u001b[0;32m/usr/local/lib/python3.11/dist-packages/langroid/agent/base.py\u001b[0m in \u001b[0;36m<listcomp>\u001b[0;34m(.0)\u001b[0m\n\u001b[1;32m   1515\u001b[0m         \u001b[0;32mif\u001b[0m \u001b[0;32mnot\u001b[0m \u001b[0mresults\u001b[0m\u001b[0;34m:\u001b[0m\u001b[0;34m\u001b[0m\u001b[0;34m\u001b[0m\u001b[0m\n\u001b[1;32m   1516\u001b[0m             \u001b[0mchat_doc\u001b[0m \u001b[0;34m=\u001b[0m \u001b[0mmsg\u001b[0m \u001b[0;32mif\u001b[0m \u001b[0misinstance\u001b[0m\u001b[0;34m(\u001b[0m\u001b[0mmsg\u001b[0m\u001b[0;34m,\u001b[0m \u001b[0mChatDocument\u001b[0m\u001b[0;34m)\u001b[0m \u001b[0;32melse\u001b[0m \u001b[0;32mNone\u001b[0m\u001b[0;34m\u001b[0m\u001b[0;34m\u001b[0m\u001b[0m\n\u001b[0;32m-> 1517\u001b[0;31m             \u001b[0mresults\u001b[0m \u001b[0;34m=\u001b[0m \u001b[0;34m[\u001b[0m\u001b[0mself\u001b[0m\u001b[0;34m.\u001b[0m\u001b[0mhandle_tool_message\u001b[0m\u001b[0;34m(\u001b[0m\u001b[0mt\u001b[0m\u001b[0;34m,\u001b[0m \u001b[0mchat_doc\u001b[0m\u001b[0;34m=\u001b[0m\u001b[0mchat_doc\u001b[0m\u001b[0;34m)\u001b[0m \u001b[0;32mfor\u001b[0m \u001b[0mt\u001b[0m \u001b[0;32min\u001b[0m \u001b[0mtools\u001b[0m\u001b[0;34m]\u001b[0m\u001b[0;34m\u001b[0m\u001b[0;34m\u001b[0m\u001b[0m\n\u001b[0m\u001b[1;32m   1518\u001b[0m             \u001b[0;31m# if there's a solitary ChatDocument|str result, return it as is\u001b[0m\u001b[0;34m\u001b[0m\u001b[0;34m\u001b[0m\u001b[0m\n\u001b[1;32m   1519\u001b[0m             \u001b[0;32mif\u001b[0m \u001b[0mlen\u001b[0m\u001b[0;34m(\u001b[0m\u001b[0mresults\u001b[0m\u001b[0;34m)\u001b[0m \u001b[0;34m==\u001b[0m \u001b[0;36m1\u001b[0m \u001b[0;32mand\u001b[0m \u001b[0misinstance\u001b[0m\u001b[0;34m(\u001b[0m\u001b[0mresults\u001b[0m\u001b[0;34m[\u001b[0m\u001b[0;36m0\u001b[0m\u001b[0;34m]\u001b[0m\u001b[0;34m,\u001b[0m \u001b[0;34m(\u001b[0m\u001b[0mstr\u001b[0m\u001b[0;34m,\u001b[0m \u001b[0mChatDocument\u001b[0m\u001b[0;34m)\u001b[0m\u001b[0;34m)\u001b[0m\u001b[0;34m:\u001b[0m\u001b[0;34m\u001b[0m\u001b[0;34m\u001b[0m\u001b[0m\n",
            "\u001b[0;32m/usr/local/lib/python3.11/dist-packages/langroid/agent/base.py\u001b[0m in \u001b[0;36mhandle_tool_message\u001b[0;34m(self, tool, chat_doc)\u001b[0m\n\u001b[1;32m   1863\u001b[0m             \u001b[0;31m# not a pydantic validation error,\u001b[0m\u001b[0;34m\u001b[0m\u001b[0;34m\u001b[0m\u001b[0m\n\u001b[1;32m   1864\u001b[0m             \u001b[0;31m# which we check in `handle_message`\u001b[0m\u001b[0;34m\u001b[0m\u001b[0;34m\u001b[0m\u001b[0m\n\u001b[0;32m-> 1865\u001b[0;31m             \u001b[0;32mraise\u001b[0m \u001b[0me\u001b[0m\u001b[0;34m\u001b[0m\u001b[0;34m\u001b[0m\u001b[0m\n\u001b[0m\u001b[1;32m   1866\u001b[0m         return self._maybe_truncate_result(\n\u001b[1;32m   1867\u001b[0m             \u001b[0mresult\u001b[0m\u001b[0;34m,\u001b[0m \u001b[0mtool\u001b[0m\u001b[0;34m.\u001b[0m\u001b[0m_max_result_tokens\u001b[0m\u001b[0;34m\u001b[0m\u001b[0;34m\u001b[0m\u001b[0m\n",
            "\u001b[0;32m/usr/local/lib/python3.11/dist-packages/langroid/agent/base.py\u001b[0m in \u001b[0;36mhandle_tool_message\u001b[0;34m(self, tool, chat_doc)\u001b[0m\n\u001b[1;32m   1857\u001b[0m                 \u001b[0mmaybe_result\u001b[0m \u001b[0;34m=\u001b[0m \u001b[0mhandler_method\u001b[0m\u001b[0;34m(\u001b[0m\u001b[0mtool\u001b[0m\u001b[0;34m,\u001b[0m \u001b[0mchat_doc\u001b[0m\u001b[0;34m=\u001b[0m\u001b[0mchat_doc\u001b[0m\u001b[0;34m)\u001b[0m\u001b[0;34m\u001b[0m\u001b[0;34m\u001b[0m\u001b[0m\n\u001b[1;32m   1858\u001b[0m             \u001b[0;32melse\u001b[0m\u001b[0;34m:\u001b[0m\u001b[0;34m\u001b[0m\u001b[0;34m\u001b[0m\u001b[0m\n\u001b[0;32m-> 1859\u001b[0;31m                 \u001b[0mmaybe_result\u001b[0m \u001b[0;34m=\u001b[0m \u001b[0mhandler_method\u001b[0m\u001b[0;34m(\u001b[0m\u001b[0mtool\u001b[0m\u001b[0;34m)\u001b[0m\u001b[0;34m\u001b[0m\u001b[0;34m\u001b[0m\u001b[0m\n\u001b[0m\u001b[1;32m   1860\u001b[0m             \u001b[0mresult\u001b[0m \u001b[0;34m=\u001b[0m \u001b[0mself\u001b[0m\u001b[0;34m.\u001b[0m\u001b[0mto_ChatDocument\u001b[0m\u001b[0;34m(\u001b[0m\u001b[0mmaybe_result\u001b[0m\u001b[0;34m,\u001b[0m \u001b[0mtool_name\u001b[0m\u001b[0;34m,\u001b[0m \u001b[0mchat_doc\u001b[0m\u001b[0;34m)\u001b[0m\u001b[0;34m\u001b[0m\u001b[0;34m\u001b[0m\u001b[0m\n\u001b[1;32m   1861\u001b[0m         \u001b[0;32mexcept\u001b[0m \u001b[0mException\u001b[0m \u001b[0;32mas\u001b[0m \u001b[0me\u001b[0m\u001b[0;34m:\u001b[0m\u001b[0;34m\u001b[0m\u001b[0;34m\u001b[0m\u001b[0m\n",
            "\u001b[0;32m/usr/local/lib/python3.11/dist-packages/langroid/agent/base.py\u001b[0m in \u001b[0;36m<lambda>\u001b[0;34m(obj)\u001b[0m\n\u001b[1;32m    315\u001b[0m                 \u001b[0msetattr\u001b[0m\u001b[0;34m(\u001b[0m\u001b[0mself\u001b[0m\u001b[0;34m,\u001b[0m \u001b[0mhandler\u001b[0m\u001b[0;34m,\u001b[0m \u001b[0;32mlambda\u001b[0m \u001b[0mobj\u001b[0m\u001b[0;34m,\u001b[0m \u001b[0mchat_doc\u001b[0m\u001b[0;34m:\u001b[0m \u001b[0mobj\u001b[0m\u001b[0;34m.\u001b[0m\u001b[0mhandle\u001b[0m\u001b[0;34m(\u001b[0m\u001b[0mchat_doc\u001b[0m\u001b[0;34m)\u001b[0m\u001b[0;34m)\u001b[0m\u001b[0;34m\u001b[0m\u001b[0;34m\u001b[0m\u001b[0m\n\u001b[1;32m    316\u001b[0m             \u001b[0;32melse\u001b[0m\u001b[0;34m:\u001b[0m\u001b[0;34m\u001b[0m\u001b[0;34m\u001b[0m\u001b[0m\n\u001b[0;32m--> 317\u001b[0;31m                 \u001b[0msetattr\u001b[0m\u001b[0;34m(\u001b[0m\u001b[0mself\u001b[0m\u001b[0;34m,\u001b[0m \u001b[0mhandler\u001b[0m\u001b[0;34m,\u001b[0m \u001b[0;32mlambda\u001b[0m \u001b[0mobj\u001b[0m\u001b[0;34m:\u001b[0m \u001b[0mobj\u001b[0m\u001b[0;34m.\u001b[0m\u001b[0mhandle\u001b[0m\u001b[0;34m(\u001b[0m\u001b[0;34m)\u001b[0m\u001b[0;34m)\u001b[0m\u001b[0;34m\u001b[0m\u001b[0;34m\u001b[0m\u001b[0m\n\u001b[0m\u001b[1;32m    318\u001b[0m         elif (\n\u001b[1;32m    319\u001b[0m             \u001b[0mhasattr\u001b[0m\u001b[0;34m(\u001b[0m\u001b[0mmessage_class\u001b[0m\u001b[0;34m,\u001b[0m \u001b[0;34m\"response\"\u001b[0m\u001b[0;34m)\u001b[0m\u001b[0;34m\u001b[0m\u001b[0;34m\u001b[0m\u001b[0m\n",
            "\u001b[0;32m/usr/local/lib/python3.11/dist-packages/langroid/agent/tools/duckduckgo_search_tool.py\u001b[0m in \u001b[0;36mhandle\u001b[0;34m(self)\u001b[0m\n\u001b[1;32m     33\u001b[0m                 \u001b[0msummaries\u001b[0m \u001b[0mof\u001b[0m \u001b[0meach\u001b[0m \u001b[0msearch\u001b[0m \u001b[0mresult\u001b[0m\u001b[0;34m,\u001b[0m \u001b[0mseparated\u001b[0m \u001b[0mby\u001b[0m \u001b[0mtwo\u001b[0m \u001b[0mnewlines\u001b[0m\u001b[0;34m.\u001b[0m\u001b[0;34m\u001b[0m\u001b[0;34m\u001b[0m\u001b[0m\n\u001b[1;32m     34\u001b[0m         \"\"\"\n\u001b[0;32m---> 35\u001b[0;31m         \u001b[0msearch_results\u001b[0m \u001b[0;34m=\u001b[0m \u001b[0mduckduckgo_search\u001b[0m\u001b[0;34m(\u001b[0m\u001b[0mself\u001b[0m\u001b[0;34m.\u001b[0m\u001b[0mquery\u001b[0m\u001b[0;34m,\u001b[0m \u001b[0mself\u001b[0m\u001b[0;34m.\u001b[0m\u001b[0mnum_results\u001b[0m\u001b[0;34m)\u001b[0m\u001b[0;34m\u001b[0m\u001b[0;34m\u001b[0m\u001b[0m\n\u001b[0m\u001b[1;32m     36\u001b[0m         \u001b[0;31m# return Title, Link, Summary of each result, separated by two newlines\u001b[0m\u001b[0;34m\u001b[0m\u001b[0;34m\u001b[0m\u001b[0m\n\u001b[1;32m     37\u001b[0m         \u001b[0mresults_str\u001b[0m \u001b[0;34m=\u001b[0m \u001b[0;34m\"\\n\\n\"\u001b[0m\u001b[0;34m.\u001b[0m\u001b[0mjoin\u001b[0m\u001b[0;34m(\u001b[0m\u001b[0mstr\u001b[0m\u001b[0;34m(\u001b[0m\u001b[0mresult\u001b[0m\u001b[0;34m)\u001b[0m \u001b[0;32mfor\u001b[0m \u001b[0mresult\u001b[0m \u001b[0;32min\u001b[0m \u001b[0msearch_results\u001b[0m\u001b[0;34m)\u001b[0m\u001b[0;34m\u001b[0m\u001b[0;34m\u001b[0m\u001b[0m\n",
            "\u001b[0;32m/usr/local/lib/python3.11/dist-packages/langroid/parsing/web_search.py\u001b[0m in \u001b[0;36mduckduckgo_search\u001b[0;34m(query, num_results)\u001b[0m\n\u001b[1;32m    219\u001b[0m \u001b[0;34m\u001b[0m\u001b[0m\n\u001b[1;32m    220\u001b[0m     \u001b[0;32mwith\u001b[0m \u001b[0mDDGS\u001b[0m\u001b[0;34m(\u001b[0m\u001b[0;34m)\u001b[0m \u001b[0;32mas\u001b[0m \u001b[0mddgs\u001b[0m\u001b[0;34m:\u001b[0m\u001b[0;34m\u001b[0m\u001b[0;34m\u001b[0m\u001b[0m\n\u001b[0;32m--> 221\u001b[0;31m         \u001b[0msearch_results\u001b[0m \u001b[0;34m=\u001b[0m \u001b[0;34m[\u001b[0m\u001b[0mr\u001b[0m \u001b[0;32mfor\u001b[0m \u001b[0mr\u001b[0m \u001b[0;32min\u001b[0m \u001b[0mddgs\u001b[0m\u001b[0;34m.\u001b[0m\u001b[0mtext\u001b[0m\u001b[0;34m(\u001b[0m\u001b[0mquery\u001b[0m\u001b[0;34m,\u001b[0m \u001b[0mmax_results\u001b[0m\u001b[0;34m=\u001b[0m\u001b[0mnum_results\u001b[0m\u001b[0;34m)\u001b[0m\u001b[0;34m]\u001b[0m\u001b[0;34m\u001b[0m\u001b[0;34m\u001b[0m\u001b[0m\n\u001b[0m\u001b[1;32m    222\u001b[0m \u001b[0;34m\u001b[0m\u001b[0m\n\u001b[1;32m    223\u001b[0m     return [\n",
            "\u001b[0;32m/usr/local/lib/python3.11/dist-packages/duckduckgo_search/duckduckgo_search.py\u001b[0m in \u001b[0;36mtext\u001b[0;34m(self, keywords, region, safesearch, timelimit, backend, max_results)\u001b[0m\n\u001b[1;32m    244\u001b[0m \u001b[0;34m\u001b[0m\u001b[0m\n\u001b[1;32m    245\u001b[0m         \u001b[0;32mif\u001b[0m \u001b[0mbackend\u001b[0m \u001b[0;34m==\u001b[0m \u001b[0;34m\"api\"\u001b[0m\u001b[0;34m:\u001b[0m\u001b[0;34m\u001b[0m\u001b[0;34m\u001b[0m\u001b[0m\n\u001b[0;32m--> 246\u001b[0;31m             \u001b[0mresults\u001b[0m \u001b[0;34m=\u001b[0m \u001b[0mself\u001b[0m\u001b[0;34m.\u001b[0m\u001b[0m_text_api\u001b[0m\u001b[0;34m(\u001b[0m\u001b[0mkeywords\u001b[0m\u001b[0;34m,\u001b[0m \u001b[0mregion\u001b[0m\u001b[0;34m,\u001b[0m \u001b[0msafesearch\u001b[0m\u001b[0;34m,\u001b[0m \u001b[0mtimelimit\u001b[0m\u001b[0;34m,\u001b[0m \u001b[0mmax_results\u001b[0m\u001b[0;34m)\u001b[0m\u001b[0;34m\u001b[0m\u001b[0;34m\u001b[0m\u001b[0m\n\u001b[0m\u001b[1;32m    247\u001b[0m         \u001b[0;32melif\u001b[0m \u001b[0mbackend\u001b[0m \u001b[0;34m==\u001b[0m \u001b[0;34m\"html\"\u001b[0m\u001b[0;34m:\u001b[0m\u001b[0;34m\u001b[0m\u001b[0;34m\u001b[0m\u001b[0m\n\u001b[1;32m    248\u001b[0m             \u001b[0mresults\u001b[0m \u001b[0;34m=\u001b[0m \u001b[0mself\u001b[0m\u001b[0;34m.\u001b[0m\u001b[0m_text_html\u001b[0m\u001b[0;34m(\u001b[0m\u001b[0mkeywords\u001b[0m\u001b[0;34m,\u001b[0m \u001b[0mregion\u001b[0m\u001b[0;34m,\u001b[0m \u001b[0mtimelimit\u001b[0m\u001b[0;34m,\u001b[0m \u001b[0mmax_results\u001b[0m\u001b[0;34m)\u001b[0m\u001b[0;34m\u001b[0m\u001b[0;34m\u001b[0m\u001b[0m\n",
            "\u001b[0;32m/usr/local/lib/python3.11/dist-packages/duckduckgo_search/duckduckgo_search.py\u001b[0m in \u001b[0;36m_text_api\u001b[0;34m(self, keywords, region, safesearch, timelimit, max_results)\u001b[0m\n\u001b[1;32m    331\u001b[0m                 \u001b[0mresults\u001b[0m\u001b[0;34m.\u001b[0m\u001b[0mextend\u001b[0m\u001b[0;34m(\u001b[0m\u001b[0mr\u001b[0m\u001b[0;34m)\u001b[0m\u001b[0;34m\u001b[0m\u001b[0;34m\u001b[0m\u001b[0m\n\u001b[1;32m    332\u001b[0m         \u001b[0;32mexcept\u001b[0m \u001b[0mException\u001b[0m \u001b[0;32mas\u001b[0m \u001b[0me\u001b[0m\u001b[0;34m:\u001b[0m\u001b[0;34m\u001b[0m\u001b[0;34m\u001b[0m\u001b[0m\n\u001b[0;32m--> 333\u001b[0;31m             \u001b[0;32mraise\u001b[0m \u001b[0me\u001b[0m\u001b[0;34m\u001b[0m\u001b[0;34m\u001b[0m\u001b[0m\n\u001b[0m\u001b[1;32m    334\u001b[0m \u001b[0;34m\u001b[0m\u001b[0m\n\u001b[1;32m    335\u001b[0m         \u001b[0;32mreturn\u001b[0m \u001b[0mlist\u001b[0m\u001b[0;34m(\u001b[0m\u001b[0mislice\u001b[0m\u001b[0;34m(\u001b[0m\u001b[0mresults\u001b[0m\u001b[0;34m,\u001b[0m \u001b[0mmax_results\u001b[0m\u001b[0;34m)\u001b[0m\u001b[0;34m)\u001b[0m\u001b[0;34m\u001b[0m\u001b[0;34m\u001b[0m\u001b[0m\n",
            "\u001b[0;32m/usr/local/lib/python3.11/dist-packages/duckduckgo_search/duckduckgo_search.py\u001b[0m in \u001b[0;36m_text_api\u001b[0;34m(self, keywords, region, safesearch, timelimit, max_results)\u001b[0m\n\u001b[1;32m    328\u001b[0m             \u001b[0mslist\u001b[0m\u001b[0;34m.\u001b[0m\u001b[0mextend\u001b[0m\u001b[0;34m(\u001b[0m\u001b[0mrange\u001b[0m\u001b[0;34m(\u001b[0m\u001b[0;36m10\u001b[0m\u001b[0;34m,\u001b[0m \u001b[0mmax_results\u001b[0m\u001b[0;34m,\u001b[0m \u001b[0;36m15\u001b[0m\u001b[0;34m)\u001b[0m\u001b[0;34m)\u001b[0m\u001b[0;34m\u001b[0m\u001b[0;34m\u001b[0m\u001b[0m\n\u001b[1;32m    329\u001b[0m         \u001b[0;32mtry\u001b[0m\u001b[0;34m:\u001b[0m\u001b[0;34m\u001b[0m\u001b[0;34m\u001b[0m\u001b[0m\n\u001b[0;32m--> 330\u001b[0;31m             \u001b[0;32mfor\u001b[0m \u001b[0mr\u001b[0m \u001b[0;32min\u001b[0m \u001b[0mself\u001b[0m\u001b[0;34m.\u001b[0m\u001b[0m_executor\u001b[0m\u001b[0;34m.\u001b[0m\u001b[0mmap\u001b[0m\u001b[0;34m(\u001b[0m\u001b[0m_text_api_page\u001b[0m\u001b[0;34m,\u001b[0m \u001b[0mslist\u001b[0m\u001b[0;34m)\u001b[0m\u001b[0;34m:\u001b[0m\u001b[0;34m\u001b[0m\u001b[0;34m\u001b[0m\u001b[0m\n\u001b[0m\u001b[1;32m    331\u001b[0m                 \u001b[0mresults\u001b[0m\u001b[0;34m.\u001b[0m\u001b[0mextend\u001b[0m\u001b[0;34m(\u001b[0m\u001b[0mr\u001b[0m\u001b[0;34m)\u001b[0m\u001b[0;34m\u001b[0m\u001b[0;34m\u001b[0m\u001b[0m\n\u001b[1;32m    332\u001b[0m         \u001b[0;32mexcept\u001b[0m \u001b[0mException\u001b[0m \u001b[0;32mas\u001b[0m \u001b[0me\u001b[0m\u001b[0;34m:\u001b[0m\u001b[0;34m\u001b[0m\u001b[0;34m\u001b[0m\u001b[0m\n",
            "\u001b[0;32m/usr/lib/python3.11/concurrent/futures/_base.py\u001b[0m in \u001b[0;36mresult_iterator\u001b[0;34m()\u001b[0m\n\u001b[1;32m    617\u001b[0m                     \u001b[0;31m# Careful not to keep a reference to the popped future\u001b[0m\u001b[0;34m\u001b[0m\u001b[0;34m\u001b[0m\u001b[0m\n\u001b[1;32m    618\u001b[0m                     \u001b[0;32mif\u001b[0m \u001b[0mtimeout\u001b[0m \u001b[0;32mis\u001b[0m \u001b[0;32mNone\u001b[0m\u001b[0;34m:\u001b[0m\u001b[0;34m\u001b[0m\u001b[0;34m\u001b[0m\u001b[0m\n\u001b[0;32m--> 619\u001b[0;31m                         \u001b[0;32myield\u001b[0m \u001b[0m_result_or_cancel\u001b[0m\u001b[0;34m(\u001b[0m\u001b[0mfs\u001b[0m\u001b[0;34m.\u001b[0m\u001b[0mpop\u001b[0m\u001b[0;34m(\u001b[0m\u001b[0;34m)\u001b[0m\u001b[0;34m)\u001b[0m\u001b[0;34m\u001b[0m\u001b[0;34m\u001b[0m\u001b[0m\n\u001b[0m\u001b[1;32m    620\u001b[0m                     \u001b[0;32melse\u001b[0m\u001b[0;34m:\u001b[0m\u001b[0;34m\u001b[0m\u001b[0;34m\u001b[0m\u001b[0m\n\u001b[1;32m    621\u001b[0m                         \u001b[0;32myield\u001b[0m \u001b[0m_result_or_cancel\u001b[0m\u001b[0;34m(\u001b[0m\u001b[0mfs\u001b[0m\u001b[0;34m.\u001b[0m\u001b[0mpop\u001b[0m\u001b[0;34m(\u001b[0m\u001b[0;34m)\u001b[0m\u001b[0;34m,\u001b[0m \u001b[0mend_time\u001b[0m \u001b[0;34m-\u001b[0m \u001b[0mtime\u001b[0m\u001b[0;34m.\u001b[0m\u001b[0mmonotonic\u001b[0m\u001b[0;34m(\u001b[0m\u001b[0;34m)\u001b[0m\u001b[0;34m)\u001b[0m\u001b[0;34m\u001b[0m\u001b[0;34m\u001b[0m\u001b[0m\n",
            "\u001b[0;32m/usr/lib/python3.11/concurrent/futures/_base.py\u001b[0m in \u001b[0;36m_result_or_cancel\u001b[0;34m(***failed resolving arguments***)\u001b[0m\n\u001b[1;32m    315\u001b[0m     \u001b[0;32mtry\u001b[0m\u001b[0;34m:\u001b[0m\u001b[0;34m\u001b[0m\u001b[0;34m\u001b[0m\u001b[0m\n\u001b[1;32m    316\u001b[0m         \u001b[0;32mtry\u001b[0m\u001b[0;34m:\u001b[0m\u001b[0;34m\u001b[0m\u001b[0;34m\u001b[0m\u001b[0m\n\u001b[0;32m--> 317\u001b[0;31m             \u001b[0;32mreturn\u001b[0m \u001b[0mfut\u001b[0m\u001b[0;34m.\u001b[0m\u001b[0mresult\u001b[0m\u001b[0;34m(\u001b[0m\u001b[0mtimeout\u001b[0m\u001b[0;34m)\u001b[0m\u001b[0;34m\u001b[0m\u001b[0;34m\u001b[0m\u001b[0m\n\u001b[0m\u001b[1;32m    318\u001b[0m         \u001b[0;32mfinally\u001b[0m\u001b[0;34m:\u001b[0m\u001b[0;34m\u001b[0m\u001b[0;34m\u001b[0m\u001b[0m\n\u001b[1;32m    319\u001b[0m             \u001b[0mfut\u001b[0m\u001b[0;34m.\u001b[0m\u001b[0mcancel\u001b[0m\u001b[0;34m(\u001b[0m\u001b[0;34m)\u001b[0m\u001b[0;34m\u001b[0m\u001b[0;34m\u001b[0m\u001b[0m\n",
            "\u001b[0;32m/usr/lib/python3.11/concurrent/futures/_base.py\u001b[0m in \u001b[0;36mresult\u001b[0;34m(self, timeout)\u001b[0m\n\u001b[1;32m    454\u001b[0m                     \u001b[0;32mraise\u001b[0m \u001b[0mCancelledError\u001b[0m\u001b[0;34m(\u001b[0m\u001b[0;34m)\u001b[0m\u001b[0;34m\u001b[0m\u001b[0;34m\u001b[0m\u001b[0m\n\u001b[1;32m    455\u001b[0m                 \u001b[0;32melif\u001b[0m \u001b[0mself\u001b[0m\u001b[0;34m.\u001b[0m\u001b[0m_state\u001b[0m \u001b[0;34m==\u001b[0m \u001b[0mFINISHED\u001b[0m\u001b[0;34m:\u001b[0m\u001b[0;34m\u001b[0m\u001b[0;34m\u001b[0m\u001b[0m\n\u001b[0;32m--> 456\u001b[0;31m                     \u001b[0;32mreturn\u001b[0m \u001b[0mself\u001b[0m\u001b[0;34m.\u001b[0m\u001b[0m__get_result\u001b[0m\u001b[0;34m(\u001b[0m\u001b[0;34m)\u001b[0m\u001b[0;34m\u001b[0m\u001b[0;34m\u001b[0m\u001b[0m\n\u001b[0m\u001b[1;32m    457\u001b[0m                 \u001b[0;32melse\u001b[0m\u001b[0;34m:\u001b[0m\u001b[0;34m\u001b[0m\u001b[0;34m\u001b[0m\u001b[0m\n\u001b[1;32m    458\u001b[0m                     \u001b[0;32mraise\u001b[0m \u001b[0mTimeoutError\u001b[0m\u001b[0;34m(\u001b[0m\u001b[0;34m)\u001b[0m\u001b[0;34m\u001b[0m\u001b[0;34m\u001b[0m\u001b[0m\n",
            "\u001b[0;32m/usr/lib/python3.11/concurrent/futures/_base.py\u001b[0m in \u001b[0;36m__get_result\u001b[0;34m(self)\u001b[0m\n\u001b[1;32m    399\u001b[0m         \u001b[0;32mif\u001b[0m \u001b[0mself\u001b[0m\u001b[0;34m.\u001b[0m\u001b[0m_exception\u001b[0m\u001b[0;34m:\u001b[0m\u001b[0;34m\u001b[0m\u001b[0;34m\u001b[0m\u001b[0m\n\u001b[1;32m    400\u001b[0m             \u001b[0;32mtry\u001b[0m\u001b[0;34m:\u001b[0m\u001b[0;34m\u001b[0m\u001b[0;34m\u001b[0m\u001b[0m\n\u001b[0;32m--> 401\u001b[0;31m                 \u001b[0;32mraise\u001b[0m \u001b[0mself\u001b[0m\u001b[0;34m.\u001b[0m\u001b[0m_exception\u001b[0m\u001b[0;34m\u001b[0m\u001b[0;34m\u001b[0m\u001b[0m\n\u001b[0m\u001b[1;32m    402\u001b[0m             \u001b[0;32mfinally\u001b[0m\u001b[0;34m:\u001b[0m\u001b[0;34m\u001b[0m\u001b[0;34m\u001b[0m\u001b[0m\n\u001b[1;32m    403\u001b[0m                 \u001b[0;31m# Break a reference cycle with the exception in self._exception\u001b[0m\u001b[0;34m\u001b[0m\u001b[0;34m\u001b[0m\u001b[0m\n",
            "\u001b[0;32m/usr/lib/python3.11/concurrent/futures/thread.py\u001b[0m in \u001b[0;36mrun\u001b[0;34m(self)\u001b[0m\n\u001b[1;32m     56\u001b[0m \u001b[0;34m\u001b[0m\u001b[0m\n\u001b[1;32m     57\u001b[0m         \u001b[0;32mtry\u001b[0m\u001b[0;34m:\u001b[0m\u001b[0;34m\u001b[0m\u001b[0;34m\u001b[0m\u001b[0m\n\u001b[0;32m---> 58\u001b[0;31m             \u001b[0mresult\u001b[0m \u001b[0;34m=\u001b[0m \u001b[0mself\u001b[0m\u001b[0;34m.\u001b[0m\u001b[0mfn\u001b[0m\u001b[0;34m(\u001b[0m\u001b[0;34m*\u001b[0m\u001b[0mself\u001b[0m\u001b[0;34m.\u001b[0m\u001b[0margs\u001b[0m\u001b[0;34m,\u001b[0m \u001b[0;34m**\u001b[0m\u001b[0mself\u001b[0m\u001b[0;34m.\u001b[0m\u001b[0mkwargs\u001b[0m\u001b[0;34m)\u001b[0m\u001b[0;34m\u001b[0m\u001b[0;34m\u001b[0m\u001b[0m\n\u001b[0m\u001b[1;32m     59\u001b[0m         \u001b[0;32mexcept\u001b[0m \u001b[0mBaseException\u001b[0m \u001b[0;32mas\u001b[0m \u001b[0mexc\u001b[0m\u001b[0;34m:\u001b[0m\u001b[0;34m\u001b[0m\u001b[0;34m\u001b[0m\u001b[0m\n\u001b[1;32m     60\u001b[0m             \u001b[0mself\u001b[0m\u001b[0;34m.\u001b[0m\u001b[0mfuture\u001b[0m\u001b[0;34m.\u001b[0m\u001b[0mset_exception\u001b[0m\u001b[0;34m(\u001b[0m\u001b[0mexc\u001b[0m\u001b[0;34m)\u001b[0m\u001b[0;34m\u001b[0m\u001b[0;34m\u001b[0m\u001b[0m\n",
            "\u001b[0;32m/usr/local/lib/python3.11/dist-packages/duckduckgo_search/duckduckgo_search.py\u001b[0m in \u001b[0;36m_text_api_page\u001b[0;34m(s)\u001b[0m\n\u001b[1;32m    306\u001b[0m         \u001b[0;32mdef\u001b[0m \u001b[0m_text_api_page\u001b[0m\u001b[0;34m(\u001b[0m\u001b[0ms\u001b[0m\u001b[0;34m:\u001b[0m \u001b[0mint\u001b[0m\u001b[0;34m)\u001b[0m \u001b[0;34m->\u001b[0m \u001b[0mlist\u001b[0m\u001b[0;34m[\u001b[0m\u001b[0mdict\u001b[0m\u001b[0;34m[\u001b[0m\u001b[0mstr\u001b[0m\u001b[0;34m,\u001b[0m \u001b[0mstr\u001b[0m\u001b[0;34m]\u001b[0m\u001b[0;34m]\u001b[0m\u001b[0;34m:\u001b[0m\u001b[0;34m\u001b[0m\u001b[0;34m\u001b[0m\u001b[0m\n\u001b[1;32m    307\u001b[0m             \u001b[0mpayload\u001b[0m\u001b[0;34m[\u001b[0m\u001b[0;34m\"s\"\u001b[0m\u001b[0;34m]\u001b[0m \u001b[0;34m=\u001b[0m \u001b[0;34mf\"{s}\"\u001b[0m\u001b[0;34m\u001b[0m\u001b[0;34m\u001b[0m\u001b[0m\n\u001b[0;32m--> 308\u001b[0;31m             \u001b[0mresp_content\u001b[0m \u001b[0;34m=\u001b[0m \u001b[0mself\u001b[0m\u001b[0;34m.\u001b[0m\u001b[0m_get_url\u001b[0m\u001b[0;34m(\u001b[0m\u001b[0;34m\"GET\"\u001b[0m\u001b[0;34m,\u001b[0m \u001b[0;34m\"https://links.duckduckgo.com/d.js\"\u001b[0m\u001b[0;34m,\u001b[0m \u001b[0mparams\u001b[0m\u001b[0;34m=\u001b[0m\u001b[0mpayload\u001b[0m\u001b[0;34m)\u001b[0m\u001b[0;34m\u001b[0m\u001b[0;34m\u001b[0m\u001b[0m\n\u001b[0m\u001b[1;32m    309\u001b[0m             \u001b[0mpage_data\u001b[0m \u001b[0;34m=\u001b[0m \u001b[0m_text_extract_json\u001b[0m\u001b[0;34m(\u001b[0m\u001b[0mresp_content\u001b[0m\u001b[0;34m,\u001b[0m \u001b[0mkeywords\u001b[0m\u001b[0;34m)\u001b[0m\u001b[0;34m\u001b[0m\u001b[0;34m\u001b[0m\u001b[0m\n\u001b[1;32m    310\u001b[0m             \u001b[0mpage_results\u001b[0m \u001b[0;34m=\u001b[0m \u001b[0;34m[\u001b[0m\u001b[0;34m]\u001b[0m\u001b[0;34m\u001b[0m\u001b[0;34m\u001b[0m\u001b[0m\n",
            "\u001b[0;32m/usr/local/lib/python3.11/dist-packages/duckduckgo_search/duckduckgo_search.py\u001b[0m in \u001b[0;36m_get_url\u001b[0;34m(self, method, url, params, content, data)\u001b[0m\n\u001b[1;32m    134\u001b[0m         \u001b[0mself\u001b[0m\u001b[0;34m.\u001b[0m\u001b[0m_exception_event\u001b[0m\u001b[0;34m.\u001b[0m\u001b[0mset\u001b[0m\u001b[0;34m(\u001b[0m\u001b[0;34m)\u001b[0m\u001b[0;34m\u001b[0m\u001b[0;34m\u001b[0m\u001b[0m\n\u001b[1;32m    135\u001b[0m         \u001b[0;32mif\u001b[0m \u001b[0mresp\u001b[0m\u001b[0;34m.\u001b[0m\u001b[0mstatus_code\u001b[0m \u001b[0;32min\u001b[0m \u001b[0;34m(\u001b[0m\u001b[0;36m202\u001b[0m\u001b[0;34m,\u001b[0m \u001b[0;36m301\u001b[0m\u001b[0;34m,\u001b[0m \u001b[0;36m403\u001b[0m\u001b[0;34m)\u001b[0m\u001b[0;34m:\u001b[0m\u001b[0;34m\u001b[0m\u001b[0;34m\u001b[0m\u001b[0m\n\u001b[0;32m--> 136\u001b[0;31m             \u001b[0;32mraise\u001b[0m \u001b[0mRatelimitException\u001b[0m\u001b[0;34m(\u001b[0m\u001b[0;34mf\"{resp.url} {resp.status_code} Ratelimit\"\u001b[0m\u001b[0;34m)\u001b[0m\u001b[0;34m\u001b[0m\u001b[0;34m\u001b[0m\u001b[0m\n\u001b[0m\u001b[1;32m    137\u001b[0m         \u001b[0;32mraise\u001b[0m \u001b[0mDuckDuckGoSearchException\u001b[0m\u001b[0;34m(\u001b[0m\u001b[0;34mf\"{resp.url} return None. {params=} {content=} {data=}\"\u001b[0m\u001b[0;34m)\u001b[0m\u001b[0;34m\u001b[0m\u001b[0;34m\u001b[0m\u001b[0m\n\u001b[1;32m    138\u001b[0m \u001b[0;34m\u001b[0m\u001b[0m\n",
            "\u001b[0;31mRatelimitException\u001b[0m: https://links.duckduckgo.com/d.js?q=What+is+the+birth+year+of+Richard+Wagner%3F&kl=wt-wt&l=wt-wt&p=&s=0&df=&vqd=4-157228487782857929890682563830021885009&bing_market=wt-WT&ex=-1 202 Ratelimit"
          ]
        }
      ]
    },
    {
      "cell_type": "code",
      "source": [],
      "metadata": {
        "id": "gaBZ8t7gs1SM"
      },
      "execution_count": null,
      "outputs": []
    },
    {
      "cell_type": "code",
      "source": [],
      "metadata": {
        "id": "H6048JL5s1ME"
      },
      "execution_count": null,
      "outputs": []
    },
    {
      "cell_type": "code",
      "source": [],
      "metadata": {
        "id": "AziEiOKss1Is"
      },
      "execution_count": null,
      "outputs": []
    }
  ]
}