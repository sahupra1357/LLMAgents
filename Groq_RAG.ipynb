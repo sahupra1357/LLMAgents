{
  "cells": [
    {
      "cell_type": "markdown",
      "metadata": {
        "id": "view-in-github",
        "colab_type": "text"
      },
      "source": [
        "<a href=\"https://colab.research.google.com/github/sahupra1357/LLMAgents/blob/main/Groq_RAG.ipynb\" target=\"_parent\"><img src=\"https://colab.research.google.com/assets/colab-badge.svg\" alt=\"Open In Colab\"/></a>"
      ]
    },
    {
      "cell_type": "code",
      "execution_count": 61,
      "metadata": {
        "id": "cneYGzV5Q2Y1"
      },
      "outputs": [],
      "source": [
        "import os\n",
        "from google.colab import userdata\n",
        "os.environ[\"GROQ_API_KEY\"] = userdata.get('GROQ_API_KEY')\n",
        "os.environ[\"PINECONE_API_KEY\"] = userdata.get('PINECONE_API_KEY')\n",
        "os.environ[\"OPENAI_API_KEY\"] = userdata.get('OPENAI_API_KEY')\n",
        "groq_api_key = os.getenv('GROQ_API_KEY')\n",
        "pinecone_api_key = os.getenv('PINECONE_API_KEY')\n",
        "OPENAI_API_KEY = os.getenv('OPENAI_API_KEY')"
      ]
    },
    {
      "cell_type": "code",
      "execution_count": 2,
      "metadata": {
        "id": "KqX-PjTDXMna"
      },
      "outputs": [],
      "source": [
        "!pip install groq -q"
      ]
    },
    {
      "cell_type": "code",
      "execution_count": 3,
      "metadata": {
        "id": "HqGOKlqzXYYa"
      },
      "outputs": [],
      "source": [
        "!pip install pinecone -q"
      ]
    },
    {
      "cell_type": "code",
      "execution_count": 4,
      "metadata": {
        "id": "GVu4A01eXfjC"
      },
      "outputs": [],
      "source": [
        "!pip install langchain_community langchain_pinecone -q"
      ]
    },
    {
      "cell_type": "code",
      "execution_count": 5,
      "metadata": {
        "id": "Tiu4AEw1XxFL"
      },
      "outputs": [],
      "source": [
        "#!pip install pandas numpy\n",
        "#!pip install --upgrade numpy\n",
        "#!pip install numpy==1.26.4"
      ]
    },
    {
      "cell_type": "code",
      "execution_count": 6,
      "metadata": {
        "colab": {
          "base_uri": "https://localhost:8080/"
        },
        "id": "MKY-rSygbtg2",
        "outputId": "c7710754-4c08-4bd7-c311-7b6a1974dd60"
      },
      "outputs": [
        {
          "output_type": "stream",
          "name": "stdout",
          "text": [
            "Requirement already satisfied: numpy in /usr/local/lib/python3.11/dist-packages (1.26.4)\n",
            "Collecting numpy\n",
            "  Using cached numpy-2.2.4-cp311-cp311-manylinux_2_17_x86_64.manylinux2014_x86_64.whl.metadata (62 kB)\n",
            "Requirement already satisfied: transformers in /usr/local/lib/python3.11/dist-packages (4.50.3)\n",
            "Requirement already satisfied: filelock in /usr/local/lib/python3.11/dist-packages (from transformers) (3.18.0)\n",
            "Requirement already satisfied: huggingface-hub<1.0,>=0.26.0 in /usr/local/lib/python3.11/dist-packages (from transformers) (0.29.3)\n",
            "Requirement already satisfied: packaging>=20.0 in /usr/local/lib/python3.11/dist-packages (from transformers) (24.2)\n",
            "Requirement already satisfied: pyyaml>=5.1 in /usr/local/lib/python3.11/dist-packages (from transformers) (6.0.2)\n",
            "Requirement already satisfied: regex!=2019.12.17 in /usr/local/lib/python3.11/dist-packages (from transformers) (2024.11.6)\n",
            "Requirement already satisfied: requests in /usr/local/lib/python3.11/dist-packages (from transformers) (2.32.3)\n",
            "Requirement already satisfied: tokenizers<0.22,>=0.21 in /usr/local/lib/python3.11/dist-packages (from transformers) (0.21.1)\n",
            "Requirement already satisfied: safetensors>=0.4.3 in /usr/local/lib/python3.11/dist-packages (from transformers) (0.5.3)\n",
            "Requirement already satisfied: tqdm>=4.27 in /usr/local/lib/python3.11/dist-packages (from transformers) (4.67.1)\n",
            "Requirement already satisfied: fsspec>=2023.5.0 in /usr/local/lib/python3.11/dist-packages (from huggingface-hub<1.0,>=0.26.0->transformers) (2025.3.0)\n",
            "Requirement already satisfied: typing-extensions>=3.7.4.3 in /usr/local/lib/python3.11/dist-packages (from huggingface-hub<1.0,>=0.26.0->transformers) (4.12.2)\n",
            "Requirement already satisfied: charset-normalizer<4,>=2 in /usr/local/lib/python3.11/dist-packages (from requests->transformers) (3.4.1)\n",
            "Requirement already satisfied: idna<4,>=2.5 in /usr/local/lib/python3.11/dist-packages (from requests->transformers) (3.10)\n",
            "Requirement already satisfied: urllib3<3,>=1.21.1 in /usr/local/lib/python3.11/dist-packages (from requests->transformers) (2.3.0)\n",
            "Requirement already satisfied: certifi>=2017.4.17 in /usr/local/lib/python3.11/dist-packages (from requests->transformers) (2025.1.31)\n",
            "Using cached numpy-2.2.4-cp311-cp311-manylinux_2_17_x86_64.manylinux2014_x86_64.whl (16.4 MB)\n",
            "Installing collected packages: numpy\n",
            "  Attempting uninstall: numpy\n",
            "    Found existing installation: numpy 1.26.4\n",
            "    Uninstalling numpy-1.26.4:\n",
            "      Successfully uninstalled numpy-1.26.4\n",
            "\u001b[31mERROR: pip's dependency resolver does not currently take into account all the packages that are installed. This behaviour is the source of the following dependency conflicts.\n",
            "langchain-pinecone 0.2.3 requires numpy<2.0.0,>=1.26.4, but you have numpy 2.2.4 which is incompatible.\n",
            "numba 0.60.0 requires numpy<2.1,>=1.22, but you have numpy 2.2.4 which is incompatible.\n",
            "tensorflow 2.18.0 requires numpy<2.1.0,>=1.26.0, but you have numpy 2.2.4 which is incompatible.\u001b[0m\u001b[31m\n",
            "\u001b[0mSuccessfully installed numpy-2.2.4\n"
          ]
        }
      ],
      "source": [
        "!pip install --upgrade numpy transformers"
      ]
    },
    {
      "cell_type": "code",
      "execution_count": 7,
      "metadata": {
        "id": "hEaVamBqe1qw"
      },
      "outputs": [],
      "source": [
        "!pip install tiktoken -q"
      ]
    },
    {
      "cell_type": "code",
      "execution_count": 8,
      "metadata": {
        "colab": {
          "base_uri": "https://localhost:8080/"
        },
        "id": "Y_twy44Yj02K",
        "outputId": "77a8fe68-3b20-4f08-b478-4bda69bc92e1"
      },
      "outputs": [
        {
          "output_type": "stream",
          "name": "stdout",
          "text": [
            "Requirement already satisfied: chromadb in /usr/local/lib/python3.11/dist-packages (0.6.3)\n",
            "Requirement already satisfied: build>=1.0.3 in /usr/local/lib/python3.11/dist-packages (from chromadb) (1.2.2.post1)\n",
            "Requirement already satisfied: pydantic>=1.9 in /usr/local/lib/python3.11/dist-packages (from chromadb) (2.10.6)\n",
            "Requirement already satisfied: chroma-hnswlib==0.7.6 in /usr/local/lib/python3.11/dist-packages (from chromadb) (0.7.6)\n",
            "Requirement already satisfied: fastapi>=0.95.2 in /usr/local/lib/python3.11/dist-packages (from chromadb) (0.115.12)\n",
            "Requirement already satisfied: uvicorn>=0.18.3 in /usr/local/lib/python3.11/dist-packages (from uvicorn[standard]>=0.18.3->chromadb) (0.34.0)\n",
            "Requirement already satisfied: numpy>=1.22.5 in /usr/local/lib/python3.11/dist-packages (from chromadb) (2.2.4)\n",
            "Requirement already satisfied: posthog>=2.4.0 in /usr/local/lib/python3.11/dist-packages (from chromadb) (3.23.0)\n",
            "Requirement already satisfied: typing_extensions>=4.5.0 in /usr/local/lib/python3.11/dist-packages (from chromadb) (4.12.2)\n",
            "Requirement already satisfied: onnxruntime>=1.14.1 in /usr/local/lib/python3.11/dist-packages (from chromadb) (1.21.0)\n",
            "Requirement already satisfied: opentelemetry-api>=1.2.0 in /usr/local/lib/python3.11/dist-packages (from chromadb) (1.31.1)\n",
            "Requirement already satisfied: opentelemetry-exporter-otlp-proto-grpc>=1.2.0 in /usr/local/lib/python3.11/dist-packages (from chromadb) (1.31.1)\n",
            "Requirement already satisfied: opentelemetry-instrumentation-fastapi>=0.41b0 in /usr/local/lib/python3.11/dist-packages (from chromadb) (0.52b1)\n",
            "Requirement already satisfied: opentelemetry-sdk>=1.2.0 in /usr/local/lib/python3.11/dist-packages (from chromadb) (1.31.1)\n",
            "Requirement already satisfied: tokenizers>=0.13.2 in /usr/local/lib/python3.11/dist-packages (from chromadb) (0.21.1)\n",
            "Requirement already satisfied: pypika>=0.48.9 in /usr/local/lib/python3.11/dist-packages (from chromadb) (0.48.9)\n",
            "Requirement already satisfied: tqdm>=4.65.0 in /usr/local/lib/python3.11/dist-packages (from chromadb) (4.67.1)\n",
            "Requirement already satisfied: overrides>=7.3.1 in /usr/local/lib/python3.11/dist-packages (from chromadb) (7.7.0)\n",
            "Requirement already satisfied: importlib-resources in /usr/local/lib/python3.11/dist-packages (from chromadb) (6.5.2)\n",
            "Requirement already satisfied: grpcio>=1.58.0 in /usr/local/lib/python3.11/dist-packages (from chromadb) (1.71.0)\n",
            "Requirement already satisfied: bcrypt>=4.0.1 in /usr/local/lib/python3.11/dist-packages (from chromadb) (4.3.0)\n",
            "Requirement already satisfied: typer>=0.9.0 in /usr/local/lib/python3.11/dist-packages (from chromadb) (0.15.2)\n",
            "Requirement already satisfied: kubernetes>=28.1.0 in /usr/local/lib/python3.11/dist-packages (from chromadb) (32.0.1)\n",
            "Requirement already satisfied: tenacity>=8.2.3 in /usr/local/lib/python3.11/dist-packages (from chromadb) (9.0.0)\n",
            "Requirement already satisfied: PyYAML>=6.0.0 in /usr/local/lib/python3.11/dist-packages (from chromadb) (6.0.2)\n",
            "Requirement already satisfied: mmh3>=4.0.1 in /usr/local/lib/python3.11/dist-packages (from chromadb) (5.1.0)\n",
            "Requirement already satisfied: orjson>=3.9.12 in /usr/local/lib/python3.11/dist-packages (from chromadb) (3.10.15)\n",
            "Requirement already satisfied: httpx>=0.27.0 in /usr/local/lib/python3.11/dist-packages (from chromadb) (0.28.1)\n",
            "Requirement already satisfied: rich>=10.11.0 in /usr/local/lib/python3.11/dist-packages (from chromadb) (13.9.4)\n",
            "Requirement already satisfied: packaging>=19.1 in /usr/local/lib/python3.11/dist-packages (from build>=1.0.3->chromadb) (24.2)\n",
            "Requirement already satisfied: pyproject_hooks in /usr/local/lib/python3.11/dist-packages (from build>=1.0.3->chromadb) (1.2.0)\n",
            "Requirement already satisfied: starlette<0.47.0,>=0.40.0 in /usr/local/lib/python3.11/dist-packages (from fastapi>=0.95.2->chromadb) (0.46.1)\n",
            "Requirement already satisfied: anyio in /usr/local/lib/python3.11/dist-packages (from httpx>=0.27.0->chromadb) (4.9.0)\n",
            "Requirement already satisfied: certifi in /usr/local/lib/python3.11/dist-packages (from httpx>=0.27.0->chromadb) (2025.1.31)\n",
            "Requirement already satisfied: httpcore==1.* in /usr/local/lib/python3.11/dist-packages (from httpx>=0.27.0->chromadb) (1.0.7)\n",
            "Requirement already satisfied: idna in /usr/local/lib/python3.11/dist-packages (from httpx>=0.27.0->chromadb) (3.10)\n",
            "Requirement already satisfied: h11<0.15,>=0.13 in /usr/local/lib/python3.11/dist-packages (from httpcore==1.*->httpx>=0.27.0->chromadb) (0.14.0)\n",
            "Requirement already satisfied: six>=1.9.0 in /usr/local/lib/python3.11/dist-packages (from kubernetes>=28.1.0->chromadb) (1.17.0)\n",
            "Requirement already satisfied: python-dateutil>=2.5.3 in /usr/local/lib/python3.11/dist-packages (from kubernetes>=28.1.0->chromadb) (2.8.2)\n",
            "Requirement already satisfied: google-auth>=1.0.1 in /usr/local/lib/python3.11/dist-packages (from kubernetes>=28.1.0->chromadb) (2.38.0)\n",
            "Requirement already satisfied: websocket-client!=0.40.0,!=0.41.*,!=0.42.*,>=0.32.0 in /usr/local/lib/python3.11/dist-packages (from kubernetes>=28.1.0->chromadb) (1.8.0)\n",
            "Requirement already satisfied: requests in /usr/local/lib/python3.11/dist-packages (from kubernetes>=28.1.0->chromadb) (2.32.3)\n",
            "Requirement already satisfied: requests-oauthlib in /usr/local/lib/python3.11/dist-packages (from kubernetes>=28.1.0->chromadb) (2.0.0)\n",
            "Requirement already satisfied: oauthlib>=3.2.2 in /usr/local/lib/python3.11/dist-packages (from kubernetes>=28.1.0->chromadb) (3.2.2)\n",
            "Requirement already satisfied: urllib3>=1.24.2 in /usr/local/lib/python3.11/dist-packages (from kubernetes>=28.1.0->chromadb) (2.3.0)\n",
            "Requirement already satisfied: durationpy>=0.7 in /usr/local/lib/python3.11/dist-packages (from kubernetes>=28.1.0->chromadb) (0.9)\n",
            "Requirement already satisfied: coloredlogs in /usr/local/lib/python3.11/dist-packages (from onnxruntime>=1.14.1->chromadb) (15.0.1)\n",
            "Requirement already satisfied: flatbuffers in /usr/local/lib/python3.11/dist-packages (from onnxruntime>=1.14.1->chromadb) (25.2.10)\n",
            "Requirement already satisfied: protobuf in /usr/local/lib/python3.11/dist-packages (from onnxruntime>=1.14.1->chromadb) (5.29.4)\n",
            "Requirement already satisfied: sympy in /usr/local/lib/python3.11/dist-packages (from onnxruntime>=1.14.1->chromadb) (1.13.1)\n",
            "Requirement already satisfied: deprecated>=1.2.6 in /usr/local/lib/python3.11/dist-packages (from opentelemetry-api>=1.2.0->chromadb) (1.2.18)\n",
            "Requirement already satisfied: importlib-metadata<8.7.0,>=6.0 in /usr/local/lib/python3.11/dist-packages (from opentelemetry-api>=1.2.0->chromadb) (8.6.1)\n",
            "Requirement already satisfied: googleapis-common-protos~=1.52 in /usr/local/lib/python3.11/dist-packages (from opentelemetry-exporter-otlp-proto-grpc>=1.2.0->chromadb) (1.69.2)\n",
            "Requirement already satisfied: opentelemetry-exporter-otlp-proto-common==1.31.1 in /usr/local/lib/python3.11/dist-packages (from opentelemetry-exporter-otlp-proto-grpc>=1.2.0->chromadb) (1.31.1)\n",
            "Requirement already satisfied: opentelemetry-proto==1.31.1 in /usr/local/lib/python3.11/dist-packages (from opentelemetry-exporter-otlp-proto-grpc>=1.2.0->chromadb) (1.31.1)\n",
            "Requirement already satisfied: opentelemetry-instrumentation-asgi==0.52b1 in /usr/local/lib/python3.11/dist-packages (from opentelemetry-instrumentation-fastapi>=0.41b0->chromadb) (0.52b1)\n",
            "Requirement already satisfied: opentelemetry-instrumentation==0.52b1 in /usr/local/lib/python3.11/dist-packages (from opentelemetry-instrumentation-fastapi>=0.41b0->chromadb) (0.52b1)\n",
            "Requirement already satisfied: opentelemetry-semantic-conventions==0.52b1 in /usr/local/lib/python3.11/dist-packages (from opentelemetry-instrumentation-fastapi>=0.41b0->chromadb) (0.52b1)\n",
            "Requirement already satisfied: opentelemetry-util-http==0.52b1 in /usr/local/lib/python3.11/dist-packages (from opentelemetry-instrumentation-fastapi>=0.41b0->chromadb) (0.52b1)\n",
            "Requirement already satisfied: wrapt<2.0.0,>=1.0.0 in /usr/local/lib/python3.11/dist-packages (from opentelemetry-instrumentation==0.52b1->opentelemetry-instrumentation-fastapi>=0.41b0->chromadb) (1.17.2)\n",
            "Requirement already satisfied: asgiref~=3.0 in /usr/local/lib/python3.11/dist-packages (from opentelemetry-instrumentation-asgi==0.52b1->opentelemetry-instrumentation-fastapi>=0.41b0->chromadb) (3.8.1)\n",
            "Requirement already satisfied: monotonic>=1.5 in /usr/local/lib/python3.11/dist-packages (from posthog>=2.4.0->chromadb) (1.6)\n",
            "Requirement already satisfied: backoff>=1.10.0 in /usr/local/lib/python3.11/dist-packages (from posthog>=2.4.0->chromadb) (2.2.1)\n",
            "Requirement already satisfied: distro>=1.5.0 in /usr/local/lib/python3.11/dist-packages (from posthog>=2.4.0->chromadb) (1.9.0)\n",
            "Requirement already satisfied: annotated-types>=0.6.0 in /usr/local/lib/python3.11/dist-packages (from pydantic>=1.9->chromadb) (0.7.0)\n",
            "Requirement already satisfied: pydantic-core==2.27.2 in /usr/local/lib/python3.11/dist-packages (from pydantic>=1.9->chromadb) (2.27.2)\n",
            "Requirement already satisfied: markdown-it-py>=2.2.0 in /usr/local/lib/python3.11/dist-packages (from rich>=10.11.0->chromadb) (3.0.0)\n",
            "Requirement already satisfied: pygments<3.0.0,>=2.13.0 in /usr/local/lib/python3.11/dist-packages (from rich>=10.11.0->chromadb) (2.18.0)\n",
            "Requirement already satisfied: huggingface-hub<1.0,>=0.16.4 in /usr/local/lib/python3.11/dist-packages (from tokenizers>=0.13.2->chromadb) (0.29.3)\n",
            "Requirement already satisfied: click>=8.0.0 in /usr/local/lib/python3.11/dist-packages (from typer>=0.9.0->chromadb) (8.1.8)\n",
            "Requirement already satisfied: shellingham>=1.3.0 in /usr/local/lib/python3.11/dist-packages (from typer>=0.9.0->chromadb) (1.5.4)\n",
            "Requirement already satisfied: httptools>=0.6.3 in /usr/local/lib/python3.11/dist-packages (from uvicorn[standard]>=0.18.3->chromadb) (0.6.4)\n",
            "Requirement already satisfied: python-dotenv>=0.13 in /usr/local/lib/python3.11/dist-packages (from uvicorn[standard]>=0.18.3->chromadb) (1.1.0)\n",
            "Requirement already satisfied: uvloop!=0.15.0,!=0.15.1,>=0.14.0 in /usr/local/lib/python3.11/dist-packages (from uvicorn[standard]>=0.18.3->chromadb) (0.21.0)\n",
            "Requirement already satisfied: watchfiles>=0.13 in /usr/local/lib/python3.11/dist-packages (from uvicorn[standard]>=0.18.3->chromadb) (1.0.4)\n",
            "Requirement already satisfied: websockets>=10.4 in /usr/local/lib/python3.11/dist-packages (from uvicorn[standard]>=0.18.3->chromadb) (15.0.1)\n",
            "Requirement already satisfied: cachetools<6.0,>=2.0.0 in /usr/local/lib/python3.11/dist-packages (from google-auth>=1.0.1->kubernetes>=28.1.0->chromadb) (5.5.2)\n",
            "Requirement already satisfied: pyasn1-modules>=0.2.1 in /usr/local/lib/python3.11/dist-packages (from google-auth>=1.0.1->kubernetes>=28.1.0->chromadb) (0.4.1)\n",
            "Requirement already satisfied: rsa<5,>=3.1.4 in /usr/local/lib/python3.11/dist-packages (from google-auth>=1.0.1->kubernetes>=28.1.0->chromadb) (4.9)\n",
            "Requirement already satisfied: filelock in /usr/local/lib/python3.11/dist-packages (from huggingface-hub<1.0,>=0.16.4->tokenizers>=0.13.2->chromadb) (3.18.0)\n",
            "Requirement already satisfied: fsspec>=2023.5.0 in /usr/local/lib/python3.11/dist-packages (from huggingface-hub<1.0,>=0.16.4->tokenizers>=0.13.2->chromadb) (2025.3.0)\n",
            "Requirement already satisfied: zipp>=3.20 in /usr/local/lib/python3.11/dist-packages (from importlib-metadata<8.7.0,>=6.0->opentelemetry-api>=1.2.0->chromadb) (3.21.0)\n",
            "Requirement already satisfied: mdurl~=0.1 in /usr/local/lib/python3.11/dist-packages (from markdown-it-py>=2.2.0->rich>=10.11.0->chromadb) (0.1.2)\n",
            "Requirement already satisfied: charset-normalizer<4,>=2 in /usr/local/lib/python3.11/dist-packages (from requests->kubernetes>=28.1.0->chromadb) (3.4.1)\n",
            "Requirement already satisfied: sniffio>=1.1 in /usr/local/lib/python3.11/dist-packages (from anyio->httpx>=0.27.0->chromadb) (1.3.1)\n",
            "Requirement already satisfied: humanfriendly>=9.1 in /usr/local/lib/python3.11/dist-packages (from coloredlogs->onnxruntime>=1.14.1->chromadb) (10.0)\n",
            "Requirement already satisfied: mpmath<1.4,>=1.1.0 in /usr/local/lib/python3.11/dist-packages (from sympy->onnxruntime>=1.14.1->chromadb) (1.3.0)\n",
            "Requirement already satisfied: pyasn1<0.7.0,>=0.4.6 in /usr/local/lib/python3.11/dist-packages (from pyasn1-modules>=0.2.1->google-auth>=1.0.1->kubernetes>=28.1.0->chromadb) (0.6.1)\n"
          ]
        }
      ],
      "source": [
        "!pip install chromadb"
      ]
    },
    {
      "cell_type": "code",
      "execution_count": 9,
      "metadata": {
        "id": "QkIsVS1TXR_C"
      },
      "outputs": [],
      "source": [
        "import pandas as pd\n",
        "import numpy as np\n",
        "from groq import Groq\n",
        "import os\n",
        "import pinecone\n",
        "\n",
        "from langchain_community.vectorstores import Chroma\n",
        "from langchain.text_splitter import TokenTextSplitter\n",
        "from langchain.docstore.document import Document\n",
        "from langchain_community.embeddings.sentence_transformer import SentenceTransformerEmbeddings\n",
        "from langchain_pinecone import PineconeVectorStore\n",
        "from transformers import AutoModelForCausalLM, AutoTokenizer\n",
        "from sklearn.metrics.pairwise import cosine_similarity\n",
        "\n",
        "from IPython.display import display, HTML"
      ]
    },
    {
      "cell_type": "code",
      "execution_count": 10,
      "metadata": {
        "id": "isSPkqesXGrK"
      },
      "outputs": [],
      "source": [
        "client = Groq(api_key = groq_api_key)\n",
        "model = \"llama3-8b-8192\""
      ]
    },
    {
      "cell_type": "code",
      "execution_count": 11,
      "metadata": {
        "colab": {
          "base_uri": "https://localhost:8080/",
          "height": 206
        },
        "id": "rDM6e4w8XGoT",
        "outputId": "b6156273-f6af-4810-93de-fb2a92a68cf8"
      },
      "outputs": [
        {
          "output_type": "execute_result",
          "data": {
            "text/plain": [
              "         Date          President         Party  \\\n",
              "0  1789-04-30  George Washington  Unaffiliated   \n",
              "1  1789-10-03  George Washington  Unaffiliated   \n",
              "2  1790-01-08  George Washington  Unaffiliated   \n",
              "3  1790-12-08  George Washington  Unaffiliated   \n",
              "4  1790-12-29  George Washington  Unaffiliated   \n",
              "\n",
              "                                        Speech Title  \\\n",
              "0                            First Inaugural Address   \n",
              "1                          Thanksgiving Proclamation   \n",
              "2                   First Annual Message to Congress   \n",
              "3                  Second Annual Message to Congress   \n",
              "4  Talk to the Chiefs and Counselors of the Senec...   \n",
              "\n",
              "                                             Summary  \\\n",
              "0  Washington calls on Congress to avoid local an...   \n",
              "1  At the request of Congress, Washington establi...   \n",
              "2  In a wide ranging speech, President Washington...   \n",
              "3  Washington focuses on commerce in his second a...   \n",
              "4  The President reassures the Seneca Nation that...   \n",
              "\n",
              "                                          Transcript  \\\n",
              "0  Fellow Citizens of the Senate and the House of...   \n",
              "1  Whereas it is the duty of all Nations to ackno...   \n",
              "2  Fellow Citizens of the Senate and House of Rep...   \n",
              "3  Fellow citizens of the Senate and House of Rep...   \n",
              "4  I the President of the United States, by my ow...   \n",
              "\n",
              "                                                 URL  \n",
              "0  https://millercenter.org/the-presidency/presid...  \n",
              "1  https://millercenter.org/the-presidency/presid...  \n",
              "2  https://millercenter.org/the-presidency/presid...  \n",
              "3  https://millercenter.org/the-presidency/presid...  \n",
              "4  https://millercenter.org/the-presidency/presid...  "
            ],
            "text/html": [
              "\n",
              "  <div id=\"df-3628a6c7-8488-4bb0-9476-827a40616fed\" class=\"colab-df-container\">\n",
              "    <div>\n",
              "<style scoped>\n",
              "    .dataframe tbody tr th:only-of-type {\n",
              "        vertical-align: middle;\n",
              "    }\n",
              "\n",
              "    .dataframe tbody tr th {\n",
              "        vertical-align: top;\n",
              "    }\n",
              "\n",
              "    .dataframe thead th {\n",
              "        text-align: right;\n",
              "    }\n",
              "</style>\n",
              "<table border=\"1\" class=\"dataframe\">\n",
              "  <thead>\n",
              "    <tr style=\"text-align: right;\">\n",
              "      <th></th>\n",
              "      <th>Date</th>\n",
              "      <th>President</th>\n",
              "      <th>Party</th>\n",
              "      <th>Speech Title</th>\n",
              "      <th>Summary</th>\n",
              "      <th>Transcript</th>\n",
              "      <th>URL</th>\n",
              "    </tr>\n",
              "  </thead>\n",
              "  <tbody>\n",
              "    <tr>\n",
              "      <th>0</th>\n",
              "      <td>1789-04-30</td>\n",
              "      <td>George Washington</td>\n",
              "      <td>Unaffiliated</td>\n",
              "      <td>First Inaugural Address</td>\n",
              "      <td>Washington calls on Congress to avoid local an...</td>\n",
              "      <td>Fellow Citizens of the Senate and the House of...</td>\n",
              "      <td>https://millercenter.org/the-presidency/presid...</td>\n",
              "    </tr>\n",
              "    <tr>\n",
              "      <th>1</th>\n",
              "      <td>1789-10-03</td>\n",
              "      <td>George Washington</td>\n",
              "      <td>Unaffiliated</td>\n",
              "      <td>Thanksgiving Proclamation</td>\n",
              "      <td>At the request of Congress, Washington establi...</td>\n",
              "      <td>Whereas it is the duty of all Nations to ackno...</td>\n",
              "      <td>https://millercenter.org/the-presidency/presid...</td>\n",
              "    </tr>\n",
              "    <tr>\n",
              "      <th>2</th>\n",
              "      <td>1790-01-08</td>\n",
              "      <td>George Washington</td>\n",
              "      <td>Unaffiliated</td>\n",
              "      <td>First Annual Message to Congress</td>\n",
              "      <td>In a wide ranging speech, President Washington...</td>\n",
              "      <td>Fellow Citizens of the Senate and House of Rep...</td>\n",
              "      <td>https://millercenter.org/the-presidency/presid...</td>\n",
              "    </tr>\n",
              "    <tr>\n",
              "      <th>3</th>\n",
              "      <td>1790-12-08</td>\n",
              "      <td>George Washington</td>\n",
              "      <td>Unaffiliated</td>\n",
              "      <td>Second Annual Message to Congress</td>\n",
              "      <td>Washington focuses on commerce in his second a...</td>\n",
              "      <td>Fellow citizens of the Senate and House of Rep...</td>\n",
              "      <td>https://millercenter.org/the-presidency/presid...</td>\n",
              "    </tr>\n",
              "    <tr>\n",
              "      <th>4</th>\n",
              "      <td>1790-12-29</td>\n",
              "      <td>George Washington</td>\n",
              "      <td>Unaffiliated</td>\n",
              "      <td>Talk to the Chiefs and Counselors of the Senec...</td>\n",
              "      <td>The President reassures the Seneca Nation that...</td>\n",
              "      <td>I the President of the United States, by my ow...</td>\n",
              "      <td>https://millercenter.org/the-presidency/presid...</td>\n",
              "    </tr>\n",
              "  </tbody>\n",
              "</table>\n",
              "</div>\n",
              "    <div class=\"colab-df-buttons\">\n",
              "\n",
              "  <div class=\"colab-df-container\">\n",
              "    <button class=\"colab-df-convert\" onclick=\"convertToInteractive('df-3628a6c7-8488-4bb0-9476-827a40616fed')\"\n",
              "            title=\"Convert this dataframe to an interactive table.\"\n",
              "            style=\"display:none;\">\n",
              "\n",
              "  <svg xmlns=\"http://www.w3.org/2000/svg\" height=\"24px\" viewBox=\"0 -960 960 960\">\n",
              "    <path d=\"M120-120v-720h720v720H120Zm60-500h600v-160H180v160Zm220 220h160v-160H400v160Zm0 220h160v-160H400v160ZM180-400h160v-160H180v160Zm440 0h160v-160H620v160ZM180-180h160v-160H180v160Zm440 0h160v-160H620v160Z\"/>\n",
              "  </svg>\n",
              "    </button>\n",
              "\n",
              "  <style>\n",
              "    .colab-df-container {\n",
              "      display:flex;\n",
              "      gap: 12px;\n",
              "    }\n",
              "\n",
              "    .colab-df-convert {\n",
              "      background-color: #E8F0FE;\n",
              "      border: none;\n",
              "      border-radius: 50%;\n",
              "      cursor: pointer;\n",
              "      display: none;\n",
              "      fill: #1967D2;\n",
              "      height: 32px;\n",
              "      padding: 0 0 0 0;\n",
              "      width: 32px;\n",
              "    }\n",
              "\n",
              "    .colab-df-convert:hover {\n",
              "      background-color: #E2EBFA;\n",
              "      box-shadow: 0px 1px 2px rgba(60, 64, 67, 0.3), 0px 1px 3px 1px rgba(60, 64, 67, 0.15);\n",
              "      fill: #174EA6;\n",
              "    }\n",
              "\n",
              "    .colab-df-buttons div {\n",
              "      margin-bottom: 4px;\n",
              "    }\n",
              "\n",
              "    [theme=dark] .colab-df-convert {\n",
              "      background-color: #3B4455;\n",
              "      fill: #D2E3FC;\n",
              "    }\n",
              "\n",
              "    [theme=dark] .colab-df-convert:hover {\n",
              "      background-color: #434B5C;\n",
              "      box-shadow: 0px 1px 3px 1px rgba(0, 0, 0, 0.15);\n",
              "      filter: drop-shadow(0px 1px 2px rgba(0, 0, 0, 0.3));\n",
              "      fill: #FFFFFF;\n",
              "    }\n",
              "  </style>\n",
              "\n",
              "    <script>\n",
              "      const buttonEl =\n",
              "        document.querySelector('#df-3628a6c7-8488-4bb0-9476-827a40616fed button.colab-df-convert');\n",
              "      buttonEl.style.display =\n",
              "        google.colab.kernel.accessAllowed ? 'block' : 'none';\n",
              "\n",
              "      async function convertToInteractive(key) {\n",
              "        const element = document.querySelector('#df-3628a6c7-8488-4bb0-9476-827a40616fed');\n",
              "        const dataTable =\n",
              "          await google.colab.kernel.invokeFunction('convertToInteractive',\n",
              "                                                    [key], {});\n",
              "        if (!dataTable) return;\n",
              "\n",
              "        const docLinkHtml = 'Like what you see? Visit the ' +\n",
              "          '<a target=\"_blank\" href=https://colab.research.google.com/notebooks/data_table.ipynb>data table notebook</a>'\n",
              "          + ' to learn more about interactive tables.';\n",
              "        element.innerHTML = '';\n",
              "        dataTable['output_type'] = 'display_data';\n",
              "        await google.colab.output.renderOutput(dataTable, element);\n",
              "        const docLink = document.createElement('div');\n",
              "        docLink.innerHTML = docLinkHtml;\n",
              "        element.appendChild(docLink);\n",
              "      }\n",
              "    </script>\n",
              "  </div>\n",
              "\n",
              "\n",
              "<div id=\"df-6063c0f1-bd25-407e-9303-74ff03d94624\">\n",
              "  <button class=\"colab-df-quickchart\" onclick=\"quickchart('df-6063c0f1-bd25-407e-9303-74ff03d94624')\"\n",
              "            title=\"Suggest charts\"\n",
              "            style=\"display:none;\">\n",
              "\n",
              "<svg xmlns=\"http://www.w3.org/2000/svg\" height=\"24px\"viewBox=\"0 0 24 24\"\n",
              "     width=\"24px\">\n",
              "    <g>\n",
              "        <path d=\"M19 3H5c-1.1 0-2 .9-2 2v14c0 1.1.9 2 2 2h14c1.1 0 2-.9 2-2V5c0-1.1-.9-2-2-2zM9 17H7v-7h2v7zm4 0h-2V7h2v10zm4 0h-2v-4h2v4z\"/>\n",
              "    </g>\n",
              "</svg>\n",
              "  </button>\n",
              "\n",
              "<style>\n",
              "  .colab-df-quickchart {\n",
              "      --bg-color: #E8F0FE;\n",
              "      --fill-color: #1967D2;\n",
              "      --hover-bg-color: #E2EBFA;\n",
              "      --hover-fill-color: #174EA6;\n",
              "      --disabled-fill-color: #AAA;\n",
              "      --disabled-bg-color: #DDD;\n",
              "  }\n",
              "\n",
              "  [theme=dark] .colab-df-quickchart {\n",
              "      --bg-color: #3B4455;\n",
              "      --fill-color: #D2E3FC;\n",
              "      --hover-bg-color: #434B5C;\n",
              "      --hover-fill-color: #FFFFFF;\n",
              "      --disabled-bg-color: #3B4455;\n",
              "      --disabled-fill-color: #666;\n",
              "  }\n",
              "\n",
              "  .colab-df-quickchart {\n",
              "    background-color: var(--bg-color);\n",
              "    border: none;\n",
              "    border-radius: 50%;\n",
              "    cursor: pointer;\n",
              "    display: none;\n",
              "    fill: var(--fill-color);\n",
              "    height: 32px;\n",
              "    padding: 0;\n",
              "    width: 32px;\n",
              "  }\n",
              "\n",
              "  .colab-df-quickchart:hover {\n",
              "    background-color: var(--hover-bg-color);\n",
              "    box-shadow: 0 1px 2px rgba(60, 64, 67, 0.3), 0 1px 3px 1px rgba(60, 64, 67, 0.15);\n",
              "    fill: var(--button-hover-fill-color);\n",
              "  }\n",
              "\n",
              "  .colab-df-quickchart-complete:disabled,\n",
              "  .colab-df-quickchart-complete:disabled:hover {\n",
              "    background-color: var(--disabled-bg-color);\n",
              "    fill: var(--disabled-fill-color);\n",
              "    box-shadow: none;\n",
              "  }\n",
              "\n",
              "  .colab-df-spinner {\n",
              "    border: 2px solid var(--fill-color);\n",
              "    border-color: transparent;\n",
              "    border-bottom-color: var(--fill-color);\n",
              "    animation:\n",
              "      spin 1s steps(1) infinite;\n",
              "  }\n",
              "\n",
              "  @keyframes spin {\n",
              "    0% {\n",
              "      border-color: transparent;\n",
              "      border-bottom-color: var(--fill-color);\n",
              "      border-left-color: var(--fill-color);\n",
              "    }\n",
              "    20% {\n",
              "      border-color: transparent;\n",
              "      border-left-color: var(--fill-color);\n",
              "      border-top-color: var(--fill-color);\n",
              "    }\n",
              "    30% {\n",
              "      border-color: transparent;\n",
              "      border-left-color: var(--fill-color);\n",
              "      border-top-color: var(--fill-color);\n",
              "      border-right-color: var(--fill-color);\n",
              "    }\n",
              "    40% {\n",
              "      border-color: transparent;\n",
              "      border-right-color: var(--fill-color);\n",
              "      border-top-color: var(--fill-color);\n",
              "    }\n",
              "    60% {\n",
              "      border-color: transparent;\n",
              "      border-right-color: var(--fill-color);\n",
              "    }\n",
              "    80% {\n",
              "      border-color: transparent;\n",
              "      border-right-color: var(--fill-color);\n",
              "      border-bottom-color: var(--fill-color);\n",
              "    }\n",
              "    90% {\n",
              "      border-color: transparent;\n",
              "      border-bottom-color: var(--fill-color);\n",
              "    }\n",
              "  }\n",
              "</style>\n",
              "\n",
              "  <script>\n",
              "    async function quickchart(key) {\n",
              "      const quickchartButtonEl =\n",
              "        document.querySelector('#' + key + ' button');\n",
              "      quickchartButtonEl.disabled = true;  // To prevent multiple clicks.\n",
              "      quickchartButtonEl.classList.add('colab-df-spinner');\n",
              "      try {\n",
              "        const charts = await google.colab.kernel.invokeFunction(\n",
              "            'suggestCharts', [key], {});\n",
              "      } catch (error) {\n",
              "        console.error('Error during call to suggestCharts:', error);\n",
              "      }\n",
              "      quickchartButtonEl.classList.remove('colab-df-spinner');\n",
              "      quickchartButtonEl.classList.add('colab-df-quickchart-complete');\n",
              "    }\n",
              "    (() => {\n",
              "      let quickchartButtonEl =\n",
              "        document.querySelector('#df-6063c0f1-bd25-407e-9303-74ff03d94624 button');\n",
              "      quickchartButtonEl.style.display =\n",
              "        google.colab.kernel.accessAllowed ? 'block' : 'none';\n",
              "    })();\n",
              "  </script>\n",
              "</div>\n",
              "\n",
              "    </div>\n",
              "  </div>\n"
            ],
            "application/vnd.google.colaboratory.intrinsic+json": {
              "type": "dataframe",
              "variable_name": "presidential_speeches_df",
              "summary": "{\n  \"name\": \"presidential_speeches_df\",\n  \"rows\": 992,\n  \"fields\": [\n    {\n      \"column\": \"Date\",\n      \"properties\": {\n        \"dtype\": \"object\",\n        \"num_unique_values\": 970,\n        \"samples\": [\n          \"1961-01-09\",\n          \"1869-05-14\",\n          \"1905-12-05\"\n        ],\n        \"semantic_type\": \"\",\n        \"description\": \"\"\n      }\n    },\n    {\n      \"column\": \"President\",\n      \"properties\": {\n        \"dtype\": \"category\",\n        \"num_unique_values\": 44,\n        \"samples\": [\n          \"Gerald Ford\",\n          \"Theodore Roosevelt\",\n          \"William Taft\"\n        ],\n        \"semantic_type\": \"\",\n        \"description\": \"\"\n      }\n    },\n    {\n      \"column\": \"Party\",\n      \"properties\": {\n        \"dtype\": \"category\",\n        \"num_unique_values\": 6,\n        \"samples\": [\n          \"Unaffiliated\",\n          \"Federalist\",\n          \"Republican\"\n        ],\n        \"semantic_type\": \"\",\n        \"description\": \"\"\n      }\n    },\n    {\n      \"column\": \"Speech Title\",\n      \"properties\": {\n        \"dtype\": \"string\",\n        \"num_unique_values\": 716,\n        \"samples\": [\n          \"Message Regarding Newly Acquired Territories\",\n          \"Address to the American Bankers\\u2019 Association.\",\n          \"Proclamation on Spanish Territory\"\n        ],\n        \"semantic_type\": \"\",\n        \"description\": \"\"\n      }\n    },\n    {\n      \"column\": \"Summary\",\n      \"properties\": {\n        \"dtype\": \"string\",\n        \"num_unique_values\": 687,\n        \"samples\": [\n          \"President Hoover makes a statement on Federal Government funding of employment and relief efforts. He also emphasizes the importance of mobilizing and organizing \\u201cself help\\u201d agencies and state and local governments to provide aid.\",\n          \"President Obama delivers his State of the Union Address for 2013, with Vice President Joe Biden and Speaker of the House John Boehner.\",\n          \"Harding accepts the Republican nomination for President.\"\n        ],\n        \"semantic_type\": \"\",\n        \"description\": \"\"\n      }\n    },\n    {\n      \"column\": \"Transcript\",\n      \"properties\": {\n        \"dtype\": \"string\",\n        \"num_unique_values\": 987,\n        \"samples\": [\n          \"For the fourth time in the history of the Republic its Chief Magistrate has been removed by death. All hearts are filled with grief and horror at the hideous crime which has darkened our land, and the memory of the murdered President, his protracted sufferings, his unyielding fortitude, the example and achievements of his life, and the pathos of his death will forever illumine the pages of our history. For the fourth time the officer elected by the people and ordained by the Constitution to fill a vacancy so created is called to assume the Executive chair. The wisdom of our fathers, foreseeing even the most dire possibilities, made sure that the Government should never be imperiled because of the uncertainty of human life. Men may die, but the fabrics of our free institutions remain unshaken. No higher or more assuring proof could exist of the strength and permanence of popular government than the fact that though the chosen of the people be struck down his constitutional successor is peacefully installed without shock or strain except the sorrow which mourns the bereavement. All the noble aspirations of my lamented predecessor which found expression in his life, the measures devised and suggested during his brief Administration to correct abuses, to enforce economy, to advance prosperity, and to promote the general welfare, to Insure domestic security and maintain friendly and honorable relations with the nations of the earth, will be garnered in the hearts of the people; and it will be my earnest endeavor to profit, and to see that the nation shall profit, by his example and experience. Prosperity blesses our country. Our fiscal policy is fixed by law, is well grounded and generally approved. No threatening issue mars our foreign intercourse, and the wisdom, integrity, and thrift of our people may be trusted to continue undisturbed the present assured career of peace, tranquilly, and welfare. The gloom and anxiety which have enshrouded the country must make repose especially welcome now. No demand for speedy legislation has been heard; no adequate occasion is apparent for an unusual session of Congress. The Constitution defines the functions and powers of the executive as clearly as those of either of the other two departments of the Government, and he must answer for the just exercise of the discretion it permits and the performance of the duties it imposes. Summoned to these high duties and responsibilities and profoundly conscious of their magnitude and gravity, I assume the trust imposed by the Constitution, relying for aid on divine guidance and the virtue, patriotism, and intelligence of the American people\",\n          \"To the Senate of the United States: I have the satisfaction to communicate to the Senate the results of the negotiations recently had in this city with the British minister, special and extraordinary. These results comprise First. A treaty to settle and define the boundaries between the territories of the United States and the possessions of Her Britannic Majesty in North America, for the suppression of the African slave trade, and the surrender of criminals fugitive from justice in certain cases. Second. A correspondence on the subject of the interference of the colonial authorities of the British West Indies with American merchant vessels driven by stress of weather or carried by violence into the ports of those colonies. Third. A correspondence upon the subject of the attack and destruction of the steamboat Caroline. Fourth. A correspondence on the subject of impressment. If this treaty shall receive the approbation of the Senate, it will terminate a difference respecting boundary which has long subsisted between the two Governments, has been the subject of several ineffectual attempts at settlement, and has sometimes led to great irritation, not without danger of disturbing the existing peace. Both the United States and the States more immediately concerned have entertained no doubt of the validity of the American title to all the territory which has been in dispute, but that title was controverted and the Government of the United States had agreed to make the dispute a subject of arbitration. One arbitration had been actually had, but had failed to settle the controversy, and it was found at the commencement of last year that a correspondence had been in progress between the two Governments for a joint commission, with an ultimate reference to an umpire or arbitrator with authority to make a final decision. That correspondence, however, had been retarded by various occurrences, and had come to no definite result when the special mission of Lord Ashburton was announced. This movement on the part of England afforded in the judgment of the Executive a favorable opportunity for making an attempt to settle this long existing controversy by some agreement or treaty without further reference to arbitration. It seemed entirely proper that if this purpose were entertained consultation should be had with the authorities of the States of Maine and Massachusetts. Letters, therefore, of which copies are herewith communicated, were addressed to the governors of those States, suggesting that commissioners should be appointed by each of them, respectively, to repair to this city and confer with the authorities of this Government on a line by agreement or compromise, with its equivalents and compensations. This suggestion was met by both States in a spirit of candor and patriotism and promptly complied with. Four commissioners on the part of Maine and three on the part of Massachusetts, all persons of distinction and high character, were duly appointed and commissioned and lost no time in presenting themselves at the seat of the Government of the United States. These commissioners have been in correspondence with this Government during the period of the discussions; have enjoyed its confidence and freest communications; have aided the general object with their counsel and advice, and in the end have unanimously signified their assent to the line proposed in the treaty. Ordinarily it would be no easy task to reconcile and bring together such a variety of interests in a matter in itself difficult and perplexed, but the efforts of the Government in attempting to accomplish this desirable object have been seconded and sustained by a spirit of accommodation and conciliation on the part of the States concerned, to which much of the success of these efforts is to be ascribed. Connected with the settlement of the line of the northeastern boundary, so far as it respects the States of Maine and Massachusetts, is the continuation of that line along the highlands to the northwesternmost head of Connecticut River. Which of the sources of that stream is entitled to this character has been matter of controversy and of some interest to the State of New Hampshire. The King of the Netherlands decided the main branch to be the northwesternmost head of the Connecticut. This did not satisfy the claim of New Hampshire. The line agreed to in the present treaty follows the highlands to the head of Halls Stream and thence down that river, embracing the whole claim of New Hampshire and establishing her title to 100,000 acres of territory more than she would have had by the decision of the King of the Netherlands. By the treaty of 1783 the line is to proceed down the Connecticut River to the forty-fifth degree of north latitude, and thence west by that parallel till it strikes the St. Lawrence. Recent examinations having ascertained that the line heretofore received as the true line of latitude between those points was erroneous, and that the correction of this error would not only leave on the British side a considerable tract of territory heretofore supposed to belong to the States of Vermont and New York, but also Rouses Point, the site of a military work of the United States, it has been regarded as an object of importance not only to establish the rights and jurisdiction of those States up to the line to which they have been considered to extend, but also to comprehend Rouses Point within the territory of the United States. The relinquishment by the British Government of all the territory south of the line heretofore considered to be the true line has been obtained, and the consideration for this relinquishment is to inure by the provisions of the treaty to the States of Maine and Massachusetts. The line of boundary, then, from the source of the St. Croix to the St. Lawrence, so far as Maine and Massachusetts are concerned, is fixed by their own consent and for considerations satisfactory to them, the chief of these considerations being the privilege of transporting the lumber and agricultural products grown and raised in Maine on the waters of the St. Johns and its tributaries down that river to the ocean free from imposition or disability. The importance of this privilege, perpetual in its terms, to a country covered at present by pine forests of great value, and much of it capable hereafter of agricultural improvement, is not a matter upon which the opinion of intelligent men is likely to be divided. So far as New Hampshire is concerned, the treaty secures all that she requires, and New York and Vermont are quieted to the extent of their claim and occupation. The difference which would be made in the northern boundary of these two States by correcting the parallel of latitude may be seen on Tanner's maps ( 1836 ), new atlas, maps Nos. 6 and 9. From the intersection of the forty-fifth degree of north latitude with the St. Lawrence and along that river and the lakes to the water communication between Lake Huron and Lake Superior the line was definitively agreed on by the commissioners of the two Governments under the sixth article of the treaty of Ghent; but between this last-mentioned point and the Lake of the Woods the commissioners acting under the seventh article of that treaty found several matters of disagreement, and therefore made no joint report to their respective Governments. The first of these was Sugar Island, or St. Georges Island, lying in St. Marys River, or the water communication between Lakes Huron and Superior. By the present treaty this island is embraced in the territories of the United States. Both from soil and position it is regarded as of much value. Another matter of difference was the manner of extending the line from the point at which the commissioners arrived, north of Isle Royale, in Lake Superior, to the Lake of the Woods. The British commissioner insisted on proceeding to Fond du Lac, at the southwest angle of the lake, and thence by the river St. Louis to the Rainy Lake. The American commissioner supposed the true course to be to proceed by way of the Dog River. Attempts were made to compromise this difference, but without success. The details of these proceedings are found at length in the printed separate reports of the commissioners. From the imperfect knowledge of this remote country at the date of the treaty of peace, some of the descriptions in that treaty do not harmonize with its natural features as now ascertained. \\u201cLong Lake\\u201d is nowhere to be found under that name. There is reason for supposing, however, that the sheet of water intended by that name is the estuary at the mouth of Pigeon River. The present treaty therefore adopts that estuary and river, and afterwards pursues the usual route across the height of land by the various portages and small lakes till the line reaches Rainy Lake, from which the commissioners agreed on the extension of it to its termination in the northwest angle of the Lake of the Woods. The region of country on and near the shore of the lake between Pigeon River on the north and Fond du Lac and the river St. Louis on the south and west, considered valuable as a mineral region, is thus included within the United States. It embraces a territory of 4,000,000 acres northward of the claim set up by the British commissioner under the treaty of Ghent. From the height of land at the head of Pigeon River westerly to the Rainy Lake the country is understood to be of little value, being described by surveyors and marked on the map as a region of rock and water. From the northwest angle of the Lake of the Woods, which is found to be in latitude Coast 190 The 23 ' 55 \\u201cnorth, existing treaties require the line to be run due south to its intersection with the forty-fifth parallel, and thence along that parallel to the Rocky Mountains. After sundry informal communications with the British minister upon the subject of the claims of the two countries to territory west of the Rocky Mountains, so little probability was found to exist of coming to any agreement on that subject at present that it was not thought expedient to make it one of the subjects of formal negotiation to be entered upon between this Government and the British minister as part of his duties under his special mission. By the treaty of 1783 the line of division along the rivers and lakes from the place where the forty-fifth parallel of north latitude strikes the St. Lawrence to the outlet of Lake Superior is invariably to be drawn through the middle of such waters, and not through the middle of their main channels. Such a line, if extended according to the literal terms of the treaty, would, it is obvious, occasionally intersect islands. The manner in which the commissioners of the two Governments dealt with this difficult subject may be seen in their reports. But where the line thus following the middle of the river or water course did not meet with islands, yet it was liable sometimes to leave the only practicable navigable channel altogether on one side. The treaty made no provision for the common use of the waters by the citizens and subjects of both countries. It has happened, therefore, in a few instances that the use of the river in particular places would be greatly diminished to one party or the other if in fact there was not a choice in the use of channels and passages. Thus at the Long Sault, in the St. Lawrence- a dangerous passage, practicable only for boats the only safe run is between the Long Sault Islands and Barnharts Island ( all which belong to the United States ) on one side and the American shore on the other. On the other hand, by far the best passage for vessels of any depth of water from Lake Erie into the Detroit River is between Bois Blanc, a British island, and the Canadian shore. So again, there are several channels or passages, of different degrees of facility and usefulness, between the several islands in the river St. Clair at or near its entry into the lake of that name. In these three cases the treaty provides that all the several passages and channels shall be free and open to the use of the citizens and subjects of both parties. The treaty obligations subsisting between the two countries for the suppression of the African slave trade and the complaints made to this Government within the last three or four years, many of them but too well founded, of the visitation, seizure, and detention of American vessels on that coast by British cruisers could not but form a delicate and highly important part of the negotiations which have now been held. The early and prominent part which the Government of the United States has taken for the abolition of this unlawful and inhuman traffic is well known. By the tenth article of the treaty of Ghent it is declared that the traffic in slaves is irreconcilable with the principles of humanity and justice, and that both His Majesty and the United States are desirous of continuing their efforts to promote its entire abolition; and it is thereby agreed that both the contracting parties shall use their best endeavors to accomplish so desirable an object. The Government of the United States has by law declared the African slave trade piracy, and at its suggestion other nations have made similar enactments. It has not been wanting in honest and zealous efforts, made in conformity with the wishes of the whole country, to accomplish the entire abolition of the traffic in slaves upon the African coast, but these efforts and those of other countries directed to the same end have proved to a considerable degree unsuccessful. Treaties are known to have been entered into some years ago between England and France by which the former power, which usually maintains a large naval force on the African station, was authorized to seize and bring in for adjudication vessels found engaged in the slave trade under the French flag. It is known that in December last a treaty was signed in London by the representatives of England, France, Russia, Prussia, and Austria having for its professed object a strong and united effort of the five powers to put an end to the traffic. This treaty was not officially communicated to the Government of the United States, but its provisions and stipulations are supposed to be accurately known to the public. It is understood to be not yet ratified on the part of France. No application or request has been made to this Government to become party to this treaty, but the course it might take in regard to it has exalted no small degree of attention and discussion in Europe, as the principle upon which it is founded and the stipulations which it contains have caused warm animadversions and great political excitement. In my message at the commencement of the present session of Congress I endeavored to state the principles which this Government supports respecting the right of search and the immunity of flags. Desirous of maintaining those principles fully, at the same time that existing obligations should be fulfilled, I have thought it most consistent with the honor and dignity of the country that it should execute its own laws and perform its own obligations by its own means and its own power. The examination or visitation of the merchant vessels of one nation by the cruisers of another for any purpose except those known and acknowledged by the law of nations, under whatever restraints or regulations it may take place, may lead to dangerous results. It is far better by other means to supersede any supposed necessity or any motive for such examination or visit. Interference with a merchant vessel by an armed cruiser is always a delicate proceeding, apt to touch the point of national honor as well as to affect the interests of individuals. It has been thought, therefore, expedient, not only in accordance with the stipulations of the treaty of Ghent, but at the same time as removing all pretext on the part of others for violating the immunities of the American flag upon the seas, as they exist and are defined by the law of nations, to enter into the articles now submitted to the Senate. The treaty which I now submit to you proposes no alteration, mitigation, or, modification of the rules of the law of nations. It provides simply that each of the two Governments shall maintain on the coast of Africa a sufficient squadron to enforce separately and respectively the laws, rights, and obligations of the two countries for the suppression of the slave trade. Another consideration of great importance has recommended this mode of fulfilling the duties and obligations of the country. Our commerce along the western coast of Africa is extensive, and supposed to be increasing. There is reason to think that in many cases those engaged in it have met with interruptions and annoyances caused by the jealousy and instigation of rivals engaged in the same trade. Many complaints on this subject have reached the Government. A respectable naval force on the coast is the natural resort and security against further occurrences of this kind. The surrender to justice of persons who, having committed high crimes, seek an asylum in the territories of a neighboring nation would seem to be an act due to the cause of general justice and properly belonging to the present state of civilization and intercourse. The British Provinces of North America are separated from the States of the Union by a line of several thousand miles, and along portions of this line the amount of population on either side is quite considerable, while the passage of the boundary is always easy. Offenders against the law on the one side transfer themselves to the other. Sometimes, with great difficulty, they are brought to justice, but very often they wholly escape. A consciousness of immunity from the power of avoiding justice in this way instigates the unprincipled and reckless to the commission of offenses, and the peace and good neighborhood of the border are consequently often disturbed. In the case of offenders fleeing from Canada into the United States, the governors of States are often applied to for their surrender, and questions of a very embarrassing nature arise from these applications. It has been thought highly important, therefore, to provide for the whole case by a proper treaty stipulation. The article on the subject in the proposed treaty is carefully confined to such offenses as all mankind agree to regard as heinous and destructive of the security of life and property. In this careful and specific enumeration of crimes the object has been to exclude all political offenses or criminal charges arising from wars or intestine commotions. Treason, misprision of treason, libels, desertion from military service, and other offenses of similar character are excluded. And lest some unforeseen inconvenience or unexpected abuse should arise from the stipulation rendering its continuance in the opinion of one or both of the parties not longer desirable, it is left in the power of either to put an end to it at will. The destruction of the steamboat Caroline at Schlosser four or five years ago occasioned no small degree of excitement at the time, and became the subject of correspondence between the two Governments. That correspondence, having been suspended for a considerable period, was renewed in the spring of the last year, but no satisfactory result having been arrived at, it was thought proper, though the occurrence had ceased to be fresh and recent, not to omit attention to it on the present occasion. It has only been so far discussed in the correspondence now submitted as it was accomplished by a violation of the territory of the United States. The letter of the British minister, while he attempts to justify that violation upon the ground of a pressing and overruling necessity, admitting, nevertheless, that even if justifiable an apology was due for it, and accompanying this acknowledgment with assurances of the sacred regard of his Government for the inviolability of national territory, has seemed to me sufficient to warrant forbearance from any further remonstrance against what took place as an aggression on the soil and territory of the country. On the subject of the interference of the British authorities in the West Indies, a confident hope is entertained that the correspondence which has taken place, showing the grounds taken by this Government and the engagements entered into by the British minister, will be found such as to satisfy the just expectation of the people of the United States. The impressment of seamen from merchant vessels of this country by British cruisers, although not practiced in time of peace, and therefore not at present a productive cause of difference and irritation, has, nevertheless, hitherto been so prominent a topic of controversy and is so likely to bring on renewed contentions at the first breaking out of a European war that it has been thought the part of wisdom now to take it into serious and earnest consideration. The letter from the Secretary of State to the British minister explains the ground which the Government has assumed and the principles which it means to uphold. For the defense of these grounds and the maintenance of these principles the most perfect reliance is placed on the intelligence of the American people and on their firmness and patriotism in whatever touches the honor of the country or its great and essential interests. JOHN TYLER. ( The following are inserted because they pertain to the treaty transmitted with the message of President Tyler immediately preceding. ) DEPARTMENT OF STATE, Washington, August 3, 1848. To the Senate of the United States: The Secretary of State has the honor to transmit to the Senate, in compliance with a resolution adopted by it on the 29th ultimo, a copy of the joint report of the commissioners under the treaty of Washington of August 9, 1842, together with a copy of the report of the American commissioner transmitting the same to the State Department. JAMES BUCHANAN. Mr. Smith to Mr. Buchanan. WASHINGTON, April 20, 1848. In presenting to you the joint report of the commissioners appointed under the treaty of Washington of August 9, 1842, to survey and mark the line of boundary between the United States and the British Provinces, which I have the honor herewith most respectfully to submit, I have to perform the painful duty of informing you that the maps of that line and of the adjacent country, which had been elaborately constructed by the scientific corps on the part of the United States, and contained upon 100 sheets of drawing paper of the largest size, together with the tables of the survey, have been destroyed by the conflagration of the building in which they were contained. This house had been occupied by Major James D. Graham, the head of the scientific corps and principal astronomer of the American commission, as his office until his departure for Mexico. All the maps, drawings, and tables had been completed and duly authenticated by the joint commissioners, and were ready to be deposited with their joint report under their hands and seals in the archives of this Government. Of this I had the honor to inform you in my letter of the 24th ultimo. I can hardly express the pain which this unfortunate event has occasioned me. But I can not perceive that any imputation of blame can properly be attached to any officer of the commission. The care and custody of all the work of the United States scientific corps were properly placed in charge of Major Graham, as the head of that corps, who had had the immediate direction and superintendence of it from the first organization of the commission. He required the maps and tables at his office for reference and revision in the progress of the astronomical work. Upon his departure for Mexico he placed Lieutenant A. W. Whipple in his rooms with an injunction to guard with the utmost care the valuable property of the commission. On the day after he left the city, and when for the first time informed of the fact, I called upon Lieutenant Whipple and requested him to have all the maps, drawings, and tables ready to be turned over to the State Department on the following day. On the 24th ultimo I acquainted you with that fact. No censure can possibly be attributed to Lieutenant Whipple, whose great care and attention to all his duties have been on all occasions highly distinguished. He escaped from the fire with scarcely an article of his dress, and his loss in money and clothing is at least $ 1,000. Major Graham has lost his valuable library, together with personal effects to a large amount. The fire was communicated from the basement of the house, and by no effort could anything be saved. There are tracings of the maps upon\\u201d tissue paper, \\u201cwithout the topography, in the State of Maine, but they are not signed by the commissioners. The field books of the engineers were, fortunately, not in Major Graham's office, and are preserved. Duplicates of the maps, duly authenticated, have been placed in the British archives at London, which, although they have not the topography of the country so fully laid down upon them as it was upon our own, represent with equal exactness the survey of the boundary itself. Should it be deemed expedient by this Government to procure copies of them, access to those archives for that purpose would undoubtedly be permitted, and the object accomplished at small expense, and when completed these copies could be authenticated by the joint commissioners in accordance with the provisions of the treaty. I have the honor to be, with great respect, your obedient and humble servant, ALBERT SMITH. Report of the Joint commission of boundary appointed under the treaty of Washington of August 9, 1842. The undersigned, commissioners appointed under the treaty of Washington to trace and mark the boundary, as directed by that treaty, between the British possessions in North America and the United States that is to say, James Buckhall Estcourt, lieutenant-colonel in the British army, appointed commissioner by Her Britannic Majesty, and Albert Smith, appointed commissioner by the President of the United States -having accomplished the duty assigned to them, do now, in accordance with the directions of the said treaty, submit the following report and the accompanying maps, jointly signed, to their respective Governments. In obedience to the terms of the treaty, the undersigned met at Bangor, in the State of Maine, on the 1st day of May, 1843, where they produced and verified the authority under which they each were respectively to act. They then adjourned, because the weather was not sufficiently open for taking the field, to the 1st of the following month ( June ), and agreed to meet again at that time at Houlton. Accordingly, they did meet at that place, and began their operations. It may be desirable to state at the outset that for the sake of convenience the whole line of boundary marked by the undersigned has been divided in the mention made of the different portions into the following grand divisions, viz:\\u201d North line, \\u201cfrom the source of the St. Croix to the intersection of the St. John.\\u201d River St. John, \\u201cfrom the intersection of the north line to the mouth of the St. Francis.\\u201d River St. Francis, \\u201cfrom its mouth to the outlet of Lake Pohenagamook.\\u201d Southwest line, \\u201cfrom the outlet of Lake Pohenagamook to the Northwest Branch of the St. John.\\u201d South line, \\u201cfrom the Northwest Branch to the parallel of latitude 46 degrees 25 ' on the Southwest Branch.\\u201d Southwest Branch, \\u201cfrom the parallel Congress.\\u201d 6 25 ' to its source. \\u201cHighlands,\\u201d from the source of the Southwest Branch of the St. John to the source of Halls Stream. \\u201cHalls Streams\\u201d from its source to the intersection of the line of Valentine and Collins. \\u201cWest line,\\u201d from Halls Stream to the St. Lawrence near St. Regis, along the line of Valentine and Collins. To return to the narration of operations: The exploring line of Colonel Bouchette and Mr. Johnson, as directed by the treaty, was traced from the monument at the source of the St. Croix to the intersection of the St. John. The monument found at the source of the St. Croix, as described in the report of Colonel Bouchette and Mr. Johnson, and the course of their exploring line, was traced by blazes or marks upon the trees. An old line, cut out by the assistant surveyors of Colonel Bouchette and Mr. Johnson, was also found, which terminated about half a mile north of the South Branch of the Meduxnikeag, where, by records to which the undersigned referred, they ascertained that it had been abandoned because of its deviation from the exploring fine of Colonel Bouchette and Mr. Johnson. After the exploration and remarking of the north line it was cut out 30 feet wide. The same was afterwards done in all parts where the boundary passed through woodland. After thus opening the north line it was surveyed, and iron posts were erected at intervals to mark it. The general bearing of the line was rather to the west of the meridian of the monument at the source of the St. Croix. The precise line laid down by the undersigned was determined by successive courses, of which each was made to be as long as was convenient, provided it did not pass out of the opening of 30 feet. At each angle of deflection an iron monument was erected, and placed anglewise with the line. Other monuments were erected at the crossing of roads, rivers, and at every mile, commencing from the source of the St. Croix. Those which were not intended to mark angles of deflection were placed square with the line. At the intersection of the St. John by the north line the river is deep and broad. The boundary rims up the middle of the channel of the river, as indicated by the maps, dividing the islands as follows: No. 1. Ryan's Island United States. No. 2. King's Island United States. No. 3. Les Trois Isles United States. No. 4. La Septieme Isle United States. No. 5. Quissibis Great Britain. No. 6. La Grand Isle United States. No. 7. Thibideau's Islands United States. No. 8. Madawaska lslands Great Britain. No. 9. Joseph Michaud's three islands United States. No. 10. Pine Island Great Britain. No. 11. Baker's Turtle } Dagle's } islands Great Britain Fourth } Fifth } No. 12. Kennedy's Island Great Britain. No. 13. Crock's } Cranberry islands Great Britain. Gooseberry No. 14. Savage's Island United States. No. 15. Wheelock's Island - United States. No. 16. Caton's Island United States. No. 17. Honeywell's Island United States. No. 18. Savage and Johnson's Island United States. No. 19. Grew's Island United States. No. 20. Kendall's Island Great Britain. The islands were distributed to Great Britain or to the United States, as they were found to be on the fight or left of the deep channel. There was but one doubtful case, La Septieme Isle, and that was apportioned to the United States because the majority of the owners were ascertained to reside on the United States side of the river. Monuments were erected upon the islands, marking them for Great Britain or the United States, as the case may have been. After leaving the St. John the boundary enters the St. Francis, dividing the islands at the mouth of that river in the manner shown in the maps. It then runs up the St. Francis, through the middle of the lakes upon it, to the outlet of Lake Pohenagamook, the third large lake from the mouth of the river. At the outlet a large monument has been erected. In order to determine the point on the Northwest Branch to which the treaty directed that a straight line should be run from the outlet of Lake Pohenagamook, a survey of that stream was made, and also of the main St. John in the neighborhood of the mouth of the Northwest Branch, and a line was cut between the John and the point on the Northwest Branch ascertained by the survey to be miles in the nearest direction from it, and the distance was afterwards verified by chaining. It was ascertained also, in accordance with the provisions of the treaty, by a triangulation of the country toward the highlands dividing the waters of the St. Lawrence and of the St. John, that more than 7 miles intervened between the point selected on the Northwest Branch and the crest of the dividing ridge. A large iron monument was afterwards erected on the point thus selected, and the space around was cleared and sown with grass seed. It is a short distance below the outlet of Lake Ishaganalshegeck. The outlet of Lake Pohenagamook and the point on the Northwest Branch designated by the treaty having been thus ascertained and marked, in the spring of 1844 a straight line was run between them. Along that line, which passes entirely through forest, monuments were erected at every mile, at the crossings of the principal streams and rivers, and at the tops of those hills where a transit instrument had been set up to test the straightness of the line. As soon as the parallel of latitude Congress. \\u201c6 25 ' had been determined on the Southwest Branch, in the early part of the summer of 1844, a straight line was drawn from the boundary point on the Northwest Branch to a large monument erected on the left bank of the Southwest Branch where it is intersected by the parallel of latitude Congress.\\u201d 6 25: The line so drawn crosses the Southwest Branch once before it reaches the parallel of latitude 46 degrees 25 ', and at about half a mile distance from that parallel. There also a large monument has been set up on the left bank. From the intersection of the parallel Congress. \\u201c6 25 ' the boundary ascends the Southwest Branch, passes through a lake near its head, and so up a small stream which falls into the lake from the west to the source of that stream, which has been selected as the source of the Southwest Branch. On the Southwest Branch there are two principal forks, at each of which two monuments have been erected, one on each bank of the river immediately above the forks and upon the branch established as the boundary. The maps point out their positions. At the mouth of the small stream selected as the source of the Southwest Branch a monument has been erected upon a delta formed by two small outlets. Above those outlets three other monuments have been placed at intervals upon the same stream. Upon the crest of the dividing ridge, very close to the source of the Southwest Branch, a large monument has been erected. It is the first point in the highlands, and from it the boundary runs along the crest in a southerly direction, passing near to the southeastern shore of the Portage Lake, and so on to a large monument erected on a small eminence on the east side of the Kennebec road. Thence it passes through a dwelling house called Tachereau's, which was standing there at the time the line was run; so, by a tortuous course, it runs to the top of Sandy Stream Mountain; thence, inclining to the southwest, it runs over Hog Back the First, as shown in the maps; thence toward Hog Back the Second, which it leaves on the north side. Further on, at the head of Leech Lake, there is a stream which divides its waters and flows both into Canada and into the United States. The boundary has been made to run up that stream a short distance from the fork where the waters divide to a second fork; thence between the streams which unite to form that fork, and then to ascend again the dividing ridge. A monument has been erected at the fork first mentioned, where the waters divide. As the boundary approaches the valley of Spider River it bends to the southeast, and, by a wide circuit over high and steep hills, it turns the head of Spider River; thence it bends to the northwest until it approaches within about 4 miles of Lake Megantic; thence it turns again south, having the valley of Arnolds River on the right and of Dead River on the left. It leaves Gasford Mountain in Canada, threads its way over very high ground between the head of Arnolds River and the tributaries of the Magalloway; inclines then to the north, so to the west, over very rocky, mountainous, and difficult country, leaving Gipps Peak in the United States, and turns by a sharp angle at Saddle Back to the south. After that it again inclines to the west, and then to the south, and again to the west, and passes the head of the Connecticut. About 3 miles and a half east of the head of the Connecticut there is a division of waters similar to that described near Leech Lake. The boundary runs down a stream from near its source to the fork where it divides, and then again follows the dividing ridge. The spot is noted on the map. After the boundary has passed the head of the Connecticut it runs to the northwest, descending into very low, swampy ground between the heads of Indian Stream and the tributaries of the St. Francis. Thus it passes on, bending again to the south of west, over a high hill, to the source of Halls Stream. Iron monuments have been erected at intervals along the highlands from the source of the Southwest Branch of the St. John to the source of Halls Stream, the position of each of which is shown upon the maps. From the source of Halls Stream the boundary descends that river, dividing the islands, which are, however, merely unimportant alluvial deposits, in the manner indicated by the maps until it reaches the intersection of that stream by the line formerly run by Valentine and Collins as the forty-fifth degree of north latitude. At that point a large monument has been erected on the right and a small one on the left bank of the stream. Monuments have also been erected along the bank of this stream, as indicated on the maps. The line of Valentine and Collins was explored and found by the blazes still remaining in the original forest. Upon cutting into those blazes it was seen that deep seated in the tree there was a scar, the surface of the original blaze, slightly decayed, and upon counting the rings ( which indicate each year's growth of the tree ) it was found that the blazes dated back to 1772, 1773, and 1774. The line of Valentine and Collins was run in 1771, 1772, 1773, and 1774. The coincidence of the dates of the blazes with those of the above line, confirmed by the testimony of the people of the country, satisfied the undersigned that the line they had found was that mentioned in the treaty. Along this portion of the boundary, which is known as the forty-fifth degree of Valentine and Collins, and which extends from Halls Stream to St. Regis, there are several interruptions to the blazes in those parts where clearings have been made, and there the authentic marks of the precise situation of the old line have been lost. In those cases the undersigned have drawn the boundary line straight from the original blazes on the one side of a clearing to the original blazes on the other side of the same clearing. It can not be positively stated that the line as it has been traced through those clearings precisely coincides with the old line, but the undersigned believe that it does not differ materially from it; nor have they had the means of determining a nearer or a surer approximation. Along this line, at every point of deflection, an iron monument has been erected; also at the crossing of rivers, lakes, and roads. Those which mark deflections are placed, as on the\\u201d north line, \\u201canglewise with the line; all the others are placed square with it. The maps show the position of each. On the eastern shore of Lake Memphremagog an astronomical station was established, and on a large flat rock of granite, which happened to lie between the astronomical station and the boundary, was cut the following inscription: Capt: Robinson. Ast: Station 422 feet north. British Boundary Meridian Line. Commission Boundary Line 595 feet south August, 1845. A mark was cut upon the stone, as indicated by the dot upon the meridian line above, from which these measurements were made. At Rouses Point a monument of wrought stone was set up at the intersection of the boundary by the meridian of the transit instrument used there by Major Graham, and an inscription was cut upon it stating the latitude and longitude, the names of the observer and his assistant, the names of the commissioners, and the territories divided. To mark the position of the instruments used at the following astronomical stations along the west line, two monuments within a few feet of each other have been erected at each station, and they have been placed on the boundary line due north or south of the instrument, as the case may have been. The stations are: Lake Memphremagog, Richford, John McCoy's, Trout River. The boundary along the west line, though very far from being a straight line, is generally about half a mile north of the true parallel of latitude Coast 190 The from Halls Stream to Rouses Point. At about 28 miles west of Rouses Point it, however, crosses that parallel to the south until it reaches Chateaugay River, where it bends northward, and, crossing the parallel again about 4 miles east of St. Regis, it strikes the St. Lawrence 151 feet north of Coast 190 The. At that point a large monument has been erected on the bank of the St. Lawrence. Two large monuments have also been erected, one on either side of the river Richelieu near Rouses Point. No marks of the old line were to be found about St. Regis. It was therefore agreed to run a line due west from the last blaze which should be found in the woods on the east side of St. Regis. That blaze occurred about 1 mile east of the St. Regis River. The maps, which exhibit the boundary on a scale of 4 inches to 1 statute mile, consist of 62 consecutive sheets of antiquarian paper as constructed by the British and of 61 as constructed by the American commission. A general map has also been constructed on a scale of 8 miles to 1 inch by the British and of 10 miles to 1 inch by the American commission, upon which the before mentioned sheets are represented. The following portions of the boundary have been laid down by the British commission, on detached maps, on a scale of 12 inches to 1 mile, which have been signed by both commissioners: Grand Falls of the St. John, including the intersection of that river by the north line; islands of the St. John; the outlet of Lake Pohenagamook; the turning point of the boundary on the Northwest Branch of the St. John; the intersection of the Southwest Branch by the parallel of latitude 46 degrees 25 '; the source of the Southwest Branch; the source of Halls Stream; the intersection of Halls Stream by the west line; Rouses Point; St. Regis; Derby. But similar maps have not been prepared by the American commission, because during the interval between the finishing of the maps of the British commission and those of the American it was thought that the maps already constructed upon a scale of 4 inches to 1 mile represented the boundary with sufficient clearness and accuracy. The astronomical observations were begun at the Grand Falls early in June, 1843, and were carried up the St. John River to the Northwest Branch by a chain of stations, which, together with the results obtained, are tabulated in the appendix accompanying this report. From the valley of the St. John an astronomical connection was made with Quebec, and thence to Montreal, and so to Rouses Point. From Rouses Point a connection was obtained with Cambridge University, near Boston. The astronomical stations on the west line were: Intersection of Halls Stream by the west line, Lake Memphremagog, Richford, Rouses Point, John McCoy's, Trout River, St. Regis. Latitude was also obtained at an astronomical station established for the purpose at the head of the Connecticut. Volumes containing the astronomical observations of both commissions are herewith submitted. From them it will be observed that the results for absolute longitude obtained by the British and American astronomers do not agree. It being a difference in no way affecting the survey of the boundary line, the undersigned do not feel called upon to attempt to reconcile it. The data upon which those results are based may be seen in the volumes of observations accompanying this report. In the appendix will be found, in a tabular form, the following: An abstract of the survey of the boundary along the north line; an abstract of the survey of the boundary along the southwest line; an abstract of the survey of the boundary along the south line; an abstract of the survey of the boundary along the highlands; an abstract of the survey of the boundary along the west line; the position of the monuments erected on the Southwest Branch of the St. John and on Halls Stream; the distribution of the islands of the St. John and the monuments on them; the guide lines and offsets run by each commission for the survey of the highlands; the azimuths of verification for the survey of the highlands; the latitudes and longitudes obtained from the astronomical observations; the comparative 512,977,32677,044,257 The obtained, and the methods used for the purpose. Upon comparing the maps of the two commissions it will be seen that the American commission numbers two monuments more than the British. Those are to be found, one on the\\u201d Fourth Island, \\u201cin the river St. John, and the other on the highlands between the source of the Southwest Branch of the river St. John and the Kennebec road. On the maps of the British commission representing the\\u201d west line \\u201cthe name of the town of\\u201d Derby \\u201chas been improperly placed north of the line instead of south of it. Also, on the same maps the direction of Salmon River, near the western extremity of the\\u201d west line, \\u201chas been incorrectly laid down from the boundary line northward. A direction has been given to it northeasterly instead of northwesterly. The above two corrections the British commissioner is authorized to make on his maps after his return to England. To avoid unnecessary delay in making their joint report, the undersigned have attached their signatures to the maps, although the lettering of some of the astronomical stations upon the maps of the American commission, as well as the alterations before mentioned in the maps of the British commission, are yet to be made; but in the maps of both the boundary has been laid down accurately and definitively, and the undersigned engage that it shall not be altered in any respect. In conclusion the undersigned have the honor to report that the line of boundary described in the foregoing statement has been run, marked, and surveyed, and the accompanying maps faithfully constructed from that survey. The undersigned take leave to add that the most perfect harmony has subsisted between the two commissions from first to last, and that no differences have arisen between the undersigned in the execution of the duties intrusted to them. Signed and sealed in duplicate, at the city of Washington, this 28th day of June, A. D. 1847. J. B. BUCKNALL ESTCOURT, Lieutenant-Colonel, Her Britannic Majesty's Commissioner. ALBERT SMITH, United States Commissioner. NOTE. The astronomical computations of the American commission not being completed, and it being unnecessary to defer the signing of the report on that account, the American commissioner engages to transmit them, with any other papers or tables not yet finished, as soon as they shall be so, to the British commissioner, through the American minister resident in London, to whom, upon delivery of the documents, the British commissioner will give a receipt, to be transmitted to the American commissioner. J. B. BUCKNALL ESTCOURT, Lieutenant-Colonel, H. B. M. Commissioner of Boundary. ALBERT SMITH United States Commissioner\",\n          \"GREAT BRITAIN 'S DEPARTURE FROM THE GOLD STANDARD THE PRESIDENT. I have been asked by two of your members to discuss something of the British demonetization or departure from the gold standard. I can only do that by way of background. I can not make a public statement in the matter. I think you will understand that this situation has been pending for a good many months. There has been a large amount of British investment in the United States, and that amount, estimated by the Department of Commerce, aggregates something over $ 1,500 million. That is not flight of capital but steadily increasing expenditures here which naturally affects the exchanges. It has taken place not only in the past few months but for some years back. That, of course, has affected the problem of exchange. There has been some piling up of immediate cash in our banks from that quarter. The course resolved upon by the British Government creates some temporary dislocations in the international world, but they are due more to the confusion arising out of readjustment of quotations and values than in their effect on the values of either securities or commodities. The first effect of the decrease in the gold value of the pound is a rise in prices of commodities in Great Britain, at least in all international commodities where the price is made by international action, such as in wheat and other raw materials. There is involved a large amount of transaction based on the readjustment of those prices. A certain amount of confusion comes out of that, and the effect on our commodity markets has been a decrease in prices. There has been a rise in price in England in consequence and our prices are practically unchanged yesterday and today. The fact that the pound is taken off its fixed value of $ 4.86 is not the abandonment of the gold standard even for the pound; as international commerce revolves in these days all transactions will be measured in some gold value, whether in dollars, francs, gulden, or any other of the fixed gold currencies. No transaction can take place unless it has some basis of measurement of that character. It really means that the fixed gold standard has been abandoned and a variable standard adopted which may change momentarily. But in any event all values in international commerce are bound to revolve on gold values or some measuring stick in gold. It is more or less a case of abandoning a fixed standard and adopting a variable one so far as international commerce is concerned. The effect in England will undoubtedly be to increase exports, which amounts to price reduction compared with the standard of measurement in gold, and it should act as a stimulant and thus should increase employment and increase the demand again for raw materials. Obviously, it amounts to a reduction in standards of living temporarily in those commodities which are imported, of course raw materials, but wages and rank will lag behind. Production costs will be lower, and consequently, exports will be stimulated. The tendency also may be to decrease imports to some extent especially for highly competitive goods. On the export side, the effect is not going to be very material on the United States because there are comparatively small volume of British and American goods which are highly competitive in neutral markets. A study made some time ago of the Argentine showed that there were only about 10 percent of the exports of the United States to the Argentine and correspondingly 10 percent of the British exports to the Argentine that were competitive. We are exporting goods which we can peculiarly produce to the best advantage, and it might mean competition in respect to that small fraction over toward the neutral market. But it would not be any appreciable volume. There might be some decrease in imports into Great Britain, especially in luxuries, but our trade with Great Britain consists largely of raw materials and manufactured goods. If there is stimulation of British exports our exports would be more likely to increase than decrease. I mention that only to indicate that the effect of it is not as far-reaching as some people may think. On the financial side there are no consequential balances of American banks in England. They will always have sufficient of their own capital. So there are no losses there of any consequence at all. All together the action, no doubt necessary on the British side, is not, we feel, going to have any great effect in the United States. The probabilities are that it will considerably improve the situation in England, and we will benefit in the long run. In any event, when there is a question pending over the world's economic life, the actual realization of it is much less severe on us than is the constant possibility of it such as has been the case for the past 3 or 4 months. All together if we are going to have an important economic shift it is better to have it over than to have it hanging about. You will realize also that this is not the first time that the pound has been off the gold basis. I do not know of any nation in the world which manages to maintain through its national life the gold value of its currency. There was a long period in the United States after the Civil War when we certainly could not maintain it. The pound was off the gold basis from some point in the war to 3, 4, or 5 years afterwards, but gradually the economic situation readjusts itself. These things are temporary and go back again to their original position. And that is all I have today\"\n        ],\n        \"semantic_type\": \"\",\n        \"description\": \"\"\n      }\n    },\n    {\n      \"column\": \"URL\",\n      \"properties\": {\n        \"dtype\": \"string\",\n        \"num_unique_values\": 992,\n        \"samples\": [\n          \"https://millercenter.org/the-presidency/presidential-speeches/may-19-1860-message-capture-wildfire\",\n          \"https://millercenter.org/the-presidency/presidential-speeches/february-2-1888-message-regarding-civil-service-reform\",\n          \"https://millercenter.org/the-presidency/presidential-speeches/february-3-1931-statement-unemployment-relief\"\n        ],\n        \"semantic_type\": \"\",\n        \"description\": \"\"\n      }\n    }\n  ]\n}"
            }
          },
          "metadata": {},
          "execution_count": 11
        }
      ],
      "source": [
        "presidential_speeches_df = pd.read_csv('presidential_speeches.csv')\n",
        "presidential_speeches_df.head()"
      ]
    },
    {
      "cell_type": "code",
      "source": [
        "presidential_speeches_df.iloc[309].President"
      ],
      "metadata": {
        "colab": {
          "base_uri": "https://localhost:8080/",
          "height": 36
        },
        "id": "d4bym3a_lTh5",
        "outputId": "e22ac2a9-d243-44a8-e573-95c0a64aef58"
      },
      "execution_count": 14,
      "outputs": [
        {
          "output_type": "execute_result",
          "data": {
            "text/plain": [
              "'James A. Garfield'"
            ],
            "application/vnd.google.colaboratory.intrinsic+json": {
              "type": "string"
            }
          },
          "metadata": {},
          "execution_count": 14
        }
      ]
    },
    {
      "cell_type": "code",
      "source": [
        "presidential_speeches_df.iloc[307].President"
      ],
      "metadata": {
        "colab": {
          "base_uri": "https://localhost:8080/",
          "height": 36
        },
        "id": "N22cJid8leJe",
        "outputId": "ac2409d9-608d-4da6-8715-4b5ddbf32a09"
      },
      "execution_count": 15,
      "outputs": [
        {
          "output_type": "execute_result",
          "data": {
            "text/plain": [
              "'Rutherford B. Hayes'"
            ],
            "application/vnd.google.colaboratory.intrinsic+json": {
              "type": "string"
            }
          },
          "metadata": {},
          "execution_count": 15
        }
      ]
    },
    {
      "cell_type": "code",
      "source": [
        "presidential_speeches_df.iloc[308].President"
      ],
      "metadata": {
        "colab": {
          "base_uri": "https://localhost:8080/",
          "height": 36
        },
        "id": "aGbAp9PAlewO",
        "outputId": "f5415c5e-5443-4331-e5fb-7e9cb9a25ff0"
      },
      "execution_count": 16,
      "outputs": [
        {
          "output_type": "execute_result",
          "data": {
            "text/plain": [
              "'Rutherford B. Hayes'"
            ],
            "application/vnd.google.colaboratory.intrinsic+json": {
              "type": "string"
            }
          },
          "metadata": {},
          "execution_count": 16
        }
      ]
    },
    {
      "cell_type": "code",
      "execution_count": 12,
      "metadata": {
        "colab": {
          "base_uri": "https://localhost:8080/",
          "height": 971
        },
        "id": "STYlSTykXGlC",
        "outputId": "f374ff8d-94b3-425c-ab17-196175716c1e"
      },
      "outputs": [
        {
          "output_type": "display_data",
          "data": {
            "text/plain": [
              "<IPython.core.display.HTML object>"
            ],
            "text/html": [
              "Fellow Citizens: We stand to-day upon an eminence which overlooks a hundred years of national life- a century crowded with perils, but crowned with the triumphs of liberty and law. Before continuing the onward march let us pause on this height for a moment to strengthen our faith and renew our hope bya glance at the pathway along which our people have traveled. It is now three days more than a hundred years since the adoption of the first written constitution of the United States the Articles of Confederation and Perpetual Union. The new Republic was then beset with danger on every hand. It had not conquered a place in the family of nations. The decisive battle of the war for independence, whose centennial anniversary will soon be gratefully celebrated at Yorktown, had not yet been fought. The colonists were struggling not only against the armies of a great nation, but against the settled opinions of mankind; for the world did not then believe that the supreme authority of government could be safely intrusted to the guardianship of the people themselves. We can not overestimate the fervent love of liberty, the intelligent courage, and the sum of common sense with which our fathers made the great experiment of self government. When they found, after a short trial, that the confederacy of States, was too weak to meet the necessities of a vigorous and expanding republic, they boldly set it aside, and in its stead established a National Union, founded directly upon the will of the people, endowed with full power of self preservation and ample authority for the accomplishment of its great object. Under this Constitution the boundaries of freedom have been enlarged, the foundations of order and peace have been strengthened, and the growth of our people in all the better elements of national life has indicated the wisdom of the founders and given new hope to their descendants. Under this Constitution our people long ago made themselves safe against danger from without and secured for their mariners and flag equality of rights on all the seas. Under this Constitution twenty-five States have been added to the Union, with constitutions and laws, framed and enforced by their own citizens, to secure the manifold blessings of local self government. The jurisdiction of this Constitution now covers an area fifty times greater than that of the original thirteen States and a population twenty times greater than that of 1780. The supreme trial of the Constitution came at last under the tremendous pressure of civil war. We ourselves are witnesses that the Union emerged from the blood and fire of that conflict purified and made stronger for all the beneficent purposes of good government. And now, at the close of this first century of growth, with the inspirations of its history in their hearts, our people have lately reviewed the condition of the nation, passed judgment upon the conduct and opinions of political parties, and have registered their will concerning the future administration of the Government. To interpret and to execute that will in accordance with the Constitution is the paramount duty of the Executive. Even from this brief review it is manifest that the nation is resolutely facing to the front, resolved to employ its best energies in developing the great possibilities of the future. Sacredly preserving whatever has been gained to liberty and good government during the century, our people are determined to leave behind them all those bitter controversies concerning things which have been irrevocably settled, and the further discussion of which can only stir up strife and delay the onward march. The supremacy of the nation and its laws should be no longer a subject of debate. That discussion, which for half a century threatened the existence of the Union, was closed at last in the high court of war by a decree from which there is no appeal that the Constitution and the laws made in pursuance there of are and shall continue to be the supreme law of the land, binding alike upon the States and the people. This decree does not disturb the autonomy of the States nor interfere with any of their necessary rights of local self government, but it does fix and establish the permanent supremacy of the Union. The will of the nation, speaking with the voice of battle and through the amended Constitution, has fulfilled the great promise of 1776 by proclaiming “liberty throughout the land to all the inhabitants thereof.” The elevation of the negro race from slavery to the full rights of citizenship is the most important political change we have known since the adoption of the Constitution of 1787. NO thoughtful man can fail to appreciate its beneficent effect upon our institutions and people. It has freed us from the perpetual danger of war and dissolution. It has added immensely to the moral and industrial forces of our people. It has liberated the master as well as the slave from a relation which wronged and enfeebled both. It has surrendered to their own guardianship the manhood of more than mechanical ) double, and has opened to each one of them a career of freedom and usefulness. It has given new inspiration to the power of self help in both races by making labor more honorable to the one and more necessary to the other. The influence of this force will grow greater and bear richer fruit with the coming years. No doubt this great change has caused serious disturbance to our Southern communities. This is to be deplored, though it was perhaps unavoidable. But those who resisted the change should remember that under our institutions there was no middle ground for the negro race between slavery and equal citizenship. There can be no permanent disfranchised peasantry in the UnitedStates. Freedom can never yield its fullness of blessings so long as the law or its administration places the smallest obstacle in the pathway of any virtuous citizen. The emancipated race has already made remarkable progress. With unquestioning devotion to the Union, with a patience and gentleness not born of fear, they have “followed the light as God gave them to see the light.” They are rapidly laying the material foundations of self support, widening their circle of intelligence, and beginning to enjoy the blessings that gather around the homes of the industrious poor. They deserve the generous encouragement of all good men. So far as my authority can lawfully extend they shall enjoy the full and equal protection of the Constitution and the laws. The free enjoyment of equal suffrage is still in question, and a frank statement of the issue may aid its solution. It is alleged that in many communities negro citizens are practically denied the freedom of the ballot. In so far as the truth of this allegation is admitted, it is answered that in many places honest local government is impossible if the mass of uneducated negroes are allowed to vote. These are grave allegations. So far as the latter is true, it is the only palliation that can be offered for opposing the freedom of the ballot. Bad local government is certainly a great evil, which ought to be prevented; but to violate the freedom and sanctities of the suffrage is more than an evil. It is a crime which, if persisted in, will destroy the Government itself. Suicide is not a remedy. If in other lands it be high treason to compass the death of the king, it shall be counted no less a crime here to strangle our sovereign power and stifle its voice. It has been said that unsettled questions have no pity for the repose of nations. It should be said with the utmost emphasis that this question of the suffrage will never give repose or safety to the States or to the nation until each, within its own jurisdiction, makes and keeps the ballot free and pure by the strong sanctions of the law. But the danger which arises from ignorance in the voter can not be denied. It covers a field far wider than that of negro suffrage and the present condition of the race. It is a danger that lurks and hides in the sources and fountains of power in every state. We have no standard by which to measure the disaster that may be brought upon us by ignorance and vice in the citizens when joined to corruption and fraud in the suffrage. The voters of the Union, who make and unmake constitutions, and upon whose will hang the destinies of our governments, can transmit their supreme authority to no successors save the coming generation of voters, who are the sole heirs of sovereign power. If that generation comes to its inheritance blinded by ignorance and corrupted by vice, the fall of the Republic will be certain and remediless. The census has already sounded the alarm in the appalling figures which mark how dangerously high the tide of illiteracy has risen among our voters and their children. To the South this question is of supreme importance. But the responsibility for the existence of slavery did not rest upon the South alone. The nation itself is responsible for the extension of the suffrage, and is under special obligations to aid in removing the illiteracy which it has added to the voting population. For the North and South alike there is but one remedy. All the constitutional power of the nation and of the States and all the volunteer forces of the people should be surrendered to meet this danger by the savory influence of universal education. It is the high privilege and sacred duty of those now living to educate their successors and fit them, by intelligence and virtue, for the inheritance which awaits them. In this beneficent work sections and races should be forgotten and partisanship should be unknown. Let our people find a new meaning in the divine oracle which declares that “a little child shall lead them,” for our own little children will soon control the destinies of the Republic. My countrymen, we do not now differ in our judgment concerning the controversies of past generations, and fifty years hence our children will not be divided in their opinions concerning our controversies. They will surely bless their fathers and their fathers ' God that the Union was preserved, that slavery was overthrown, and that both races were made equal before the law. We may hasten or we may retard, but we can not prevent, the final reconciliation. Is it not possible for us now to make a truce with time by anticipating and accepting its inevitable verdict? Enterprises of the highest importance to our moral and material well being unite us and offer ample employment of our best powers. Let all our people, leaving behind them the battlefields of dead issues, move forward and in their strength of liberty and the restored Union win the grander victories of peace. The prosperity which now prevails is without parallel in our history. Fruitful seasons have done much to secure it, but they have not done all. The preservation of the public credit and the resumption of specie payments, so successfully attained by the Administration of my predecessors, have enabled our people to secure the blessings which the seasons brought. By the experience of commercial nations in all ages it has been found that gold and silver afford the only safe foundation for a monetary system. Confusion has recently been created by variations in the relative value of the two metals, but I confidently believe that arrangements can be made between the leading commercial nations which will secure the general use of both metals. Congress should provide that the compulsory coinage of silver now required by law may not disturb our monetary system by driving either metal out of circulation. If possible, such an adjustment should be made that the purchasing power of every coined dollar will be exactly equal to its debt-paying power in all the markets of the world. The chief duty of the National Government in connection with the currency of the country is to coin money and declare its value. Grave doubts have been entertained whether Congress is authorized by the Constitution to make any form of paper money legal tender. The present issue of UnitedStates notes has been sustained by the necessities of war; but such paper should depend for its value and currency upon its convenience in use and its prompt redemption in coin at the will of the holder, and not upon its compulsory circulation. These notes are not money, but promises to pay money. If the holders demand it, the promise should be kept. The refunding of the national debt at a lower rate of interest should be accomplished without compelling the withdrawal of the national-banknotes, and thus disturbing the business of the country. I venture to refer to the position I have occupied on financial questions during a long service in Congress, and to say that time and experience have strengthened the opinions I have so often expressed on these subjects. The finances of the Government shall suffer no detriment which it maybe possible for my Administration to prevent. The interests of agriculture deserve more attention from the Government than they have yet received. The farms of the United States afford homes and employment for more than one-half our people, and furnish much the largest part of all our exports. As the Government lights our coasts for the protection of mariners and the benefit of commerce, so it should give to the tillers of the soil the best lights of practical science and experience. Our manufacturers are rapidly making us industrially independent, and are opening to capital and labor new and profitable fields of employment. Their steady and healthy growth should still be matured. Our facilities for transportation should be promoted by the continued improvement of our harbors and great interior waterways and by the increase of our tonnage on the ocean. The development of the world's commerce has led to an urgent demand for shortening the great sea voyage around Cape Horn by constructing ship canals or railways across the isthmus which unites the continents. Various plans to this end have been suggested and will need consideration, but none of them has been sufficiently matured to warrant the United States in extending pecuniary aid. The subject, however, is one which will immediately engage the attention of the Government with a view to a thorough protection to American interests. We will urge no narrow policy nor seek peculiar or exclusive privileges in any commercial route; but, in the language of my predecessor, I believe it to be the right “and duty of the United States to assert and maintain such supervision and authority over any interoceanic canal across the isthmus that connects North and South America as will protect our national interest.” The Constitution guarantees absolute religious freedom. Congress is prohibited from making any law respecting an establishment of religion or prohibiting the free exercise thereof. The Territories of the UnitedStates are subject to the direct legislative authority of Congress, and hence the General Government is responsible for any violation of the Constitution in any of them. It is therefore a reproach to the Government that in the most populous of the Territories the constitutional guaranty is not enjoyed by the people and the authority of Congress is set at naught. The MormonChurch not only offends the moral sense of manhood by sanctioning polygamy, but prevents the administration of justice through ordinary instrumentalities of law. In my judgment it is the duty of Congress, while respecting to the uttermost the conscientious convictions and religious scruples of every citizen, to prohibit within its jurisdiction all criminal practices, especially of that class which destroy the family relations and endanger social order. Nor can any ecclesiastical organization be safely permitted to usurp in the smallest degree the functions and powers of the National Government. The civil service can never be placed on a satisfactory basis until it is regulated by law. For the good of the service itself, for the protection of those who are intrusted with the appointing power against the waste of time and obstruction to the public business caused by the inordinate pressure for place, and for the protection of incumbents against intrigue and wrong, I shall at the proper time ask Congress to fix the tenure of the minor offices of the several Executive Departments and prescribe the grounds upon which removals shall be made during the terms for which incumbents have been appointed. Finally, acting always within the authority and limitations of the Constitution, invading neither the rights of the States nor the reserved rights of the people, it will be the purpose of my Administration to maintain the authority of the nation in all places within its jurisdiction; to enforce obedience to all the laws of the Union in the interests of the people; to demand rigid economy in all the expenditures of the Government, and to require the honest and faithful service of all executive officers, remembering that the offices were created, not for the benefit of incumbents or their supporters, but for the service of the Government. And now, fellow citizens, I am about to assume the great trust which you have committed to my hands. I appeal to you for that earnest and thoughtful support which makes this Government in fact, as it is in law, a government of the people. I shall greatly rely upon the wisdom and patriotism of Congress and of those who may share with me the responsibilities and duties of administration, and, above all, upon our efforts to promote the welfare of this great people and their Government I reverently invoke the support and blessings of AlmightyGod"
            ]
          },
          "metadata": {}
        }
      ],
      "source": [
        "garfield_inaugural = presidential_speeches_df.iloc[309].Transcript\n",
        "display(HTML(garfield_inaugural))"
      ]
    },
    {
      "cell_type": "code",
      "execution_count": 13,
      "metadata": {
        "colab": {
          "base_uri": "https://localhost:8080/",
          "height": 182,
          "referenced_widgets": [
            "c63763ed500642c39ffc1906e7e80039",
            "1d1e55f0d0cf4418b13cfc074e136166",
            "8f509631660244fe8f73dac211f599af",
            "6331d090f6c64918beab6a6e468ed448",
            "e7017876b5504114a5448d1ad2eb2ad9",
            "d964cea848fb4f51a7aad8fddc5b40c3",
            "2da000a8f8b7440699a1b6099a32ccb5",
            "43c58a19787c480fb10a0aac82680cf4",
            "89f32df1e40a41c3a29157769fee504e",
            "7308b838d2fc405bb093ac3a48a68dba",
            "62b2dab5369e4580978ee64dc95e2ac6",
            "e53a9d0d2704406795e4810e167a6e96",
            "2c95a7ad74594cdf9576568281ca0c50",
            "1cdd5fbedbec4a84969f1930a1c3c1af",
            "ccb472c7b7cc43fb94e8100b19b9e27a",
            "0f361b61814e4d9ca9f3385f31c5e343",
            "f8f595c58ba6419bba8c92e74c834966",
            "5c053219353c4577a4464d1049b5bfc3",
            "875cad425cc7459a8f3c11be14f3475f",
            "d2ed2e6542194a528daa6c4d9db3ac3d",
            "0bd08696f1114558955b337e9fea61ad",
            "10fa49b132d942d3936867a3ff2ae03f",
            "f3df4b1f37824978add6d44118fdb6f3",
            "73c90efb83d04e7594048a7864fe92f5",
            "2612c481dc4b4db09feab227d3a66d2b",
            "e31ea45963984ccaa8502fae567a6c98",
            "75325aec543c418486b56b0bb3b23ea7",
            "f7f2276f291c4f229be6d040f28fe548",
            "4439db3287e1491baad78dd837347300",
            "36dd78f3db8c4b4cbf615152a6066a59",
            "2f603c6b4f3347aab86fd983eb19ac8c",
            "559a8753b96d4ff4823d9a2af298933a",
            "0001f1ac904c4622871e2e7a5c3e8ddd",
            "a2ffca7c3165484697420e29c2c80765",
            "39d63ae5d89f4de7a6fd377d2f5cbb22",
            "8b1d1088b54e4bc9996924680d002947",
            "ba7b311f63df440ea4f0ad43bfaeca25",
            "b2788921db924eff9eb5ae585bb15f16",
            "30bee11d0e9b424e82b954993e16c537",
            "0ebce44b3a69471eace64c0209f62f24",
            "0865e62fecc84b6fb65f887ce6c03721",
            "5fdad79df9a840f78a3e86bdc7846a49",
            "2f37491fe3d24a52bb735939f0639de3",
            "22781eabdc3b49919e6936d0812f8cc6"
          ]
        },
        "id": "9wQpFH_nXGhq",
        "outputId": "0fd520cb-1072-48e8-e03f-6872e067f61e"
      },
      "outputs": [
        {
          "output_type": "display_data",
          "data": {
            "text/plain": [
              "tokenizer_config.json:   0%|          | 0.00/350 [00:00<?, ?B/s]"
            ],
            "application/vnd.jupyter.widget-view+json": {
              "version_major": 2,
              "version_minor": 0,
              "model_id": "c63763ed500642c39ffc1906e7e80039"
            }
          },
          "metadata": {}
        },
        {
          "output_type": "display_data",
          "data": {
            "text/plain": [
              "vocab.txt:   0%|          | 0.00/232k [00:00<?, ?B/s]"
            ],
            "application/vnd.jupyter.widget-view+json": {
              "version_major": 2,
              "version_minor": 0,
              "model_id": "e53a9d0d2704406795e4810e167a6e96"
            }
          },
          "metadata": {}
        },
        {
          "output_type": "display_data",
          "data": {
            "text/plain": [
              "tokenizer.json:   0%|          | 0.00/466k [00:00<?, ?B/s]"
            ],
            "application/vnd.jupyter.widget-view+json": {
              "version_major": 2,
              "version_minor": 0,
              "model_id": "f3df4b1f37824978add6d44118fdb6f3"
            }
          },
          "metadata": {}
        },
        {
          "output_type": "display_data",
          "data": {
            "text/plain": [
              "special_tokens_map.json:   0%|          | 0.00/112 [00:00<?, ?B/s]"
            ],
            "application/vnd.jupyter.widget-view+json": {
              "version_major": 2,
              "version_minor": 0,
              "model_id": "a2ffca7c3165484697420e29c2c80765"
            }
          },
          "metadata": {}
        },
        {
          "output_type": "stream",
          "name": "stderr",
          "text": [
            "Token indices sequence length is longer than the specified maximum sequence length for this model (3420 > 512). Running this sequence through the model will result in indexing errors\n"
          ]
        },
        {
          "output_type": "execute_result",
          "data": {
            "text/plain": [
              "3420"
            ]
          },
          "metadata": {},
          "execution_count": 13
        }
      ],
      "source": [
        "model_id = \"sentence-transformers/all-MiniLM-L6-v2\"\n",
        "tokenizer = AutoTokenizer.from_pretrained(model_id)\n",
        "\n",
        "# create the length function\n",
        "def token_len(text):\n",
        "    tokens = tokenizer.encode(\n",
        "        text\n",
        "    )\n",
        "    return len(tokens)\n",
        "\n",
        "token_len(garfield_inaugural)"
      ]
    },
    {
      "cell_type": "code",
      "execution_count": 17,
      "metadata": {
        "colab": {
          "base_uri": "https://localhost:8080/"
        },
        "id": "xgX42jRder1_",
        "outputId": "72b5f632-9169-4ed5-d656-566795b60df1"
      },
      "outputs": [
        {
          "output_type": "stream",
          "name": "stdout",
          "text": [
            "453\n",
            "455\n",
            "467\n",
            "457\n",
            "457\n",
            "455\n",
            "461\n",
            "368\n"
          ]
        }
      ],
      "source": [
        "text_splitter = TokenTextSplitter(\n",
        "    chunk_size=450, # 500 tokens is the max\n",
        "    chunk_overlap=20 # Overlap of N tokens between chunks (to reduce chance of cutting out relevant connected text like middle of sentence)\n",
        ")\n",
        "\n",
        "chunks = text_splitter.split_text(garfield_inaugural)\n",
        "\n",
        "for chunk in chunks:\n",
        "    print(token_len(chunk))"
      ]
    },
    {
      "cell_type": "code",
      "execution_count": 18,
      "metadata": {
        "colab": {
          "base_uri": "https://localhost:8080/",
          "height": 316,
          "referenced_widgets": [
            "d848cbc7bfd241ca827e006c2f5585db",
            "ca9e20932f444797a4686b1789e6b60b",
            "0979f10896414bb7b60a871f5d8a8c23",
            "78cd30d0a3274766838c393a8394855d",
            "f12a50e8eefa4e12ae40c41d4d3b3ccd",
            "e8fe69153d8840a5b3a1f04dd7e356f4",
            "18a3b23e5b24455e98e3a3f3bb9b2ae4",
            "3e1ae598add64463ba219520235adf29",
            "d595c2e3236f4ea8b70f2fe82bd86557",
            "77b38b803d424e938c2d0e8a96d0e122",
            "30962c06f809400d9c8e97dc30332d36",
            "1eb3098e00734f9f8b675ce13e92a3d8",
            "d5631da307a34fb4a753db8366b05169",
            "d2f9c6807d0049e38b1e1440560de6ed",
            "f97fc4aaf7904bc78da2dd3034271b4a",
            "75a66a36d0074d69b4f84ab3659440dd",
            "04f56d2da269442f9b4624fc90a60ccd",
            "2f989f8afb5e487b847a845e0ea0f57a",
            "e974945bd44142a5bde5a7b26b43560c",
            "76633e8fcea34202b9701db44f12b7dd",
            "a04c623af451410caa9376041eace32f",
            "49047cb67d92413a8dfdf50b13d0075d",
            "920d0613ab6f428c81d52dfccfd727b3",
            "3894f715a30740b3b7caca6df08dfdea",
            "99783f3722554dc2953e62b35c6c8be3",
            "076d6ba47ddb4a43967f01524d841a5d",
            "6974fbe9f0f3481c91cb2b8f57ee536b",
            "7fc257695f434dd9a79ee2ff5d3688e9",
            "01ae66342ad443c2806fec6a022e126e",
            "2a623165ed9c42609e496cfb3c810a71",
            "6957d76b1981469584b684300f5c6979",
            "efe056df926a4784b16463f22f26cef4",
            "73c58b36ac284eba9f082272c15e693d",
            "a5239f3ea84943e486109b4b2a96ebba",
            "5d633ba7e19c4aa0a3af0f7e54cfae71",
            "e9a935ff10534deeb647cb3941ead0d7",
            "81ab8210333f4d0181db67f134ddff90",
            "cfe124ce72984e9385a351a47656fd28",
            "3df0879d6f3146a5aedd11d12c19375a",
            "1a636dab22ea4c36863fa59f416ad02f",
            "a3ed1bd9794b43cab4eb735ec1a30382",
            "3165d2a89eeb4928875625c751e82335",
            "ee9eb623737d40e7b972764b750543e7",
            "ce58180acbe14ec38c9ddbedeefc0574",
            "9b53e45e01c34520ba6c15279905ae2b",
            "eb7406c8d0114cc9ad1176853ddb4007",
            "583172d91b544edaa07c15ae804a336b",
            "04746ba8fa624036ab40bc1b1bdcb231",
            "67265a1b54ab41efa13589b4b3f9a707",
            "ec7b312a8c694ae09ddfbcf01275afa4",
            "2e7e44912cc1457281611927a09bf682",
            "a8f72e00ceff44dd89ba9eefb0e5946b",
            "7d1b863d3ba945348d8973fbee43a879",
            "164cad0e2e5349888b9c80ffa2c410f6",
            "e1c397f79ca6486eb6a3eef4b7fa4340",
            "4b23e94876ac45f7a6217c543986b038",
            "e723106b13c64c77a0ebd3d0b3886f35",
            "a79f87e5d80547739b010592e37fb1c1",
            "9fd74f6d60e643149e37bd1e3489bfff",
            "d8cd4d89a1804b3d9b645404b56d9e1f",
            "aa5bfa24269b4ccdb6a327da037b16ea",
            "d9282d8ccc4a47e89b86ad2a6ed2c150",
            "132ef51063f24cf3a4ef82008ba4521a",
            "d820c1acc7fd45ff8c7694bdc31a2a22",
            "d8143727ac6742abb2ec7d593a491713",
            "1c7910cda636495aa4ed62bcda2abe6b",
            "71a591ac77884b9592574f5f3a21fe96",
            "341e4ea71f4a443d8166c96f56645d72",
            "5d6bb92a29e3439abbf13bf9643be06a",
            "550dea4265024b8fa24b7cc74eb1bfbf",
            "14c6ccec9f0a4f2091aefe91b61a3d49",
            "173b4ecd273b4be5a7435d5e1a037f8f",
            "047dfff4ee15460fbb7d55b092117936",
            "fe48f5b7828d44da8d270b5e97739df8",
            "043f9a9f1a314736b2fe2d9c6dfcdc05",
            "c96d088d8cfd4d92aab0867936bea870",
            "8a8a0c5bdb114f10bc5efeba2c9651d4"
          ]
        },
        "id": "b5_ANul4fKYK",
        "outputId": "21bfe2ce-95d2-4b34-f9a6-096f2313e200"
      },
      "outputs": [
        {
          "output_type": "stream",
          "name": "stderr",
          "text": [
            "<ipython-input-18-154714544680>:2: LangChainDeprecationWarning: The class `HuggingFaceEmbeddings` was deprecated in LangChain 0.2.2 and will be removed in 1.0. An updated version of the class exists in the :class:`~langchain-huggingface package and should be used instead. To use it run `pip install -U :class:`~langchain-huggingface` and import as `from :class:`~langchain_huggingface import HuggingFaceEmbeddings``.\n",
            "  embedding_function = SentenceTransformerEmbeddings(model_name=\"all-MiniLM-L6-v2\")\n"
          ]
        },
        {
          "output_type": "display_data",
          "data": {
            "text/plain": [
              "modules.json:   0%|          | 0.00/349 [00:00<?, ?B/s]"
            ],
            "application/vnd.jupyter.widget-view+json": {
              "version_major": 2,
              "version_minor": 0,
              "model_id": "d848cbc7bfd241ca827e006c2f5585db"
            }
          },
          "metadata": {}
        },
        {
          "output_type": "display_data",
          "data": {
            "text/plain": [
              "config_sentence_transformers.json:   0%|          | 0.00/116 [00:00<?, ?B/s]"
            ],
            "application/vnd.jupyter.widget-view+json": {
              "version_major": 2,
              "version_minor": 0,
              "model_id": "1eb3098e00734f9f8b675ce13e92a3d8"
            }
          },
          "metadata": {}
        },
        {
          "output_type": "display_data",
          "data": {
            "text/plain": [
              "README.md:   0%|          | 0.00/10.5k [00:00<?, ?B/s]"
            ],
            "application/vnd.jupyter.widget-view+json": {
              "version_major": 2,
              "version_minor": 0,
              "model_id": "920d0613ab6f428c81d52dfccfd727b3"
            }
          },
          "metadata": {}
        },
        {
          "output_type": "display_data",
          "data": {
            "text/plain": [
              "sentence_bert_config.json:   0%|          | 0.00/53.0 [00:00<?, ?B/s]"
            ],
            "application/vnd.jupyter.widget-view+json": {
              "version_major": 2,
              "version_minor": 0,
              "model_id": "a5239f3ea84943e486109b4b2a96ebba"
            }
          },
          "metadata": {}
        },
        {
          "output_type": "display_data",
          "data": {
            "text/plain": [
              "config.json:   0%|          | 0.00/612 [00:00<?, ?B/s]"
            ],
            "application/vnd.jupyter.widget-view+json": {
              "version_major": 2,
              "version_minor": 0,
              "model_id": "9b53e45e01c34520ba6c15279905ae2b"
            }
          },
          "metadata": {}
        },
        {
          "output_type": "display_data",
          "data": {
            "text/plain": [
              "model.safetensors:   0%|          | 0.00/90.9M [00:00<?, ?B/s]"
            ],
            "application/vnd.jupyter.widget-view+json": {
              "version_major": 2,
              "version_minor": 0,
              "model_id": "4b23e94876ac45f7a6217c543986b038"
            }
          },
          "metadata": {}
        },
        {
          "output_type": "display_data",
          "data": {
            "text/plain": [
              "config.json:   0%|          | 0.00/190 [00:00<?, ?B/s]"
            ],
            "application/vnd.jupyter.widget-view+json": {
              "version_major": 2,
              "version_minor": 0,
              "model_id": "71a591ac77884b9592574f5f3a21fe96"
            }
          },
          "metadata": {}
        },
        {
          "output_type": "stream",
          "name": "stdout",
          "text": [
            "384 [-0.04131148383021355, 0.04761349782347679, 0.007975048385560513, -0.030207902193069458, 0.04763733595609665, 0.032533250749111176, 0.012350223958492279, -0.04483683034777641, -0.008013556711375713, 0.01570405624806881, -0.0009442783775739372, 0.11632761359214783, -0.007115584332495928, -0.03356572985649109, -0.04323795437812805, 0.06872354447841644, -0.04552493244409561, -0.07017463445663452, -0.10271696001291275, 0.11116134375333786]\n"
          ]
        }
      ],
      "source": [
        "chunk_embeddings = []\n",
        "embedding_function = SentenceTransformerEmbeddings(model_name=\"all-MiniLM-L6-v2\")\n",
        "for chunk in chunks:\n",
        "    chunk_embeddings.append(embedding_function.embed_query(chunk))\n",
        "\n",
        "print(len(chunk_embeddings[0]),chunk_embeddings[0][:20]) #Shows first 25 embeddings out of 384"
      ]
    },
    {
      "cell_type": "code",
      "execution_count": 19,
      "metadata": {
        "id": "AhbqC2SUfKVF"
      },
      "outputs": [],
      "source": [
        "user_question = \"What were James Garfield's views on civil service reform?\""
      ]
    },
    {
      "cell_type": "code",
      "execution_count": 20,
      "metadata": {
        "colab": {
          "base_uri": "https://localhost:8080/",
          "height": 121
        },
        "id": "zjQo9dfcfKSB",
        "outputId": "70b6146f-4bf0-4f0a-855c-49b80f3cfd38"
      },
      "outputs": [
        {
          "output_type": "display_data",
          "data": {
            "text/plain": [
              "<IPython.core.display.HTML object>"
            ],
            "text/html": [
              " permitted to usurp in the smallest degree the functions and powers of the National Government. The civil service can never be placed on a satisfactory basis until it is regulated by law. For the good of the service itself, for the protection of those who are intrusted with the appointing power against the waste of time and obstruction to the public business caused by the inordinate pressure for place, and for the protection of incumbents against intrigue and wrong, I shall at the proper time ask Congress to fix the tenure of the minor offices of the several Executive Departments and prescribe the grounds upon which removals shall be made during the terms for which incumbents have been appointed. Finally, acting always within the authority and limitations of the Constitution, invading neither the rights of the States nor the reserved rights of the people, it will be the purpose of my Administration to maintain the authority of the nation in all places within its jurisdiction; to enforce obedience to all the laws of the Union in the interests of the people; to demand rigid economy in all the expenditures of the Government, and to require the honest and faithful service of all executive officers, remembering that the offices were created, not for the benefit of incumbents or their supporters, but for the service of the Government. And now, fellow citizens, I am about to assume the great trust which you have committed to my hands. I appeal to you for that earnest and thoughtful support which makes this Government in fact, as it is in law, a government of the people. I shall greatly rely upon the wisdom and patriotism of Congress and of those who may share with me the responsibilities and duties of administration, and, above all, upon our efforts to promote the welfare of this great people and their Government I reverently invoke the support and blessings of AlmightyGod"
            ]
          },
          "metadata": {}
        }
      ],
      "source": [
        "prompt_embeddings = embedding_function.embed_query(user_question)\n",
        "similarities = cosine_similarity([prompt_embeddings], chunk_embeddings)[0]\n",
        "closest_similarity_index = np.argmax(similarities)\n",
        "most_relevant_chunk = chunks[closest_similarity_index]\n",
        "display(HTML(most_relevant_chunk))"
      ]
    },
    {
      "cell_type": "code",
      "execution_count": 21,
      "metadata": {
        "colab": {
          "base_uri": "https://localhost:8080/",
          "height": 91
        },
        "id": "8aHI2obCfKPD",
        "outputId": "75f62723-603f-480e-89e3-1893a7e1ed90"
      },
      "outputs": [
        {
          "output_type": "execute_result",
          "data": {
            "text/plain": [
              "'Based on the provided speech excerpt, James Garfield\\'s views on civil service reform are evident. He addresses the issue of patronage and the potential for abuse in the civil service system. Specifically, he states:\\n\\n\"...the civil service can never be placed on a satisfactory basis until it is regulated by law.\"\\n\\nThis quote suggests that Garfield believed in the importance of establishing a formal framework for the civil service system to ensure its stability and effectiveness. He also acknowledges the need to protect both appointing officials from undue pressure and incumbents from removals based on political favors.\\n\\nGarfield also emphasizes the importance of honest and faithful service, stating:\\n\\n\"...it will be the purpose of my Administration to maintain the authority of the nation in all places within its jurisdiction; to enforce obedience to all the laws of the Union in the interests of the people; to demand rigid economy in all the expenditures of the Government, and to require the honest and faithful service of all executive officers...\"\\n\\nThis quote highlights Garfield\\'s commitment to upholding the principles of accountability and integrity within the government. Overall, his views on civil service reform reflect a desire to create a more efficient, responsible, and transparent system.\\n\\nThe speech is likely from Garfield\\'s inaugural address, which was delivered on March 4, 1881.'"
            ],
            "application/vnd.google.colaboratory.intrinsic+json": {
              "type": "string"
            }
          },
          "metadata": {},
          "execution_count": 21
        }
      ],
      "source": [
        "# A chat completion function that will use the most relevant exerpt(s) from presidential speeches to answer the user's question\n",
        "def presidential_speech_chat_completion(client, model, user_question, relevant_excerpts):\n",
        "    chat_completion = client.chat.completions.create(\n",
        "        messages = [\n",
        "            {\n",
        "                \"role\": \"system\",\n",
        "                \"content\": \"You are a presidential historian. Given the user's question and relevant excerpts from presidential speeches, answer the question by including direct quotes from presidential speeches. When using a quote, site the speech that it was from (ignoring the chunk).\"\n",
        "            },\n",
        "            {\n",
        "                \"role\": \"user\",\n",
        "                \"content\": \"User Question: \" + user_question + \"\\n\\nRelevant Speech Exerpt(s):\\n\\n\" + relevant_excerpts,\n",
        "            }\n",
        "        ],\n",
        "        model = model\n",
        "    )\n",
        "\n",
        "    response = chat_completion.choices[0].message.content\n",
        "    return response\n",
        "\n",
        "\n",
        "presidential_speech_chat_completion(client, model, user_question, most_relevant_chunk)"
      ]
    },
    {
      "cell_type": "code",
      "source": [
        "len(presidential_speeches_df.iloc[300:315]['Transcript'])"
      ],
      "metadata": {
        "colab": {
          "base_uri": "https://localhost:8080/"
        },
        "id": "g2PKLgPymgYo",
        "outputId": "e9a44405-015a-420a-be06-a7f083168a8e"
      },
      "execution_count": 22,
      "outputs": [
        {
          "output_type": "execute_result",
          "data": {
            "text/plain": [
              "15"
            ]
          },
          "metadata": {},
          "execution_count": 22
        }
      ]
    },
    {
      "cell_type": "code",
      "execution_count": 39,
      "metadata": {
        "colab": {
          "base_uri": "https://localhost:8080/"
        },
        "id": "pTqS3vXhfKL6",
        "outputId": "fb56f9d7-3087-470a-f59e-9b413070a4c1"
      },
      "outputs": [
        {
          "output_type": "stream",
          "name": "stdout",
          "text": [
            "147\n",
            "147\n"
          ]
        }
      ],
      "source": [
        "documents = []\n",
        "ids = []\n",
        "#for index, row in presidential_speeches_df[presidential_speeches_df['Transcript'].notnull()].iterrows():\n",
        "for index, row in presidential_speeches_df[300:315].iterrows():\n",
        "    chunks = text_splitter.split_text(row.Transcript)\n",
        "    total_chunks = len(chunks)\n",
        "    for chunk_num in range(1,total_chunks+1):\n",
        "        header = f\"Date: {row['Date']}\\nPresident: {row['President']}\\nSpeech Title: {row['Speech Title']} (chunk {chunk_num} of {total_chunks})\\n\\n\"\n",
        "        chunk = chunks[chunk_num-1]\n",
        "        document_id = f\"{index}_chunk_{chunk_num}\"\n",
        "        documents.append(Document(page_content=header + chunk, metadata={\"source\": \"local\"}))\n",
        "        #documents.append(header + chunk)\n",
        "        ids.append(document_id)\n",
        "print(len(ids))\n",
        "print(len(documents))"
      ]
    },
    {
      "cell_type": "code",
      "execution_count": 47,
      "metadata": {
        "colab": {
          "base_uri": "https://localhost:8080/"
        },
        "id": "jDUGcnw8h145",
        "outputId": "e92b2744-b921-4e21-9b55-cbc5fc8991a5"
      },
      "outputs": [
        {
          "output_type": "execute_result",
          "data": {
            "text/plain": [
              "384"
            ]
          },
          "metadata": {},
          "execution_count": 47
        }
      ],
      "source": [
        "len(prompt_embeddings)"
      ]
    },
    {
      "cell_type": "markdown",
      "source": [
        "# PineCone"
      ],
      "metadata": {
        "id": "rN1TyWEd3Q5b"
      }
    },
    {
      "cell_type": "code",
      "source": [
        "from langchain.embeddings.openai import OpenAIEmbeddings\n",
        "\n",
        "model_name = 'text-embedding-ada-002'\n",
        "\n",
        "embed = OpenAIEmbeddings(\n",
        "    model=model_name,\n",
        "    openai_api_key=OPENAI_API_KEY\n",
        ")"
      ],
      "metadata": {
        "id": "m-42iYn_94pi"
      },
      "execution_count": 69,
      "outputs": []
    },
    {
      "cell_type": "code",
      "source": [
        "texts = [\n",
        "    'this is the first chunk of text',\n",
        "    'then another second chunk of text is here'\n",
        "]\n",
        "\n",
        "res = embed.embed_documents(texts)\n",
        "len(res), len(res[0])"
      ],
      "metadata": {
        "colab": {
          "base_uri": "https://localhost:8080/"
        },
        "id": "bovZR_05_JmN",
        "outputId": "0902e1cd-1734-40a1-aee5-d35d4116996e"
      },
      "execution_count": 70,
      "outputs": [
        {
          "output_type": "execute_result",
          "data": {
            "text/plain": [
              "(2, 1536)"
            ]
          },
          "metadata": {},
          "execution_count": 70
        }
      ]
    },
    {
      "cell_type": "code",
      "source": [
        "from pinecone import Pinecone\n",
        "pinecone_index_name = 'langchain-retrieval-augmentation'\n",
        "pc = Pinecone(\n",
        "    api_key=os.environ.get(\"PINECONE_API_KEY\")\n",
        ")\n",
        "dense_index = pc.Index(pinecone_index_name)"
      ],
      "metadata": {
        "id": "4Tpgwacp1SKO"
      },
      "execution_count": 72,
      "outputs": []
    },
    {
      "cell_type": "code",
      "source": [
        "# Extract text content from Document objects\n",
        "document_texts = [doc.page_content for doc in documents]\n",
        "\n",
        "document_embeddings = embed.embed_documents(document_texts)\n",
        "vectors = [(doc_id, embedding, {\"source\": \"local\"}) for doc_id, embedding in zip(ids, document_embeddings)]\n",
        "\n",
        "dense_index.upsert(vectors)"
      ],
      "metadata": {
        "colab": {
          "base_uri": "https://localhost:8080/"
        },
        "id": "9yHrGfGH7iQg",
        "outputId": "729c0383-49ce-40f1-baf0-1b6f6072ebee"
      },
      "execution_count": 74,
      "outputs": [
        {
          "output_type": "execute_result",
          "data": {
            "text/plain": [
              "{'upserted_count': 147}"
            ]
          },
          "metadata": {},
          "execution_count": 74
        }
      ]
    },
    {
      "cell_type": "code",
      "source": [
        "stats = dense_index.describe_index_stats()\n",
        "print(stats)"
      ],
      "metadata": {
        "colab": {
          "base_uri": "https://localhost:8080/"
        },
        "id": "WFTTW_Qp3aCw",
        "outputId": "092cfb10-c36a-4f19-b31d-758a004ffc29"
      },
      "execution_count": 75,
      "outputs": [
        {
          "output_type": "stream",
          "name": "stdout",
          "text": [
            "{'dimension': 1536,\n",
            " 'index_fullness': 0.0,\n",
            " 'namespaces': {'': {'vector_count': 32858}},\n",
            " 'total_vector_count': 32858}\n"
          ]
        }
      ]
    },
    {
      "cell_type": "code",
      "source": [
        "#pinecone_index_name = \"presidential-speeches\"\n",
        "pinecone_docsearch = PineconeVectorStore.from_documents(documents, embed, index_name=pinecone_index_name)"
      ],
      "metadata": {
        "id": "T8_ylgY502pw"
      },
      "execution_count": 76,
      "outputs": []
    },
    {
      "cell_type": "code",
      "source": [
        "pinecone_user_question = \"What were James Garfield's views on civil service reform?\""
      ],
      "metadata": {
        "id": "a_bEoC7tAUv1"
      },
      "execution_count": 77,
      "outputs": []
    },
    {
      "cell_type": "code",
      "source": [
        "pinecone_relevent_docs = pinecone_docsearch.similarity_search(pinecone_user_question)\n",
        "\n",
        "# print results\n",
        "display(HTML(pinecone_relevent_docs[0].page_content))"
      ],
      "metadata": {
        "colab": {
          "base_uri": "https://localhost:8080/",
          "height": 175
        },
        "id": "0LHuh_GEAXRX",
        "outputId": "1c7aa935-ba78-4b0c-dd04-e20962488943"
      },
      "execution_count": 78,
      "outputs": [
        {
          "output_type": "stream",
          "name": "stderr",
          "text": [
            "WARNING:langchain_pinecone.vectorstores:Found document with no `text` key. Skipping.\n",
            "WARNING:langchain_pinecone.vectorstores:Found document with no `text` key. Skipping.\n"
          ]
        },
        {
          "output_type": "display_data",
          "data": {
            "text/plain": [
              "<IPython.core.display.HTML object>"
            ],
            "text/html": [
              "Date: 1881-03-04\n",
              "President: James A. Garfield\n",
              "Speech Title: Inaugural Address (chunk 8 of 8)\n",
              "\n",
              " permitted to usurp in the smallest degree the functions and powers of the National Government. The civil service can never be placed on a satisfactory basis until it is regulated by law. For the good of the service itself, for the protection of those who are intrusted with the appointing power against the waste of time and obstruction to the public business caused by the inordinate pressure for place, and for the protection of incumbents against intrigue and wrong, I shall at the proper time ask Congress to fix the tenure of the minor offices of the several Executive Departments and prescribe the grounds upon which removals shall be made during the terms for which incumbents have been appointed. Finally, acting always within the authority and limitations of the Constitution, invading neither the rights of the States nor the reserved rights of the people, it will be the purpose of my Administration to maintain the authority of the nation in all places within its jurisdiction; to enforce obedience to all the laws of the Union in the interests of the people; to demand rigid economy in all the expenditures of the Government, and to require the honest and faithful service of all executive officers, remembering that the offices were created, not for the benefit of incumbents or their supporters, but for the service of the Government. And now, fellow citizens, I am about to assume the great trust which you have committed to my hands. I appeal to you for that earnest and thoughtful support which makes this Government in fact, as it is in law, a government of the people. I shall greatly rely upon the wisdom and patriotism of Congress and of those who may share with me the responsibilities and duties of administration, and, above all, upon our efforts to promote the welfare of this great people and their Government I reverently invoke the support and blessings of AlmightyGod"
            ]
          },
          "metadata": {}
        }
      ]
    },
    {
      "cell_type": "code",
      "source": [
        "pinecone_relevant_excerpts = '\\n\\n------------------------------------------------------\\n\\n'.join([doc.page_content for doc in pinecone_relevent_docs[:3]])\n",
        "display(HTML(pinecone_relevant_excerpts.replace(\"\\n\", \"<br>\")))"
      ],
      "metadata": {
        "colab": {
          "base_uri": "https://localhost:8080/",
          "height": 451
        },
        "id": "Atp2tHqrAolH",
        "outputId": "7e28e1a7-b4ef-46aa-ed6c-5f867af640a4"
      },
      "execution_count": 80,
      "outputs": [
        {
          "output_type": "display_data",
          "data": {
            "text/plain": [
              "<IPython.core.display.HTML object>"
            ],
            "text/html": [
              "Date: 1881-03-04<br>President: James A. Garfield<br>Speech Title: Inaugural Address (chunk 8 of 8)<br><br> permitted to usurp in the smallest degree the functions and powers of the National Government. The civil service can never be placed on a satisfactory basis until it is regulated by law. For the good of the service itself, for the protection of those who are intrusted with the appointing power against the waste of time and obstruction to the public business caused by the inordinate pressure for place, and for the protection of incumbents against intrigue and wrong, I shall at the proper time ask Congress to fix the tenure of the minor offices of the several Executive Departments and prescribe the grounds upon which removals shall be made during the terms for which incumbents have been appointed. Finally, acting always within the authority and limitations of the Constitution, invading neither the rights of the States nor the reserved rights of the people, it will be the purpose of my Administration to maintain the authority of the nation in all places within its jurisdiction; to enforce obedience to all the laws of the Union in the interests of the people; to demand rigid economy in all the expenditures of the Government, and to require the honest and faithful service of all executive officers, remembering that the offices were created, not for the benefit of incumbents or their supporters, but for the service of the Government. And now, fellow citizens, I am about to assume the great trust which you have committed to my hands. I appeal to you for that earnest and thoughtful support which makes this Government in fact, as it is in law, a government of the people. I shall greatly rely upon the wisdom and patriotism of Congress and of those who may share with me the responsibilities and duties of administration, and, above all, upon our efforts to promote the welfare of this great people and their Government I reverently invoke the support and blessings of AlmightyGod<br><br>------------------------------------------------------<br><br>Date: 1880-12-06<br>President: Rutherford B. Hayes<br>Speech Title: Fourth Annual Message (chunk 6 of 37)<br><br> law which should thus guarantee true liberty and justice to all who are engaged in the public service, and likewise contain stringent provisions against the use of official authority to coerce the political action of private citizens or of official subordinates, is greatly to be desired. The most serious obstacle, however, to an improvement of the civil service, and especially to a reform in the method of appointment and removal, has been found to be the practice, under what is known as the spoils system, by which the appointing power has been so largely encroached upon by members of Congress. The first step in the reform of the civil service must be a complete divorce between Congress and the Executive in the matter of appointments. The corrupting doctrine that “to the victors belong the spoils” is inseparable from Congressional patronage as the established rule and practice of parties in power. It comes to be understood by applicants for office and by the people generally that Representatives and Senators are entitled to disburse the patronage of their respective districts and States. It is not necessary to recite at length the evils resulting from this invasion of the Executive functions. The true principles of Government on the subject of appointments to office, as stated in the national conventions of the leading parties of the country, have again and again been approved by the American people, and have not been called in question in any quarter. These authentic expressions of public opinion upon this counterguerrilla subject are the statement of principles that belong to the constitutional structure of the Government. Under the Constitution the President and heads of Departments are to make nominations for office. The Senate is to advise and consent to appointments, and the House of Representatives is to accuse and prosecute faithless officers. The best interest of the public service demands that these distinctions be respected; that Senators and Representatives, who may be judges and accusers, should not dictate appointments to office. To this end the cooperation of the legislative department. of the Government is required alike by the necessities of the case and by public opinion. Members of Congress will not be relieved from the demands made upon them with reference to appointments to office until by legislative enactment the pernicious practice is condemned and forbidden. It is therefore recommended that an act be passed defining the relations of members of"
            ]
          },
          "metadata": {}
        }
      ]
    },
    {
      "cell_type": "code",
      "source": [
        "presidential_speech_chat_completion(client, model, pinecone_user_question, pinecone_relevant_excerpts)"
      ],
      "metadata": {
        "colab": {
          "base_uri": "https://localhost:8080/",
          "height": 91
        },
        "id": "JykOzHVDA__q",
        "outputId": "7dc49108-4048-417a-fb3f-13b5e80e7e34"
      },
      "execution_count": 81,
      "outputs": [
        {
          "output_type": "execute_result",
          "data": {
            "text/plain": [
              "'James Garfield\\'s views on civil service reform are clear from his inaugural address in 1881. He emphasized the importance of regulating the civil service by law, stating:\\n\\n\"The civil service can never be placed on a satisfactory basis until it is regulated by law. For the good of the service itself, for the protection of those who are intrusted with the appointing power against the waste of time and obstruction to the public business caused by the inordinate pressure for place, and for the protection of incumbents against intrigue and wrong, I shall at the proper time ask Congress to fix the tenure of the minor offices of the several Executive Departments and prescribe the grounds upon which removals shall be made during the terms for which incumbents have been appointed.\"\\n\\nGarfield also acknowledged the need to prevent the abuse of power by executive officials, saying:\\n\\n\"I shall greatly rely upon the wisdom and patriotism of Congress and of those who may share with me the responsibilities and duties of administration, and, above all, upon our efforts to promote the welfare of this great people and their Government.\"\\n\\nIn terms of the spoils system, Garfield did not explicitly address it in his inaugural address. However, his statement on regulating the civil service by law suggests a desire to move away from the patronage-based appointments that characterized the spoils system.\\n\\nRutherford B. Hayes, in his fourth annual message in 1880, criticized the spoils system and advocated for civil service reform. He argued that the practice of appointing officials based on political loyalty, rather than merit, led to corruption and inefficiency. Hayes stated:\\n\\n\"The corrupting doctrine that “to the victors belong the spoils” is inseparable from Congressional patronage as the established rule and practice of parties in power. It comes to be understood by applicants for office and by the people generally that Representatives and Senators are entitled to disburse the patronage of their respective districts and States.”\\n\\nHayes also emphasized the need for the legislative and executive branches to cooperate in implementing civil service reform, saying:\\n\\n\"The best interest of the public service demands that these distinctions be respected; that Senators and Representatives, who may be judges and accusers, should not dictate appointments to office. To this end the cooperation of the legislative department of the Government is required alike by the necessities of the case and by public opinion.\"'"
            ],
            "application/vnd.google.colaboratory.intrinsic+json": {
              "type": "string"
            }
          },
          "metadata": {},
          "execution_count": 81
        }
      ]
    },
    {
      "cell_type": "markdown",
      "source": [
        "# Chroma"
      ],
      "metadata": {
        "id": "zP_lJ4eL3VQa"
      }
    },
    {
      "cell_type": "code",
      "execution_count": 41,
      "metadata": {
        "id": "1qmqk1tvlliJ"
      },
      "outputs": [],
      "source": [
        "import chromadb\n",
        "chroma_index_name = 'presidential-speeches'\n",
        "chroma_client = chromadb.Client()\n",
        "collection = chroma_client.get_or_create_collection(name=chroma_index_name)\n",
        "document_texts = [doc.page_content for doc in documents]\n",
        "collection.upsert(\n",
        "    documents=document_texts,\n",
        "    ids=ids\n",
        ")"
      ]
    },
    {
      "cell_type": "code",
      "execution_count": 42,
      "metadata": {
        "id": "b-O8fyQQfKIp"
      },
      "outputs": [],
      "source": [
        "## Use Chroma for open source option\n",
        "docsearch = Chroma.from_documents(documents, embedding_function)"
      ]
    },
    {
      "cell_type": "code",
      "execution_count": 43,
      "metadata": {
        "id": "YCLfx37To1yj"
      },
      "outputs": [],
      "source": [
        "user_question = \"What were James Garfield's views on civil service reform?\""
      ]
    },
    {
      "cell_type": "code",
      "execution_count": 44,
      "metadata": {
        "id": "JS6umQWto1vL"
      },
      "outputs": [],
      "source": [
        "relevent_docs = docsearch.similarity_search(user_question)\n",
        "\n",
        "# print results\n",
        "#display(HTML(relevent_docs[0].page_content))"
      ]
    },
    {
      "cell_type": "code",
      "execution_count": 45,
      "metadata": {
        "id": "-uffdCkKo1r7",
        "colab": {
          "base_uri": "https://localhost:8080/",
          "height": 711
        },
        "outputId": "73a56936-fc83-4aaa-8907-688ee96e584a"
      },
      "outputs": [
        {
          "output_type": "display_data",
          "data": {
            "text/plain": [
              "<IPython.core.display.HTML object>"
            ],
            "text/html": [
              "Date: 1881-03-04<br>President: James A. Garfield<br>Speech Title: Inaugural Address (chunk 8 of 8)<br><br> permitted to usurp in the smallest degree the functions and powers of the National Government. The civil service can never be placed on a satisfactory basis until it is regulated by law. For the good of the service itself, for the protection of those who are intrusted with the appointing power against the waste of time and obstruction to the public business caused by the inordinate pressure for place, and for the protection of incumbents against intrigue and wrong, I shall at the proper time ask Congress to fix the tenure of the minor offices of the several Executive Departments and prescribe the grounds upon which removals shall be made during the terms for which incumbents have been appointed. Finally, acting always within the authority and limitations of the Constitution, invading neither the rights of the States nor the reserved rights of the people, it will be the purpose of my Administration to maintain the authority of the nation in all places within its jurisdiction; to enforce obedience to all the laws of the Union in the interests of the people; to demand rigid economy in all the expenditures of the Government, and to require the honest and faithful service of all executive officers, remembering that the offices were created, not for the benefit of incumbents or their supporters, but for the service of the Government. And now, fellow citizens, I am about to assume the great trust which you have committed to my hands. I appeal to you for that earnest and thoughtful support which makes this Government in fact, as it is in law, a government of the people. I shall greatly rely upon the wisdom and patriotism of Congress and of those who may share with me the responsibilities and duties of administration, and, above all, upon our efforts to promote the welfare of this great people and their Government I reverently invoke the support and blessings of AlmightyGod<br><br>------------------------------------------------------<br><br>Date: 1881-03-04<br>President: James A. Garfield<br>Speech Title: Inaugural Address (chunk 3 of 8)<br><br> is the most important political change we have known since the adoption of the Constitution of 1787. NO thoughtful man can fail to appreciate its beneficent effect upon our institutions and people. It has freed us from the perpetual danger of war and dissolution. It has added immensely to the moral and industrial forces of our people. It has liberated the master as well as the slave from a relation which wronged and enfeebled both. It has surrendered to their own guardianship the manhood of more than mechanical ) double, and has opened to each one of them a career of freedom and usefulness. It has given new inspiration to the power of self help in both races by making labor more honorable to the one and more necessary to the other. The influence of this force will grow greater and bear richer fruit with the coming years. No doubt this great change has caused serious disturbance to our Southern communities. This is to be deplored, though it was perhaps unavoidable. But those who resisted the change should remember that under our institutions there was no middle ground for the negro race between slavery and equal citizenship. There can be no permanent disfranchised peasantry in the UnitedStates. Freedom can never yield its fullness of blessings so long as the law or its administration places the smallest obstacle in the pathway of any virtuous citizen. The emancipated race has already made remarkable progress. With unquestioning devotion to the Union, with a patience and gentleness not born of fear, they have “followed the light as God gave them to see the light.” They are rapidly laying the material foundations of self support, widening their circle of intelligence, and beginning to enjoy the blessings that gather around the homes of the industrious poor. They deserve the generous encouragement of all good men. So far as my authority can lawfully extend they shall enjoy the full and equal protection of the Constitution and the laws. The free enjoyment of equal suffrage is still in question, and a frank statement of the issue may aid its solution. It is alleged that in many communities negro citizens are practically denied the freedom of the ballot. In so far as the truth of this allegation is admitted, it is answered that in many places honest local government is impossible if the mass of un<br><br>------------------------------------------------------<br><br>Date: 1881-03-04<br>President: James A. Garfield<br>Speech Title: Inaugural Address (chunk 5 of 8)<br><br>. But the responsibility for the existence of slavery did not rest upon the South alone. The nation itself is responsible for the extension of the suffrage, and is under special obligations to aid in removing the illiteracy which it has added to the voting population. For the North and South alike there is but one remedy. All the constitutional power of the nation and of the States and all the volunteer forces of the people should be surrendered to meet this danger by the savory influence of universal education. It is the high privilege and sacred duty of those now living to educate their successors and fit them, by intelligence and virtue, for the inheritance which awaits them. In this beneficent work sections and races should be forgotten and partisanship should be unknown. Let our people find a new meaning in the divine oracle which declares that “a little child shall lead them,” for our own little children will soon control the destinies of the Republic. My countrymen, we do not now differ in our judgment concerning the controversies of past generations, and fifty years hence our children will not be divided in their opinions concerning our controversies. They will surely bless their fathers and their fathers ' God that the Union was preserved, that slavery was overthrown, and that both races were made equal before the law. We may hasten or we may retard, but we can not prevent, the final reconciliation. Is it not possible for us now to make a truce with time by anticipating and accepting its inevitable verdict? Enterprises of the highest importance to our moral and material well being unite us and offer ample employment of our best powers. Let all our people, leaving behind them the battlefields of dead issues, move forward and in their strength of liberty and the restored Union win the grander victories of peace. The prosperity which now prevails is without parallel in our history. Fruitful seasons have done much to secure it, but they have not done all. The preservation of the public credit and the resumption of specie payments, so successfully attained by the Administration of my predecessors, have enabled our people to secure the blessings which the seasons brought. By the experience of commercial nations in all ages it has been found that gold and silver afford the only safe foundation for a"
            ]
          },
          "metadata": {}
        }
      ],
      "source": [
        "relevant_excerpts = '\\n\\n------------------------------------------------------\\n\\n'.join([doc.page_content for doc in relevent_docs[:3]])\n",
        "display(HTML(relevant_excerpts.replace(\"\\n\", \"<br>\")))"
      ]
    },
    {
      "cell_type": "code",
      "execution_count": 46,
      "metadata": {
        "id": "OGTnwcopo1oS",
        "colab": {
          "base_uri": "https://localhost:8080/",
          "height": 91
        },
        "outputId": "cf31fc4b-a3f4-46c1-b6b0-9cbb27618c14"
      },
      "outputs": [
        {
          "output_type": "execute_result",
          "data": {
            "text/plain": [
              "'Based on the excerpts from James Garfield\\'s Inaugural Address, it can be inferred that Garfield viewed civil service reform as essential for the efficient and fair administration of the government. He explicitly stated that the civil service could \"never be placed on a satisfactory basis until it is regulated by law\" (Date: 1881-03-04, President: James A. Garfield, Speech Title: Inaugural Address, chunk 8 of 8).\\n\\nGarfield also emphasized the need for rigid economy in government expenditures and the honest and faithful service of all executive officers. He stressed that the offices were created \"not for the benefit of incumbents or their supporters, but for the service of the Government\" (Date: 1881-03-04, President: James A. Garfield, Speech Title: Inaugural Address, chunk 8 of 8).\\n\\nIn another part of the speech, Garfield acknowledged that the Civil War was a \"most important political change\" that had freed the nation from the perpetual danger of war and dissolution, and had ultimately led to the abolition of slavery. However, he also recognized the challenges faced by the newly emancipated population and emphasized the need for education and equal protection under the law (Date: 1881-03-04, President: James A. Garfield, Speech Title: Inaugural Address, chunk 3 and 5 of 8).\\n\\nOverall, Garfield\\'s views on civil service reform were shaped by his desire to promote efficiency, economy, and fairness in government administration, while also acknowledging the moral and social implications of the Civil War and Reconstruction.'"
            ],
            "application/vnd.google.colaboratory.intrinsic+json": {
              "type": "string"
            }
          },
          "metadata": {},
          "execution_count": 46
        }
      ],
      "source": [
        "presidential_speech_chat_completion(client, model, user_question, relevant_excerpts)"
      ]
    },
    {
      "cell_type": "code",
      "execution_count": null,
      "metadata": {
        "id": "Jq13MYUfo1k0"
      },
      "outputs": [],
      "source": []
    },
    {
      "cell_type": "code",
      "execution_count": null,
      "metadata": {
        "id": "HYyTYB3Bo1g9"
      },
      "outputs": [],
      "source": []
    }
  ],
  "metadata": {
    "colab": {
      "provenance": [],
      "authorship_tag": "ABX9TyOGoTs/I4gywb0oUqW3ITQ6",
      "include_colab_link": true
    },
    "kernelspec": {
      "display_name": "Python 3",
      "name": "python3"
    },
    "language_info": {
      "name": "python"
    },
    "widgets": {
      "application/vnd.jupyter.widget-state+json": {
        "c63763ed500642c39ffc1906e7e80039": {
          "model_module": "@jupyter-widgets/controls",
          "model_name": "HBoxModel",
          "model_module_version": "1.5.0",
          "state": {
            "_dom_classes": [],
            "_model_module": "@jupyter-widgets/controls",
            "_model_module_version": "1.5.0",
            "_model_name": "HBoxModel",
            "_view_count": null,
            "_view_module": "@jupyter-widgets/controls",
            "_view_module_version": "1.5.0",
            "_view_name": "HBoxView",
            "box_style": "",
            "children": [
              "IPY_MODEL_1d1e55f0d0cf4418b13cfc074e136166",
              "IPY_MODEL_8f509631660244fe8f73dac211f599af",
              "IPY_MODEL_6331d090f6c64918beab6a6e468ed448"
            ],
            "layout": "IPY_MODEL_e7017876b5504114a5448d1ad2eb2ad9"
          }
        },
        "1d1e55f0d0cf4418b13cfc074e136166": {
          "model_module": "@jupyter-widgets/controls",
          "model_name": "HTMLModel",
          "model_module_version": "1.5.0",
          "state": {
            "_dom_classes": [],
            "_model_module": "@jupyter-widgets/controls",
            "_model_module_version": "1.5.0",
            "_model_name": "HTMLModel",
            "_view_count": null,
            "_view_module": "@jupyter-widgets/controls",
            "_view_module_version": "1.5.0",
            "_view_name": "HTMLView",
            "description": "",
            "description_tooltip": null,
            "layout": "IPY_MODEL_d964cea848fb4f51a7aad8fddc5b40c3",
            "placeholder": "​",
            "style": "IPY_MODEL_2da000a8f8b7440699a1b6099a32ccb5",
            "value": "tokenizer_config.json: 100%"
          }
        },
        "8f509631660244fe8f73dac211f599af": {
          "model_module": "@jupyter-widgets/controls",
          "model_name": "FloatProgressModel",
          "model_module_version": "1.5.0",
          "state": {
            "_dom_classes": [],
            "_model_module": "@jupyter-widgets/controls",
            "_model_module_version": "1.5.0",
            "_model_name": "FloatProgressModel",
            "_view_count": null,
            "_view_module": "@jupyter-widgets/controls",
            "_view_module_version": "1.5.0",
            "_view_name": "ProgressView",
            "bar_style": "success",
            "description": "",
            "description_tooltip": null,
            "layout": "IPY_MODEL_43c58a19787c480fb10a0aac82680cf4",
            "max": 350,
            "min": 0,
            "orientation": "horizontal",
            "style": "IPY_MODEL_89f32df1e40a41c3a29157769fee504e",
            "value": 350
          }
        },
        "6331d090f6c64918beab6a6e468ed448": {
          "model_module": "@jupyter-widgets/controls",
          "model_name": "HTMLModel",
          "model_module_version": "1.5.0",
          "state": {
            "_dom_classes": [],
            "_model_module": "@jupyter-widgets/controls",
            "_model_module_version": "1.5.0",
            "_model_name": "HTMLModel",
            "_view_count": null,
            "_view_module": "@jupyter-widgets/controls",
            "_view_module_version": "1.5.0",
            "_view_name": "HTMLView",
            "description": "",
            "description_tooltip": null,
            "layout": "IPY_MODEL_7308b838d2fc405bb093ac3a48a68dba",
            "placeholder": "​",
            "style": "IPY_MODEL_62b2dab5369e4580978ee64dc95e2ac6",
            "value": " 350/350 [00:00&lt;00:00, 29.0kB/s]"
          }
        },
        "e7017876b5504114a5448d1ad2eb2ad9": {
          "model_module": "@jupyter-widgets/base",
          "model_name": "LayoutModel",
          "model_module_version": "1.2.0",
          "state": {
            "_model_module": "@jupyter-widgets/base",
            "_model_module_version": "1.2.0",
            "_model_name": "LayoutModel",
            "_view_count": null,
            "_view_module": "@jupyter-widgets/base",
            "_view_module_version": "1.2.0",
            "_view_name": "LayoutView",
            "align_content": null,
            "align_items": null,
            "align_self": null,
            "border": null,
            "bottom": null,
            "display": null,
            "flex": null,
            "flex_flow": null,
            "grid_area": null,
            "grid_auto_columns": null,
            "grid_auto_flow": null,
            "grid_auto_rows": null,
            "grid_column": null,
            "grid_gap": null,
            "grid_row": null,
            "grid_template_areas": null,
            "grid_template_columns": null,
            "grid_template_rows": null,
            "height": null,
            "justify_content": null,
            "justify_items": null,
            "left": null,
            "margin": null,
            "max_height": null,
            "max_width": null,
            "min_height": null,
            "min_width": null,
            "object_fit": null,
            "object_position": null,
            "order": null,
            "overflow": null,
            "overflow_x": null,
            "overflow_y": null,
            "padding": null,
            "right": null,
            "top": null,
            "visibility": null,
            "width": null
          }
        },
        "d964cea848fb4f51a7aad8fddc5b40c3": {
          "model_module": "@jupyter-widgets/base",
          "model_name": "LayoutModel",
          "model_module_version": "1.2.0",
          "state": {
            "_model_module": "@jupyter-widgets/base",
            "_model_module_version": "1.2.0",
            "_model_name": "LayoutModel",
            "_view_count": null,
            "_view_module": "@jupyter-widgets/base",
            "_view_module_version": "1.2.0",
            "_view_name": "LayoutView",
            "align_content": null,
            "align_items": null,
            "align_self": null,
            "border": null,
            "bottom": null,
            "display": null,
            "flex": null,
            "flex_flow": null,
            "grid_area": null,
            "grid_auto_columns": null,
            "grid_auto_flow": null,
            "grid_auto_rows": null,
            "grid_column": null,
            "grid_gap": null,
            "grid_row": null,
            "grid_template_areas": null,
            "grid_template_columns": null,
            "grid_template_rows": null,
            "height": null,
            "justify_content": null,
            "justify_items": null,
            "left": null,
            "margin": null,
            "max_height": null,
            "max_width": null,
            "min_height": null,
            "min_width": null,
            "object_fit": null,
            "object_position": null,
            "order": null,
            "overflow": null,
            "overflow_x": null,
            "overflow_y": null,
            "padding": null,
            "right": null,
            "top": null,
            "visibility": null,
            "width": null
          }
        },
        "2da000a8f8b7440699a1b6099a32ccb5": {
          "model_module": "@jupyter-widgets/controls",
          "model_name": "DescriptionStyleModel",
          "model_module_version": "1.5.0",
          "state": {
            "_model_module": "@jupyter-widgets/controls",
            "_model_module_version": "1.5.0",
            "_model_name": "DescriptionStyleModel",
            "_view_count": null,
            "_view_module": "@jupyter-widgets/base",
            "_view_module_version": "1.2.0",
            "_view_name": "StyleView",
            "description_width": ""
          }
        },
        "43c58a19787c480fb10a0aac82680cf4": {
          "model_module": "@jupyter-widgets/base",
          "model_name": "LayoutModel",
          "model_module_version": "1.2.0",
          "state": {
            "_model_module": "@jupyter-widgets/base",
            "_model_module_version": "1.2.0",
            "_model_name": "LayoutModel",
            "_view_count": null,
            "_view_module": "@jupyter-widgets/base",
            "_view_module_version": "1.2.0",
            "_view_name": "LayoutView",
            "align_content": null,
            "align_items": null,
            "align_self": null,
            "border": null,
            "bottom": null,
            "display": null,
            "flex": null,
            "flex_flow": null,
            "grid_area": null,
            "grid_auto_columns": null,
            "grid_auto_flow": null,
            "grid_auto_rows": null,
            "grid_column": null,
            "grid_gap": null,
            "grid_row": null,
            "grid_template_areas": null,
            "grid_template_columns": null,
            "grid_template_rows": null,
            "height": null,
            "justify_content": null,
            "justify_items": null,
            "left": null,
            "margin": null,
            "max_height": null,
            "max_width": null,
            "min_height": null,
            "min_width": null,
            "object_fit": null,
            "object_position": null,
            "order": null,
            "overflow": null,
            "overflow_x": null,
            "overflow_y": null,
            "padding": null,
            "right": null,
            "top": null,
            "visibility": null,
            "width": null
          }
        },
        "89f32df1e40a41c3a29157769fee504e": {
          "model_module": "@jupyter-widgets/controls",
          "model_name": "ProgressStyleModel",
          "model_module_version": "1.5.0",
          "state": {
            "_model_module": "@jupyter-widgets/controls",
            "_model_module_version": "1.5.0",
            "_model_name": "ProgressStyleModel",
            "_view_count": null,
            "_view_module": "@jupyter-widgets/base",
            "_view_module_version": "1.2.0",
            "_view_name": "StyleView",
            "bar_color": null,
            "description_width": ""
          }
        },
        "7308b838d2fc405bb093ac3a48a68dba": {
          "model_module": "@jupyter-widgets/base",
          "model_name": "LayoutModel",
          "model_module_version": "1.2.0",
          "state": {
            "_model_module": "@jupyter-widgets/base",
            "_model_module_version": "1.2.0",
            "_model_name": "LayoutModel",
            "_view_count": null,
            "_view_module": "@jupyter-widgets/base",
            "_view_module_version": "1.2.0",
            "_view_name": "LayoutView",
            "align_content": null,
            "align_items": null,
            "align_self": null,
            "border": null,
            "bottom": null,
            "display": null,
            "flex": null,
            "flex_flow": null,
            "grid_area": null,
            "grid_auto_columns": null,
            "grid_auto_flow": null,
            "grid_auto_rows": null,
            "grid_column": null,
            "grid_gap": null,
            "grid_row": null,
            "grid_template_areas": null,
            "grid_template_columns": null,
            "grid_template_rows": null,
            "height": null,
            "justify_content": null,
            "justify_items": null,
            "left": null,
            "margin": null,
            "max_height": null,
            "max_width": null,
            "min_height": null,
            "min_width": null,
            "object_fit": null,
            "object_position": null,
            "order": null,
            "overflow": null,
            "overflow_x": null,
            "overflow_y": null,
            "padding": null,
            "right": null,
            "top": null,
            "visibility": null,
            "width": null
          }
        },
        "62b2dab5369e4580978ee64dc95e2ac6": {
          "model_module": "@jupyter-widgets/controls",
          "model_name": "DescriptionStyleModel",
          "model_module_version": "1.5.0",
          "state": {
            "_model_module": "@jupyter-widgets/controls",
            "_model_module_version": "1.5.0",
            "_model_name": "DescriptionStyleModel",
            "_view_count": null,
            "_view_module": "@jupyter-widgets/base",
            "_view_module_version": "1.2.0",
            "_view_name": "StyleView",
            "description_width": ""
          }
        },
        "e53a9d0d2704406795e4810e167a6e96": {
          "model_module": "@jupyter-widgets/controls",
          "model_name": "HBoxModel",
          "model_module_version": "1.5.0",
          "state": {
            "_dom_classes": [],
            "_model_module": "@jupyter-widgets/controls",
            "_model_module_version": "1.5.0",
            "_model_name": "HBoxModel",
            "_view_count": null,
            "_view_module": "@jupyter-widgets/controls",
            "_view_module_version": "1.5.0",
            "_view_name": "HBoxView",
            "box_style": "",
            "children": [
              "IPY_MODEL_2c95a7ad74594cdf9576568281ca0c50",
              "IPY_MODEL_1cdd5fbedbec4a84969f1930a1c3c1af",
              "IPY_MODEL_ccb472c7b7cc43fb94e8100b19b9e27a"
            ],
            "layout": "IPY_MODEL_0f361b61814e4d9ca9f3385f31c5e343"
          }
        },
        "2c95a7ad74594cdf9576568281ca0c50": {
          "model_module": "@jupyter-widgets/controls",
          "model_name": "HTMLModel",
          "model_module_version": "1.5.0",
          "state": {
            "_dom_classes": [],
            "_model_module": "@jupyter-widgets/controls",
            "_model_module_version": "1.5.0",
            "_model_name": "HTMLModel",
            "_view_count": null,
            "_view_module": "@jupyter-widgets/controls",
            "_view_module_version": "1.5.0",
            "_view_name": "HTMLView",
            "description": "",
            "description_tooltip": null,
            "layout": "IPY_MODEL_f8f595c58ba6419bba8c92e74c834966",
            "placeholder": "​",
            "style": "IPY_MODEL_5c053219353c4577a4464d1049b5bfc3",
            "value": "vocab.txt: 100%"
          }
        },
        "1cdd5fbedbec4a84969f1930a1c3c1af": {
          "model_module": "@jupyter-widgets/controls",
          "model_name": "FloatProgressModel",
          "model_module_version": "1.5.0",
          "state": {
            "_dom_classes": [],
            "_model_module": "@jupyter-widgets/controls",
            "_model_module_version": "1.5.0",
            "_model_name": "FloatProgressModel",
            "_view_count": null,
            "_view_module": "@jupyter-widgets/controls",
            "_view_module_version": "1.5.0",
            "_view_name": "ProgressView",
            "bar_style": "success",
            "description": "",
            "description_tooltip": null,
            "layout": "IPY_MODEL_875cad425cc7459a8f3c11be14f3475f",
            "max": 231508,
            "min": 0,
            "orientation": "horizontal",
            "style": "IPY_MODEL_d2ed2e6542194a528daa6c4d9db3ac3d",
            "value": 231508
          }
        },
        "ccb472c7b7cc43fb94e8100b19b9e27a": {
          "model_module": "@jupyter-widgets/controls",
          "model_name": "HTMLModel",
          "model_module_version": "1.5.0",
          "state": {
            "_dom_classes": [],
            "_model_module": "@jupyter-widgets/controls",
            "_model_module_version": "1.5.0",
            "_model_name": "HTMLModel",
            "_view_count": null,
            "_view_module": "@jupyter-widgets/controls",
            "_view_module_version": "1.5.0",
            "_view_name": "HTMLView",
            "description": "",
            "description_tooltip": null,
            "layout": "IPY_MODEL_0bd08696f1114558955b337e9fea61ad",
            "placeholder": "​",
            "style": "IPY_MODEL_10fa49b132d942d3936867a3ff2ae03f",
            "value": " 232k/232k [00:00&lt;00:00, 4.33MB/s]"
          }
        },
        "0f361b61814e4d9ca9f3385f31c5e343": {
          "model_module": "@jupyter-widgets/base",
          "model_name": "LayoutModel",
          "model_module_version": "1.2.0",
          "state": {
            "_model_module": "@jupyter-widgets/base",
            "_model_module_version": "1.2.0",
            "_model_name": "LayoutModel",
            "_view_count": null,
            "_view_module": "@jupyter-widgets/base",
            "_view_module_version": "1.2.0",
            "_view_name": "LayoutView",
            "align_content": null,
            "align_items": null,
            "align_self": null,
            "border": null,
            "bottom": null,
            "display": null,
            "flex": null,
            "flex_flow": null,
            "grid_area": null,
            "grid_auto_columns": null,
            "grid_auto_flow": null,
            "grid_auto_rows": null,
            "grid_column": null,
            "grid_gap": null,
            "grid_row": null,
            "grid_template_areas": null,
            "grid_template_columns": null,
            "grid_template_rows": null,
            "height": null,
            "justify_content": null,
            "justify_items": null,
            "left": null,
            "margin": null,
            "max_height": null,
            "max_width": null,
            "min_height": null,
            "min_width": null,
            "object_fit": null,
            "object_position": null,
            "order": null,
            "overflow": null,
            "overflow_x": null,
            "overflow_y": null,
            "padding": null,
            "right": null,
            "top": null,
            "visibility": null,
            "width": null
          }
        },
        "f8f595c58ba6419bba8c92e74c834966": {
          "model_module": "@jupyter-widgets/base",
          "model_name": "LayoutModel",
          "model_module_version": "1.2.0",
          "state": {
            "_model_module": "@jupyter-widgets/base",
            "_model_module_version": "1.2.0",
            "_model_name": "LayoutModel",
            "_view_count": null,
            "_view_module": "@jupyter-widgets/base",
            "_view_module_version": "1.2.0",
            "_view_name": "LayoutView",
            "align_content": null,
            "align_items": null,
            "align_self": null,
            "border": null,
            "bottom": null,
            "display": null,
            "flex": null,
            "flex_flow": null,
            "grid_area": null,
            "grid_auto_columns": null,
            "grid_auto_flow": null,
            "grid_auto_rows": null,
            "grid_column": null,
            "grid_gap": null,
            "grid_row": null,
            "grid_template_areas": null,
            "grid_template_columns": null,
            "grid_template_rows": null,
            "height": null,
            "justify_content": null,
            "justify_items": null,
            "left": null,
            "margin": null,
            "max_height": null,
            "max_width": null,
            "min_height": null,
            "min_width": null,
            "object_fit": null,
            "object_position": null,
            "order": null,
            "overflow": null,
            "overflow_x": null,
            "overflow_y": null,
            "padding": null,
            "right": null,
            "top": null,
            "visibility": null,
            "width": null
          }
        },
        "5c053219353c4577a4464d1049b5bfc3": {
          "model_module": "@jupyter-widgets/controls",
          "model_name": "DescriptionStyleModel",
          "model_module_version": "1.5.0",
          "state": {
            "_model_module": "@jupyter-widgets/controls",
            "_model_module_version": "1.5.0",
            "_model_name": "DescriptionStyleModel",
            "_view_count": null,
            "_view_module": "@jupyter-widgets/base",
            "_view_module_version": "1.2.0",
            "_view_name": "StyleView",
            "description_width": ""
          }
        },
        "875cad425cc7459a8f3c11be14f3475f": {
          "model_module": "@jupyter-widgets/base",
          "model_name": "LayoutModel",
          "model_module_version": "1.2.0",
          "state": {
            "_model_module": "@jupyter-widgets/base",
            "_model_module_version": "1.2.0",
            "_model_name": "LayoutModel",
            "_view_count": null,
            "_view_module": "@jupyter-widgets/base",
            "_view_module_version": "1.2.0",
            "_view_name": "LayoutView",
            "align_content": null,
            "align_items": null,
            "align_self": null,
            "border": null,
            "bottom": null,
            "display": null,
            "flex": null,
            "flex_flow": null,
            "grid_area": null,
            "grid_auto_columns": null,
            "grid_auto_flow": null,
            "grid_auto_rows": null,
            "grid_column": null,
            "grid_gap": null,
            "grid_row": null,
            "grid_template_areas": null,
            "grid_template_columns": null,
            "grid_template_rows": null,
            "height": null,
            "justify_content": null,
            "justify_items": null,
            "left": null,
            "margin": null,
            "max_height": null,
            "max_width": null,
            "min_height": null,
            "min_width": null,
            "object_fit": null,
            "object_position": null,
            "order": null,
            "overflow": null,
            "overflow_x": null,
            "overflow_y": null,
            "padding": null,
            "right": null,
            "top": null,
            "visibility": null,
            "width": null
          }
        },
        "d2ed2e6542194a528daa6c4d9db3ac3d": {
          "model_module": "@jupyter-widgets/controls",
          "model_name": "ProgressStyleModel",
          "model_module_version": "1.5.0",
          "state": {
            "_model_module": "@jupyter-widgets/controls",
            "_model_module_version": "1.5.0",
            "_model_name": "ProgressStyleModel",
            "_view_count": null,
            "_view_module": "@jupyter-widgets/base",
            "_view_module_version": "1.2.0",
            "_view_name": "StyleView",
            "bar_color": null,
            "description_width": ""
          }
        },
        "0bd08696f1114558955b337e9fea61ad": {
          "model_module": "@jupyter-widgets/base",
          "model_name": "LayoutModel",
          "model_module_version": "1.2.0",
          "state": {
            "_model_module": "@jupyter-widgets/base",
            "_model_module_version": "1.2.0",
            "_model_name": "LayoutModel",
            "_view_count": null,
            "_view_module": "@jupyter-widgets/base",
            "_view_module_version": "1.2.0",
            "_view_name": "LayoutView",
            "align_content": null,
            "align_items": null,
            "align_self": null,
            "border": null,
            "bottom": null,
            "display": null,
            "flex": null,
            "flex_flow": null,
            "grid_area": null,
            "grid_auto_columns": null,
            "grid_auto_flow": null,
            "grid_auto_rows": null,
            "grid_column": null,
            "grid_gap": null,
            "grid_row": null,
            "grid_template_areas": null,
            "grid_template_columns": null,
            "grid_template_rows": null,
            "height": null,
            "justify_content": null,
            "justify_items": null,
            "left": null,
            "margin": null,
            "max_height": null,
            "max_width": null,
            "min_height": null,
            "min_width": null,
            "object_fit": null,
            "object_position": null,
            "order": null,
            "overflow": null,
            "overflow_x": null,
            "overflow_y": null,
            "padding": null,
            "right": null,
            "top": null,
            "visibility": null,
            "width": null
          }
        },
        "10fa49b132d942d3936867a3ff2ae03f": {
          "model_module": "@jupyter-widgets/controls",
          "model_name": "DescriptionStyleModel",
          "model_module_version": "1.5.0",
          "state": {
            "_model_module": "@jupyter-widgets/controls",
            "_model_module_version": "1.5.0",
            "_model_name": "DescriptionStyleModel",
            "_view_count": null,
            "_view_module": "@jupyter-widgets/base",
            "_view_module_version": "1.2.0",
            "_view_name": "StyleView",
            "description_width": ""
          }
        },
        "f3df4b1f37824978add6d44118fdb6f3": {
          "model_module": "@jupyter-widgets/controls",
          "model_name": "HBoxModel",
          "model_module_version": "1.5.0",
          "state": {
            "_dom_classes": [],
            "_model_module": "@jupyter-widgets/controls",
            "_model_module_version": "1.5.0",
            "_model_name": "HBoxModel",
            "_view_count": null,
            "_view_module": "@jupyter-widgets/controls",
            "_view_module_version": "1.5.0",
            "_view_name": "HBoxView",
            "box_style": "",
            "children": [
              "IPY_MODEL_73c90efb83d04e7594048a7864fe92f5",
              "IPY_MODEL_2612c481dc4b4db09feab227d3a66d2b",
              "IPY_MODEL_e31ea45963984ccaa8502fae567a6c98"
            ],
            "layout": "IPY_MODEL_75325aec543c418486b56b0bb3b23ea7"
          }
        },
        "73c90efb83d04e7594048a7864fe92f5": {
          "model_module": "@jupyter-widgets/controls",
          "model_name": "HTMLModel",
          "model_module_version": "1.5.0",
          "state": {
            "_dom_classes": [],
            "_model_module": "@jupyter-widgets/controls",
            "_model_module_version": "1.5.0",
            "_model_name": "HTMLModel",
            "_view_count": null,
            "_view_module": "@jupyter-widgets/controls",
            "_view_module_version": "1.5.0",
            "_view_name": "HTMLView",
            "description": "",
            "description_tooltip": null,
            "layout": "IPY_MODEL_f7f2276f291c4f229be6d040f28fe548",
            "placeholder": "​",
            "style": "IPY_MODEL_4439db3287e1491baad78dd837347300",
            "value": "tokenizer.json: 100%"
          }
        },
        "2612c481dc4b4db09feab227d3a66d2b": {
          "model_module": "@jupyter-widgets/controls",
          "model_name": "FloatProgressModel",
          "model_module_version": "1.5.0",
          "state": {
            "_dom_classes": [],
            "_model_module": "@jupyter-widgets/controls",
            "_model_module_version": "1.5.0",
            "_model_name": "FloatProgressModel",
            "_view_count": null,
            "_view_module": "@jupyter-widgets/controls",
            "_view_module_version": "1.5.0",
            "_view_name": "ProgressView",
            "bar_style": "success",
            "description": "",
            "description_tooltip": null,
            "layout": "IPY_MODEL_36dd78f3db8c4b4cbf615152a6066a59",
            "max": 466247,
            "min": 0,
            "orientation": "horizontal",
            "style": "IPY_MODEL_2f603c6b4f3347aab86fd983eb19ac8c",
            "value": 466247
          }
        },
        "e31ea45963984ccaa8502fae567a6c98": {
          "model_module": "@jupyter-widgets/controls",
          "model_name": "HTMLModel",
          "model_module_version": "1.5.0",
          "state": {
            "_dom_classes": [],
            "_model_module": "@jupyter-widgets/controls",
            "_model_module_version": "1.5.0",
            "_model_name": "HTMLModel",
            "_view_count": null,
            "_view_module": "@jupyter-widgets/controls",
            "_view_module_version": "1.5.0",
            "_view_name": "HTMLView",
            "description": "",
            "description_tooltip": null,
            "layout": "IPY_MODEL_559a8753b96d4ff4823d9a2af298933a",
            "placeholder": "​",
            "style": "IPY_MODEL_0001f1ac904c4622871e2e7a5c3e8ddd",
            "value": " 466k/466k [00:00&lt;00:00, 21.7MB/s]"
          }
        },
        "75325aec543c418486b56b0bb3b23ea7": {
          "model_module": "@jupyter-widgets/base",
          "model_name": "LayoutModel",
          "model_module_version": "1.2.0",
          "state": {
            "_model_module": "@jupyter-widgets/base",
            "_model_module_version": "1.2.0",
            "_model_name": "LayoutModel",
            "_view_count": null,
            "_view_module": "@jupyter-widgets/base",
            "_view_module_version": "1.2.0",
            "_view_name": "LayoutView",
            "align_content": null,
            "align_items": null,
            "align_self": null,
            "border": null,
            "bottom": null,
            "display": null,
            "flex": null,
            "flex_flow": null,
            "grid_area": null,
            "grid_auto_columns": null,
            "grid_auto_flow": null,
            "grid_auto_rows": null,
            "grid_column": null,
            "grid_gap": null,
            "grid_row": null,
            "grid_template_areas": null,
            "grid_template_columns": null,
            "grid_template_rows": null,
            "height": null,
            "justify_content": null,
            "justify_items": null,
            "left": null,
            "margin": null,
            "max_height": null,
            "max_width": null,
            "min_height": null,
            "min_width": null,
            "object_fit": null,
            "object_position": null,
            "order": null,
            "overflow": null,
            "overflow_x": null,
            "overflow_y": null,
            "padding": null,
            "right": null,
            "top": null,
            "visibility": null,
            "width": null
          }
        },
        "f7f2276f291c4f229be6d040f28fe548": {
          "model_module": "@jupyter-widgets/base",
          "model_name": "LayoutModel",
          "model_module_version": "1.2.0",
          "state": {
            "_model_module": "@jupyter-widgets/base",
            "_model_module_version": "1.2.0",
            "_model_name": "LayoutModel",
            "_view_count": null,
            "_view_module": "@jupyter-widgets/base",
            "_view_module_version": "1.2.0",
            "_view_name": "LayoutView",
            "align_content": null,
            "align_items": null,
            "align_self": null,
            "border": null,
            "bottom": null,
            "display": null,
            "flex": null,
            "flex_flow": null,
            "grid_area": null,
            "grid_auto_columns": null,
            "grid_auto_flow": null,
            "grid_auto_rows": null,
            "grid_column": null,
            "grid_gap": null,
            "grid_row": null,
            "grid_template_areas": null,
            "grid_template_columns": null,
            "grid_template_rows": null,
            "height": null,
            "justify_content": null,
            "justify_items": null,
            "left": null,
            "margin": null,
            "max_height": null,
            "max_width": null,
            "min_height": null,
            "min_width": null,
            "object_fit": null,
            "object_position": null,
            "order": null,
            "overflow": null,
            "overflow_x": null,
            "overflow_y": null,
            "padding": null,
            "right": null,
            "top": null,
            "visibility": null,
            "width": null
          }
        },
        "4439db3287e1491baad78dd837347300": {
          "model_module": "@jupyter-widgets/controls",
          "model_name": "DescriptionStyleModel",
          "model_module_version": "1.5.0",
          "state": {
            "_model_module": "@jupyter-widgets/controls",
            "_model_module_version": "1.5.0",
            "_model_name": "DescriptionStyleModel",
            "_view_count": null,
            "_view_module": "@jupyter-widgets/base",
            "_view_module_version": "1.2.0",
            "_view_name": "StyleView",
            "description_width": ""
          }
        },
        "36dd78f3db8c4b4cbf615152a6066a59": {
          "model_module": "@jupyter-widgets/base",
          "model_name": "LayoutModel",
          "model_module_version": "1.2.0",
          "state": {
            "_model_module": "@jupyter-widgets/base",
            "_model_module_version": "1.2.0",
            "_model_name": "LayoutModel",
            "_view_count": null,
            "_view_module": "@jupyter-widgets/base",
            "_view_module_version": "1.2.0",
            "_view_name": "LayoutView",
            "align_content": null,
            "align_items": null,
            "align_self": null,
            "border": null,
            "bottom": null,
            "display": null,
            "flex": null,
            "flex_flow": null,
            "grid_area": null,
            "grid_auto_columns": null,
            "grid_auto_flow": null,
            "grid_auto_rows": null,
            "grid_column": null,
            "grid_gap": null,
            "grid_row": null,
            "grid_template_areas": null,
            "grid_template_columns": null,
            "grid_template_rows": null,
            "height": null,
            "justify_content": null,
            "justify_items": null,
            "left": null,
            "margin": null,
            "max_height": null,
            "max_width": null,
            "min_height": null,
            "min_width": null,
            "object_fit": null,
            "object_position": null,
            "order": null,
            "overflow": null,
            "overflow_x": null,
            "overflow_y": null,
            "padding": null,
            "right": null,
            "top": null,
            "visibility": null,
            "width": null
          }
        },
        "2f603c6b4f3347aab86fd983eb19ac8c": {
          "model_module": "@jupyter-widgets/controls",
          "model_name": "ProgressStyleModel",
          "model_module_version": "1.5.0",
          "state": {
            "_model_module": "@jupyter-widgets/controls",
            "_model_module_version": "1.5.0",
            "_model_name": "ProgressStyleModel",
            "_view_count": null,
            "_view_module": "@jupyter-widgets/base",
            "_view_module_version": "1.2.0",
            "_view_name": "StyleView",
            "bar_color": null,
            "description_width": ""
          }
        },
        "559a8753b96d4ff4823d9a2af298933a": {
          "model_module": "@jupyter-widgets/base",
          "model_name": "LayoutModel",
          "model_module_version": "1.2.0",
          "state": {
            "_model_module": "@jupyter-widgets/base",
            "_model_module_version": "1.2.0",
            "_model_name": "LayoutModel",
            "_view_count": null,
            "_view_module": "@jupyter-widgets/base",
            "_view_module_version": "1.2.0",
            "_view_name": "LayoutView",
            "align_content": null,
            "align_items": null,
            "align_self": null,
            "border": null,
            "bottom": null,
            "display": null,
            "flex": null,
            "flex_flow": null,
            "grid_area": null,
            "grid_auto_columns": null,
            "grid_auto_flow": null,
            "grid_auto_rows": null,
            "grid_column": null,
            "grid_gap": null,
            "grid_row": null,
            "grid_template_areas": null,
            "grid_template_columns": null,
            "grid_template_rows": null,
            "height": null,
            "justify_content": null,
            "justify_items": null,
            "left": null,
            "margin": null,
            "max_height": null,
            "max_width": null,
            "min_height": null,
            "min_width": null,
            "object_fit": null,
            "object_position": null,
            "order": null,
            "overflow": null,
            "overflow_x": null,
            "overflow_y": null,
            "padding": null,
            "right": null,
            "top": null,
            "visibility": null,
            "width": null
          }
        },
        "0001f1ac904c4622871e2e7a5c3e8ddd": {
          "model_module": "@jupyter-widgets/controls",
          "model_name": "DescriptionStyleModel",
          "model_module_version": "1.5.0",
          "state": {
            "_model_module": "@jupyter-widgets/controls",
            "_model_module_version": "1.5.0",
            "_model_name": "DescriptionStyleModel",
            "_view_count": null,
            "_view_module": "@jupyter-widgets/base",
            "_view_module_version": "1.2.0",
            "_view_name": "StyleView",
            "description_width": ""
          }
        },
        "a2ffca7c3165484697420e29c2c80765": {
          "model_module": "@jupyter-widgets/controls",
          "model_name": "HBoxModel",
          "model_module_version": "1.5.0",
          "state": {
            "_dom_classes": [],
            "_model_module": "@jupyter-widgets/controls",
            "_model_module_version": "1.5.0",
            "_model_name": "HBoxModel",
            "_view_count": null,
            "_view_module": "@jupyter-widgets/controls",
            "_view_module_version": "1.5.0",
            "_view_name": "HBoxView",
            "box_style": "",
            "children": [
              "IPY_MODEL_39d63ae5d89f4de7a6fd377d2f5cbb22",
              "IPY_MODEL_8b1d1088b54e4bc9996924680d002947",
              "IPY_MODEL_ba7b311f63df440ea4f0ad43bfaeca25"
            ],
            "layout": "IPY_MODEL_b2788921db924eff9eb5ae585bb15f16"
          }
        },
        "39d63ae5d89f4de7a6fd377d2f5cbb22": {
          "model_module": "@jupyter-widgets/controls",
          "model_name": "HTMLModel",
          "model_module_version": "1.5.0",
          "state": {
            "_dom_classes": [],
            "_model_module": "@jupyter-widgets/controls",
            "_model_module_version": "1.5.0",
            "_model_name": "HTMLModel",
            "_view_count": null,
            "_view_module": "@jupyter-widgets/controls",
            "_view_module_version": "1.5.0",
            "_view_name": "HTMLView",
            "description": "",
            "description_tooltip": null,
            "layout": "IPY_MODEL_30bee11d0e9b424e82b954993e16c537",
            "placeholder": "​",
            "style": "IPY_MODEL_0ebce44b3a69471eace64c0209f62f24",
            "value": "special_tokens_map.json: 100%"
          }
        },
        "8b1d1088b54e4bc9996924680d002947": {
          "model_module": "@jupyter-widgets/controls",
          "model_name": "FloatProgressModel",
          "model_module_version": "1.5.0",
          "state": {
            "_dom_classes": [],
            "_model_module": "@jupyter-widgets/controls",
            "_model_module_version": "1.5.0",
            "_model_name": "FloatProgressModel",
            "_view_count": null,
            "_view_module": "@jupyter-widgets/controls",
            "_view_module_version": "1.5.0",
            "_view_name": "ProgressView",
            "bar_style": "success",
            "description": "",
            "description_tooltip": null,
            "layout": "IPY_MODEL_0865e62fecc84b6fb65f887ce6c03721",
            "max": 112,
            "min": 0,
            "orientation": "horizontal",
            "style": "IPY_MODEL_5fdad79df9a840f78a3e86bdc7846a49",
            "value": 112
          }
        },
        "ba7b311f63df440ea4f0ad43bfaeca25": {
          "model_module": "@jupyter-widgets/controls",
          "model_name": "HTMLModel",
          "model_module_version": "1.5.0",
          "state": {
            "_dom_classes": [],
            "_model_module": "@jupyter-widgets/controls",
            "_model_module_version": "1.5.0",
            "_model_name": "HTMLModel",
            "_view_count": null,
            "_view_module": "@jupyter-widgets/controls",
            "_view_module_version": "1.5.0",
            "_view_name": "HTMLView",
            "description": "",
            "description_tooltip": null,
            "layout": "IPY_MODEL_2f37491fe3d24a52bb735939f0639de3",
            "placeholder": "​",
            "style": "IPY_MODEL_22781eabdc3b49919e6936d0812f8cc6",
            "value": " 112/112 [00:00&lt;00:00, 9.31kB/s]"
          }
        },
        "b2788921db924eff9eb5ae585bb15f16": {
          "model_module": "@jupyter-widgets/base",
          "model_name": "LayoutModel",
          "model_module_version": "1.2.0",
          "state": {
            "_model_module": "@jupyter-widgets/base",
            "_model_module_version": "1.2.0",
            "_model_name": "LayoutModel",
            "_view_count": null,
            "_view_module": "@jupyter-widgets/base",
            "_view_module_version": "1.2.0",
            "_view_name": "LayoutView",
            "align_content": null,
            "align_items": null,
            "align_self": null,
            "border": null,
            "bottom": null,
            "display": null,
            "flex": null,
            "flex_flow": null,
            "grid_area": null,
            "grid_auto_columns": null,
            "grid_auto_flow": null,
            "grid_auto_rows": null,
            "grid_column": null,
            "grid_gap": null,
            "grid_row": null,
            "grid_template_areas": null,
            "grid_template_columns": null,
            "grid_template_rows": null,
            "height": null,
            "justify_content": null,
            "justify_items": null,
            "left": null,
            "margin": null,
            "max_height": null,
            "max_width": null,
            "min_height": null,
            "min_width": null,
            "object_fit": null,
            "object_position": null,
            "order": null,
            "overflow": null,
            "overflow_x": null,
            "overflow_y": null,
            "padding": null,
            "right": null,
            "top": null,
            "visibility": null,
            "width": null
          }
        },
        "30bee11d0e9b424e82b954993e16c537": {
          "model_module": "@jupyter-widgets/base",
          "model_name": "LayoutModel",
          "model_module_version": "1.2.0",
          "state": {
            "_model_module": "@jupyter-widgets/base",
            "_model_module_version": "1.2.0",
            "_model_name": "LayoutModel",
            "_view_count": null,
            "_view_module": "@jupyter-widgets/base",
            "_view_module_version": "1.2.0",
            "_view_name": "LayoutView",
            "align_content": null,
            "align_items": null,
            "align_self": null,
            "border": null,
            "bottom": null,
            "display": null,
            "flex": null,
            "flex_flow": null,
            "grid_area": null,
            "grid_auto_columns": null,
            "grid_auto_flow": null,
            "grid_auto_rows": null,
            "grid_column": null,
            "grid_gap": null,
            "grid_row": null,
            "grid_template_areas": null,
            "grid_template_columns": null,
            "grid_template_rows": null,
            "height": null,
            "justify_content": null,
            "justify_items": null,
            "left": null,
            "margin": null,
            "max_height": null,
            "max_width": null,
            "min_height": null,
            "min_width": null,
            "object_fit": null,
            "object_position": null,
            "order": null,
            "overflow": null,
            "overflow_x": null,
            "overflow_y": null,
            "padding": null,
            "right": null,
            "top": null,
            "visibility": null,
            "width": null
          }
        },
        "0ebce44b3a69471eace64c0209f62f24": {
          "model_module": "@jupyter-widgets/controls",
          "model_name": "DescriptionStyleModel",
          "model_module_version": "1.5.0",
          "state": {
            "_model_module": "@jupyter-widgets/controls",
            "_model_module_version": "1.5.0",
            "_model_name": "DescriptionStyleModel",
            "_view_count": null,
            "_view_module": "@jupyter-widgets/base",
            "_view_module_version": "1.2.0",
            "_view_name": "StyleView",
            "description_width": ""
          }
        },
        "0865e62fecc84b6fb65f887ce6c03721": {
          "model_module": "@jupyter-widgets/base",
          "model_name": "LayoutModel",
          "model_module_version": "1.2.0",
          "state": {
            "_model_module": "@jupyter-widgets/base",
            "_model_module_version": "1.2.0",
            "_model_name": "LayoutModel",
            "_view_count": null,
            "_view_module": "@jupyter-widgets/base",
            "_view_module_version": "1.2.0",
            "_view_name": "LayoutView",
            "align_content": null,
            "align_items": null,
            "align_self": null,
            "border": null,
            "bottom": null,
            "display": null,
            "flex": null,
            "flex_flow": null,
            "grid_area": null,
            "grid_auto_columns": null,
            "grid_auto_flow": null,
            "grid_auto_rows": null,
            "grid_column": null,
            "grid_gap": null,
            "grid_row": null,
            "grid_template_areas": null,
            "grid_template_columns": null,
            "grid_template_rows": null,
            "height": null,
            "justify_content": null,
            "justify_items": null,
            "left": null,
            "margin": null,
            "max_height": null,
            "max_width": null,
            "min_height": null,
            "min_width": null,
            "object_fit": null,
            "object_position": null,
            "order": null,
            "overflow": null,
            "overflow_x": null,
            "overflow_y": null,
            "padding": null,
            "right": null,
            "top": null,
            "visibility": null,
            "width": null
          }
        },
        "5fdad79df9a840f78a3e86bdc7846a49": {
          "model_module": "@jupyter-widgets/controls",
          "model_name": "ProgressStyleModel",
          "model_module_version": "1.5.0",
          "state": {
            "_model_module": "@jupyter-widgets/controls",
            "_model_module_version": "1.5.0",
            "_model_name": "ProgressStyleModel",
            "_view_count": null,
            "_view_module": "@jupyter-widgets/base",
            "_view_module_version": "1.2.0",
            "_view_name": "StyleView",
            "bar_color": null,
            "description_width": ""
          }
        },
        "2f37491fe3d24a52bb735939f0639de3": {
          "model_module": "@jupyter-widgets/base",
          "model_name": "LayoutModel",
          "model_module_version": "1.2.0",
          "state": {
            "_model_module": "@jupyter-widgets/base",
            "_model_module_version": "1.2.0",
            "_model_name": "LayoutModel",
            "_view_count": null,
            "_view_module": "@jupyter-widgets/base",
            "_view_module_version": "1.2.0",
            "_view_name": "LayoutView",
            "align_content": null,
            "align_items": null,
            "align_self": null,
            "border": null,
            "bottom": null,
            "display": null,
            "flex": null,
            "flex_flow": null,
            "grid_area": null,
            "grid_auto_columns": null,
            "grid_auto_flow": null,
            "grid_auto_rows": null,
            "grid_column": null,
            "grid_gap": null,
            "grid_row": null,
            "grid_template_areas": null,
            "grid_template_columns": null,
            "grid_template_rows": null,
            "height": null,
            "justify_content": null,
            "justify_items": null,
            "left": null,
            "margin": null,
            "max_height": null,
            "max_width": null,
            "min_height": null,
            "min_width": null,
            "object_fit": null,
            "object_position": null,
            "order": null,
            "overflow": null,
            "overflow_x": null,
            "overflow_y": null,
            "padding": null,
            "right": null,
            "top": null,
            "visibility": null,
            "width": null
          }
        },
        "22781eabdc3b49919e6936d0812f8cc6": {
          "model_module": "@jupyter-widgets/controls",
          "model_name": "DescriptionStyleModel",
          "model_module_version": "1.5.0",
          "state": {
            "_model_module": "@jupyter-widgets/controls",
            "_model_module_version": "1.5.0",
            "_model_name": "DescriptionStyleModel",
            "_view_count": null,
            "_view_module": "@jupyter-widgets/base",
            "_view_module_version": "1.2.0",
            "_view_name": "StyleView",
            "description_width": ""
          }
        },
        "d848cbc7bfd241ca827e006c2f5585db": {
          "model_module": "@jupyter-widgets/controls",
          "model_name": "HBoxModel",
          "model_module_version": "1.5.0",
          "state": {
            "_dom_classes": [],
            "_model_module": "@jupyter-widgets/controls",
            "_model_module_version": "1.5.0",
            "_model_name": "HBoxModel",
            "_view_count": null,
            "_view_module": "@jupyter-widgets/controls",
            "_view_module_version": "1.5.0",
            "_view_name": "HBoxView",
            "box_style": "",
            "children": [
              "IPY_MODEL_ca9e20932f444797a4686b1789e6b60b",
              "IPY_MODEL_0979f10896414bb7b60a871f5d8a8c23",
              "IPY_MODEL_78cd30d0a3274766838c393a8394855d"
            ],
            "layout": "IPY_MODEL_f12a50e8eefa4e12ae40c41d4d3b3ccd"
          }
        },
        "ca9e20932f444797a4686b1789e6b60b": {
          "model_module": "@jupyter-widgets/controls",
          "model_name": "HTMLModel",
          "model_module_version": "1.5.0",
          "state": {
            "_dom_classes": [],
            "_model_module": "@jupyter-widgets/controls",
            "_model_module_version": "1.5.0",
            "_model_name": "HTMLModel",
            "_view_count": null,
            "_view_module": "@jupyter-widgets/controls",
            "_view_module_version": "1.5.0",
            "_view_name": "HTMLView",
            "description": "",
            "description_tooltip": null,
            "layout": "IPY_MODEL_e8fe69153d8840a5b3a1f04dd7e356f4",
            "placeholder": "​",
            "style": "IPY_MODEL_18a3b23e5b24455e98e3a3f3bb9b2ae4",
            "value": "modules.json: 100%"
          }
        },
        "0979f10896414bb7b60a871f5d8a8c23": {
          "model_module": "@jupyter-widgets/controls",
          "model_name": "FloatProgressModel",
          "model_module_version": "1.5.0",
          "state": {
            "_dom_classes": [],
            "_model_module": "@jupyter-widgets/controls",
            "_model_module_version": "1.5.0",
            "_model_name": "FloatProgressModel",
            "_view_count": null,
            "_view_module": "@jupyter-widgets/controls",
            "_view_module_version": "1.5.0",
            "_view_name": "ProgressView",
            "bar_style": "success",
            "description": "",
            "description_tooltip": null,
            "layout": "IPY_MODEL_3e1ae598add64463ba219520235adf29",
            "max": 349,
            "min": 0,
            "orientation": "horizontal",
            "style": "IPY_MODEL_d595c2e3236f4ea8b70f2fe82bd86557",
            "value": 349
          }
        },
        "78cd30d0a3274766838c393a8394855d": {
          "model_module": "@jupyter-widgets/controls",
          "model_name": "HTMLModel",
          "model_module_version": "1.5.0",
          "state": {
            "_dom_classes": [],
            "_model_module": "@jupyter-widgets/controls",
            "_model_module_version": "1.5.0",
            "_model_name": "HTMLModel",
            "_view_count": null,
            "_view_module": "@jupyter-widgets/controls",
            "_view_module_version": "1.5.0",
            "_view_name": "HTMLView",
            "description": "",
            "description_tooltip": null,
            "layout": "IPY_MODEL_77b38b803d424e938c2d0e8a96d0e122",
            "placeholder": "​",
            "style": "IPY_MODEL_30962c06f809400d9c8e97dc30332d36",
            "value": " 349/349 [00:00&lt;00:00, 19.8kB/s]"
          }
        },
        "f12a50e8eefa4e12ae40c41d4d3b3ccd": {
          "model_module": "@jupyter-widgets/base",
          "model_name": "LayoutModel",
          "model_module_version": "1.2.0",
          "state": {
            "_model_module": "@jupyter-widgets/base",
            "_model_module_version": "1.2.0",
            "_model_name": "LayoutModel",
            "_view_count": null,
            "_view_module": "@jupyter-widgets/base",
            "_view_module_version": "1.2.0",
            "_view_name": "LayoutView",
            "align_content": null,
            "align_items": null,
            "align_self": null,
            "border": null,
            "bottom": null,
            "display": null,
            "flex": null,
            "flex_flow": null,
            "grid_area": null,
            "grid_auto_columns": null,
            "grid_auto_flow": null,
            "grid_auto_rows": null,
            "grid_column": null,
            "grid_gap": null,
            "grid_row": null,
            "grid_template_areas": null,
            "grid_template_columns": null,
            "grid_template_rows": null,
            "height": null,
            "justify_content": null,
            "justify_items": null,
            "left": null,
            "margin": null,
            "max_height": null,
            "max_width": null,
            "min_height": null,
            "min_width": null,
            "object_fit": null,
            "object_position": null,
            "order": null,
            "overflow": null,
            "overflow_x": null,
            "overflow_y": null,
            "padding": null,
            "right": null,
            "top": null,
            "visibility": null,
            "width": null
          }
        },
        "e8fe69153d8840a5b3a1f04dd7e356f4": {
          "model_module": "@jupyter-widgets/base",
          "model_name": "LayoutModel",
          "model_module_version": "1.2.0",
          "state": {
            "_model_module": "@jupyter-widgets/base",
            "_model_module_version": "1.2.0",
            "_model_name": "LayoutModel",
            "_view_count": null,
            "_view_module": "@jupyter-widgets/base",
            "_view_module_version": "1.2.0",
            "_view_name": "LayoutView",
            "align_content": null,
            "align_items": null,
            "align_self": null,
            "border": null,
            "bottom": null,
            "display": null,
            "flex": null,
            "flex_flow": null,
            "grid_area": null,
            "grid_auto_columns": null,
            "grid_auto_flow": null,
            "grid_auto_rows": null,
            "grid_column": null,
            "grid_gap": null,
            "grid_row": null,
            "grid_template_areas": null,
            "grid_template_columns": null,
            "grid_template_rows": null,
            "height": null,
            "justify_content": null,
            "justify_items": null,
            "left": null,
            "margin": null,
            "max_height": null,
            "max_width": null,
            "min_height": null,
            "min_width": null,
            "object_fit": null,
            "object_position": null,
            "order": null,
            "overflow": null,
            "overflow_x": null,
            "overflow_y": null,
            "padding": null,
            "right": null,
            "top": null,
            "visibility": null,
            "width": null
          }
        },
        "18a3b23e5b24455e98e3a3f3bb9b2ae4": {
          "model_module": "@jupyter-widgets/controls",
          "model_name": "DescriptionStyleModel",
          "model_module_version": "1.5.0",
          "state": {
            "_model_module": "@jupyter-widgets/controls",
            "_model_module_version": "1.5.0",
            "_model_name": "DescriptionStyleModel",
            "_view_count": null,
            "_view_module": "@jupyter-widgets/base",
            "_view_module_version": "1.2.0",
            "_view_name": "StyleView",
            "description_width": ""
          }
        },
        "3e1ae598add64463ba219520235adf29": {
          "model_module": "@jupyter-widgets/base",
          "model_name": "LayoutModel",
          "model_module_version": "1.2.0",
          "state": {
            "_model_module": "@jupyter-widgets/base",
            "_model_module_version": "1.2.0",
            "_model_name": "LayoutModel",
            "_view_count": null,
            "_view_module": "@jupyter-widgets/base",
            "_view_module_version": "1.2.0",
            "_view_name": "LayoutView",
            "align_content": null,
            "align_items": null,
            "align_self": null,
            "border": null,
            "bottom": null,
            "display": null,
            "flex": null,
            "flex_flow": null,
            "grid_area": null,
            "grid_auto_columns": null,
            "grid_auto_flow": null,
            "grid_auto_rows": null,
            "grid_column": null,
            "grid_gap": null,
            "grid_row": null,
            "grid_template_areas": null,
            "grid_template_columns": null,
            "grid_template_rows": null,
            "height": null,
            "justify_content": null,
            "justify_items": null,
            "left": null,
            "margin": null,
            "max_height": null,
            "max_width": null,
            "min_height": null,
            "min_width": null,
            "object_fit": null,
            "object_position": null,
            "order": null,
            "overflow": null,
            "overflow_x": null,
            "overflow_y": null,
            "padding": null,
            "right": null,
            "top": null,
            "visibility": null,
            "width": null
          }
        },
        "d595c2e3236f4ea8b70f2fe82bd86557": {
          "model_module": "@jupyter-widgets/controls",
          "model_name": "ProgressStyleModel",
          "model_module_version": "1.5.0",
          "state": {
            "_model_module": "@jupyter-widgets/controls",
            "_model_module_version": "1.5.0",
            "_model_name": "ProgressStyleModel",
            "_view_count": null,
            "_view_module": "@jupyter-widgets/base",
            "_view_module_version": "1.2.0",
            "_view_name": "StyleView",
            "bar_color": null,
            "description_width": ""
          }
        },
        "77b38b803d424e938c2d0e8a96d0e122": {
          "model_module": "@jupyter-widgets/base",
          "model_name": "LayoutModel",
          "model_module_version": "1.2.0",
          "state": {
            "_model_module": "@jupyter-widgets/base",
            "_model_module_version": "1.2.0",
            "_model_name": "LayoutModel",
            "_view_count": null,
            "_view_module": "@jupyter-widgets/base",
            "_view_module_version": "1.2.0",
            "_view_name": "LayoutView",
            "align_content": null,
            "align_items": null,
            "align_self": null,
            "border": null,
            "bottom": null,
            "display": null,
            "flex": null,
            "flex_flow": null,
            "grid_area": null,
            "grid_auto_columns": null,
            "grid_auto_flow": null,
            "grid_auto_rows": null,
            "grid_column": null,
            "grid_gap": null,
            "grid_row": null,
            "grid_template_areas": null,
            "grid_template_columns": null,
            "grid_template_rows": null,
            "height": null,
            "justify_content": null,
            "justify_items": null,
            "left": null,
            "margin": null,
            "max_height": null,
            "max_width": null,
            "min_height": null,
            "min_width": null,
            "object_fit": null,
            "object_position": null,
            "order": null,
            "overflow": null,
            "overflow_x": null,
            "overflow_y": null,
            "padding": null,
            "right": null,
            "top": null,
            "visibility": null,
            "width": null
          }
        },
        "30962c06f809400d9c8e97dc30332d36": {
          "model_module": "@jupyter-widgets/controls",
          "model_name": "DescriptionStyleModel",
          "model_module_version": "1.5.0",
          "state": {
            "_model_module": "@jupyter-widgets/controls",
            "_model_module_version": "1.5.0",
            "_model_name": "DescriptionStyleModel",
            "_view_count": null,
            "_view_module": "@jupyter-widgets/base",
            "_view_module_version": "1.2.0",
            "_view_name": "StyleView",
            "description_width": ""
          }
        },
        "1eb3098e00734f9f8b675ce13e92a3d8": {
          "model_module": "@jupyter-widgets/controls",
          "model_name": "HBoxModel",
          "model_module_version": "1.5.0",
          "state": {
            "_dom_classes": [],
            "_model_module": "@jupyter-widgets/controls",
            "_model_module_version": "1.5.0",
            "_model_name": "HBoxModel",
            "_view_count": null,
            "_view_module": "@jupyter-widgets/controls",
            "_view_module_version": "1.5.0",
            "_view_name": "HBoxView",
            "box_style": "",
            "children": [
              "IPY_MODEL_d5631da307a34fb4a753db8366b05169",
              "IPY_MODEL_d2f9c6807d0049e38b1e1440560de6ed",
              "IPY_MODEL_f97fc4aaf7904bc78da2dd3034271b4a"
            ],
            "layout": "IPY_MODEL_75a66a36d0074d69b4f84ab3659440dd"
          }
        },
        "d5631da307a34fb4a753db8366b05169": {
          "model_module": "@jupyter-widgets/controls",
          "model_name": "HTMLModel",
          "model_module_version": "1.5.0",
          "state": {
            "_dom_classes": [],
            "_model_module": "@jupyter-widgets/controls",
            "_model_module_version": "1.5.0",
            "_model_name": "HTMLModel",
            "_view_count": null,
            "_view_module": "@jupyter-widgets/controls",
            "_view_module_version": "1.5.0",
            "_view_name": "HTMLView",
            "description": "",
            "description_tooltip": null,
            "layout": "IPY_MODEL_04f56d2da269442f9b4624fc90a60ccd",
            "placeholder": "​",
            "style": "IPY_MODEL_2f989f8afb5e487b847a845e0ea0f57a",
            "value": "config_sentence_transformers.json: 100%"
          }
        },
        "d2f9c6807d0049e38b1e1440560de6ed": {
          "model_module": "@jupyter-widgets/controls",
          "model_name": "FloatProgressModel",
          "model_module_version": "1.5.0",
          "state": {
            "_dom_classes": [],
            "_model_module": "@jupyter-widgets/controls",
            "_model_module_version": "1.5.0",
            "_model_name": "FloatProgressModel",
            "_view_count": null,
            "_view_module": "@jupyter-widgets/controls",
            "_view_module_version": "1.5.0",
            "_view_name": "ProgressView",
            "bar_style": "success",
            "description": "",
            "description_tooltip": null,
            "layout": "IPY_MODEL_e974945bd44142a5bde5a7b26b43560c",
            "max": 116,
            "min": 0,
            "orientation": "horizontal",
            "style": "IPY_MODEL_76633e8fcea34202b9701db44f12b7dd",
            "value": 116
          }
        },
        "f97fc4aaf7904bc78da2dd3034271b4a": {
          "model_module": "@jupyter-widgets/controls",
          "model_name": "HTMLModel",
          "model_module_version": "1.5.0",
          "state": {
            "_dom_classes": [],
            "_model_module": "@jupyter-widgets/controls",
            "_model_module_version": "1.5.0",
            "_model_name": "HTMLModel",
            "_view_count": null,
            "_view_module": "@jupyter-widgets/controls",
            "_view_module_version": "1.5.0",
            "_view_name": "HTMLView",
            "description": "",
            "description_tooltip": null,
            "layout": "IPY_MODEL_a04c623af451410caa9376041eace32f",
            "placeholder": "​",
            "style": "IPY_MODEL_49047cb67d92413a8dfdf50b13d0075d",
            "value": " 116/116 [00:00&lt;00:00, 6.97kB/s]"
          }
        },
        "75a66a36d0074d69b4f84ab3659440dd": {
          "model_module": "@jupyter-widgets/base",
          "model_name": "LayoutModel",
          "model_module_version": "1.2.0",
          "state": {
            "_model_module": "@jupyter-widgets/base",
            "_model_module_version": "1.2.0",
            "_model_name": "LayoutModel",
            "_view_count": null,
            "_view_module": "@jupyter-widgets/base",
            "_view_module_version": "1.2.0",
            "_view_name": "LayoutView",
            "align_content": null,
            "align_items": null,
            "align_self": null,
            "border": null,
            "bottom": null,
            "display": null,
            "flex": null,
            "flex_flow": null,
            "grid_area": null,
            "grid_auto_columns": null,
            "grid_auto_flow": null,
            "grid_auto_rows": null,
            "grid_column": null,
            "grid_gap": null,
            "grid_row": null,
            "grid_template_areas": null,
            "grid_template_columns": null,
            "grid_template_rows": null,
            "height": null,
            "justify_content": null,
            "justify_items": null,
            "left": null,
            "margin": null,
            "max_height": null,
            "max_width": null,
            "min_height": null,
            "min_width": null,
            "object_fit": null,
            "object_position": null,
            "order": null,
            "overflow": null,
            "overflow_x": null,
            "overflow_y": null,
            "padding": null,
            "right": null,
            "top": null,
            "visibility": null,
            "width": null
          }
        },
        "04f56d2da269442f9b4624fc90a60ccd": {
          "model_module": "@jupyter-widgets/base",
          "model_name": "LayoutModel",
          "model_module_version": "1.2.0",
          "state": {
            "_model_module": "@jupyter-widgets/base",
            "_model_module_version": "1.2.0",
            "_model_name": "LayoutModel",
            "_view_count": null,
            "_view_module": "@jupyter-widgets/base",
            "_view_module_version": "1.2.0",
            "_view_name": "LayoutView",
            "align_content": null,
            "align_items": null,
            "align_self": null,
            "border": null,
            "bottom": null,
            "display": null,
            "flex": null,
            "flex_flow": null,
            "grid_area": null,
            "grid_auto_columns": null,
            "grid_auto_flow": null,
            "grid_auto_rows": null,
            "grid_column": null,
            "grid_gap": null,
            "grid_row": null,
            "grid_template_areas": null,
            "grid_template_columns": null,
            "grid_template_rows": null,
            "height": null,
            "justify_content": null,
            "justify_items": null,
            "left": null,
            "margin": null,
            "max_height": null,
            "max_width": null,
            "min_height": null,
            "min_width": null,
            "object_fit": null,
            "object_position": null,
            "order": null,
            "overflow": null,
            "overflow_x": null,
            "overflow_y": null,
            "padding": null,
            "right": null,
            "top": null,
            "visibility": null,
            "width": null
          }
        },
        "2f989f8afb5e487b847a845e0ea0f57a": {
          "model_module": "@jupyter-widgets/controls",
          "model_name": "DescriptionStyleModel",
          "model_module_version": "1.5.0",
          "state": {
            "_model_module": "@jupyter-widgets/controls",
            "_model_module_version": "1.5.0",
            "_model_name": "DescriptionStyleModel",
            "_view_count": null,
            "_view_module": "@jupyter-widgets/base",
            "_view_module_version": "1.2.0",
            "_view_name": "StyleView",
            "description_width": ""
          }
        },
        "e974945bd44142a5bde5a7b26b43560c": {
          "model_module": "@jupyter-widgets/base",
          "model_name": "LayoutModel",
          "model_module_version": "1.2.0",
          "state": {
            "_model_module": "@jupyter-widgets/base",
            "_model_module_version": "1.2.0",
            "_model_name": "LayoutModel",
            "_view_count": null,
            "_view_module": "@jupyter-widgets/base",
            "_view_module_version": "1.2.0",
            "_view_name": "LayoutView",
            "align_content": null,
            "align_items": null,
            "align_self": null,
            "border": null,
            "bottom": null,
            "display": null,
            "flex": null,
            "flex_flow": null,
            "grid_area": null,
            "grid_auto_columns": null,
            "grid_auto_flow": null,
            "grid_auto_rows": null,
            "grid_column": null,
            "grid_gap": null,
            "grid_row": null,
            "grid_template_areas": null,
            "grid_template_columns": null,
            "grid_template_rows": null,
            "height": null,
            "justify_content": null,
            "justify_items": null,
            "left": null,
            "margin": null,
            "max_height": null,
            "max_width": null,
            "min_height": null,
            "min_width": null,
            "object_fit": null,
            "object_position": null,
            "order": null,
            "overflow": null,
            "overflow_x": null,
            "overflow_y": null,
            "padding": null,
            "right": null,
            "top": null,
            "visibility": null,
            "width": null
          }
        },
        "76633e8fcea34202b9701db44f12b7dd": {
          "model_module": "@jupyter-widgets/controls",
          "model_name": "ProgressStyleModel",
          "model_module_version": "1.5.0",
          "state": {
            "_model_module": "@jupyter-widgets/controls",
            "_model_module_version": "1.5.0",
            "_model_name": "ProgressStyleModel",
            "_view_count": null,
            "_view_module": "@jupyter-widgets/base",
            "_view_module_version": "1.2.0",
            "_view_name": "StyleView",
            "bar_color": null,
            "description_width": ""
          }
        },
        "a04c623af451410caa9376041eace32f": {
          "model_module": "@jupyter-widgets/base",
          "model_name": "LayoutModel",
          "model_module_version": "1.2.0",
          "state": {
            "_model_module": "@jupyter-widgets/base",
            "_model_module_version": "1.2.0",
            "_model_name": "LayoutModel",
            "_view_count": null,
            "_view_module": "@jupyter-widgets/base",
            "_view_module_version": "1.2.0",
            "_view_name": "LayoutView",
            "align_content": null,
            "align_items": null,
            "align_self": null,
            "border": null,
            "bottom": null,
            "display": null,
            "flex": null,
            "flex_flow": null,
            "grid_area": null,
            "grid_auto_columns": null,
            "grid_auto_flow": null,
            "grid_auto_rows": null,
            "grid_column": null,
            "grid_gap": null,
            "grid_row": null,
            "grid_template_areas": null,
            "grid_template_columns": null,
            "grid_template_rows": null,
            "height": null,
            "justify_content": null,
            "justify_items": null,
            "left": null,
            "margin": null,
            "max_height": null,
            "max_width": null,
            "min_height": null,
            "min_width": null,
            "object_fit": null,
            "object_position": null,
            "order": null,
            "overflow": null,
            "overflow_x": null,
            "overflow_y": null,
            "padding": null,
            "right": null,
            "top": null,
            "visibility": null,
            "width": null
          }
        },
        "49047cb67d92413a8dfdf50b13d0075d": {
          "model_module": "@jupyter-widgets/controls",
          "model_name": "DescriptionStyleModel",
          "model_module_version": "1.5.0",
          "state": {
            "_model_module": "@jupyter-widgets/controls",
            "_model_module_version": "1.5.0",
            "_model_name": "DescriptionStyleModel",
            "_view_count": null,
            "_view_module": "@jupyter-widgets/base",
            "_view_module_version": "1.2.0",
            "_view_name": "StyleView",
            "description_width": ""
          }
        },
        "920d0613ab6f428c81d52dfccfd727b3": {
          "model_module": "@jupyter-widgets/controls",
          "model_name": "HBoxModel",
          "model_module_version": "1.5.0",
          "state": {
            "_dom_classes": [],
            "_model_module": "@jupyter-widgets/controls",
            "_model_module_version": "1.5.0",
            "_model_name": "HBoxModel",
            "_view_count": null,
            "_view_module": "@jupyter-widgets/controls",
            "_view_module_version": "1.5.0",
            "_view_name": "HBoxView",
            "box_style": "",
            "children": [
              "IPY_MODEL_3894f715a30740b3b7caca6df08dfdea",
              "IPY_MODEL_99783f3722554dc2953e62b35c6c8be3",
              "IPY_MODEL_076d6ba47ddb4a43967f01524d841a5d"
            ],
            "layout": "IPY_MODEL_6974fbe9f0f3481c91cb2b8f57ee536b"
          }
        },
        "3894f715a30740b3b7caca6df08dfdea": {
          "model_module": "@jupyter-widgets/controls",
          "model_name": "HTMLModel",
          "model_module_version": "1.5.0",
          "state": {
            "_dom_classes": [],
            "_model_module": "@jupyter-widgets/controls",
            "_model_module_version": "1.5.0",
            "_model_name": "HTMLModel",
            "_view_count": null,
            "_view_module": "@jupyter-widgets/controls",
            "_view_module_version": "1.5.0",
            "_view_name": "HTMLView",
            "description": "",
            "description_tooltip": null,
            "layout": "IPY_MODEL_7fc257695f434dd9a79ee2ff5d3688e9",
            "placeholder": "​",
            "style": "IPY_MODEL_01ae66342ad443c2806fec6a022e126e",
            "value": "README.md: 100%"
          }
        },
        "99783f3722554dc2953e62b35c6c8be3": {
          "model_module": "@jupyter-widgets/controls",
          "model_name": "FloatProgressModel",
          "model_module_version": "1.5.0",
          "state": {
            "_dom_classes": [],
            "_model_module": "@jupyter-widgets/controls",
            "_model_module_version": "1.5.0",
            "_model_name": "FloatProgressModel",
            "_view_count": null,
            "_view_module": "@jupyter-widgets/controls",
            "_view_module_version": "1.5.0",
            "_view_name": "ProgressView",
            "bar_style": "success",
            "description": "",
            "description_tooltip": null,
            "layout": "IPY_MODEL_2a623165ed9c42609e496cfb3c810a71",
            "max": 10454,
            "min": 0,
            "orientation": "horizontal",
            "style": "IPY_MODEL_6957d76b1981469584b684300f5c6979",
            "value": 10454
          }
        },
        "076d6ba47ddb4a43967f01524d841a5d": {
          "model_module": "@jupyter-widgets/controls",
          "model_name": "HTMLModel",
          "model_module_version": "1.5.0",
          "state": {
            "_dom_classes": [],
            "_model_module": "@jupyter-widgets/controls",
            "_model_module_version": "1.5.0",
            "_model_name": "HTMLModel",
            "_view_count": null,
            "_view_module": "@jupyter-widgets/controls",
            "_view_module_version": "1.5.0",
            "_view_name": "HTMLView",
            "description": "",
            "description_tooltip": null,
            "layout": "IPY_MODEL_efe056df926a4784b16463f22f26cef4",
            "placeholder": "​",
            "style": "IPY_MODEL_73c58b36ac284eba9f082272c15e693d",
            "value": " 10.5k/10.5k [00:00&lt;00:00, 788kB/s]"
          }
        },
        "6974fbe9f0f3481c91cb2b8f57ee536b": {
          "model_module": "@jupyter-widgets/base",
          "model_name": "LayoutModel",
          "model_module_version": "1.2.0",
          "state": {
            "_model_module": "@jupyter-widgets/base",
            "_model_module_version": "1.2.0",
            "_model_name": "LayoutModel",
            "_view_count": null,
            "_view_module": "@jupyter-widgets/base",
            "_view_module_version": "1.2.0",
            "_view_name": "LayoutView",
            "align_content": null,
            "align_items": null,
            "align_self": null,
            "border": null,
            "bottom": null,
            "display": null,
            "flex": null,
            "flex_flow": null,
            "grid_area": null,
            "grid_auto_columns": null,
            "grid_auto_flow": null,
            "grid_auto_rows": null,
            "grid_column": null,
            "grid_gap": null,
            "grid_row": null,
            "grid_template_areas": null,
            "grid_template_columns": null,
            "grid_template_rows": null,
            "height": null,
            "justify_content": null,
            "justify_items": null,
            "left": null,
            "margin": null,
            "max_height": null,
            "max_width": null,
            "min_height": null,
            "min_width": null,
            "object_fit": null,
            "object_position": null,
            "order": null,
            "overflow": null,
            "overflow_x": null,
            "overflow_y": null,
            "padding": null,
            "right": null,
            "top": null,
            "visibility": null,
            "width": null
          }
        },
        "7fc257695f434dd9a79ee2ff5d3688e9": {
          "model_module": "@jupyter-widgets/base",
          "model_name": "LayoutModel",
          "model_module_version": "1.2.0",
          "state": {
            "_model_module": "@jupyter-widgets/base",
            "_model_module_version": "1.2.0",
            "_model_name": "LayoutModel",
            "_view_count": null,
            "_view_module": "@jupyter-widgets/base",
            "_view_module_version": "1.2.0",
            "_view_name": "LayoutView",
            "align_content": null,
            "align_items": null,
            "align_self": null,
            "border": null,
            "bottom": null,
            "display": null,
            "flex": null,
            "flex_flow": null,
            "grid_area": null,
            "grid_auto_columns": null,
            "grid_auto_flow": null,
            "grid_auto_rows": null,
            "grid_column": null,
            "grid_gap": null,
            "grid_row": null,
            "grid_template_areas": null,
            "grid_template_columns": null,
            "grid_template_rows": null,
            "height": null,
            "justify_content": null,
            "justify_items": null,
            "left": null,
            "margin": null,
            "max_height": null,
            "max_width": null,
            "min_height": null,
            "min_width": null,
            "object_fit": null,
            "object_position": null,
            "order": null,
            "overflow": null,
            "overflow_x": null,
            "overflow_y": null,
            "padding": null,
            "right": null,
            "top": null,
            "visibility": null,
            "width": null
          }
        },
        "01ae66342ad443c2806fec6a022e126e": {
          "model_module": "@jupyter-widgets/controls",
          "model_name": "DescriptionStyleModel",
          "model_module_version": "1.5.0",
          "state": {
            "_model_module": "@jupyter-widgets/controls",
            "_model_module_version": "1.5.0",
            "_model_name": "DescriptionStyleModel",
            "_view_count": null,
            "_view_module": "@jupyter-widgets/base",
            "_view_module_version": "1.2.0",
            "_view_name": "StyleView",
            "description_width": ""
          }
        },
        "2a623165ed9c42609e496cfb3c810a71": {
          "model_module": "@jupyter-widgets/base",
          "model_name": "LayoutModel",
          "model_module_version": "1.2.0",
          "state": {
            "_model_module": "@jupyter-widgets/base",
            "_model_module_version": "1.2.0",
            "_model_name": "LayoutModel",
            "_view_count": null,
            "_view_module": "@jupyter-widgets/base",
            "_view_module_version": "1.2.0",
            "_view_name": "LayoutView",
            "align_content": null,
            "align_items": null,
            "align_self": null,
            "border": null,
            "bottom": null,
            "display": null,
            "flex": null,
            "flex_flow": null,
            "grid_area": null,
            "grid_auto_columns": null,
            "grid_auto_flow": null,
            "grid_auto_rows": null,
            "grid_column": null,
            "grid_gap": null,
            "grid_row": null,
            "grid_template_areas": null,
            "grid_template_columns": null,
            "grid_template_rows": null,
            "height": null,
            "justify_content": null,
            "justify_items": null,
            "left": null,
            "margin": null,
            "max_height": null,
            "max_width": null,
            "min_height": null,
            "min_width": null,
            "object_fit": null,
            "object_position": null,
            "order": null,
            "overflow": null,
            "overflow_x": null,
            "overflow_y": null,
            "padding": null,
            "right": null,
            "top": null,
            "visibility": null,
            "width": null
          }
        },
        "6957d76b1981469584b684300f5c6979": {
          "model_module": "@jupyter-widgets/controls",
          "model_name": "ProgressStyleModel",
          "model_module_version": "1.5.0",
          "state": {
            "_model_module": "@jupyter-widgets/controls",
            "_model_module_version": "1.5.0",
            "_model_name": "ProgressStyleModel",
            "_view_count": null,
            "_view_module": "@jupyter-widgets/base",
            "_view_module_version": "1.2.0",
            "_view_name": "StyleView",
            "bar_color": null,
            "description_width": ""
          }
        },
        "efe056df926a4784b16463f22f26cef4": {
          "model_module": "@jupyter-widgets/base",
          "model_name": "LayoutModel",
          "model_module_version": "1.2.0",
          "state": {
            "_model_module": "@jupyter-widgets/base",
            "_model_module_version": "1.2.0",
            "_model_name": "LayoutModel",
            "_view_count": null,
            "_view_module": "@jupyter-widgets/base",
            "_view_module_version": "1.2.0",
            "_view_name": "LayoutView",
            "align_content": null,
            "align_items": null,
            "align_self": null,
            "border": null,
            "bottom": null,
            "display": null,
            "flex": null,
            "flex_flow": null,
            "grid_area": null,
            "grid_auto_columns": null,
            "grid_auto_flow": null,
            "grid_auto_rows": null,
            "grid_column": null,
            "grid_gap": null,
            "grid_row": null,
            "grid_template_areas": null,
            "grid_template_columns": null,
            "grid_template_rows": null,
            "height": null,
            "justify_content": null,
            "justify_items": null,
            "left": null,
            "margin": null,
            "max_height": null,
            "max_width": null,
            "min_height": null,
            "min_width": null,
            "object_fit": null,
            "object_position": null,
            "order": null,
            "overflow": null,
            "overflow_x": null,
            "overflow_y": null,
            "padding": null,
            "right": null,
            "top": null,
            "visibility": null,
            "width": null
          }
        },
        "73c58b36ac284eba9f082272c15e693d": {
          "model_module": "@jupyter-widgets/controls",
          "model_name": "DescriptionStyleModel",
          "model_module_version": "1.5.0",
          "state": {
            "_model_module": "@jupyter-widgets/controls",
            "_model_module_version": "1.5.0",
            "_model_name": "DescriptionStyleModel",
            "_view_count": null,
            "_view_module": "@jupyter-widgets/base",
            "_view_module_version": "1.2.0",
            "_view_name": "StyleView",
            "description_width": ""
          }
        },
        "a5239f3ea84943e486109b4b2a96ebba": {
          "model_module": "@jupyter-widgets/controls",
          "model_name": "HBoxModel",
          "model_module_version": "1.5.0",
          "state": {
            "_dom_classes": [],
            "_model_module": "@jupyter-widgets/controls",
            "_model_module_version": "1.5.0",
            "_model_name": "HBoxModel",
            "_view_count": null,
            "_view_module": "@jupyter-widgets/controls",
            "_view_module_version": "1.5.0",
            "_view_name": "HBoxView",
            "box_style": "",
            "children": [
              "IPY_MODEL_5d633ba7e19c4aa0a3af0f7e54cfae71",
              "IPY_MODEL_e9a935ff10534deeb647cb3941ead0d7",
              "IPY_MODEL_81ab8210333f4d0181db67f134ddff90"
            ],
            "layout": "IPY_MODEL_cfe124ce72984e9385a351a47656fd28"
          }
        },
        "5d633ba7e19c4aa0a3af0f7e54cfae71": {
          "model_module": "@jupyter-widgets/controls",
          "model_name": "HTMLModel",
          "model_module_version": "1.5.0",
          "state": {
            "_dom_classes": [],
            "_model_module": "@jupyter-widgets/controls",
            "_model_module_version": "1.5.0",
            "_model_name": "HTMLModel",
            "_view_count": null,
            "_view_module": "@jupyter-widgets/controls",
            "_view_module_version": "1.5.0",
            "_view_name": "HTMLView",
            "description": "",
            "description_tooltip": null,
            "layout": "IPY_MODEL_3df0879d6f3146a5aedd11d12c19375a",
            "placeholder": "​",
            "style": "IPY_MODEL_1a636dab22ea4c36863fa59f416ad02f",
            "value": "sentence_bert_config.json: 100%"
          }
        },
        "e9a935ff10534deeb647cb3941ead0d7": {
          "model_module": "@jupyter-widgets/controls",
          "model_name": "FloatProgressModel",
          "model_module_version": "1.5.0",
          "state": {
            "_dom_classes": [],
            "_model_module": "@jupyter-widgets/controls",
            "_model_module_version": "1.5.0",
            "_model_name": "FloatProgressModel",
            "_view_count": null,
            "_view_module": "@jupyter-widgets/controls",
            "_view_module_version": "1.5.0",
            "_view_name": "ProgressView",
            "bar_style": "success",
            "description": "",
            "description_tooltip": null,
            "layout": "IPY_MODEL_a3ed1bd9794b43cab4eb735ec1a30382",
            "max": 53,
            "min": 0,
            "orientation": "horizontal",
            "style": "IPY_MODEL_3165d2a89eeb4928875625c751e82335",
            "value": 53
          }
        },
        "81ab8210333f4d0181db67f134ddff90": {
          "model_module": "@jupyter-widgets/controls",
          "model_name": "HTMLModel",
          "model_module_version": "1.5.0",
          "state": {
            "_dom_classes": [],
            "_model_module": "@jupyter-widgets/controls",
            "_model_module_version": "1.5.0",
            "_model_name": "HTMLModel",
            "_view_count": null,
            "_view_module": "@jupyter-widgets/controls",
            "_view_module_version": "1.5.0",
            "_view_name": "HTMLView",
            "description": "",
            "description_tooltip": null,
            "layout": "IPY_MODEL_ee9eb623737d40e7b972764b750543e7",
            "placeholder": "​",
            "style": "IPY_MODEL_ce58180acbe14ec38c9ddbedeefc0574",
            "value": " 53.0/53.0 [00:00&lt;00:00, 4.77kB/s]"
          }
        },
        "cfe124ce72984e9385a351a47656fd28": {
          "model_module": "@jupyter-widgets/base",
          "model_name": "LayoutModel",
          "model_module_version": "1.2.0",
          "state": {
            "_model_module": "@jupyter-widgets/base",
            "_model_module_version": "1.2.0",
            "_model_name": "LayoutModel",
            "_view_count": null,
            "_view_module": "@jupyter-widgets/base",
            "_view_module_version": "1.2.0",
            "_view_name": "LayoutView",
            "align_content": null,
            "align_items": null,
            "align_self": null,
            "border": null,
            "bottom": null,
            "display": null,
            "flex": null,
            "flex_flow": null,
            "grid_area": null,
            "grid_auto_columns": null,
            "grid_auto_flow": null,
            "grid_auto_rows": null,
            "grid_column": null,
            "grid_gap": null,
            "grid_row": null,
            "grid_template_areas": null,
            "grid_template_columns": null,
            "grid_template_rows": null,
            "height": null,
            "justify_content": null,
            "justify_items": null,
            "left": null,
            "margin": null,
            "max_height": null,
            "max_width": null,
            "min_height": null,
            "min_width": null,
            "object_fit": null,
            "object_position": null,
            "order": null,
            "overflow": null,
            "overflow_x": null,
            "overflow_y": null,
            "padding": null,
            "right": null,
            "top": null,
            "visibility": null,
            "width": null
          }
        },
        "3df0879d6f3146a5aedd11d12c19375a": {
          "model_module": "@jupyter-widgets/base",
          "model_name": "LayoutModel",
          "model_module_version": "1.2.0",
          "state": {
            "_model_module": "@jupyter-widgets/base",
            "_model_module_version": "1.2.0",
            "_model_name": "LayoutModel",
            "_view_count": null,
            "_view_module": "@jupyter-widgets/base",
            "_view_module_version": "1.2.0",
            "_view_name": "LayoutView",
            "align_content": null,
            "align_items": null,
            "align_self": null,
            "border": null,
            "bottom": null,
            "display": null,
            "flex": null,
            "flex_flow": null,
            "grid_area": null,
            "grid_auto_columns": null,
            "grid_auto_flow": null,
            "grid_auto_rows": null,
            "grid_column": null,
            "grid_gap": null,
            "grid_row": null,
            "grid_template_areas": null,
            "grid_template_columns": null,
            "grid_template_rows": null,
            "height": null,
            "justify_content": null,
            "justify_items": null,
            "left": null,
            "margin": null,
            "max_height": null,
            "max_width": null,
            "min_height": null,
            "min_width": null,
            "object_fit": null,
            "object_position": null,
            "order": null,
            "overflow": null,
            "overflow_x": null,
            "overflow_y": null,
            "padding": null,
            "right": null,
            "top": null,
            "visibility": null,
            "width": null
          }
        },
        "1a636dab22ea4c36863fa59f416ad02f": {
          "model_module": "@jupyter-widgets/controls",
          "model_name": "DescriptionStyleModel",
          "model_module_version": "1.5.0",
          "state": {
            "_model_module": "@jupyter-widgets/controls",
            "_model_module_version": "1.5.0",
            "_model_name": "DescriptionStyleModel",
            "_view_count": null,
            "_view_module": "@jupyter-widgets/base",
            "_view_module_version": "1.2.0",
            "_view_name": "StyleView",
            "description_width": ""
          }
        },
        "a3ed1bd9794b43cab4eb735ec1a30382": {
          "model_module": "@jupyter-widgets/base",
          "model_name": "LayoutModel",
          "model_module_version": "1.2.0",
          "state": {
            "_model_module": "@jupyter-widgets/base",
            "_model_module_version": "1.2.0",
            "_model_name": "LayoutModel",
            "_view_count": null,
            "_view_module": "@jupyter-widgets/base",
            "_view_module_version": "1.2.0",
            "_view_name": "LayoutView",
            "align_content": null,
            "align_items": null,
            "align_self": null,
            "border": null,
            "bottom": null,
            "display": null,
            "flex": null,
            "flex_flow": null,
            "grid_area": null,
            "grid_auto_columns": null,
            "grid_auto_flow": null,
            "grid_auto_rows": null,
            "grid_column": null,
            "grid_gap": null,
            "grid_row": null,
            "grid_template_areas": null,
            "grid_template_columns": null,
            "grid_template_rows": null,
            "height": null,
            "justify_content": null,
            "justify_items": null,
            "left": null,
            "margin": null,
            "max_height": null,
            "max_width": null,
            "min_height": null,
            "min_width": null,
            "object_fit": null,
            "object_position": null,
            "order": null,
            "overflow": null,
            "overflow_x": null,
            "overflow_y": null,
            "padding": null,
            "right": null,
            "top": null,
            "visibility": null,
            "width": null
          }
        },
        "3165d2a89eeb4928875625c751e82335": {
          "model_module": "@jupyter-widgets/controls",
          "model_name": "ProgressStyleModel",
          "model_module_version": "1.5.0",
          "state": {
            "_model_module": "@jupyter-widgets/controls",
            "_model_module_version": "1.5.0",
            "_model_name": "ProgressStyleModel",
            "_view_count": null,
            "_view_module": "@jupyter-widgets/base",
            "_view_module_version": "1.2.0",
            "_view_name": "StyleView",
            "bar_color": null,
            "description_width": ""
          }
        },
        "ee9eb623737d40e7b972764b750543e7": {
          "model_module": "@jupyter-widgets/base",
          "model_name": "LayoutModel",
          "model_module_version": "1.2.0",
          "state": {
            "_model_module": "@jupyter-widgets/base",
            "_model_module_version": "1.2.0",
            "_model_name": "LayoutModel",
            "_view_count": null,
            "_view_module": "@jupyter-widgets/base",
            "_view_module_version": "1.2.0",
            "_view_name": "LayoutView",
            "align_content": null,
            "align_items": null,
            "align_self": null,
            "border": null,
            "bottom": null,
            "display": null,
            "flex": null,
            "flex_flow": null,
            "grid_area": null,
            "grid_auto_columns": null,
            "grid_auto_flow": null,
            "grid_auto_rows": null,
            "grid_column": null,
            "grid_gap": null,
            "grid_row": null,
            "grid_template_areas": null,
            "grid_template_columns": null,
            "grid_template_rows": null,
            "height": null,
            "justify_content": null,
            "justify_items": null,
            "left": null,
            "margin": null,
            "max_height": null,
            "max_width": null,
            "min_height": null,
            "min_width": null,
            "object_fit": null,
            "object_position": null,
            "order": null,
            "overflow": null,
            "overflow_x": null,
            "overflow_y": null,
            "padding": null,
            "right": null,
            "top": null,
            "visibility": null,
            "width": null
          }
        },
        "ce58180acbe14ec38c9ddbedeefc0574": {
          "model_module": "@jupyter-widgets/controls",
          "model_name": "DescriptionStyleModel",
          "model_module_version": "1.5.0",
          "state": {
            "_model_module": "@jupyter-widgets/controls",
            "_model_module_version": "1.5.0",
            "_model_name": "DescriptionStyleModel",
            "_view_count": null,
            "_view_module": "@jupyter-widgets/base",
            "_view_module_version": "1.2.0",
            "_view_name": "StyleView",
            "description_width": ""
          }
        },
        "9b53e45e01c34520ba6c15279905ae2b": {
          "model_module": "@jupyter-widgets/controls",
          "model_name": "HBoxModel",
          "model_module_version": "1.5.0",
          "state": {
            "_dom_classes": [],
            "_model_module": "@jupyter-widgets/controls",
            "_model_module_version": "1.5.0",
            "_model_name": "HBoxModel",
            "_view_count": null,
            "_view_module": "@jupyter-widgets/controls",
            "_view_module_version": "1.5.0",
            "_view_name": "HBoxView",
            "box_style": "",
            "children": [
              "IPY_MODEL_eb7406c8d0114cc9ad1176853ddb4007",
              "IPY_MODEL_583172d91b544edaa07c15ae804a336b",
              "IPY_MODEL_04746ba8fa624036ab40bc1b1bdcb231"
            ],
            "layout": "IPY_MODEL_67265a1b54ab41efa13589b4b3f9a707"
          }
        },
        "eb7406c8d0114cc9ad1176853ddb4007": {
          "model_module": "@jupyter-widgets/controls",
          "model_name": "HTMLModel",
          "model_module_version": "1.5.0",
          "state": {
            "_dom_classes": [],
            "_model_module": "@jupyter-widgets/controls",
            "_model_module_version": "1.5.0",
            "_model_name": "HTMLModel",
            "_view_count": null,
            "_view_module": "@jupyter-widgets/controls",
            "_view_module_version": "1.5.0",
            "_view_name": "HTMLView",
            "description": "",
            "description_tooltip": null,
            "layout": "IPY_MODEL_ec7b312a8c694ae09ddfbcf01275afa4",
            "placeholder": "​",
            "style": "IPY_MODEL_2e7e44912cc1457281611927a09bf682",
            "value": "config.json: 100%"
          }
        },
        "583172d91b544edaa07c15ae804a336b": {
          "model_module": "@jupyter-widgets/controls",
          "model_name": "FloatProgressModel",
          "model_module_version": "1.5.0",
          "state": {
            "_dom_classes": [],
            "_model_module": "@jupyter-widgets/controls",
            "_model_module_version": "1.5.0",
            "_model_name": "FloatProgressModel",
            "_view_count": null,
            "_view_module": "@jupyter-widgets/controls",
            "_view_module_version": "1.5.0",
            "_view_name": "ProgressView",
            "bar_style": "success",
            "description": "",
            "description_tooltip": null,
            "layout": "IPY_MODEL_a8f72e00ceff44dd89ba9eefb0e5946b",
            "max": 612,
            "min": 0,
            "orientation": "horizontal",
            "style": "IPY_MODEL_7d1b863d3ba945348d8973fbee43a879",
            "value": 612
          }
        },
        "04746ba8fa624036ab40bc1b1bdcb231": {
          "model_module": "@jupyter-widgets/controls",
          "model_name": "HTMLModel",
          "model_module_version": "1.5.0",
          "state": {
            "_dom_classes": [],
            "_model_module": "@jupyter-widgets/controls",
            "_model_module_version": "1.5.0",
            "_model_name": "HTMLModel",
            "_view_count": null,
            "_view_module": "@jupyter-widgets/controls",
            "_view_module_version": "1.5.0",
            "_view_name": "HTMLView",
            "description": "",
            "description_tooltip": null,
            "layout": "IPY_MODEL_164cad0e2e5349888b9c80ffa2c410f6",
            "placeholder": "​",
            "style": "IPY_MODEL_e1c397f79ca6486eb6a3eef4b7fa4340",
            "value": " 612/612 [00:00&lt;00:00, 51.9kB/s]"
          }
        },
        "67265a1b54ab41efa13589b4b3f9a707": {
          "model_module": "@jupyter-widgets/base",
          "model_name": "LayoutModel",
          "model_module_version": "1.2.0",
          "state": {
            "_model_module": "@jupyter-widgets/base",
            "_model_module_version": "1.2.0",
            "_model_name": "LayoutModel",
            "_view_count": null,
            "_view_module": "@jupyter-widgets/base",
            "_view_module_version": "1.2.0",
            "_view_name": "LayoutView",
            "align_content": null,
            "align_items": null,
            "align_self": null,
            "border": null,
            "bottom": null,
            "display": null,
            "flex": null,
            "flex_flow": null,
            "grid_area": null,
            "grid_auto_columns": null,
            "grid_auto_flow": null,
            "grid_auto_rows": null,
            "grid_column": null,
            "grid_gap": null,
            "grid_row": null,
            "grid_template_areas": null,
            "grid_template_columns": null,
            "grid_template_rows": null,
            "height": null,
            "justify_content": null,
            "justify_items": null,
            "left": null,
            "margin": null,
            "max_height": null,
            "max_width": null,
            "min_height": null,
            "min_width": null,
            "object_fit": null,
            "object_position": null,
            "order": null,
            "overflow": null,
            "overflow_x": null,
            "overflow_y": null,
            "padding": null,
            "right": null,
            "top": null,
            "visibility": null,
            "width": null
          }
        },
        "ec7b312a8c694ae09ddfbcf01275afa4": {
          "model_module": "@jupyter-widgets/base",
          "model_name": "LayoutModel",
          "model_module_version": "1.2.0",
          "state": {
            "_model_module": "@jupyter-widgets/base",
            "_model_module_version": "1.2.0",
            "_model_name": "LayoutModel",
            "_view_count": null,
            "_view_module": "@jupyter-widgets/base",
            "_view_module_version": "1.2.0",
            "_view_name": "LayoutView",
            "align_content": null,
            "align_items": null,
            "align_self": null,
            "border": null,
            "bottom": null,
            "display": null,
            "flex": null,
            "flex_flow": null,
            "grid_area": null,
            "grid_auto_columns": null,
            "grid_auto_flow": null,
            "grid_auto_rows": null,
            "grid_column": null,
            "grid_gap": null,
            "grid_row": null,
            "grid_template_areas": null,
            "grid_template_columns": null,
            "grid_template_rows": null,
            "height": null,
            "justify_content": null,
            "justify_items": null,
            "left": null,
            "margin": null,
            "max_height": null,
            "max_width": null,
            "min_height": null,
            "min_width": null,
            "object_fit": null,
            "object_position": null,
            "order": null,
            "overflow": null,
            "overflow_x": null,
            "overflow_y": null,
            "padding": null,
            "right": null,
            "top": null,
            "visibility": null,
            "width": null
          }
        },
        "2e7e44912cc1457281611927a09bf682": {
          "model_module": "@jupyter-widgets/controls",
          "model_name": "DescriptionStyleModel",
          "model_module_version": "1.5.0",
          "state": {
            "_model_module": "@jupyter-widgets/controls",
            "_model_module_version": "1.5.0",
            "_model_name": "DescriptionStyleModel",
            "_view_count": null,
            "_view_module": "@jupyter-widgets/base",
            "_view_module_version": "1.2.0",
            "_view_name": "StyleView",
            "description_width": ""
          }
        },
        "a8f72e00ceff44dd89ba9eefb0e5946b": {
          "model_module": "@jupyter-widgets/base",
          "model_name": "LayoutModel",
          "model_module_version": "1.2.0",
          "state": {
            "_model_module": "@jupyter-widgets/base",
            "_model_module_version": "1.2.0",
            "_model_name": "LayoutModel",
            "_view_count": null,
            "_view_module": "@jupyter-widgets/base",
            "_view_module_version": "1.2.0",
            "_view_name": "LayoutView",
            "align_content": null,
            "align_items": null,
            "align_self": null,
            "border": null,
            "bottom": null,
            "display": null,
            "flex": null,
            "flex_flow": null,
            "grid_area": null,
            "grid_auto_columns": null,
            "grid_auto_flow": null,
            "grid_auto_rows": null,
            "grid_column": null,
            "grid_gap": null,
            "grid_row": null,
            "grid_template_areas": null,
            "grid_template_columns": null,
            "grid_template_rows": null,
            "height": null,
            "justify_content": null,
            "justify_items": null,
            "left": null,
            "margin": null,
            "max_height": null,
            "max_width": null,
            "min_height": null,
            "min_width": null,
            "object_fit": null,
            "object_position": null,
            "order": null,
            "overflow": null,
            "overflow_x": null,
            "overflow_y": null,
            "padding": null,
            "right": null,
            "top": null,
            "visibility": null,
            "width": null
          }
        },
        "7d1b863d3ba945348d8973fbee43a879": {
          "model_module": "@jupyter-widgets/controls",
          "model_name": "ProgressStyleModel",
          "model_module_version": "1.5.0",
          "state": {
            "_model_module": "@jupyter-widgets/controls",
            "_model_module_version": "1.5.0",
            "_model_name": "ProgressStyleModel",
            "_view_count": null,
            "_view_module": "@jupyter-widgets/base",
            "_view_module_version": "1.2.0",
            "_view_name": "StyleView",
            "bar_color": null,
            "description_width": ""
          }
        },
        "164cad0e2e5349888b9c80ffa2c410f6": {
          "model_module": "@jupyter-widgets/base",
          "model_name": "LayoutModel",
          "model_module_version": "1.2.0",
          "state": {
            "_model_module": "@jupyter-widgets/base",
            "_model_module_version": "1.2.0",
            "_model_name": "LayoutModel",
            "_view_count": null,
            "_view_module": "@jupyter-widgets/base",
            "_view_module_version": "1.2.0",
            "_view_name": "LayoutView",
            "align_content": null,
            "align_items": null,
            "align_self": null,
            "border": null,
            "bottom": null,
            "display": null,
            "flex": null,
            "flex_flow": null,
            "grid_area": null,
            "grid_auto_columns": null,
            "grid_auto_flow": null,
            "grid_auto_rows": null,
            "grid_column": null,
            "grid_gap": null,
            "grid_row": null,
            "grid_template_areas": null,
            "grid_template_columns": null,
            "grid_template_rows": null,
            "height": null,
            "justify_content": null,
            "justify_items": null,
            "left": null,
            "margin": null,
            "max_height": null,
            "max_width": null,
            "min_height": null,
            "min_width": null,
            "object_fit": null,
            "object_position": null,
            "order": null,
            "overflow": null,
            "overflow_x": null,
            "overflow_y": null,
            "padding": null,
            "right": null,
            "top": null,
            "visibility": null,
            "width": null
          }
        },
        "e1c397f79ca6486eb6a3eef4b7fa4340": {
          "model_module": "@jupyter-widgets/controls",
          "model_name": "DescriptionStyleModel",
          "model_module_version": "1.5.0",
          "state": {
            "_model_module": "@jupyter-widgets/controls",
            "_model_module_version": "1.5.0",
            "_model_name": "DescriptionStyleModel",
            "_view_count": null,
            "_view_module": "@jupyter-widgets/base",
            "_view_module_version": "1.2.0",
            "_view_name": "StyleView",
            "description_width": ""
          }
        },
        "4b23e94876ac45f7a6217c543986b038": {
          "model_module": "@jupyter-widgets/controls",
          "model_name": "HBoxModel",
          "model_module_version": "1.5.0",
          "state": {
            "_dom_classes": [],
            "_model_module": "@jupyter-widgets/controls",
            "_model_module_version": "1.5.0",
            "_model_name": "HBoxModel",
            "_view_count": null,
            "_view_module": "@jupyter-widgets/controls",
            "_view_module_version": "1.5.0",
            "_view_name": "HBoxView",
            "box_style": "",
            "children": [
              "IPY_MODEL_e723106b13c64c77a0ebd3d0b3886f35",
              "IPY_MODEL_a79f87e5d80547739b010592e37fb1c1",
              "IPY_MODEL_9fd74f6d60e643149e37bd1e3489bfff"
            ],
            "layout": "IPY_MODEL_d8cd4d89a1804b3d9b645404b56d9e1f"
          }
        },
        "e723106b13c64c77a0ebd3d0b3886f35": {
          "model_module": "@jupyter-widgets/controls",
          "model_name": "HTMLModel",
          "model_module_version": "1.5.0",
          "state": {
            "_dom_classes": [],
            "_model_module": "@jupyter-widgets/controls",
            "_model_module_version": "1.5.0",
            "_model_name": "HTMLModel",
            "_view_count": null,
            "_view_module": "@jupyter-widgets/controls",
            "_view_module_version": "1.5.0",
            "_view_name": "HTMLView",
            "description": "",
            "description_tooltip": null,
            "layout": "IPY_MODEL_aa5bfa24269b4ccdb6a327da037b16ea",
            "placeholder": "​",
            "style": "IPY_MODEL_d9282d8ccc4a47e89b86ad2a6ed2c150",
            "value": "model.safetensors: 100%"
          }
        },
        "a79f87e5d80547739b010592e37fb1c1": {
          "model_module": "@jupyter-widgets/controls",
          "model_name": "FloatProgressModel",
          "model_module_version": "1.5.0",
          "state": {
            "_dom_classes": [],
            "_model_module": "@jupyter-widgets/controls",
            "_model_module_version": "1.5.0",
            "_model_name": "FloatProgressModel",
            "_view_count": null,
            "_view_module": "@jupyter-widgets/controls",
            "_view_module_version": "1.5.0",
            "_view_name": "ProgressView",
            "bar_style": "success",
            "description": "",
            "description_tooltip": null,
            "layout": "IPY_MODEL_132ef51063f24cf3a4ef82008ba4521a",
            "max": 90868376,
            "min": 0,
            "orientation": "horizontal",
            "style": "IPY_MODEL_d820c1acc7fd45ff8c7694bdc31a2a22",
            "value": 90868376
          }
        },
        "9fd74f6d60e643149e37bd1e3489bfff": {
          "model_module": "@jupyter-widgets/controls",
          "model_name": "HTMLModel",
          "model_module_version": "1.5.0",
          "state": {
            "_dom_classes": [],
            "_model_module": "@jupyter-widgets/controls",
            "_model_module_version": "1.5.0",
            "_model_name": "HTMLModel",
            "_view_count": null,
            "_view_module": "@jupyter-widgets/controls",
            "_view_module_version": "1.5.0",
            "_view_name": "HTMLView",
            "description": "",
            "description_tooltip": null,
            "layout": "IPY_MODEL_d8143727ac6742abb2ec7d593a491713",
            "placeholder": "​",
            "style": "IPY_MODEL_1c7910cda636495aa4ed62bcda2abe6b",
            "value": " 90.9M/90.9M [00:00&lt;00:00, 147MB/s]"
          }
        },
        "d8cd4d89a1804b3d9b645404b56d9e1f": {
          "model_module": "@jupyter-widgets/base",
          "model_name": "LayoutModel",
          "model_module_version": "1.2.0",
          "state": {
            "_model_module": "@jupyter-widgets/base",
            "_model_module_version": "1.2.0",
            "_model_name": "LayoutModel",
            "_view_count": null,
            "_view_module": "@jupyter-widgets/base",
            "_view_module_version": "1.2.0",
            "_view_name": "LayoutView",
            "align_content": null,
            "align_items": null,
            "align_self": null,
            "border": null,
            "bottom": null,
            "display": null,
            "flex": null,
            "flex_flow": null,
            "grid_area": null,
            "grid_auto_columns": null,
            "grid_auto_flow": null,
            "grid_auto_rows": null,
            "grid_column": null,
            "grid_gap": null,
            "grid_row": null,
            "grid_template_areas": null,
            "grid_template_columns": null,
            "grid_template_rows": null,
            "height": null,
            "justify_content": null,
            "justify_items": null,
            "left": null,
            "margin": null,
            "max_height": null,
            "max_width": null,
            "min_height": null,
            "min_width": null,
            "object_fit": null,
            "object_position": null,
            "order": null,
            "overflow": null,
            "overflow_x": null,
            "overflow_y": null,
            "padding": null,
            "right": null,
            "top": null,
            "visibility": null,
            "width": null
          }
        },
        "aa5bfa24269b4ccdb6a327da037b16ea": {
          "model_module": "@jupyter-widgets/base",
          "model_name": "LayoutModel",
          "model_module_version": "1.2.0",
          "state": {
            "_model_module": "@jupyter-widgets/base",
            "_model_module_version": "1.2.0",
            "_model_name": "LayoutModel",
            "_view_count": null,
            "_view_module": "@jupyter-widgets/base",
            "_view_module_version": "1.2.0",
            "_view_name": "LayoutView",
            "align_content": null,
            "align_items": null,
            "align_self": null,
            "border": null,
            "bottom": null,
            "display": null,
            "flex": null,
            "flex_flow": null,
            "grid_area": null,
            "grid_auto_columns": null,
            "grid_auto_flow": null,
            "grid_auto_rows": null,
            "grid_column": null,
            "grid_gap": null,
            "grid_row": null,
            "grid_template_areas": null,
            "grid_template_columns": null,
            "grid_template_rows": null,
            "height": null,
            "justify_content": null,
            "justify_items": null,
            "left": null,
            "margin": null,
            "max_height": null,
            "max_width": null,
            "min_height": null,
            "min_width": null,
            "object_fit": null,
            "object_position": null,
            "order": null,
            "overflow": null,
            "overflow_x": null,
            "overflow_y": null,
            "padding": null,
            "right": null,
            "top": null,
            "visibility": null,
            "width": null
          }
        },
        "d9282d8ccc4a47e89b86ad2a6ed2c150": {
          "model_module": "@jupyter-widgets/controls",
          "model_name": "DescriptionStyleModel",
          "model_module_version": "1.5.0",
          "state": {
            "_model_module": "@jupyter-widgets/controls",
            "_model_module_version": "1.5.0",
            "_model_name": "DescriptionStyleModel",
            "_view_count": null,
            "_view_module": "@jupyter-widgets/base",
            "_view_module_version": "1.2.0",
            "_view_name": "StyleView",
            "description_width": ""
          }
        },
        "132ef51063f24cf3a4ef82008ba4521a": {
          "model_module": "@jupyter-widgets/base",
          "model_name": "LayoutModel",
          "model_module_version": "1.2.0",
          "state": {
            "_model_module": "@jupyter-widgets/base",
            "_model_module_version": "1.2.0",
            "_model_name": "LayoutModel",
            "_view_count": null,
            "_view_module": "@jupyter-widgets/base",
            "_view_module_version": "1.2.0",
            "_view_name": "LayoutView",
            "align_content": null,
            "align_items": null,
            "align_self": null,
            "border": null,
            "bottom": null,
            "display": null,
            "flex": null,
            "flex_flow": null,
            "grid_area": null,
            "grid_auto_columns": null,
            "grid_auto_flow": null,
            "grid_auto_rows": null,
            "grid_column": null,
            "grid_gap": null,
            "grid_row": null,
            "grid_template_areas": null,
            "grid_template_columns": null,
            "grid_template_rows": null,
            "height": null,
            "justify_content": null,
            "justify_items": null,
            "left": null,
            "margin": null,
            "max_height": null,
            "max_width": null,
            "min_height": null,
            "min_width": null,
            "object_fit": null,
            "object_position": null,
            "order": null,
            "overflow": null,
            "overflow_x": null,
            "overflow_y": null,
            "padding": null,
            "right": null,
            "top": null,
            "visibility": null,
            "width": null
          }
        },
        "d820c1acc7fd45ff8c7694bdc31a2a22": {
          "model_module": "@jupyter-widgets/controls",
          "model_name": "ProgressStyleModel",
          "model_module_version": "1.5.0",
          "state": {
            "_model_module": "@jupyter-widgets/controls",
            "_model_module_version": "1.5.0",
            "_model_name": "ProgressStyleModel",
            "_view_count": null,
            "_view_module": "@jupyter-widgets/base",
            "_view_module_version": "1.2.0",
            "_view_name": "StyleView",
            "bar_color": null,
            "description_width": ""
          }
        },
        "d8143727ac6742abb2ec7d593a491713": {
          "model_module": "@jupyter-widgets/base",
          "model_name": "LayoutModel",
          "model_module_version": "1.2.0",
          "state": {
            "_model_module": "@jupyter-widgets/base",
            "_model_module_version": "1.2.0",
            "_model_name": "LayoutModel",
            "_view_count": null,
            "_view_module": "@jupyter-widgets/base",
            "_view_module_version": "1.2.0",
            "_view_name": "LayoutView",
            "align_content": null,
            "align_items": null,
            "align_self": null,
            "border": null,
            "bottom": null,
            "display": null,
            "flex": null,
            "flex_flow": null,
            "grid_area": null,
            "grid_auto_columns": null,
            "grid_auto_flow": null,
            "grid_auto_rows": null,
            "grid_column": null,
            "grid_gap": null,
            "grid_row": null,
            "grid_template_areas": null,
            "grid_template_columns": null,
            "grid_template_rows": null,
            "height": null,
            "justify_content": null,
            "justify_items": null,
            "left": null,
            "margin": null,
            "max_height": null,
            "max_width": null,
            "min_height": null,
            "min_width": null,
            "object_fit": null,
            "object_position": null,
            "order": null,
            "overflow": null,
            "overflow_x": null,
            "overflow_y": null,
            "padding": null,
            "right": null,
            "top": null,
            "visibility": null,
            "width": null
          }
        },
        "1c7910cda636495aa4ed62bcda2abe6b": {
          "model_module": "@jupyter-widgets/controls",
          "model_name": "DescriptionStyleModel",
          "model_module_version": "1.5.0",
          "state": {
            "_model_module": "@jupyter-widgets/controls",
            "_model_module_version": "1.5.0",
            "_model_name": "DescriptionStyleModel",
            "_view_count": null,
            "_view_module": "@jupyter-widgets/base",
            "_view_module_version": "1.2.0",
            "_view_name": "StyleView",
            "description_width": ""
          }
        },
        "71a591ac77884b9592574f5f3a21fe96": {
          "model_module": "@jupyter-widgets/controls",
          "model_name": "HBoxModel",
          "model_module_version": "1.5.0",
          "state": {
            "_dom_classes": [],
            "_model_module": "@jupyter-widgets/controls",
            "_model_module_version": "1.5.0",
            "_model_name": "HBoxModel",
            "_view_count": null,
            "_view_module": "@jupyter-widgets/controls",
            "_view_module_version": "1.5.0",
            "_view_name": "HBoxView",
            "box_style": "",
            "children": [
              "IPY_MODEL_341e4ea71f4a443d8166c96f56645d72",
              "IPY_MODEL_5d6bb92a29e3439abbf13bf9643be06a",
              "IPY_MODEL_550dea4265024b8fa24b7cc74eb1bfbf"
            ],
            "layout": "IPY_MODEL_14c6ccec9f0a4f2091aefe91b61a3d49"
          }
        },
        "341e4ea71f4a443d8166c96f56645d72": {
          "model_module": "@jupyter-widgets/controls",
          "model_name": "HTMLModel",
          "model_module_version": "1.5.0",
          "state": {
            "_dom_classes": [],
            "_model_module": "@jupyter-widgets/controls",
            "_model_module_version": "1.5.0",
            "_model_name": "HTMLModel",
            "_view_count": null,
            "_view_module": "@jupyter-widgets/controls",
            "_view_module_version": "1.5.0",
            "_view_name": "HTMLView",
            "description": "",
            "description_tooltip": null,
            "layout": "IPY_MODEL_173b4ecd273b4be5a7435d5e1a037f8f",
            "placeholder": "​",
            "style": "IPY_MODEL_047dfff4ee15460fbb7d55b092117936",
            "value": "config.json: 100%"
          }
        },
        "5d6bb92a29e3439abbf13bf9643be06a": {
          "model_module": "@jupyter-widgets/controls",
          "model_name": "FloatProgressModel",
          "model_module_version": "1.5.0",
          "state": {
            "_dom_classes": [],
            "_model_module": "@jupyter-widgets/controls",
            "_model_module_version": "1.5.0",
            "_model_name": "FloatProgressModel",
            "_view_count": null,
            "_view_module": "@jupyter-widgets/controls",
            "_view_module_version": "1.5.0",
            "_view_name": "ProgressView",
            "bar_style": "success",
            "description": "",
            "description_tooltip": null,
            "layout": "IPY_MODEL_fe48f5b7828d44da8d270b5e97739df8",
            "max": 190,
            "min": 0,
            "orientation": "horizontal",
            "style": "IPY_MODEL_043f9a9f1a314736b2fe2d9c6dfcdc05",
            "value": 190
          }
        },
        "550dea4265024b8fa24b7cc74eb1bfbf": {
          "model_module": "@jupyter-widgets/controls",
          "model_name": "HTMLModel",
          "model_module_version": "1.5.0",
          "state": {
            "_dom_classes": [],
            "_model_module": "@jupyter-widgets/controls",
            "_model_module_version": "1.5.0",
            "_model_name": "HTMLModel",
            "_view_count": null,
            "_view_module": "@jupyter-widgets/controls",
            "_view_module_version": "1.5.0",
            "_view_name": "HTMLView",
            "description": "",
            "description_tooltip": null,
            "layout": "IPY_MODEL_c96d088d8cfd4d92aab0867936bea870",
            "placeholder": "​",
            "style": "IPY_MODEL_8a8a0c5bdb114f10bc5efeba2c9651d4",
            "value": " 190/190 [00:00&lt;00:00, 11.3kB/s]"
          }
        },
        "14c6ccec9f0a4f2091aefe91b61a3d49": {
          "model_module": "@jupyter-widgets/base",
          "model_name": "LayoutModel",
          "model_module_version": "1.2.0",
          "state": {
            "_model_module": "@jupyter-widgets/base",
            "_model_module_version": "1.2.0",
            "_model_name": "LayoutModel",
            "_view_count": null,
            "_view_module": "@jupyter-widgets/base",
            "_view_module_version": "1.2.0",
            "_view_name": "LayoutView",
            "align_content": null,
            "align_items": null,
            "align_self": null,
            "border": null,
            "bottom": null,
            "display": null,
            "flex": null,
            "flex_flow": null,
            "grid_area": null,
            "grid_auto_columns": null,
            "grid_auto_flow": null,
            "grid_auto_rows": null,
            "grid_column": null,
            "grid_gap": null,
            "grid_row": null,
            "grid_template_areas": null,
            "grid_template_columns": null,
            "grid_template_rows": null,
            "height": null,
            "justify_content": null,
            "justify_items": null,
            "left": null,
            "margin": null,
            "max_height": null,
            "max_width": null,
            "min_height": null,
            "min_width": null,
            "object_fit": null,
            "object_position": null,
            "order": null,
            "overflow": null,
            "overflow_x": null,
            "overflow_y": null,
            "padding": null,
            "right": null,
            "top": null,
            "visibility": null,
            "width": null
          }
        },
        "173b4ecd273b4be5a7435d5e1a037f8f": {
          "model_module": "@jupyter-widgets/base",
          "model_name": "LayoutModel",
          "model_module_version": "1.2.0",
          "state": {
            "_model_module": "@jupyter-widgets/base",
            "_model_module_version": "1.2.0",
            "_model_name": "LayoutModel",
            "_view_count": null,
            "_view_module": "@jupyter-widgets/base",
            "_view_module_version": "1.2.0",
            "_view_name": "LayoutView",
            "align_content": null,
            "align_items": null,
            "align_self": null,
            "border": null,
            "bottom": null,
            "display": null,
            "flex": null,
            "flex_flow": null,
            "grid_area": null,
            "grid_auto_columns": null,
            "grid_auto_flow": null,
            "grid_auto_rows": null,
            "grid_column": null,
            "grid_gap": null,
            "grid_row": null,
            "grid_template_areas": null,
            "grid_template_columns": null,
            "grid_template_rows": null,
            "height": null,
            "justify_content": null,
            "justify_items": null,
            "left": null,
            "margin": null,
            "max_height": null,
            "max_width": null,
            "min_height": null,
            "min_width": null,
            "object_fit": null,
            "object_position": null,
            "order": null,
            "overflow": null,
            "overflow_x": null,
            "overflow_y": null,
            "padding": null,
            "right": null,
            "top": null,
            "visibility": null,
            "width": null
          }
        },
        "047dfff4ee15460fbb7d55b092117936": {
          "model_module": "@jupyter-widgets/controls",
          "model_name": "DescriptionStyleModel",
          "model_module_version": "1.5.0",
          "state": {
            "_model_module": "@jupyter-widgets/controls",
            "_model_module_version": "1.5.0",
            "_model_name": "DescriptionStyleModel",
            "_view_count": null,
            "_view_module": "@jupyter-widgets/base",
            "_view_module_version": "1.2.0",
            "_view_name": "StyleView",
            "description_width": ""
          }
        },
        "fe48f5b7828d44da8d270b5e97739df8": {
          "model_module": "@jupyter-widgets/base",
          "model_name": "LayoutModel",
          "model_module_version": "1.2.0",
          "state": {
            "_model_module": "@jupyter-widgets/base",
            "_model_module_version": "1.2.0",
            "_model_name": "LayoutModel",
            "_view_count": null,
            "_view_module": "@jupyter-widgets/base",
            "_view_module_version": "1.2.0",
            "_view_name": "LayoutView",
            "align_content": null,
            "align_items": null,
            "align_self": null,
            "border": null,
            "bottom": null,
            "display": null,
            "flex": null,
            "flex_flow": null,
            "grid_area": null,
            "grid_auto_columns": null,
            "grid_auto_flow": null,
            "grid_auto_rows": null,
            "grid_column": null,
            "grid_gap": null,
            "grid_row": null,
            "grid_template_areas": null,
            "grid_template_columns": null,
            "grid_template_rows": null,
            "height": null,
            "justify_content": null,
            "justify_items": null,
            "left": null,
            "margin": null,
            "max_height": null,
            "max_width": null,
            "min_height": null,
            "min_width": null,
            "object_fit": null,
            "object_position": null,
            "order": null,
            "overflow": null,
            "overflow_x": null,
            "overflow_y": null,
            "padding": null,
            "right": null,
            "top": null,
            "visibility": null,
            "width": null
          }
        },
        "043f9a9f1a314736b2fe2d9c6dfcdc05": {
          "model_module": "@jupyter-widgets/controls",
          "model_name": "ProgressStyleModel",
          "model_module_version": "1.5.0",
          "state": {
            "_model_module": "@jupyter-widgets/controls",
            "_model_module_version": "1.5.0",
            "_model_name": "ProgressStyleModel",
            "_view_count": null,
            "_view_module": "@jupyter-widgets/base",
            "_view_module_version": "1.2.0",
            "_view_name": "StyleView",
            "bar_color": null,
            "description_width": ""
          }
        },
        "c96d088d8cfd4d92aab0867936bea870": {
          "model_module": "@jupyter-widgets/base",
          "model_name": "LayoutModel",
          "model_module_version": "1.2.0",
          "state": {
            "_model_module": "@jupyter-widgets/base",
            "_model_module_version": "1.2.0",
            "_model_name": "LayoutModel",
            "_view_count": null,
            "_view_module": "@jupyter-widgets/base",
            "_view_module_version": "1.2.0",
            "_view_name": "LayoutView",
            "align_content": null,
            "align_items": null,
            "align_self": null,
            "border": null,
            "bottom": null,
            "display": null,
            "flex": null,
            "flex_flow": null,
            "grid_area": null,
            "grid_auto_columns": null,
            "grid_auto_flow": null,
            "grid_auto_rows": null,
            "grid_column": null,
            "grid_gap": null,
            "grid_row": null,
            "grid_template_areas": null,
            "grid_template_columns": null,
            "grid_template_rows": null,
            "height": null,
            "justify_content": null,
            "justify_items": null,
            "left": null,
            "margin": null,
            "max_height": null,
            "max_width": null,
            "min_height": null,
            "min_width": null,
            "object_fit": null,
            "object_position": null,
            "order": null,
            "overflow": null,
            "overflow_x": null,
            "overflow_y": null,
            "padding": null,
            "right": null,
            "top": null,
            "visibility": null,
            "width": null
          }
        },
        "8a8a0c5bdb114f10bc5efeba2c9651d4": {
          "model_module": "@jupyter-widgets/controls",
          "model_name": "DescriptionStyleModel",
          "model_module_version": "1.5.0",
          "state": {
            "_model_module": "@jupyter-widgets/controls",
            "_model_module_version": "1.5.0",
            "_model_name": "DescriptionStyleModel",
            "_view_count": null,
            "_view_module": "@jupyter-widgets/base",
            "_view_module_version": "1.2.0",
            "_view_name": "StyleView",
            "description_width": ""
          }
        }
      }
    }
  },
  "nbformat": 4,
  "nbformat_minor": 0
}