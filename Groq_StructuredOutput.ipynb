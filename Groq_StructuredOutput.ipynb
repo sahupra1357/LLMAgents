{
  "nbformat": 4,
  "nbformat_minor": 0,
  "metadata": {
    "colab": {
      "provenance": [],
      "authorship_tag": "ABX9TyPKurAlxb26XoerwzQKHqxc",
      "include_colab_link": true
    },
    "kernelspec": {
      "name": "python3",
      "display_name": "Python 3"
    },
    "language_info": {
      "name": "python"
    }
  },
  "cells": [
    {
      "cell_type": "markdown",
      "metadata": {
        "id": "view-in-github",
        "colab_type": "text"
      },
      "source": [
        "<a href=\"https://colab.research.google.com/github/sahupra1357/LLMAgents/blob/main/Groq_StructuredOutput.ipynb\" target=\"_parent\"><img src=\"https://colab.research.google.com/assets/colab-badge.svg\" alt=\"Open In Colab\"/></a>"
      ]
    },
    {
      "cell_type": "code",
      "execution_count": 1,
      "metadata": {
        "id": "aHW1QD1FfcJ8"
      },
      "outputs": [],
      "source": [
        "import os\n",
        "from google.colab import userdata\n",
        "os.environ[\"GROQ_API_KEY\"] = userdata.get('GROQ_API_KEY')\n",
        "groq_api_key = os.getenv('GROQ_API_KEY')"
      ]
    },
    {
      "cell_type": "code",
      "source": [
        "%pip install -U groq instructor python-dotenv -q"
      ],
      "metadata": {
        "id": "1Jhj6yaGfmAN"
      },
      "execution_count": 3,
      "outputs": []
    },
    {
      "cell_type": "code",
      "source": [
        "import instructor\n",
        "from dotenv import load_dotenv\n",
        "from pydantic import BaseModel\n",
        "from groq import Groq\n",
        "\n",
        "# Load the Groq API key from .env file\n",
        "load_dotenv()\n",
        "\n",
        "# Describe the desired output schema using pydantic models\n",
        "class UserInfo(BaseModel):\n",
        "    name: str\n",
        "    age: int\n",
        "    email: str\n",
        "\n",
        "# The text to extract data from\n",
        "text = \"\"\"\n",
        "John Doe, a 35-year-old software engineer from New York, has been working with large language models for several years.\n",
        "His email address is johndoe@example.com.\n",
        "\"\"\"\n",
        "\n",
        "# Patch Groq() with instructor, this is where the magic happens!\n",
        "client = instructor.from_groq(Groq(), mode=instructor.Mode.JSON)\n",
        "\n",
        "# Call the API\n",
        "user_info = client.chat.completions.create(\n",
        "    #model=\"llama-3.1-70b-versatile\",\n",
        "    model=\"deepseek-r1-distill-llama-70b\",\n",
        "    response_model=UserInfo, # Specify the response model\n",
        "    messages=[\n",
        "        {\"role\": \"system\", \"content\": \"Your job is to extract user information from the given text.\"},\n",
        "        {\"role\": \"user\", \"content\": text}\n",
        "    ],\n",
        "    temperature=0.65,\n",
        ")\n",
        "\n",
        "print(f\"Name: {user_info.name}\")\n",
        "print(f\"Age: {user_info.age}\")\n",
        "print(f\"Email: {user_info.email}\")"
      ],
      "metadata": {
        "colab": {
          "base_uri": "https://localhost:8080/"
        },
        "id": "awSwat71g2Af",
        "outputId": "3779bba6-a5a1-42ea-ac4a-c507d502082a"
      },
      "execution_count": 5,
      "outputs": [
        {
          "output_type": "stream",
          "name": "stdout",
          "text": [
            "Name: John Doe\n",
            "Age: 35\n",
            "Email: johndoe@example.com\n"
          ]
        }
      ]
    },
    {
      "cell_type": "code",
      "source": [
        "from pprint import pprint\n",
        "\n",
        "import instructor\n",
        "from dotenv import load_dotenv\n",
        "from pydantic import BaseModel, Field\n",
        "from groq import Groq\n",
        "\n",
        "# Load the Groq API key from .env file\n",
        "load_dotenv()\n",
        "\n",
        "prompt = \"\"\"\n",
        "I am designing a weather agent. This agent can talk to the user and also fetch latest weather information.\n",
        "It has access to the `get_weather_info` tool with the following JSON schema:\n",
        "{json_schema}\n",
        "\n",
        "I want you to write some examples for `get_weather_info` and see if this functionality works correctly and can handle all the cases.\n",
        "Now given the information so far and the JSON schema of the provided tool, write {num} examples.\n",
        "Make sure each example is varied enough to cover common ways of requesting for this functionality.\n",
        "Make sure you fill the function parameters with the correct types when generating the output examples.\n",
        "Make sure your output is valid JSON.\n",
        "\"\"\""
      ],
      "metadata": {
        "id": "vtMLUscFg17Q"
      },
      "execution_count": 6,
      "outputs": []
    },
    {
      "cell_type": "code",
      "source": [
        "class Example(BaseModel):\n",
        "    input_text: str = Field(description=\"The example text\")\n",
        "    tool_name: str = Field(description=\"The tool name to call for this example\")\n",
        "    tool_parameters: str = Field(description=\"An object containing the key-value pairs for the parameters of this tool as a JSON serializbale STRING, make sure it is valid JSON and parameter values are of the correct type according to the tool schema\")\n",
        "\n",
        "class ResponseModel(BaseModel):\n",
        "    examples: list[Example]"
      ],
      "metadata": {
        "id": "9L3xJXnsg134"
      },
      "execution_count": 7,
      "outputs": []
    },
    {
      "cell_type": "code",
      "source": [
        "# The schema for get_weather_info tool\n",
        "tool_schema = {\n",
        "    \"name\": \"get_weather_info\",\n",
        "    \"description\": \"Get the weather information for any location.\",\n",
        "    \"parameters\": {\n",
        "        \"type\": \"object\",\n",
        "        \"properties\": {\n",
        "            \"location\": {\n",
        "                \"type\": \"string\",\n",
        "                \"description\": \"The location for which we want to get the weather information (e.g. New York)\"\n",
        "            }\n",
        "        },\n",
        "        \"required\": [\"location\"]\n",
        "    }\n",
        "}\n",
        "\n",
        "# Patch Groq() with instructor, this is where the magic happens!\n",
        "client = instructor.from_groq(Groq(), mode=instructor.Mode.JSON)\n",
        "\n",
        "# Call the API with our custom prompt and ResponseModel\n",
        "response = client.chat.completions.create(\n",
        "    #model=\"llama-3.1-70b-versatile\",\n",
        "    model=\"deepseek-r1-distill-llama-70b\",\n",
        "    response_model=ResponseModel, # Specify the response model\n",
        "    messages=[\n",
        "        {\n",
        "            \"role\": \"system\",\n",
        "            \"content\": prompt.format(json_schema=tool_schema, num=5), # Pass the tool schema and number of examples to the prompt\n",
        "        },\n",
        "    ],\n",
        "    temperature=0.65,\n",
        "    max_tokens=8000,\n",
        ")\n",
        "\n",
        "print(type(response))\n",
        "pprint(response.examples)"
      ],
      "metadata": {
        "colab": {
          "base_uri": "https://localhost:8080/"
        },
        "id": "WtyoW31Og1xf",
        "outputId": "55d89cb5-8ea1-4e2b-9df4-5099ce69b0a6"
      },
      "execution_count": 8,
      "outputs": [
        {
          "output_type": "stream",
          "name": "stdout",
          "text": [
            "<class '__main__.ResponseModel'>\n",
            "[Example(input_text=\"What's the weather like in New York?\", tool_name='get_weather_info', tool_parameters='{\"location\": \"New York\"}'),\n",
            " Example(input_text='Can you tell me the weather in London today?', tool_name='get_weather_info', tool_parameters='{\"location\": \"London\"}'),\n",
            " Example(input_text=\"What's the weather in Tokyo on Friday?\", tool_name='get_weather_info', tool_parameters='{\"location\": \"Tokyo\"}'),\n",
            " Example(input_text='Is it raining in Paris this weekend?', tool_name='get_weather_info', tool_parameters='{\"location\": \"Paris\"}'),\n",
            " Example(input_text=\"What's the weather like in Chicago?\", tool_name='get_weather_info', tool_parameters='{\"location\": \"Chicago\"}')]\n"
          ]
        }
      ]
    }
  ]
}